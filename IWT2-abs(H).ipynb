{
 "cells": [
  {
   "cell_type": "markdown",
   "metadata": {},
   "source": [
    "# IWT2- abs(H)"
   ]
  },
  {
   "cell_type": "code",
   "execution_count": 83,
   "metadata": {},
   "outputs": [
    {
     "name": "stdout",
     "output_type": "stream",
     "text": [
      "/Users/user/Desktop/IWF-DNN/data2DComplex\n"
     ]
    }
   ],
   "source": [
    "%cd /Users/user/Desktop/IWF-DNN/data2DComplex\n",
    "%pwd\n",
    "import os\n",
    "import tensorflow as tf\n",
    "import numpy as np\n",
    "import pandas as pd\n",
    "import matplotlib.pyplot as plt\n",
    "from __future__ import print_function\n",
    "import scipy.io as sio\n",
    "import time\n",
    "from sklearn.cross_validation import train_test_split\n",
    "%matplotlib inline"
   ]
  },
  {
   "cell_type": "code",
   "execution_count": 35,
   "metadata": {},
   "outputs": [
    {
     "data": {
      "text/plain": [
       "array([[0.3410883 , 1.21694904, 1.21694904, 4.34188149, 0.        ,\n",
       "        0.        , 0.        , 0.        , 4.83346841, 1.52881677,\n",
       "        1.52881677, 0.4835618 ],\n",
       "       [0.        , 0.        , 0.        , 0.        , 3.91945366,\n",
       "        2.03702534, 2.03702534, 1.05868639, 1.04150736, 2.03606643,\n",
       "        2.03606643, 3.98035259]])"
      ]
     },
     "execution_count": 35,
     "metadata": {},
     "output_type": "execute_result"
    }
   ],
   "source": [
    "np.abs(Ydata[1:3,:])"
   ]
  },
  {
   "cell_type": "code",
   "execution_count": 93,
   "metadata": {},
   "outputs": [],
   "source": [
    "DateLocation='MIMO50000_3.mat'\n",
    "Data = sio.loadmat(DateLocation)#load data\n",
    "Xdata=np.abs(Data['X'])\n",
    "Ydata=np.abs(Data['Y'])\n",
    "# Xdata=np.abs(Xdata)\n",
    "# trainData = np.reshape(XXData,[12 ,50000 ])#reshape to 2d array\n",
    "Xdata = np.transpose(Xdata)\n",
    "Ydata = np.transpose(Ydata)\n",
    "x_train, x_val ,y_train, y_val= train_test_split(Xdata, Ydata, test_size=0.3)"
   ]
  },
  {
   "cell_type": "code",
   "execution_count": 96,
   "metadata": {},
   "outputs": [
    {
     "name": "stderr",
     "output_type": "stream",
     "text": [
      "/Users/user/anaconda2/envs/haha/lib/python3.6/site-packages/sklearn/neural_network/multilayer_perceptron.py:564: ConvergenceWarning: Stochastic Optimizer: Maximum iterations (100) reached and the optimization hasn't converged yet.\n",
      "  % self.max_iter, ConvergenceWarning)\n"
     ]
    },
    {
     "data": {
      "text/plain": [
       "MLPRegressor(activation='relu', alpha=1e-05, batch_size='auto', beta_1=0.9,\n",
       "       beta_2=0.999, early_stopping=False, epsilon=1e-08,\n",
       "       hidden_layer_sizes=(200, 80, 80), learning_rate='constant',\n",
       "       learning_rate_init=0.001, max_iter=100, momentum=0.9,\n",
       "       nesterovs_momentum=True, power_t=0.5, random_state=1, shuffle=True,\n",
       "       solver='sgd', tol=0.0001, validation_fraction=0.1, verbose=False,\n",
       "       warm_start=False)"
      ]
     },
     "execution_count": 96,
     "metadata": {},
     "output_type": "execute_result"
    }
   ],
   "source": [
    "from sklearn.cross_validation import train_test_split\n",
    "from sklearn.neural_network import MLPClassifier,MLPRegressor\n",
    "abs_NN=MLPRegressor(activation='relu', learning_rate_init=0.001 ,solver='sgd',max_iter=100\n",
    "                    ,alpha=1e-5,hidden_layer_sizes=(200,80,80), random_state=1)\n",
    "abs_NN.fit(x_train, y_train)"
   ]
  },
  {
   "cell_type": "code",
   "execution_count": 97,
   "metadata": {},
   "outputs": [],
   "source": [
    "import time\n",
    "def test(X, model_location, save_name, n_input, n_output, n_hidden_1 = 200, n_hidden_2 = 80, n_hidden_3 = 80, n_hidden_4 = 40,binary=0):\n",
    "    tf.reset_default_graph()\n",
    "    x = tf.placeholder(\"float\", [None, n_input])\n",
    "    is_train = tf.placeholder(\"bool\")\n",
    "    input_keep_prob = tf.placeholder(tf.float32)\n",
    "    hidden_keep_prob = tf.placeholder(tf.float32)\n",
    "    weights, biases = ini_weights4(n_input, n_hidden_1, n_hidden_2, n_hidden_3, n_hidden_4, n_output)\n",
    "    pred = multilayer_perceptron4(x, weights, biases, input_keep_prob, hidden_keep_prob)\n",
    "    saver = tf.train.Saver()\n",
    "    with tf.Session() as sess:\n",
    "        saver.restore(sess, model_location)\n",
    "        start_time = time.time()\n",
    "        y_pred = sess.run(pred, feed_dict={x: X, input_keep_prob: 1, hidden_keep_prob: 1, is_train: False})\n",
    "        testtime = time.time() - start_time\n",
    "        # print(\"testing time: %0.2f s\" % testtime)\n",
    "        if binary==1:\n",
    "            y_pred[y_pred >= 0.5] = 1\n",
    "            y_pred[y_pred < 0.5] = 0\n",
    "        sio.savemat(save_name, {'pred': y_pred})\n",
    "    return y_pred\n",
    "\n",
    "def DABtoComplex(XX, dim):\n",
    "    size=XX.shape[1]\n",
    "    X=np.empty( (XX.shape[0], dim), dtype= np.complex128 )\n",
    "    X.real[:,:]=XX[:,0:dim]\n",
    "    X.imag[:,:]=XX[:,dim:2*dim]\n",
    "    return X\n",
    "def obj_sum_rate(xtest, y_pred,M,N,K, samples):\n",
    "    # H ： sampels*12\n",
    "    sum_rate=[]\n",
    "    for i in range(samples):\n",
    "        rate_nn=0\n",
    "        H=np.reshape(xtest[i,:],[M,N,K])\n",
    "        pnn=np.reshape(y_pred[i,:],[M,N,K])      \n",
    "        for j in range(K):\n",
    "            if j==i:\n",
    "                rate_nn = rate_nn+np.real(np.log2(np.linalg.det(np.eye(M)+H[:,:,j] * pnn[:,:,j] * np.transpose(H[:,:,j]))))\n",
    "            else:\n",
    "                pnn[:,:,j]=pnn[:,:,j]+pnn[:,:,j-1]\n",
    "                rate_nn = rate_nn+np.real(np.log2(np.linalg.det(np.eye(M)+H[:,:,j] * pnn[:,:,j] * np.transpose(H[:,:,j]))/np.linalg.det((np.eye(M)+H[:,:,j] * pnn[:,:,j-1] * np.transpose(H[:,:,j])))))\n",
    "        sum_rate.append(rate_nn)\n",
    "    return sum_rate\n",
    "\n",
    "def CDF_Plot(sumRate1, sumRate2, label1= 'DNN', label2= 'IWF'):\n",
    "    a = np.array(sumRate1) # your array of numbers\n",
    "    num_bins1 = np.linspace(0, max(sumRate1), 50)\n",
    "    counts1, bin_edges1 = np.histogram(a, bins='auto', normed=True)\n",
    "    cdf1 = np.cumsum(counts1*np.diff(bin_edges1))\n",
    "\n",
    "    b = np.array(sumRate2) # your array of numbers\n",
    "    num_bins2 = np.linspace(0, max(sumRate2), 50)\n",
    "    counts2, bin_edges2 = np.histogram(b, bins='auto', normed=True)\n",
    "    cdf2 = np.cumsum(counts2*np.diff(bin_edges2))\n",
    "    \n",
    "    plt.xlabel('sum-rate')\n",
    "    plt.plot(bin_edges1[1:], cdf1, color='black', label=label1)\n",
    "    plt.plot(bin_edges2[1:],cdf2,color='red', label=label2)\n",
    "    plt.legend()\n",
    "    return 0\n",
    "\n",
    "def histPlot(sumRate1,sumRate2, label=['DNN', 'IWF']):\n",
    "#     plt.figure('%d'%K)\n",
    "    plt.style.use('seaborn-deep')\n",
    "    data = np.vstack([sumRate1, sumRate2]).T\n",
    "    bins = np.linspace(0, max(sumRate2),50)\n",
    "    plt.hist(data, bins, alpha=0.7, label=label)\n",
    "#     plt.legend(loc='upper right')\n",
    "    plt.xlim([0, 5])\n",
    "    plt.xlabel('sum-rate')\n",
    "    plt.ylabel('number of samples')\n",
    "    #     plt.savefig('Histogram_%d.eps'%K, format='eps', dpi=1000)\n",
    "    plt.show()\n",
    "    return 0\n",
    "def performance(sumRate1,sumRate2, num):\n",
    "# sumRate1, IWF; sumRate2, NN\n",
    "    print('Sum-rate: IWF: %0.3f, DNN: %0.3f'%(sum(sumRate1)/num, sum(sumRate2)/num))\n",
    "    print('Ratio: DNN: %0.3f%%\\n' % (sum(sumRate2) / sum(sumRate1)* 100))\n",
    "    return 0\n",
    "\n",
    "def testPerformance(model_location, save_name, n_input, n_output,dim, M, N, K,samples):\n",
    "    ypred=test(Xtest, model_location, save_name+'%s'%('test'), n_input,n_output, binary=0)\n",
    "    trainPred=test(x_train, model_location, save_name+\"%s\"%('train'), n_input,n_output, binary=0)\n",
    "    valPred=test(x_val, model_location, save_name+\"%s\"%('val'), n_input,n_output, binary=0)\n",
    "    x=DABtoComplex(X,dim)\n",
    "    xtest=DABtoComplex(Xtest,dim)\n",
    "    ytest=DABtoComplex(Ytest,dim)\n",
    "    ypred=DABtoComplex(ypred,dim)\n",
    "\n",
    "    # train & val\n",
    "    xtrain=DABtoComplex(x_train,dim)\n",
    "    ytrain=DABtoComplex(y_train,dim)\n",
    "    trainPred=DABtoComplex(trainPred,dim)\n",
    "    xval=DABtoComplex(x_val,dim)\n",
    "    yval=DABtoComplex(y_val,dim)\n",
    "    valPred=DABtoComplex(valPred,dim)\n",
    "\n",
    "    # test\n",
    "    nnsumRate=obj_sum_rate(xtest, ypred, M, N, K, samples)\n",
    "    IWFsumRate=obj_sum_rate(xtest, ytest, M, N, K, samples)\n",
    "    #trian\n",
    "    nnSRTrain=obj_sum_rate(xtrain, trainPred, M, N, K, samples)\n",
    "    IWFSRTrain=obj_sum_rate(xtrain, ytrain, M, N, K, samples)\n",
    "    # validation\n",
    "    IWFSRVal=obj_sum_rate(xval, yval, M, N, K, samples)\n",
    "    nnSRVal=obj_sum_rate(xval, valPred, M, N, K, samples)\n",
    "\n",
    "    plt.figure(1)\n",
    "    plt.subplot(311)\n",
    "    plt.title('CDF AnalysisTest')\n",
    "    CDF_Plot(nnsumRate,IWFsumRate, 'DNNTest', 'IWFTest')\n",
    "    plt.subplot(312)\n",
    "    plt.title('CDF Analysis_Train')\n",
    "    CDF_Plot(nnSRTrain,IWFSRTrain, 'DNNTrain', 'IWFTrain')\n",
    "    plt.subplot(313)\n",
    "    plt.title('CDF Analysis_val')\n",
    "    CDF_Plot(nnSRVal,IWFSRVal, 'DNNVal', 'IWFVal')\n",
    "    \n",
    "    plt.figure(2)\n",
    "    plt.subplot(211)\n",
    "    plt.title('Hist AnalysisTest')\n",
    "    histPlot(nnsumRate,IWFsumRate, ['DNNTest', 'IWFTest'])\n",
    "    plt.subplot(212)\n",
    "    plt.title('Hist Analysis_Train')\n",
    "    histPlot(nnSRTrain,IWFSRTrain, ['DNNTrain', 'IWFTrain'])\n",
    "    \n",
    "    performance(IWFsumRate, nnsumRate, samples)\n",
    "    performance(IWFSRTrain, nnSRTrain, samples)\n",
    "    return 0\n",
    "    "
   ]
  },
  {
   "cell_type": "code",
   "execution_count": 100,
   "metadata": {},
   "outputs": [
    {
     "name": "stderr",
     "output_type": "stream",
     "text": [
      "/Users/user/anaconda2/envs/haha/lib/python3.6/site-packages/ipykernel_launcher.py:38: RuntimeWarning: invalid value encountered in log2\n",
      "/Users/user/anaconda2/envs/haha/lib/python3.6/site-packages/ipykernel_launcher.py:41: RuntimeWarning: invalid value encountered in log2\n"
     ]
    },
    {
     "name": "stdout",
     "output_type": "stream",
     "text": [
      "10000\n",
      "10000\n"
     ]
    },
    {
     "ename": "ValueError",
     "evalue": "range parameter must be finite.",
     "output_type": "error",
     "traceback": [
      "\u001b[0;31m---------------------------------------------------------------------------\u001b[0m",
      "\u001b[0;31mValueError\u001b[0m                                Traceback (most recent call last)",
      "\u001b[0;32m<ipython-input-100-89d4a620821b>\u001b[0m in \u001b[0;36m<module>\u001b[0;34m()\u001b[0m\n\u001b[1;32m     52\u001b[0m \u001b[0mplt\u001b[0m\u001b[0;34m.\u001b[0m\u001b[0msubplot\u001b[0m\u001b[0;34m(\u001b[0m\u001b[0;36m312\u001b[0m\u001b[0;34m)\u001b[0m\u001b[0;34m\u001b[0m\u001b[0m\n\u001b[1;32m     53\u001b[0m \u001b[0mplt\u001b[0m\u001b[0;34m.\u001b[0m\u001b[0mtitle\u001b[0m\u001b[0;34m(\u001b[0m\u001b[0;34m'CDF Analysis_Train'\u001b[0m\u001b[0;34m)\u001b[0m\u001b[0;34m\u001b[0m\u001b[0m\n\u001b[0;32m---> 54\u001b[0;31m \u001b[0mCDF_Plot\u001b[0m\u001b[0;34m(\u001b[0m\u001b[0mnnSRTrain\u001b[0m\u001b[0;34m,\u001b[0m\u001b[0mIWFSRTrain\u001b[0m\u001b[0;34m,\u001b[0m \u001b[0;34m'DNNTrain'\u001b[0m\u001b[0;34m,\u001b[0m \u001b[0;34m'IWFTrain'\u001b[0m\u001b[0;34m)\u001b[0m\u001b[0;34m\u001b[0m\u001b[0m\n\u001b[0m\u001b[1;32m     55\u001b[0m \u001b[0mplt\u001b[0m\u001b[0;34m.\u001b[0m\u001b[0msubplot\u001b[0m\u001b[0;34m(\u001b[0m\u001b[0;36m313\u001b[0m\u001b[0;34m)\u001b[0m\u001b[0;34m\u001b[0m\u001b[0m\n\u001b[1;32m     56\u001b[0m \u001b[0mplt\u001b[0m\u001b[0;34m.\u001b[0m\u001b[0mtitle\u001b[0m\u001b[0;34m(\u001b[0m\u001b[0;34m'CDF Analysis_Val'\u001b[0m\u001b[0;34m)\u001b[0m\u001b[0;34m\u001b[0m\u001b[0m\n",
      "\u001b[0;32m<ipython-input-97-e1ec426e80e3>\u001b[0m in \u001b[0;36mCDF_Plot\u001b[0;34m(sumRate1, sumRate2, label1, label2)\u001b[0m\n\u001b[1;32m     46\u001b[0m     \u001b[0ma\u001b[0m \u001b[0;34m=\u001b[0m \u001b[0mnp\u001b[0m\u001b[0;34m.\u001b[0m\u001b[0marray\u001b[0m\u001b[0;34m(\u001b[0m\u001b[0msumRate1\u001b[0m\u001b[0;34m)\u001b[0m \u001b[0;31m# your array of numbers\u001b[0m\u001b[0;34m\u001b[0m\u001b[0m\n\u001b[1;32m     47\u001b[0m     \u001b[0mnum_bins1\u001b[0m \u001b[0;34m=\u001b[0m \u001b[0mnp\u001b[0m\u001b[0;34m.\u001b[0m\u001b[0mlinspace\u001b[0m\u001b[0;34m(\u001b[0m\u001b[0;36m0\u001b[0m\u001b[0;34m,\u001b[0m \u001b[0mmax\u001b[0m\u001b[0;34m(\u001b[0m\u001b[0msumRate1\u001b[0m\u001b[0;34m)\u001b[0m\u001b[0;34m,\u001b[0m \u001b[0;36m50\u001b[0m\u001b[0;34m)\u001b[0m\u001b[0;34m\u001b[0m\u001b[0m\n\u001b[0;32m---> 48\u001b[0;31m     \u001b[0mcounts1\u001b[0m\u001b[0;34m,\u001b[0m \u001b[0mbin_edges1\u001b[0m \u001b[0;34m=\u001b[0m \u001b[0mnp\u001b[0m\u001b[0;34m.\u001b[0m\u001b[0mhistogram\u001b[0m\u001b[0;34m(\u001b[0m\u001b[0ma\u001b[0m\u001b[0;34m,\u001b[0m \u001b[0mbins\u001b[0m\u001b[0;34m=\u001b[0m\u001b[0;34m'auto'\u001b[0m\u001b[0;34m,\u001b[0m \u001b[0mnormed\u001b[0m\u001b[0;34m=\u001b[0m\u001b[0;32mTrue\u001b[0m\u001b[0;34m)\u001b[0m\u001b[0;34m\u001b[0m\u001b[0m\n\u001b[0m\u001b[1;32m     49\u001b[0m     \u001b[0mcdf1\u001b[0m \u001b[0;34m=\u001b[0m \u001b[0mnp\u001b[0m\u001b[0;34m.\u001b[0m\u001b[0mcumsum\u001b[0m\u001b[0;34m(\u001b[0m\u001b[0mcounts1\u001b[0m\u001b[0;34m*\u001b[0m\u001b[0mnp\u001b[0m\u001b[0;34m.\u001b[0m\u001b[0mdiff\u001b[0m\u001b[0;34m(\u001b[0m\u001b[0mbin_edges1\u001b[0m\u001b[0;34m)\u001b[0m\u001b[0;34m)\u001b[0m\u001b[0;34m\u001b[0m\u001b[0m\n\u001b[1;32m     50\u001b[0m \u001b[0;34m\u001b[0m\u001b[0m\n",
      "\u001b[0;32m~/anaconda2/envs/haha/lib/python3.6/site-packages/numpy/lib/function_base.py\u001b[0m in \u001b[0;36mhistogram\u001b[0;34m(a, bins, range, normed, weights, density)\u001b[0m\n\u001b[1;32m    668\u001b[0m     \u001b[0;32mif\u001b[0m \u001b[0;32mnot\u001b[0m \u001b[0mnp\u001b[0m\u001b[0;34m.\u001b[0m\u001b[0mall\u001b[0m\u001b[0;34m(\u001b[0m\u001b[0mnp\u001b[0m\u001b[0;34m.\u001b[0m\u001b[0misfinite\u001b[0m\u001b[0;34m(\u001b[0m\u001b[0;34m[\u001b[0m\u001b[0mfirst_edge\u001b[0m\u001b[0;34m,\u001b[0m \u001b[0mlast_edge\u001b[0m\u001b[0;34m]\u001b[0m\u001b[0;34m)\u001b[0m\u001b[0;34m)\u001b[0m\u001b[0;34m:\u001b[0m\u001b[0;34m\u001b[0m\u001b[0m\n\u001b[1;32m    669\u001b[0m         raise ValueError(\n\u001b[0;32m--> 670\u001b[0;31m             'range parameter must be finite.')\n\u001b[0m\u001b[1;32m    671\u001b[0m     \u001b[0;32mif\u001b[0m \u001b[0mfirst_edge\u001b[0m \u001b[0;34m==\u001b[0m \u001b[0mlast_edge\u001b[0m\u001b[0;34m:\u001b[0m\u001b[0;34m\u001b[0m\u001b[0m\n\u001b[1;32m    672\u001b[0m         \u001b[0mfirst_edge\u001b[0m \u001b[0;34m-=\u001b[0m \u001b[0;36m0.5\u001b[0m\u001b[0;34m\u001b[0m\u001b[0m\n",
      "\u001b[0;31mValueError\u001b[0m: range parameter must be finite."
     ]
    },
    {
     "data": {
      "image/png": "[encoded data removed]",
      "text/plain": [
       "<Figure size 432x288 with 1 Axes>"
      ]
     },
     "metadata": {},
     "output_type": "display_data"
    }
   ],
   "source": [
    "# NN_y_train_pre_proba=T6_NN.predict_proba(T6_X_train)\n",
    "# DateLocation='MIMO10000_3test.mat'\n",
    "# DataTest10000 = sio.loadmat(DateLocation)#load data\n",
    "# Xtest=DataTest10000['X']\n",
    "# Xtest = np.transpose(Xtest)\n",
    "# Ytest=DataTest10000['Y']\n",
    "# Ytest = np.transpose(Ytest)\n",
    "# Xtest = np.column_stack((np.real(Xtest), np.imag(Xtest)))\n",
    "# Ytest = np.column_stack((np.real(Ytest), np.imag(Ytest)))\n",
    "\n",
    "# Xtest -= mean\n",
    "# Xtest /= std\n",
    "\n",
    "trainPred=abs_NN.predict(x_train)\n",
    "\n",
    "# NN_y_test_pre_proba=T6_NN.predict_proba(T6_X_test)\n",
    "valPred=abs_NN.predict(x_val)\n",
    "# ypred=NN.predict(Xtest)\n",
    "D=12\n",
    "# x=DABtoComplex(X,12)\n",
    "# xtest=DABtoComplex(Xtest,12)\n",
    "# ytest=DABtoComplex(Ytest,12)\n",
    "# ypred=DABtoComplex(ypred,12)\n",
    "\n",
    "# train & val\n",
    "# xtrain=DABtoComplex(x_train,12)\n",
    "# ytrain=DABtoComplex(y_train,12)\n",
    "# trainPred=DABtoComplex(trainPred,12)\n",
    "# xval=DABtoComplex(x_val,12)\n",
    "# yval=DABtoComplex(y_val,12)\n",
    "# valPred=DABtoComplex(valPred,12)\n",
    "xtrain=x_train\n",
    "ytrain=y_train\n",
    "xval=x_val\n",
    "yval=y_val\n",
    "# # test\n",
    "# nnsumRate=obj_sum_rate(xtest, ypred,2,2,3, 10000)\n",
    "# IWFsumRate=obj_sum_rate(xtest, ytest,2,2,3, 10000)\n",
    "#trian\n",
    "nnSRTrain=obj_sum_rate(xtrain, trainPred,2,2,3, 10000)\n",
    "IWFSRTrain=obj_sum_rate(xtrain, ytrain,2,2,3, 10000)\n",
    "# validation\n",
    "IWFSRVal=obj_sum_rate(xval, yval,2,2,3, 10000)\n",
    "nnSRVal=obj_sum_rate(xval, valPred,2,2,3, 10000)\n",
    "\n",
    "print(len(nnsumRate))\n",
    "print(len(IWFsumRate))\n",
    "plt.figure(1)\n",
    "# plt.subplot(311)\n",
    "# plt.title('CDF AnalysisTest')\n",
    "# CDF_Plot(nnsumRate,IWFsumRate, 'DNNTest', 'IWFTest')\n",
    "plt.subplot(312)\n",
    "plt.title('CDF Analysis_Train')\n",
    "CDF_Plot(nnSRTrain,IWFSRTrain, 'DNNTrain', 'IWFTrain')\n",
    "plt.subplot(313)\n",
    "plt.title('CDF Analysis_Val')\n",
    "CDF_Plot(nnSRVal,IWFSRVal, 'DNNTrain', 'IWFTrain')\n",
    "\n",
    "plt.figure(2)\n",
    "# plt.subplot(311)\n",
    "# plt.title('Hist AnalysisTest')\n",
    "# histPlot(nnsumRate,IWFsumRate, ['DNNTest', 'IWFTest'])\n",
    "plt.subplot(312)\n",
    "plt.title('Hist Analysis_Train')\n",
    "histPlot(nnSRTrain,IWFSRTrain, ['DNNTrain', 'IWFTrain'])\n",
    "plt.subplot(313)\n",
    "plt.title('Hist Analysis_val')\n",
    "histPlot(nnSRVal,IWFSRVal, ['DNNTrain', 'IWFTrain'])\n",
    "print('test:')\n",
    "performance(IWFsumRate, nnsumRate, 10000)\n",
    "print('Train:')\n",
    "performance(IWFSRTrain, nnSRTrain, 10000)\n",
    "print('Val:')\n",
    "performance(IWFSRVal, nnSRVal, 10000)"
   ]
  },
  {
   "cell_type": "code",
   "execution_count": 94,
   "metadata": {},
   "outputs": [],
   "source": [
    "# Functions for deep neural network weights initialization\n",
    "def ini_weights(n_input, n_hidden_1, n_hidden_2, n_hidden_3, n_output):\n",
    "    weights = {\n",
    "        'h1': tf.Variable(tf.truncated_normal([n_input, n_hidden_1]) / np.sqrt(n_input)),\n",
    "        'h2': tf.Variable(tf.truncated_normal([n_hidden_1, n_hidden_2]) / np.sqrt(n_hidden_1)),\n",
    "        'h3': tf.Variable(tf.truncated_normal([n_hidden_2, n_hidden_3]) / np.sqrt(n_hidden_2)),\n",
    "        'out': tf.Variable(tf.truncated_normal([n_hidden_3, n_output])) / n_hidden_3,\n",
    "    }\n",
    "    biases = {\n",
    "        'b1': tf.Variable(tf.ones([n_hidden_1]) * 0.1),\n",
    "        'b2': tf.Variable(tf.ones([n_hidden_2]) * 0.1),\n",
    "        'b3': tf.Variable(tf.ones([n_hidden_3]) * 0.1),\n",
    "        'out': tf.Variable(tf.ones([n_output]) * 0.1),\n",
    "    }\n",
    "    return weights, biases\n",
    "\n",
    "# Functions for deep neural network structure construction\n",
    "def multilayer_perceptron(x, weights, biases,input_keep_prob,hidden_keep_prob):\n",
    "#     x = tf.nn.dropout(x, input_keep_prob)                         # dropout layer\n",
    "    \n",
    "    layer_1 = tf.add(tf.matmul(x, weights['h1']), biases['b1'])   # x = wx+b\n",
    "    layer_1 = tf.nn.relu(layer_1)                                 # x = max(0, x)\n",
    "#     layer_1 = tf.nn.dropout(layer_1, hidden_keep_prob)            # dropout layer\n",
    "\n",
    "    layer_2 = tf.add(tf.matmul(layer_1, weights['h2']), biases['b2'])\n",
    "    layer_2 = tf.nn.relu(layer_2)\n",
    "#     layer_2 = tf.nn.dropout(layer_2, hidden_keep_prob)\n",
    "\n",
    "    layer_3 = tf.add(tf.matmul(layer_2, weights['h3']), biases['b3'])\n",
    "    layer_3 = tf.nn.relu(layer_3)\n",
    "#     layer_3 = tf.nn.dropout(layer_3, hidden_keep_prob)\n",
    "\n",
    "    out_layer = tf.matmul(layer_3, weights['out']) + biases['out']\n",
    "#     out_layer = tf.nn.relu6(out_layer) / 6\n",
    "    return out_layer"
   ]
  },
  {
   "cell_type": "code",
   "execution_count": 95,
   "metadata": {},
   "outputs": [],
   "source": [
    "def train(X_train, X_val, Y_train, Y_val ,location, training_epochs=300, batch_size=1000, LR= 0.001, n_hidden_1 = 200,n_hidden_2 = 80,n_hidden_3 = 80, traintestsplit = 0.01, LRdecay=0):\n",
    "    num_total = X_train.shape[0] +X_val.shape[0]                       # number of total samples\n",
    "    num_val =X_val.shape[0]# number of validation samples\n",
    "    num_train = X_train.shape[0] # number of training samples\n",
    "    n_input = X_train.shape[1]                          # input size\n",
    "    n_output = Y_train.shape[1]                         # output size\n",
    "#     X_train = np.transpose(X[:, 0:num_train])     # training data\n",
    "#     Y_train = np.transpose(Y[:, 0:num_train])     # training label\n",
    "#     X_val = np.transpose(X[:, num_train:num_total]) # validation data\n",
    "#     Y_val = np.transpose(Y[:, num_train:num_total]) # validation label\n",
    "\n",
    "    x = tf.placeholder(\"float\", [None, n_input])\n",
    "    y = tf.placeholder(\"float\", [None, n_output])\n",
    "    is_train = tf.placeholder(\"bool\")\n",
    "    learning_rate = tf.placeholder(tf.float32, shape=[])\n",
    "    total_batch = int(num_total / batch_size)\n",
    "    print('train: %d ' % num_train, 'validation: %d ' % num_val)\n",
    "\n",
    "    input_keep_prob = tf.placeholder(tf.float32)\n",
    "    hidden_keep_prob = tf.placeholder(tf.float32)\n",
    "    weights, biases = ini_weights(n_input, n_hidden_1, n_hidden_2, n_hidden_3, n_output)\n",
    "    pred = multilayer_perceptron(x, weights, biases, input_keep_prob, hidden_keep_prob)\n",
    "    cost = tf.reduce_mean(tf.square(pred - y))    # cost function: MSE\n",
    "    optimizer=tf.train.AdamOptimizer(learning_rate).minimize(cost)\n",
    "#     optimizer = tf.train.RMSPropOptimizer(learning_rate, 0.9).minimize(cost) # training algorithms: RMSprop\n",
    "    init = tf.global_variables_initializer()\n",
    "    saver = tf.train.Saver()\n",
    "    MSETime=np.zeros((training_epochs,3))\n",
    "    with tf.Session() as sess:\n",
    "        sess.run(init)\n",
    "        start_time = time.time()\n",
    "        for epoch in range(training_epochs):\n",
    "            for i in range(total_batch):\n",
    "                idx = np.random.randint(num_train,size=batch_size)\n",
    "                if LRdecay==1:\n",
    "                    _, c = sess.run([optimizer, cost], feed_dict={x: X_train[idx, :], y: Y_train[idx, :],\n",
    "                                                                  input_keep_prob: 1, hidden_keep_prob: 1,\n",
    "                                                                  learning_rate: LR/(epoch+1), is_train: True})\n",
    "                elif LRdecay==0:\n",
    "                    _, c = sess.run([optimizer, cost], feed_dict={x: X_train[idx, :], y: Y_train[idx, :],\n",
    "                                                                      input_keep_prob: 1, hidden_keep_prob: 1,\n",
    "                                                                      learning_rate: LR, is_train: True})\n",
    "            MSETime[epoch, 0]= c # train cost \n",
    "            MSETime[epoch, 1]= sess.run(cost, feed_dict={x: X_val, y: Y_val, input_keep_prob: 1, hidden_keep_prob: 1, is_train: False})\n",
    "            MSETime[epoch, 2]= time.time() - start_time\n",
    "            if epoch%(int(training_epochs/10))==0:\n",
    "                print('epoch:%d, '%epoch, 'train:%0.2f%%, '%(c*100), 'validation:%0.2f%%.'%(MSETime[epoch, 1]*100))\n",
    "\n",
    "        print(\"training time: %0.2f s\" % (time.time() - start_time))\n",
    "        sio.savemat('./DNNabs2MSETime_%d_%d_%d' % (n_output, batch_size, LR*10000) , {'train': MSETime[:,0], 'validation': MSETime[:,1], 'time': MSETime[:,2]})\n",
    "        saver.save(sess, location)\n",
    "    return 0"
   ]
  },
  {
   "cell_type": "code",
   "execution_count": 67,
   "metadata": {},
   "outputs": [
    {
     "name": "stdout",
     "output_type": "stream",
     "text": [
      "train: 35000  validation: 15000 \n",
      "epoch:0,  train:116.68%,  validation:109.04%.\n",
      "epoch:20,  train:72.97%,  validation:69.19%.\n",
      "epoch:40,  train:64.53%,  validation:68.50%.\n",
      "epoch:60,  train:70.80%,  validation:66.79%.\n",
      "epoch:80,  train:58.67%,  validation:66.93%.\n",
      "epoch:100,  train:58.32%,  validation:66.68%.\n",
      "epoch:120,  train:56.08%,  validation:67.13%.\n",
      "epoch:140,  train:52.50%,  validation:67.35%.\n",
      "epoch:160,  train:56.37%,  validation:68.11%.\n",
      "epoch:180,  train:56.55%,  validation:68.07%.\n",
      "training time: 163.00 s\n"
     ]
    },
    {
     "data": {
      "text/plain": [
       "0"
      ]
     },
     "execution_count": 67,
     "metadata": {},
     "output_type": "execute_result"
    }
   ],
   "source": [
    "# 3 layers (output layer without relu) , no dropout layers ADMA optimizer LR: 0.001\n",
    "model_location = \"./DNNabs/model_demo.ckpt\"\n",
    "train(x_train,x_val, y_train,y_val, model_location, training_epochs=200,LR=0.001, batch_size=200)"
   ]
  },
  {
   "cell_type": "code",
   "execution_count": 68,
   "metadata": {},
   "outputs": [
    {
     "data": {
      "image/png": "[encoded data removed]",
      "text/plain": [
       "<Figure size 432x288 with 1 Axes>"
      ]
     },
     "metadata": {},
     "output_type": "display_data"
    }
   ],
   "source": [
    "train = sio.loadmat('MSETimeLastLayer_%d_%d_%d'%(12, 200, 10))['train']\n",
    "time = sio.loadmat('MSETimeLastLayer_%d_%d_%d'%(12, 200, 10))['time']\n",
    "val = sio.loadmat('MSETimeLastLayer_%d_%d_%d'%(12, 200, 10))['validation']\n",
    "plt.figure(0)\n",
    "plt.plot(np.arange(0,len(val.T)), val.T,label='validation')\n",
    "plt.plot(np.arange(0,len(train.T)), train.T,label='train')\n",
    "plt.legend(loc='upper right')\n",
    "plt.xlabel('epoch')\n",
    "plt.ylabel('Mean Square Error')\n",
    "plt.savefig('MSE_train.eps', format='eps', dpi=1000)\n",
    "plt.show()"
   ]
  },
  {
   "cell_type": "code",
   "execution_count": 42,
   "metadata": {},
   "outputs": [
    {
     "data": {
      "image/png": "[encoded data removed]",
      "text/plain": [
       "<Figure size 432x288 with 1 Axes>"
      ]
     },
     "metadata": {},
     "output_type": "display_data"
    }
   ],
   "source": [
    "train = sio.loadmat('MSETimeLastLayer_%d_%d_%d'%(12, 200, 10))['train']\n",
    "time = sio.loadmat('MSETimeLastLayer_%d_%d_%d'%(12, 200, 10))['time']\n",
    "val = sio.loadmat('MSETimeLastLayer_%d_%d_%d'%(12, 200, 10))['validation']\n",
    "plt.figure(0)\n",
    "plt.plot(np.arange(0,len(val.T)), val.T,label='validation')\n",
    "plt.plot(np.arange(0,len(train.T)), train.T,label='train')\n",
    "plt.legend(loc='upper right')\n",
    "plt.xlabel('epoch')\n",
    "plt.ylabel('Mean Square Error')\n",
    "plt.savefig('MSE_train.eps', format='eps', dpi=1000)\n",
    "plt.show()"
   ]
  },
  {
   "cell_type": "code",
   "execution_count": 92,
   "metadata": {},
   "outputs": [
    {
     "ename": "FileNotFoundError",
     "evalue": "[Errno 2] No such file or directory: 'MSETimeLastLayer_12_200_10.mat'",
     "output_type": "error",
     "traceback": [
      "\u001b[0;31m---------------------------------------------------------------------------\u001b[0m",
      "\u001b[0;31mFileNotFoundError\u001b[0m                         Traceback (most recent call last)",
      "\u001b[0;32m~/anaconda2/envs/haha/lib/python3.6/site-packages/scipy/io/matlab/mio.py\u001b[0m in \u001b[0;36m_open_file\u001b[0;34m(file_like, appendmat)\u001b[0m\n\u001b[1;32m     32\u001b[0m     \u001b[0;32mtry\u001b[0m\u001b[0;34m:\u001b[0m\u001b[0;34m\u001b[0m\u001b[0m\n\u001b[0;32m---> 33\u001b[0;31m         \u001b[0;32mreturn\u001b[0m \u001b[0mopen\u001b[0m\u001b[0;34m(\u001b[0m\u001b[0mfile_like\u001b[0m\u001b[0;34m,\u001b[0m \u001b[0;34m'rb'\u001b[0m\u001b[0;34m)\u001b[0m\u001b[0;34m,\u001b[0m \u001b[0;32mTrue\u001b[0m\u001b[0;34m\u001b[0m\u001b[0m\n\u001b[0m\u001b[1;32m     34\u001b[0m     \u001b[0;32mexcept\u001b[0m \u001b[0mIOError\u001b[0m\u001b[0;34m:\u001b[0m\u001b[0;34m\u001b[0m\u001b[0m\n",
      "\u001b[0;31mFileNotFoundError\u001b[0m: [Errno 2] No such file or directory: 'MSETimeLastLayer_12_200_10'",
      "\nDuring handling of the above exception, another exception occurred:\n",
      "\u001b[0;31mFileNotFoundError\u001b[0m                         Traceback (most recent call last)",
      "\u001b[0;32m<ipython-input-92-27f67981dca9>\u001b[0m in \u001b[0;36m<module>\u001b[0;34m()\u001b[0m\n\u001b[0;32m----> 1\u001b[0;31m \u001b[0mtrain\u001b[0m \u001b[0;34m=\u001b[0m \u001b[0msio\u001b[0m\u001b[0;34m.\u001b[0m\u001b[0mloadmat\u001b[0m\u001b[0;34m(\u001b[0m\u001b[0;34m'MSETimeLastLayer_%d_%d_%d'\u001b[0m\u001b[0;34m%\u001b[0m\u001b[0;34m(\u001b[0m\u001b[0;36m12\u001b[0m\u001b[0;34m,\u001b[0m \u001b[0;36m200\u001b[0m\u001b[0;34m,\u001b[0m \u001b[0;36m10\u001b[0m\u001b[0;34m)\u001b[0m\u001b[0;34m)\u001b[0m\u001b[0;34m[\u001b[0m\u001b[0;34m'train'\u001b[0m\u001b[0;34m]\u001b[0m\u001b[0;34m\u001b[0m\u001b[0m\n\u001b[0m\u001b[1;32m      2\u001b[0m \u001b[0mtime\u001b[0m \u001b[0;34m=\u001b[0m \u001b[0msio\u001b[0m\u001b[0;34m.\u001b[0m\u001b[0mloadmat\u001b[0m\u001b[0;34m(\u001b[0m\u001b[0;34m'MSETimeLastLayer_%d_%d_%d'\u001b[0m\u001b[0;34m%\u001b[0m\u001b[0;34m(\u001b[0m\u001b[0;36m12\u001b[0m\u001b[0;34m,\u001b[0m \u001b[0;36m200\u001b[0m\u001b[0;34m,\u001b[0m \u001b[0;36m10\u001b[0m\u001b[0;34m)\u001b[0m\u001b[0;34m)\u001b[0m\u001b[0;34m[\u001b[0m\u001b[0;34m'time'\u001b[0m\u001b[0;34m]\u001b[0m\u001b[0;34m\u001b[0m\u001b[0m\n\u001b[1;32m      3\u001b[0m \u001b[0mval\u001b[0m \u001b[0;34m=\u001b[0m \u001b[0msio\u001b[0m\u001b[0;34m.\u001b[0m\u001b[0mloadmat\u001b[0m\u001b[0;34m(\u001b[0m\u001b[0;34m'MSETimeLastLayer_%d_%d_%d'\u001b[0m\u001b[0;34m%\u001b[0m\u001b[0;34m(\u001b[0m\u001b[0;36m12\u001b[0m\u001b[0;34m,\u001b[0m \u001b[0;36m200\u001b[0m\u001b[0;34m,\u001b[0m \u001b[0;36m10\u001b[0m\u001b[0;34m)\u001b[0m\u001b[0;34m)\u001b[0m\u001b[0;34m[\u001b[0m\u001b[0;34m'validation'\u001b[0m\u001b[0;34m]\u001b[0m\u001b[0;34m\u001b[0m\u001b[0m\n\u001b[1;32m      4\u001b[0m \u001b[0mplt\u001b[0m\u001b[0;34m.\u001b[0m\u001b[0mfigure\u001b[0m\u001b[0;34m(\u001b[0m\u001b[0;36m0\u001b[0m\u001b[0;34m)\u001b[0m\u001b[0;34m\u001b[0m\u001b[0m\n\u001b[1;32m      5\u001b[0m \u001b[0mplt\u001b[0m\u001b[0;34m.\u001b[0m\u001b[0mplot\u001b[0m\u001b[0;34m(\u001b[0m\u001b[0mnp\u001b[0m\u001b[0;34m.\u001b[0m\u001b[0marange\u001b[0m\u001b[0;34m(\u001b[0m\u001b[0;36m0\u001b[0m\u001b[0;34m,\u001b[0m\u001b[0mlen\u001b[0m\u001b[0;34m(\u001b[0m\u001b[0mval\u001b[0m\u001b[0;34m.\u001b[0m\u001b[0mT\u001b[0m\u001b[0;34m)\u001b[0m\u001b[0;34m)\u001b[0m\u001b[0;34m,\u001b[0m \u001b[0mval\u001b[0m\u001b[0;34m.\u001b[0m\u001b[0mT\u001b[0m\u001b[0;34m,\u001b[0m\u001b[0mlabel\u001b[0m\u001b[0;34m=\u001b[0m\u001b[0;34m'validation'\u001b[0m\u001b[0;34m)\u001b[0m\u001b[0;34m\u001b[0m\u001b[0m\n",
      "\u001b[0;32m~/anaconda2/envs/haha/lib/python3.6/site-packages/scipy/io/matlab/mio.py\u001b[0m in \u001b[0;36mloadmat\u001b[0;34m(file_name, mdict, appendmat, **kwargs)\u001b[0m\n\u001b[1;32m    139\u001b[0m     \"\"\"\n\u001b[1;32m    140\u001b[0m     \u001b[0mvariable_names\u001b[0m \u001b[0;34m=\u001b[0m \u001b[0mkwargs\u001b[0m\u001b[0;34m.\u001b[0m\u001b[0mpop\u001b[0m\u001b[0;34m(\u001b[0m\u001b[0;34m'variable_names'\u001b[0m\u001b[0;34m,\u001b[0m \u001b[0;32mNone\u001b[0m\u001b[0;34m)\u001b[0m\u001b[0;34m\u001b[0m\u001b[0m\n\u001b[0;32m--> 141\u001b[0;31m     \u001b[0mMR\u001b[0m\u001b[0;34m,\u001b[0m \u001b[0mfile_opened\u001b[0m \u001b[0;34m=\u001b[0m \u001b[0mmat_reader_factory\u001b[0m\u001b[0;34m(\u001b[0m\u001b[0mfile_name\u001b[0m\u001b[0;34m,\u001b[0m \u001b[0mappendmat\u001b[0m\u001b[0;34m,\u001b[0m \u001b[0;34m**\u001b[0m\u001b[0mkwargs\u001b[0m\u001b[0;34m)\u001b[0m\u001b[0;34m\u001b[0m\u001b[0m\n\u001b[0m\u001b[1;32m    142\u001b[0m     \u001b[0mmatfile_dict\u001b[0m \u001b[0;34m=\u001b[0m \u001b[0mMR\u001b[0m\u001b[0;34m.\u001b[0m\u001b[0mget_variables\u001b[0m\u001b[0;34m(\u001b[0m\u001b[0mvariable_names\u001b[0m\u001b[0;34m)\u001b[0m\u001b[0;34m\u001b[0m\u001b[0m\n\u001b[1;32m    143\u001b[0m     \u001b[0;32mif\u001b[0m \u001b[0mmdict\u001b[0m \u001b[0;32mis\u001b[0m \u001b[0;32mnot\u001b[0m \u001b[0;32mNone\u001b[0m\u001b[0;34m:\u001b[0m\u001b[0;34m\u001b[0m\u001b[0m\n",
      "\u001b[0;32m~/anaconda2/envs/haha/lib/python3.6/site-packages/scipy/io/matlab/mio.py\u001b[0m in \u001b[0;36mmat_reader_factory\u001b[0;34m(file_name, appendmat, **kwargs)\u001b[0m\n\u001b[1;32m     62\u001b[0m \u001b[0;34m\u001b[0m\u001b[0m\n\u001b[1;32m     63\u001b[0m     \"\"\"\n\u001b[0;32m---> 64\u001b[0;31m     \u001b[0mbyte_stream\u001b[0m\u001b[0;34m,\u001b[0m \u001b[0mfile_opened\u001b[0m \u001b[0;34m=\u001b[0m \u001b[0m_open_file\u001b[0m\u001b[0;34m(\u001b[0m\u001b[0mfile_name\u001b[0m\u001b[0;34m,\u001b[0m \u001b[0mappendmat\u001b[0m\u001b[0;34m)\u001b[0m\u001b[0;34m\u001b[0m\u001b[0m\n\u001b[0m\u001b[1;32m     65\u001b[0m     \u001b[0mmjv\u001b[0m\u001b[0;34m,\u001b[0m \u001b[0mmnv\u001b[0m \u001b[0;34m=\u001b[0m \u001b[0mget_matfile_version\u001b[0m\u001b[0;34m(\u001b[0m\u001b[0mbyte_stream\u001b[0m\u001b[0;34m)\u001b[0m\u001b[0;34m\u001b[0m\u001b[0m\n\u001b[1;32m     66\u001b[0m     \u001b[0;32mif\u001b[0m \u001b[0mmjv\u001b[0m \u001b[0;34m==\u001b[0m \u001b[0;36m0\u001b[0m\u001b[0;34m:\u001b[0m\u001b[0;34m\u001b[0m\u001b[0m\n",
      "\u001b[0;32m~/anaconda2/envs/haha/lib/python3.6/site-packages/scipy/io/matlab/mio.py\u001b[0m in \u001b[0;36m_open_file\u001b[0;34m(file_like, appendmat)\u001b[0m\n\u001b[1;32m     37\u001b[0m             \u001b[0;32mif\u001b[0m \u001b[0mappendmat\u001b[0m \u001b[0;32mand\u001b[0m \u001b[0;32mnot\u001b[0m \u001b[0mfile_like\u001b[0m\u001b[0;34m.\u001b[0m\u001b[0mendswith\u001b[0m\u001b[0;34m(\u001b[0m\u001b[0;34m'.mat'\u001b[0m\u001b[0;34m)\u001b[0m\u001b[0;34m:\u001b[0m\u001b[0;34m\u001b[0m\u001b[0m\n\u001b[1;32m     38\u001b[0m                 \u001b[0mfile_like\u001b[0m \u001b[0;34m+=\u001b[0m \u001b[0;34m'.mat'\u001b[0m\u001b[0;34m\u001b[0m\u001b[0m\n\u001b[0;32m---> 39\u001b[0;31m             \u001b[0;32mreturn\u001b[0m \u001b[0mopen\u001b[0m\u001b[0;34m(\u001b[0m\u001b[0mfile_like\u001b[0m\u001b[0;34m,\u001b[0m \u001b[0;34m'rb'\u001b[0m\u001b[0;34m)\u001b[0m\u001b[0;34m,\u001b[0m \u001b[0;32mTrue\u001b[0m\u001b[0;34m\u001b[0m\u001b[0m\n\u001b[0m\u001b[1;32m     40\u001b[0m         \u001b[0;32melse\u001b[0m\u001b[0;34m:\u001b[0m\u001b[0;34m\u001b[0m\u001b[0m\n\u001b[1;32m     41\u001b[0m             \u001b[0;32mraise\u001b[0m \u001b[0mIOError\u001b[0m\u001b[0;34m(\u001b[0m\u001b[0;34m'Reader needs file name or open file-like object'\u001b[0m\u001b[0;34m)\u001b[0m\u001b[0;34m\u001b[0m\u001b[0m\n",
      "\u001b[0;31mFileNotFoundError\u001b[0m: [Errno 2] No such file or directory: 'MSETimeLastLayer_12_200_10.mat'"
     ]
    }
   ],
   "source": [
    "train = sio.loadmat('MSETimeLastLayer_%d_%d_%d'%(12, 200, 10))['train']\n",
    "time = sio.loadmat('MSETimeLastLayer_%d_%d_%d'%(12, 200, 10))['time']\n",
    "val = sio.loadmat('MSETimeLastLayer_%d_%d_%d'%(12, 200, 10))['validation']\n",
    "plt.figure(0)\n",
    "plt.plot(np.arange(0,len(val.T)), val.T,label='validation')\n",
    "plt.plot(np.arange(0,len(train.T)), train.T,label='train')\n",
    "plt.legend(loc='upper right')\n",
    "plt.xlabel('time (seconds)')\n",
    "plt.ylabel('Mean Square Error')\n",
    "plt.savefig('MSE_train.eps', format='eps', dpi=1000)\n",
    "plt.show()"
   ]
  },
  {
   "cell_type": "markdown",
   "metadata": {},
   "source": [
    "# Test Performance"
   ]
  },
  {
   "cell_type": "code",
   "execution_count": 69,
   "metadata": {},
   "outputs": [],
   "source": [
    "DateLocation='MIMO10000_3test.mat'\n",
    "DataTest1000 = sio.loadmat(DateLocation)#load data\n",
    "Xtest=DataTest1000['X']\n",
    "# trainData = np.reshape(XXData,[12 ,50000 ])#reshape to 2d array\n",
    "Xtest = np.transpose(Xtest)\n",
    "Ytest=DataTest1000['Y']\n",
    "# trainData = np.reshape(XXData,[12 ,50000 ])#reshape to 2d array\n",
    "Ytest = np.transpose(Ytest)"
   ]
  },
  {
   "cell_type": "code",
   "execution_count": 70,
   "metadata": {},
   "outputs": [],
   "source": [
    "\n",
    "# Functions for deep neural network testing\n",
    "def test(X, model_location, save_name, n_input, n_output, n_hidden_1 = 200, n_hidden_2 = 80, n_hidden_3 = 80, binary=0):\n",
    "    tf.reset_default_graph()\n",
    "    x = tf.placeholder(\"float\", [None, n_input])\n",
    "    is_train = tf.placeholder(\"bool\")\n",
    "    input_keep_prob = tf.placeholder(tf.float32)\n",
    "    hidden_keep_prob = tf.placeholder(tf.float32)\n",
    "    weights, biases = ini_weights(n_input, n_hidden_1, n_hidden_2, n_hidden_3, n_output)\n",
    "    pred = multilayer_perceptron(x, weights, biases, input_keep_prob, hidden_keep_prob)\n",
    "    saver = tf.train.Saver()\n",
    "    with tf.Session() as sess:\n",
    "        saver.restore(sess, model_location)\n",
    "        start_time = time.time()\n",
    "        y_pred = sess.run(pred, feed_dict={x: X, input_keep_prob: 1, hidden_keep_prob: 1, is_train: False})\n",
    "        testtime = time.time() - start_time\n",
    "        # print(\"testing time: %0.2f s\" % testtime)\n",
    "        if binary==1:\n",
    "            y_pred[y_pred >= 0.5] = 1\n",
    "            y_pred[y_pred < 0.5] = 0\n",
    "        sio.savemat(save_name, {'pred': y_pred})\n",
    "    return y_pred"
   ]
  },
  {
   "cell_type": "code",
   "execution_count": 76,
   "metadata": {},
   "outputs": [
    {
     "data": {
      "text/plain": [
       "array([0.22757643, 0.05860202, 0.18579806, 0.16456406, 0.13928083,\n",
       "       0.1857516 , 0.20026636, 0.08881684, 0.19957678, 0.27167654,\n",
       "       0.10565662, 0.24718344], dtype=float32)"
      ]
     },
     "execution_count": 76,
     "metadata": {},
     "output_type": "execute_result"
    }
   ],
   "source": [
    "ypred[1,:]"
   ]
  },
  {
   "cell_type": "code",
   "execution_count": 62,
   "metadata": {},
   "outputs": [
    {
     "data": {
      "text/plain": [
       "(37.24642534221816+19.317331745262692j)"
      ]
     },
     "execution_count": 62,
     "metadata": {},
     "output_type": "execute_result"
    }
   ],
   "source": [
    "np.sum(Ytest[1,:])"
   ]
  },
  {
   "cell_type": "code",
   "execution_count": 72,
   "metadata": {},
   "outputs": [],
   "source": [
    "def obj_sum_rate(xtest, y_pred,M,N,K, samples):\n",
    "    # H ： sampels*12\n",
    "    sum_rate=[]\n",
    "    for i in range(samples):\n",
    "        rate_nn=0\n",
    "        H=np.reshape(xtest[i,:],[M,N,K])\n",
    "        pnn=np.reshape(y_pred[i,:],[M,N,K])      \n",
    "        for j in range(K):\n",
    "            if j==i:\n",
    "                rate_nn = rate_nn+np.real(np.log2(np.linalg.det(np.eye(M)+H[:,:,j] * pnn[:,:,j] * np.transpose(H[:,:,j]))))\n",
    "            else:\n",
    "                pnn[:,:,j]=pnn[:,:,j]+pnn[:,:,j-1]\n",
    "                rate_nn = rate_nn+np.real(np.log2(np.abs(np.linalg.det(np.eye(M)+H[:,:,j] * pnn[:,:,j] * np.transpose(H[:,:,j]))/np.linalg.det((np.eye(M)+H[:,:,j] * pnn[:,:,j-1] * np.transpose(H[:,:,j]))))))\n",
    "        sum_rate.append(rate_nn)\n",
    "    return sum_rate\n",
    "\n"
   ]
  },
  {
   "cell_type": "code",
   "execution_count": 79,
   "metadata": {},
   "outputs": [
    {
     "name": "stdout",
     "output_type": "stream",
     "text": [
      "INFO:tensorflow:Restoring parameters from ./DNNabs/model_demo.ckpt\n",
      "INFO:tensorflow:Restoring parameters from ./DNNabs/model_demo.ckpt\n"
     ]
    },
    {
     "name": "stderr",
     "output_type": "stream",
     "text": [
      "/Users/user/anaconda2/envs/haha/lib/python3.6/site-packages/numpy/core/numeric.py:492: ComplexWarning: Casting complex values to real discards the imaginary part\n",
      "  return array(a, dtype, copy=False, order=order)\n"
     ]
    },
    {
     "name": "stdout",
     "output_type": "stream",
     "text": [
      "INFO:tensorflow:Restoring parameters from ./DNNabs/model_demo.ckpt\n"
     ]
    },
    {
     "name": "stderr",
     "output_type": "stream",
     "text": [
      "/Users/user/anaconda2/envs/haha/lib/python3.6/site-packages/ipykernel_launcher.py:10: RuntimeWarning: invalid value encountered in log2\n",
      "  # Remove the CWD from sys.path while we load stuff.\n"
     ]
    },
    {
     "name": "stdout",
     "output_type": "stream",
     "text": [
      "10000\n",
      "10000\n"
     ]
    }
   ],
   "source": [
    "model_location = \"./DNNabs/model_demo.ckpt\"\n",
    "ypred=test(Xtest, model_location, \"./DNNabs/Prediction_Dnn_10000\", 12,12, binary=0)\n",
    "trainPred=test(x_train, model_location, \"./DNNabs/Prediction_Dnn_50000Tr\", 12,12, binary=0)\n",
    "valPred=test(x_val, model_location, \"./DNNabs/Prediction_Dnn_50000Val\", 12,12, binary=0)\n",
    "D=12\n",
    "# xtest=DtoComplex(Xtest,12)\n",
    "# ytest=DtoComplex(Ytest,12)\n",
    "# ypred=DtoComplex(ypred,12)\n",
    "\n",
    "# # train & val\n",
    "# xtrain=DtoComplex(x_train,12)\n",
    "# ytrain=DtoComplex(y_train,12)\n",
    "# trainPred=DtoComplex(trainPred,12)\n",
    "# xval=DtoComplex(x_val,12)\n",
    "# yval=DtoComplex(y_val,12)\n",
    "# valPred=DtoComplex(valPred,12)\n",
    "\n",
    "# test\n",
    "nnsumRate=obj_sum_rate(Xtest, ypred,2,2,3, 10000)\n",
    "IWFsumRate=obj_sum_rate(Xtest, Ytest,2,2,3, 10000)\n",
    "#trian\n",
    "nnSRTrain=obj_sum_rate(x_train, trainPred,2,2,3, 35000)\n",
    "IWFSRTrain=obj_sum_rate(x_train, y_train,2,2,3, 35000)\n",
    "# validation\n",
    "IWFSRVal=obj_sum_rate(x_val, y_val,2,2,3, 15000)\n",
    "nnSRVal=obj_sum_rate(x_val, valPred,2,2,3, 15000)\n",
    "\n",
    "print(len(nnsumRate))\n",
    "print(len(IWFsumRate))"
   ]
  },
  {
   "cell_type": "code",
   "execution_count": 80,
   "metadata": {},
   "outputs": [
    {
     "ename": "ValueError",
     "evalue": "range parameter must be finite.",
     "output_type": "error",
     "traceback": [
      "\u001b[0;31m---------------------------------------------------------------------------\u001b[0m",
      "\u001b[0;31mValueError\u001b[0m                                Traceback (most recent call last)",
      "\u001b[0;32m<ipython-input-80-0d89924c0e2d>\u001b[0m in \u001b[0;36m<module>\u001b[0;34m()\u001b[0m\n\u001b[1;32m     25\u001b[0m \u001b[0mplt\u001b[0m\u001b[0;34m.\u001b[0m\u001b[0msubplot\u001b[0m\u001b[0;34m(\u001b[0m\u001b[0;36m312\u001b[0m\u001b[0;34m)\u001b[0m\u001b[0;34m\u001b[0m\u001b[0m\n\u001b[1;32m     26\u001b[0m \u001b[0mplt\u001b[0m\u001b[0;34m.\u001b[0m\u001b[0mtitle\u001b[0m\u001b[0;34m(\u001b[0m\u001b[0;34m'CDF Analysis_Train'\u001b[0m\u001b[0;34m)\u001b[0m\u001b[0;34m\u001b[0m\u001b[0m\n\u001b[0;32m---> 27\u001b[0;31m \u001b[0mCDF_Plot\u001b[0m\u001b[0;34m(\u001b[0m\u001b[0mnnSRTrain\u001b[0m\u001b[0;34m,\u001b[0m\u001b[0mIWFSRTrain\u001b[0m\u001b[0;34m,\u001b[0m \u001b[0;34m'DNNTrain'\u001b[0m\u001b[0;34m,\u001b[0m \u001b[0;34m'IWFTrain'\u001b[0m\u001b[0;34m)\u001b[0m\u001b[0;34m\u001b[0m\u001b[0m\n\u001b[0m\u001b[1;32m     28\u001b[0m \u001b[0;34m\u001b[0m\u001b[0m\n\u001b[1;32m     29\u001b[0m \u001b[0mplt\u001b[0m\u001b[0;34m.\u001b[0m\u001b[0msubplot\u001b[0m\u001b[0;34m(\u001b[0m\u001b[0;36m313\u001b[0m\u001b[0;34m)\u001b[0m\u001b[0;34m\u001b[0m\u001b[0m\n",
      "\u001b[0;32m<ipython-input-80-0d89924c0e2d>\u001b[0m in \u001b[0;36mCDF_Plot\u001b[0;34m(sumRate1, sumRate2, label1, label2)\u001b[0m\n\u001b[1;32m      7\u001b[0m     \u001b[0mb\u001b[0m \u001b[0;34m=\u001b[0m \u001b[0mnp\u001b[0m\u001b[0;34m.\u001b[0m\u001b[0marray\u001b[0m\u001b[0;34m(\u001b[0m\u001b[0msumRate2\u001b[0m\u001b[0;34m)\u001b[0m \u001b[0;31m# your array of numbers\u001b[0m\u001b[0;34m\u001b[0m\u001b[0m\n\u001b[1;32m      8\u001b[0m     \u001b[0mnum_bins2\u001b[0m \u001b[0;34m=\u001b[0m \u001b[0mnp\u001b[0m\u001b[0;34m.\u001b[0m\u001b[0mlinspace\u001b[0m\u001b[0;34m(\u001b[0m\u001b[0;36m0\u001b[0m\u001b[0;34m,\u001b[0m \u001b[0mmax\u001b[0m\u001b[0;34m(\u001b[0m\u001b[0msumRate2\u001b[0m\u001b[0;34m)\u001b[0m\u001b[0;34m,\u001b[0m \u001b[0;36m50\u001b[0m\u001b[0;34m)\u001b[0m\u001b[0;34m\u001b[0m\u001b[0m\n\u001b[0;32m----> 9\u001b[0;31m     \u001b[0mcounts2\u001b[0m\u001b[0;34m,\u001b[0m \u001b[0mbin_edges2\u001b[0m \u001b[0;34m=\u001b[0m \u001b[0mnp\u001b[0m\u001b[0;34m.\u001b[0m\u001b[0mhistogram\u001b[0m\u001b[0;34m(\u001b[0m\u001b[0mb\u001b[0m\u001b[0;34m,\u001b[0m \u001b[0mbins\u001b[0m\u001b[0;34m=\u001b[0m\u001b[0;34m'auto'\u001b[0m\u001b[0;34m,\u001b[0m \u001b[0mnormed\u001b[0m\u001b[0;34m=\u001b[0m\u001b[0;32mTrue\u001b[0m\u001b[0;34m)\u001b[0m\u001b[0;34m\u001b[0m\u001b[0m\n\u001b[0m\u001b[1;32m     10\u001b[0m     \u001b[0mcdf2\u001b[0m \u001b[0;34m=\u001b[0m \u001b[0mnp\u001b[0m\u001b[0;34m.\u001b[0m\u001b[0mcumsum\u001b[0m\u001b[0;34m(\u001b[0m\u001b[0mcounts2\u001b[0m\u001b[0;34m*\u001b[0m\u001b[0mnp\u001b[0m\u001b[0;34m.\u001b[0m\u001b[0mdiff\u001b[0m\u001b[0;34m(\u001b[0m\u001b[0mbin_edges2\u001b[0m\u001b[0;34m)\u001b[0m\u001b[0;34m)\u001b[0m\u001b[0;34m\u001b[0m\u001b[0m\n\u001b[1;32m     11\u001b[0m \u001b[0;34m\u001b[0m\u001b[0m\n",
      "\u001b[0;32m~/anaconda2/envs/haha/lib/python3.6/site-packages/numpy/lib/function_base.py\u001b[0m in \u001b[0;36mhistogram\u001b[0;34m(a, bins, range, normed, weights, density)\u001b[0m\n\u001b[1;32m    668\u001b[0m     \u001b[0;32mif\u001b[0m \u001b[0;32mnot\u001b[0m \u001b[0mnp\u001b[0m\u001b[0;34m.\u001b[0m\u001b[0mall\u001b[0m\u001b[0;34m(\u001b[0m\u001b[0mnp\u001b[0m\u001b[0;34m.\u001b[0m\u001b[0misfinite\u001b[0m\u001b[0;34m(\u001b[0m\u001b[0;34m[\u001b[0m\u001b[0mfirst_edge\u001b[0m\u001b[0;34m,\u001b[0m \u001b[0mlast_edge\u001b[0m\u001b[0;34m]\u001b[0m\u001b[0;34m)\u001b[0m\u001b[0;34m)\u001b[0m\u001b[0;34m:\u001b[0m\u001b[0;34m\u001b[0m\u001b[0m\n\u001b[1;32m    669\u001b[0m         raise ValueError(\n\u001b[0;32m--> 670\u001b[0;31m             'range parameter must be finite.')\n\u001b[0m\u001b[1;32m    671\u001b[0m     \u001b[0;32mif\u001b[0m \u001b[0mfirst_edge\u001b[0m \u001b[0;34m==\u001b[0m \u001b[0mlast_edge\u001b[0m\u001b[0;34m:\u001b[0m\u001b[0;34m\u001b[0m\u001b[0m\n\u001b[1;32m    672\u001b[0m         \u001b[0mfirst_edge\u001b[0m \u001b[0;34m-=\u001b[0m \u001b[0;36m0.5\u001b[0m\u001b[0;34m\u001b[0m\u001b[0m\n",
      "\u001b[0;31mValueError\u001b[0m: range parameter must be finite."
     ]
    },
    {
     "data": {
      "image/png": "[encoded data removed]",
      "text/plain": [
       "<Figure size 432x288 with 2 Axes>"
      ]
     },
     "metadata": {},
     "output_type": "display_data"
    }
   ],
   "source": [
    "def CDF_Plot(sumRate1, sumRate2, label1= 'DNN', label2= 'IWF'):\n",
    "    a = np.array(sumRate1) # your array of numbers\n",
    "    num_bins1 = np.linspace(0, max(sumRate1), 50)\n",
    "    counts1, bin_edges1 = np.histogram(a, bins='auto', normed=True)\n",
    "    cdf1 = np.cumsum(counts1*np.diff(bin_edges1))\n",
    "\n",
    "    b = np.array(sumRate2) # your array of numbers\n",
    "    num_bins2 = np.linspace(0, max(sumRate2), 50)\n",
    "    counts2, bin_edges2 = np.histogram(b, bins='auto', normed=True)\n",
    "    cdf2 = np.cumsum(counts2*np.diff(bin_edges2))\n",
    "\n",
    "#     plt.figure(1)\n",
    "#     plt.subplot(221)\n",
    "#     plt.title('CDF Analysis')\n",
    "    # plt.xlim([0, 6])\n",
    "    plt.xlabel('sum-rate')\n",
    "    plt.plot(bin_edges1[1:], cdf1, color='black', label=label1)\n",
    "    plt.plot(bin_edges2[1:],cdf2,color='red', label=label2)\n",
    "    plt.legend()\n",
    "    return 0\n",
    "plt.figure(1)\n",
    "plt.subplot(311)\n",
    "plt.title('CDF AnalysisTest')\n",
    "CDF_Plot(nnsumRate,IWFsumRate, 'DNNTest', 'IWFTest')\n",
    "plt.subplot(312)\n",
    "plt.title('CDF Analysis_Train')\n",
    "CDF_Plot(nnSRTrain,IWFSRTrain, 'DNNTrain', 'IWFTrain')\n",
    "\n",
    "plt.subplot(313)\n",
    "plt.title('CDF Analysis_val')\n",
    "CDF_Plot(nnSRVal,IWFSRVal, 'DNNVal', 'IWFVal')\n",
    "\n"
   ]
  },
  {
   "cell_type": "code",
   "execution_count": 81,
   "metadata": {},
   "outputs": [
    {
     "data": {
      "image/png": "[encoded data removed]",
      "text/plain": [
       "<Figure size 432x288 with 1 Axes>"
      ]
     },
     "metadata": {},
     "output_type": "display_data"
    },
    {
     "ename": "ValueError",
     "evalue": "range parameter must be finite.",
     "output_type": "error",
     "traceback": [
      "\u001b[0;31m---------------------------------------------------------------------------\u001b[0m",
      "\u001b[0;31mValueError\u001b[0m                                Traceback (most recent call last)",
      "\u001b[0;32m<ipython-input-81-80ad7790d439>\u001b[0m in \u001b[0;36m<module>\u001b[0;34m()\u001b[0m\n\u001b[1;32m     18\u001b[0m \u001b[0mplt\u001b[0m\u001b[0;34m.\u001b[0m\u001b[0msubplot\u001b[0m\u001b[0;34m(\u001b[0m\u001b[0;36m212\u001b[0m\u001b[0;34m)\u001b[0m\u001b[0;34m\u001b[0m\u001b[0m\n\u001b[1;32m     19\u001b[0m \u001b[0mplt\u001b[0m\u001b[0;34m.\u001b[0m\u001b[0mtitle\u001b[0m\u001b[0;34m(\u001b[0m\u001b[0;34m'Hist Analysis_Train'\u001b[0m\u001b[0;34m)\u001b[0m\u001b[0;34m\u001b[0m\u001b[0m\n\u001b[0;32m---> 20\u001b[0;31m \u001b[0mhistPlot\u001b[0m\u001b[0;34m(\u001b[0m\u001b[0mnnSRTrain\u001b[0m\u001b[0;34m,\u001b[0m\u001b[0mIWFSRTrain\u001b[0m\u001b[0;34m,\u001b[0m \u001b[0;34m[\u001b[0m\u001b[0;34m'DNNTrain'\u001b[0m\u001b[0;34m,\u001b[0m \u001b[0;34m'IWFTrain'\u001b[0m\u001b[0;34m]\u001b[0m\u001b[0;34m)\u001b[0m\u001b[0;34m\u001b[0m\u001b[0m\n\u001b[0m",
      "\u001b[0;32m<ipython-input-81-80ad7790d439>\u001b[0m in \u001b[0;36mhistPlot\u001b[0;34m(sumRate1, sumRate2, label)\u001b[0m\n\u001b[1;32m      4\u001b[0m     \u001b[0mdata\u001b[0m \u001b[0;34m=\u001b[0m \u001b[0mnp\u001b[0m\u001b[0;34m.\u001b[0m\u001b[0mvstack\u001b[0m\u001b[0;34m(\u001b[0m\u001b[0;34m[\u001b[0m\u001b[0msumRate1\u001b[0m\u001b[0;34m,\u001b[0m \u001b[0msumRate2\u001b[0m\u001b[0;34m]\u001b[0m\u001b[0;34m)\u001b[0m\u001b[0;34m.\u001b[0m\u001b[0mT\u001b[0m\u001b[0;34m\u001b[0m\u001b[0m\n\u001b[1;32m      5\u001b[0m     \u001b[0mbins\u001b[0m \u001b[0;34m=\u001b[0m \u001b[0mnp\u001b[0m\u001b[0;34m.\u001b[0m\u001b[0mlinspace\u001b[0m\u001b[0;34m(\u001b[0m\u001b[0;36m0\u001b[0m\u001b[0;34m,\u001b[0m \u001b[0mmax\u001b[0m\u001b[0;34m(\u001b[0m\u001b[0msumRate2\u001b[0m\u001b[0;34m)\u001b[0m\u001b[0;34m,\u001b[0m\u001b[0;36m50\u001b[0m\u001b[0;34m)\u001b[0m\u001b[0;34m\u001b[0m\u001b[0m\n\u001b[0;32m----> 6\u001b[0;31m     \u001b[0mplt\u001b[0m\u001b[0;34m.\u001b[0m\u001b[0mhist\u001b[0m\u001b[0;34m(\u001b[0m\u001b[0mdata\u001b[0m\u001b[0;34m,\u001b[0m \u001b[0mbins\u001b[0m\u001b[0;34m,\u001b[0m \u001b[0malpha\u001b[0m\u001b[0;34m=\u001b[0m\u001b[0;36m0.7\u001b[0m\u001b[0;34m,\u001b[0m \u001b[0mlabel\u001b[0m\u001b[0;34m=\u001b[0m\u001b[0mlabel\u001b[0m\u001b[0;34m)\u001b[0m\u001b[0;34m\u001b[0m\u001b[0m\n\u001b[0m\u001b[1;32m      7\u001b[0m \u001b[0;31m#     plt.legend(loc='upper right')\u001b[0m\u001b[0;34m\u001b[0m\u001b[0;34m\u001b[0m\u001b[0m\n\u001b[1;32m      8\u001b[0m     \u001b[0mplt\u001b[0m\u001b[0;34m.\u001b[0m\u001b[0mxlim\u001b[0m\u001b[0;34m(\u001b[0m\u001b[0;34m[\u001b[0m\u001b[0;36m0\u001b[0m\u001b[0;34m,\u001b[0m \u001b[0;36m5\u001b[0m\u001b[0;34m]\u001b[0m\u001b[0;34m)\u001b[0m\u001b[0;34m\u001b[0m\u001b[0m\n",
      "\u001b[0;32m~/anaconda2/envs/haha/lib/python3.6/site-packages/matplotlib/pyplot.py\u001b[0m in \u001b[0;36mhist\u001b[0;34m(x, bins, range, density, weights, cumulative, bottom, histtype, align, orientation, rwidth, log, color, label, stacked, normed, hold, data, **kwargs)\u001b[0m\n\u001b[1;32m   3130\u001b[0m                       \u001b[0mhisttype\u001b[0m\u001b[0;34m=\u001b[0m\u001b[0mhisttype\u001b[0m\u001b[0;34m,\u001b[0m \u001b[0malign\u001b[0m\u001b[0;34m=\u001b[0m\u001b[0malign\u001b[0m\u001b[0;34m,\u001b[0m \u001b[0morientation\u001b[0m\u001b[0;34m=\u001b[0m\u001b[0morientation\u001b[0m\u001b[0;34m,\u001b[0m\u001b[0;34m\u001b[0m\u001b[0m\n\u001b[1;32m   3131\u001b[0m                       \u001b[0mrwidth\u001b[0m\u001b[0;34m=\u001b[0m\u001b[0mrwidth\u001b[0m\u001b[0;34m,\u001b[0m \u001b[0mlog\u001b[0m\u001b[0;34m=\u001b[0m\u001b[0mlog\u001b[0m\u001b[0;34m,\u001b[0m \u001b[0mcolor\u001b[0m\u001b[0;34m=\u001b[0m\u001b[0mcolor\u001b[0m\u001b[0;34m,\u001b[0m \u001b[0mlabel\u001b[0m\u001b[0;34m=\u001b[0m\u001b[0mlabel\u001b[0m\u001b[0;34m,\u001b[0m\u001b[0;34m\u001b[0m\u001b[0m\n\u001b[0;32m-> 3132\u001b[0;31m                       stacked=stacked, normed=normed, data=data, **kwargs)\n\u001b[0m\u001b[1;32m   3133\u001b[0m     \u001b[0;32mfinally\u001b[0m\u001b[0;34m:\u001b[0m\u001b[0;34m\u001b[0m\u001b[0m\n\u001b[1;32m   3134\u001b[0m         \u001b[0max\u001b[0m\u001b[0;34m.\u001b[0m\u001b[0m_hold\u001b[0m \u001b[0;34m=\u001b[0m \u001b[0mwashold\u001b[0m\u001b[0;34m\u001b[0m\u001b[0m\n",
      "\u001b[0;32m~/anaconda2/envs/haha/lib/python3.6/site-packages/matplotlib/__init__.py\u001b[0m in \u001b[0;36minner\u001b[0;34m(ax, *args, **kwargs)\u001b[0m\n\u001b[1;32m   1853\u001b[0m                         \u001b[0;34m\"the Matplotlib list!)\"\u001b[0m \u001b[0;34m%\u001b[0m \u001b[0;34m(\u001b[0m\u001b[0mlabel_namer\u001b[0m\u001b[0;34m,\u001b[0m \u001b[0mfunc\u001b[0m\u001b[0;34m.\u001b[0m\u001b[0m__name__\u001b[0m\u001b[0;34m)\u001b[0m\u001b[0;34m,\u001b[0m\u001b[0;34m\u001b[0m\u001b[0m\n\u001b[1;32m   1854\u001b[0m                         RuntimeWarning, stacklevel=2)\n\u001b[0;32m-> 1855\u001b[0;31m             \u001b[0;32mreturn\u001b[0m \u001b[0mfunc\u001b[0m\u001b[0;34m(\u001b[0m\u001b[0max\u001b[0m\u001b[0;34m,\u001b[0m \u001b[0;34m*\u001b[0m\u001b[0margs\u001b[0m\u001b[0;34m,\u001b[0m \u001b[0;34m**\u001b[0m\u001b[0mkwargs\u001b[0m\u001b[0;34m)\u001b[0m\u001b[0;34m\u001b[0m\u001b[0m\n\u001b[0m\u001b[1;32m   1856\u001b[0m \u001b[0;34m\u001b[0m\u001b[0m\n\u001b[1;32m   1857\u001b[0m         inner.__doc__ = _add_data_doc(inner.__doc__,\n",
      "\u001b[0;32m~/anaconda2/envs/haha/lib/python3.6/site-packages/matplotlib/axes/_axes.py\u001b[0m in \u001b[0;36mhist\u001b[0;34m(***failed resolving arguments***)\u001b[0m\n\u001b[1;32m   6528\u001b[0m             \u001b[0;31m# this will automatically overwrite bins,\u001b[0m\u001b[0;34m\u001b[0m\u001b[0;34m\u001b[0m\u001b[0m\n\u001b[1;32m   6529\u001b[0m             \u001b[0;31m# so that each histogram uses the same bins\u001b[0m\u001b[0;34m\u001b[0m\u001b[0;34m\u001b[0m\u001b[0m\n\u001b[0;32m-> 6530\u001b[0;31m             \u001b[0mm\u001b[0m\u001b[0;34m,\u001b[0m \u001b[0mbins\u001b[0m \u001b[0;34m=\u001b[0m \u001b[0mnp\u001b[0m\u001b[0;34m.\u001b[0m\u001b[0mhistogram\u001b[0m\u001b[0;34m(\u001b[0m\u001b[0mx\u001b[0m\u001b[0;34m[\u001b[0m\u001b[0mi\u001b[0m\u001b[0;34m]\u001b[0m\u001b[0;34m,\u001b[0m \u001b[0mbins\u001b[0m\u001b[0;34m,\u001b[0m \u001b[0mweights\u001b[0m\u001b[0;34m=\u001b[0m\u001b[0mw\u001b[0m\u001b[0;34m[\u001b[0m\u001b[0mi\u001b[0m\u001b[0;34m]\u001b[0m\u001b[0;34m,\u001b[0m \u001b[0;34m**\u001b[0m\u001b[0mhist_kwargs\u001b[0m\u001b[0;34m)\u001b[0m\u001b[0;34m\u001b[0m\u001b[0m\n\u001b[0m\u001b[1;32m   6531\u001b[0m             \u001b[0mm\u001b[0m \u001b[0;34m=\u001b[0m \u001b[0mm\u001b[0m\u001b[0;34m.\u001b[0m\u001b[0mastype\u001b[0m\u001b[0;34m(\u001b[0m\u001b[0mfloat\u001b[0m\u001b[0;34m)\u001b[0m  \u001b[0;31m# causes problems later if it's an int\u001b[0m\u001b[0;34m\u001b[0m\u001b[0m\n\u001b[1;32m   6532\u001b[0m             \u001b[0;32mif\u001b[0m \u001b[0mmlast\u001b[0m \u001b[0;32mis\u001b[0m \u001b[0;32mNone\u001b[0m\u001b[0;34m:\u001b[0m\u001b[0;34m\u001b[0m\u001b[0m\n",
      "\u001b[0;32m~/anaconda2/envs/haha/lib/python3.6/site-packages/numpy/lib/function_base.py\u001b[0m in \u001b[0;36mhistogram\u001b[0;34m(a, bins, range, normed, weights, density)\u001b[0m\n\u001b[1;32m    668\u001b[0m     \u001b[0;32mif\u001b[0m \u001b[0;32mnot\u001b[0m \u001b[0mnp\u001b[0m\u001b[0;34m.\u001b[0m\u001b[0mall\u001b[0m\u001b[0;34m(\u001b[0m\u001b[0mnp\u001b[0m\u001b[0;34m.\u001b[0m\u001b[0misfinite\u001b[0m\u001b[0;34m(\u001b[0m\u001b[0;34m[\u001b[0m\u001b[0mfirst_edge\u001b[0m\u001b[0;34m,\u001b[0m \u001b[0mlast_edge\u001b[0m\u001b[0;34m]\u001b[0m\u001b[0;34m)\u001b[0m\u001b[0;34m)\u001b[0m\u001b[0;34m:\u001b[0m\u001b[0;34m\u001b[0m\u001b[0m\n\u001b[1;32m    669\u001b[0m         raise ValueError(\n\u001b[0;32m--> 670\u001b[0;31m             'range parameter must be finite.')\n\u001b[0m\u001b[1;32m    671\u001b[0m     \u001b[0;32mif\u001b[0m \u001b[0mfirst_edge\u001b[0m \u001b[0;34m==\u001b[0m \u001b[0mlast_edge\u001b[0m\u001b[0;34m:\u001b[0m\u001b[0;34m\u001b[0m\u001b[0m\n\u001b[1;32m    672\u001b[0m         \u001b[0mfirst_edge\u001b[0m \u001b[0;34m-=\u001b[0m \u001b[0;36m0.5\u001b[0m\u001b[0;34m\u001b[0m\u001b[0m\n",
      "\u001b[0;31mValueError\u001b[0m: range parameter must be finite."
     ]
    },
    {
     "data": {
      "image/png": "[encoded data removed]",
      "text/plain": [
       "<Figure size 432x288 with 1 Axes>"
      ]
     },
     "metadata": {},
     "output_type": "display_data"
    }
   ],
   "source": [
    "def histPlot(sumRate1,sumRate2, label=['DNN', 'IWF']):\n",
    "#     plt.figure('%d'%K)\n",
    "    plt.style.use('seaborn-deep')\n",
    "    data = np.vstack([sumRate1, sumRate2]).T\n",
    "    bins = np.linspace(0, max(sumRate2),50)\n",
    "    plt.hist(data, bins, alpha=0.7, label=label)\n",
    "#     plt.legend(loc='upper right')\n",
    "    plt.xlim([0, 5])\n",
    "    plt.xlabel('sum-rate')\n",
    "    plt.ylabel('number of samples')\n",
    "    #     plt.savefig('Histogram_%d.eps'%K, format='eps', dpi=1000)\n",
    "    plt.show()\n",
    "    return 0\n",
    "plt.figure(2)\n",
    "plt.subplot(211)\n",
    "plt.title('Hist AnalysisTest')\n",
    "histPlot(nnsumRate,IWFsumRate, ['DNNTest', 'IWFTest'])\n",
    "plt.subplot(212)\n",
    "plt.title('Hist Analysis_Train')\n",
    "histPlot(nnSRTrain,IWFSRTrain, ['DNNTrain', 'IWFTrain'])\n",
    "\n"
   ]
  },
  {
   "cell_type": "code",
   "execution_count": 82,
   "metadata": {},
   "outputs": [
    {
     "name": "stdout",
     "output_type": "stream",
     "text": [
      "Sum-rate: IWF: 3.114, DNN: 0.134\n",
      "Ratio: DNN: 4.315%\n",
      "\n",
      "Sum-rate: IWF: nan, DNN: 1.924\n",
      "Ratio: DNN: nan%\n",
      "\n"
     ]
    },
    {
     "data": {
      "text/plain": [
       "0"
      ]
     },
     "execution_count": 82,
     "metadata": {},
     "output_type": "execute_result"
    }
   ],
   "source": [
    "def performance(sumRate1,sumRate2, num):\n",
    "# sumRate1, IWF; sumRate2, NN\n",
    "    print('Sum-rate: IWF: %0.3f, DNN: %0.3f'%(sum(sumRate1)/num, sum(sumRate2)/num))\n",
    "    print('Ratio: DNN: %0.3f%%\\n' % (sum(sumRate2) / sum(sumRate1)* 100))\n",
    "    return 0\n",
    "performance(IWFsumRate, nnsumRate, 10000)\n",
    "performance(IWFSRTrain, nnSRTrain, 10000)"
   ]
  },
  {
   "cell_type": "code",
   "execution_count": null,
   "metadata": {},
   "outputs": [],
   "source": []
  }
 ],
 "metadata": {
  "kernelspec": {
   "display_name": "Python 3",
   "language": "python",
   "name": "python3"
  },
  "language_info": {
   "codemirror_mode": {
    "name": "ipython",
    "version": 3
   },
   "file_extension": ".py",
   "mimetype": "text/x-python",
   "name": "python",
   "nbconvert_exporter": "python",
   "pygments_lexer": "ipython3",
   "version": "3.6.6"
  }
 },
 "nbformat": 4,
 "nbformat_minor": 2
}
