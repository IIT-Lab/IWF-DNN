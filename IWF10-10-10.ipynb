{
 "cells": [
  {
   "cell_type": "markdown",
   "metadata": {},
   "source": [
    "# M=10 ，N=10, K=10"
   ]
  },
  {
   "cell_type": "code",
   "execution_count": 1,
   "metadata": {},
   "outputs": [
    {
     "name": "stdout",
     "output_type": "stream",
     "text": [
      "/Users/user/Desktop/IWF-DNN/data2DComplex\n"
     ]
    },
    {
     "name": "stderr",
     "output_type": "stream",
     "text": [
      "/Users/user/anaconda2/envs/haha/lib/python3.6/site-packages/sklearn/cross_validation.py:41: DeprecationWarning: This module was deprecated in version 0.18 in favor of the model_selection module into which all the refactored classes and functions are moved. Also note that the interface of the new CV iterators are different from that of this module. This module will be removed in 0.20.\n",
      "  \"This module will be removed in 0.20.\", DeprecationWarning)\n"
     ]
    }
   ],
   "source": [
    "%cd /Users/user/Desktop/IWF-DNN/data2DComplex\n",
    "%pwd\n",
    "import os\n",
    "import tensorflow as tf\n",
    "import numpy as np\n",
    "import pandas as pd\n",
    "import matplotlib.pyplot as plt\n",
    "from __future__ import print_function\n",
    "import scipy.io as sio\n",
    "import time\n",
    "from sklearn.cross_validation import train_test_split\n",
    "%matplotlib inline"
   ]
  },
  {
   "cell_type": "code",
   "execution_count": 14,
   "metadata": {},
   "outputs": [],
   "source": [
    "DateLocation='MIMO50000_4_4_10.mat'\n",
    "Data = sio.loadmat(DateLocation)#load data\n",
    "Xdata=Data['X']\n",
    "Ydata=Data['Y']\n",
    "Xdata = np.transpose(Xdata)\n",
    "Ydata = np.transpose(Ydata)\n",
    "X = np.column_stack((np.real(Xdata), np.imag(Xdata)))\n",
    "Y = np.column_stack((np.real(Ydata), np.imag(Ydata)))\n",
    "x_train, x_val ,y_train, y_val= train_test_split(X, Y, test_size=0.3)"
   ]
  },
  {
   "cell_type": "code",
   "execution_count": 24,
   "metadata": {},
   "outputs": [
    {
     "data": {
      "text/plain": [
       "array([ 2.73210749e-03,  3.89357618e-03,  2.54280978e-03,  4.26530673e-04,\n",
       "        3.89357618e-03,  5.78653176e-03,  3.64292992e-03,  5.13484376e-04,\n",
       "        2.54280978e-03,  3.64292992e-03,  2.36837513e-03,  3.89582661e-04,\n",
       "        4.26530673e-04,  5.13484376e-04,  3.89582661e-04,  1.04790712e-04,\n",
       "        1.50248136e-02,  2.41149937e-02,  4.33841620e-02,  6.56745717e-02,\n",
       "        2.41149937e-02,  3.89418380e-02,  7.27006459e-02,  1.02752403e-01,\n",
       "        4.33841620e-02,  7.27006459e-02,  1.65154156e-01,  1.55049632e-01,\n",
       "        6.56745717e-02,  1.02752403e-01,  1.55049632e-01,  3.17371436e-01,\n",
       "        3.98811463e-02, -1.24617076e-02, -6.14866746e-02, -1.14533030e-01,\n",
       "       -1.24617076e-02,  2.45927375e-01, -7.12488385e-02,  2.23706304e-01,\n",
       "       -6.14866746e-02, -7.12488385e-02,  1.28614658e-01,  1.06350006e-01,\n",
       "       -1.14533030e-01,  2.23706304e-01,  1.06350006e-01,  4.74830223e-01,\n",
       "        1.50037285e-01,  6.84125992e-02,  1.39144084e-01,  4.30741228e-01,\n",
       "        6.84125992e-02,  4.74415621e-01, -3.19902308e-01,  7.08401544e-01,\n",
       "        1.39144084e-01, -3.19902308e-01,  4.60610193e-01, -4.33563348e-02,\n",
       "        4.30741228e-01,  7.08401544e-01, -4.33563348e-02,  1.82806649e+00,\n",
       "        0.00000000e+00,  0.00000000e+00,  0.00000000e+00,  0.00000000e+00,\n",
       "        0.00000000e+00,  0.00000000e+00,  0.00000000e+00,  0.00000000e+00,\n",
       "        0.00000000e+00,  0.00000000e+00,  0.00000000e+00,  0.00000000e+00,\n",
       "        0.00000000e+00,  0.00000000e+00,  0.00000000e+00,  0.00000000e+00,\n",
       "        1.53810169e+00, -3.36119898e-01,  9.63878624e-01,  1.80403274e+00,\n",
       "       -3.36119898e-01,  1.02112105e+00, -1.24669876e+00,  1.09335891e+00,\n",
       "        9.63878624e-01, -1.24669876e+00,  1.73674871e+00, -4.95811719e-01,\n",
       "        1.80403274e+00,  1.09335891e+00, -4.95811719e-01,  4.45107857e+00,\n",
       "        8.36493027e+00, -1.82705617e+00,  1.01616259e+00, -2.94812343e+00,\n",
       "       -1.82705617e+00,  4.09227760e-01, -1.64340194e-01,  7.78724180e-01,\n",
       "        1.01616259e+00, -1.64340194e-01,  4.51175842e-01,  4.08050748e-01,\n",
       "       -2.94812343e+00,  7.78724180e-01,  4.08050748e-01,  2.83062713e+00,\n",
       "        0.00000000e+00,  0.00000000e+00,  0.00000000e+00,  0.00000000e+00,\n",
       "        0.00000000e+00,  0.00000000e+00,  0.00000000e+00,  0.00000000e+00,\n",
       "        0.00000000e+00,  0.00000000e+00,  0.00000000e+00,  0.00000000e+00,\n",
       "        0.00000000e+00,  0.00000000e+00,  0.00000000e+00,  0.00000000e+00,\n",
       "        9.42809409e-01,  2.82147947e+00,  5.19461295e-01, -3.84902985e-01,\n",
       "        2.82147947e+00,  8.57074209e+00,  1.94945906e+00, -1.06148444e+00,\n",
       "        5.19461295e-01,  1.94945906e+00,  2.39076275e+00,  4.65864617e-01,\n",
       "       -3.84902985e-01, -1.06148444e+00,  4.65864617e-01,  4.29833169e-01,\n",
       "        1.46370171e+00, -7.77901703e-01, -2.68408438e+00,  1.18539853e+00,\n",
       "       -7.77901703e-01,  1.70859731e+00, -2.57943450e-01, -1.86095851e+00,\n",
       "       -2.68408438e+00, -2.57943450e-01,  7.20552653e+00, -5.77369794e-01,\n",
       "        1.18539853e+00, -1.86095851e+00, -5.77369794e-01,  2.13514898e+00,\n",
       "        2.64274280e-19,  8.04613600e-04,  6.36203525e-05, -3.21092392e-04,\n",
       "       -8.04613600e-04,  2.38524478e-18, -6.58355804e-04, -5.83473380e-04,\n",
       "       -6.36203525e-05,  6.58355804e-04,  3.25260652e-19, -3.08949924e-04,\n",
       "        3.21092392e-04,  5.83473380e-04,  3.08949924e-04, -3.33730981e-19,\n",
       "       -7.69783542e-18,  1.87740619e-03,  2.44576879e-02, -2.12682575e-02,\n",
       "       -1.87740619e-03,  1.51788304e-18,  3.38308620e-02, -4.23636040e-02,\n",
       "       -2.44576879e-02, -3.38308620e-02, -3.46944695e-17, -1.68430173e-01,\n",
       "        2.12682575e-02,  4.23636040e-02,  1.68430173e-01,  3.46944695e-17,\n",
       "        2.08166817e-17,  9.82469804e-02, -3.67207868e-02,  7.62791451e-02,\n",
       "       -9.82469804e-02,  3.26128013e-16,  1.62950353e-01,  2.58318712e-01,\n",
       "        3.67207868e-02, -1.62950353e-01,  4.51028104e-17, -2.23068238e-01,\n",
       "       -7.62791451e-02, -2.58318712e-01,  2.23068238e-01,  4.40619763e-16,\n",
       "       -4.85722573e-17, -2.57872735e-01,  2.23039416e-01, -2.97885560e-01,\n",
       "        2.57872735e-01, -5.27355937e-16,  3.40856312e-01,  6.04508250e-01,\n",
       "       -2.23039416e-01, -3.40856312e-01, -1.80411242e-16, -9.16594876e-01,\n",
       "        2.97885560e-01, -6.04508250e-01,  9.16594876e-01, -7.49400542e-16,\n",
       "        0.00000000e+00,  0.00000000e+00,  0.00000000e+00,  0.00000000e+00,\n",
       "        0.00000000e+00,  0.00000000e+00,  0.00000000e+00,  0.00000000e+00,\n",
       "        0.00000000e+00,  0.00000000e+00,  0.00000000e+00,  0.00000000e+00,\n",
       "        0.00000000e+00,  0.00000000e+00,  0.00000000e+00,  0.00000000e+00,\n",
       "       -1.20459198e-14, -1.20730993e+00,  1.31993231e+00, -1.89515818e+00,\n",
       "        1.20730993e+00, -9.76996262e-15,  4.68147018e-01,  1.83020206e+00,\n",
       "       -1.31993231e+00, -4.68147018e-01, -1.50990331e-14, -2.73579397e+00,\n",
       "        1.89515818e+00, -1.83020206e+00,  2.73579397e+00, -4.05786516e-14,\n",
       "        1.82909243e-14,  2.91144799e-01,  1.65566395e+00,  3.87104751e+00,\n",
       "       -2.91144799e-01,  1.17961196e-15, -3.96971053e-01, -7.42861008e-01,\n",
       "       -1.65566395e+00,  3.96971053e-01,  2.22044605e-16,  1.05369717e+00,\n",
       "       -3.87104751e+00,  7.42861008e-01, -1.05369717e+00,  1.25455202e-14,\n",
       "        0.00000000e+00,  0.00000000e+00,  0.00000000e+00,  0.00000000e+00,\n",
       "        0.00000000e+00,  0.00000000e+00,  0.00000000e+00,  0.00000000e+00,\n",
       "        0.00000000e+00,  0.00000000e+00,  0.00000000e+00,  0.00000000e+00,\n",
       "        0.00000000e+00,  0.00000000e+00,  0.00000000e+00,  0.00000000e+00,\n",
       "       -3.05311332e-16, -2.74697857e-01, -1.39300749e+00, -4.61735634e-01,\n",
       "        2.74697857e-01, -4.35762537e-15, -4.06277406e+00, -1.47880937e+00,\n",
       "        1.39300749e+00,  4.06277406e+00, -1.49880108e-15, -8.69336307e-01,\n",
       "        4.61735634e-01,  1.47880937e+00,  8.69336307e-01,  2.52575738e-15,\n",
       "       -6.93889390e-15,  1.36912522e+00, -1.80449052e+00, -1.29298516e+00,\n",
       "       -1.36912522e+00,  1.99840144e-15,  3.49866210e+00, -4.17895836e-01,\n",
       "        1.80449052e+00, -3.49866210e+00,  0.00000000e+00,  3.87619964e+00,\n",
       "        1.29298516e+00,  4.17895836e-01, -3.87619964e+00,  4.88498131e-15])"
      ]
     },
     "execution_count": 24,
     "metadata": {},
     "output_type": "execute_result"
    }
   ],
   "source": [
    "y_train[1,:]\n"
   ]
  },
  {
   "cell_type": "code",
   "execution_count": 15,
   "metadata": {},
   "outputs": [],
   "source": [
    "from sklearn.preprocessing import StandardScaler  \n",
    "scaler = StandardScaler()  \n",
    "# Don't cheat - fit only on training data\n",
    "scaler.fit(x_train)  \n",
    "x_train = scaler.transform(x_train)  \n",
    "x_val = scaler.transform(x_val)  \n",
    "# Xtest = scaler.transform(Xtest)  "
   ]
  },
  {
   "cell_type": "code",
   "execution_count": null,
   "metadata": {},
   "outputs": [],
   "source": [
    "tf.reshape(y_prey[i,:],[M,N,K])      "
   ]
  },
  {
   "cell_type": "code",
   "execution_count": 16,
   "metadata": {},
   "outputs": [
    {
     "name": "stderr",
     "output_type": "stream",
     "text": [
      "/Users/user/anaconda2/envs/haha/lib/python3.6/site-packages/sklearn/neural_network/multilayer_perceptron.py:564: ConvergenceWarning: Stochastic Optimizer: Maximum iterations (100) reached and the optimization hasn't converged yet.\n",
      "  % self.max_iter, ConvergenceWarning)\n"
     ]
    },
    {
     "data": {
      "text/plain": [
       "MLPRegressor(activation='relu', alpha=1e-05, batch_size='auto', beta_1=0.9,\n",
       "       beta_2=0.999, early_stopping=False, epsilon=1e-08,\n",
       "       hidden_layer_sizes=(200, 80, 80), learning_rate='constant',\n",
       "       learning_rate_init=0.001, max_iter=100, momentum=0.9,\n",
       "       nesterovs_momentum=True, power_t=0.5, random_state=1, shuffle=True,\n",
       "       solver='sgd', tol=0.0001, validation_fraction=0.1, verbose=False,\n",
       "       warm_start=False)"
      ]
     },
     "execution_count": 16,
     "metadata": {},
     "output_type": "execute_result"
    }
   ],
   "source": [
    "from sklearn.cross_validation import train_test_split\n",
    "from sklearn.neural_network import MLPClassifier,MLPRegressor\n",
    "MNK10Model=MLPRegressor(activation='relu', learning_rate_init=0.001 ,solver='sgd',max_iter=100\n",
    "                    ,alpha=1e-5,hidden_layer_sizes=(200,80,80), random_state=1)\n",
    "MNK10Model.fit(x_train, y_train)"
   ]
  },
  {
   "cell_type": "code",
   "execution_count": 19,
   "metadata": {},
   "outputs": [],
   "source": [
    "import time\n",
    "def test(X, model_location, save_name, n_input, n_output, n_hidden_1 = 200, n_hidden_2 = 80, n_hidden_3 = 80, n_hidden_4 = 40,binary=0):\n",
    "    tf.reset_default_graph()\n",
    "    x = tf.placeholder(\"float\", [None, n_input])\n",
    "    is_train = tf.placeholder(\"bool\")\n",
    "    input_keep_prob = tf.placeholder(tf.float32)\n",
    "    hidden_keep_prob = tf.placeholder(tf.float32)\n",
    "    weights, biases = ini_weights4(n_input, n_hidden_1, n_hidden_2, n_hidden_3, n_hidden_4, n_output)\n",
    "    pred = multilayer_perceptron4(x, weights, biases, input_keep_prob, hidden_keep_prob)\n",
    "    saver = tf.train.Saver()\n",
    "    with tf.Session() as sess:\n",
    "        saver.restore(sess, model_location)\n",
    "        start_time = time.time()\n",
    "        y_pred = sess.run(pred, feed_dict={x: X, input_keep_prob: 1, hidden_keep_prob: 1, is_train: False})\n",
    "        testtime = time.time() - start_time\n",
    "        # print(\"testing time: %0.2f s\" % testtime)\n",
    "        if binary==1:\n",
    "            y_pred[y_pred >= 0.5] = 1\n",
    "            y_pred[y_pred < 0.5] = 0\n",
    "        sio.savemat(save_name, {'pred': y_pred})\n",
    "    return y_pred\n",
    "\n",
    "def DABtoComplex(XX, dim):\n",
    "    size=XX.shape[1]\n",
    "    X=np.empty( (XX.shape[0], dim), dtype= np.complex128 )\n",
    "    X.real[:,:]=XX[:,0:dim]\n",
    "    X.imag[:,:]=XX[:,dim:2*dim]\n",
    "    return X\n",
    "def obj_sum_rate(xtest, y_pred,M,N,K, samples):\n",
    "    # H ： sampels*12\n",
    "    sum_rate=[]\n",
    "    for i in range(samples):\n",
    "        rate_nn=0\n",
    "        H=np.reshape(xtest[i,:],[K,M,N])\n",
    "        pnn=np.reshape(y_pred[i,:],[K,M,N])      \n",
    "        for j in range(K):\n",
    "            if j==i:\n",
    "                rate_nn = rate_nn+np.real(np.log2(np.linalg.det(np.eye(M)+H[j,:,:] * pnn[j,:,:] * np.transpose(H[j,:,:]))))\n",
    "            else:\n",
    "                pnn[j,:,:]=pnn[j,:,:]+pnn[j-1,:,:]\n",
    "                rate_nn = rate_nn+np.real(np.log2(np.linalg.det(np.eye(M)+H[j,:,:] * pnn[j,:,:] * np.transpose(H[j,:,:]))/np.linalg.det((np.eye(M)+H[j,:,:] * pnn[j-1,:,:] * np.transpose(H[j,:,:])))))\n",
    "        sum_rate.append(rate_nn)\n",
    "    return sum_rate\n",
    "\n",
    "\n",
    "\n",
    "def CDF_Plot(sumRate1, sumRate2, label1= 'DNN', label2= 'IWF'):\n",
    "    a = np.array(sumRate1) # your array of numbers\n",
    "    num_bins1 = np.linspace(0, max(sumRate1), 50)\n",
    "    counts1, bin_edges1 = np.histogram(a, bins='auto', normed=True)\n",
    "    cdf1 = np.cumsum(counts1*np.diff(bin_edges1))\n",
    "\n",
    "    b = np.array(sumRate2) # your array of numbers\n",
    "    num_bins2 = np.linspace(0, max(sumRate2), 50)\n",
    "    counts2, bin_edges2 = np.histogram(b, bins='auto', normed=True)\n",
    "    cdf2 = np.cumsum(counts2*np.diff(bin_edges2))\n",
    "    \n",
    "    plt.xlabel('sum-rate')\n",
    "    plt.plot(bin_edges1[1:], cdf1, color='black', label=label1)\n",
    "    plt.plot(bin_edges2[1:],cdf2,color='red', label=label2)\n",
    "    plt.legend()\n",
    "    return 0\n",
    "\n",
    "def histPlot(sumRate1,sumRate2, label=['DNN', 'IWF']):\n",
    "#     plt.figure('%d'%K)\n",
    "    plt.style.use('seaborn-deep')\n",
    "    data = np.vstack([sumRate1, sumRate2]).T\n",
    "    bins = np.linspace(0, max(sumRate2),50)\n",
    "    plt.hist(data, bins, alpha=0.7, label=label)\n",
    "#     plt.legend(loc='upper right')\n",
    "    plt.xlim([0, 1])\n",
    "    plt.xlabel('sum-rate')\n",
    "    plt.ylabel('number of samples')\n",
    "    #     plt.savefig('Histogram_%d.eps'%K, format='eps', dpi=1000)\n",
    "    plt.show()\n",
    "    return 0\n",
    "def performance(sumRate1,sumRate2, num):\n",
    "# sumRate1, IWF; sumRate2, NN\n",
    "    print('Sum-rate: IWF: %0.3f, DNN: %0.3f'%(sum(sumRate1)/num, sum(sumRate2)/num))\n",
    "    print('Ratio: DNN: %0.3f%%\\n' % (sum(sumRate2) / sum(sumRate1)* 100))\n",
    "    return 0\n",
    "\n",
    "def testPerformance(model_location, save_name, n_input, n_output,dim, M, N, K,samples):\n",
    "    ypred=test(Xtest, model_location, save_name+'%s'%('test'), n_input,n_output, binary=0)\n",
    "    trainPred=test(x_train, model_location, save_name+\"%s\"%('train'), n_input,n_output, binary=0)\n",
    "    valPred=test(x_val, model_location, save_name+\"%s\"%('val'), n_input,n_output, binary=0)\n",
    "    x=DABtoComplex(X,dim)\n",
    "    xtest=DABtoComplex(Xtest,dim)\n",
    "    ytest=DABtoComplex(Ytest,dim)\n",
    "    ypred=DABtoComplex(ypred,dim)\n",
    "\n",
    "    # train & val\n",
    "    xtrain=DABtoComplex(x_train,dim)\n",
    "    ytrain=DABtoComplex(y_train,dim)\n",
    "    trainPred=DABtoComplex(trainPred,dim)\n",
    "    xval=DABtoComplex(x_val,dim)\n",
    "    yval=DABtoComplex(y_val,dim)\n",
    "    valPred=DABtoComplex(valPred,dim)\n",
    "\n",
    "    # test\n",
    "    nnsumRate=obj_sum_rate(xtest, ypred, M, N, K, samples)\n",
    "    IWFsumRate=obj_sum_rate(xtest, ytest, M, N, K, samples)\n",
    "    #trian\n",
    "    nnSRTrain=obj_sum_rate(xtrain, trainPred, M, N, K, samples)\n",
    "    IWFSRTrain=obj_sum_rate(xtrain, ytrain, M, N, K, samples)\n",
    "    # validation\n",
    "    IWFSRVal=obj_sum_rate(xval, yval, M, N, K, samples)\n",
    "    nnSRVal=obj_sum_rate(xval, valPred, M, N, K, samples)\n",
    "\n",
    "    plt.figure(1)\n",
    "    plt.subplot(311)\n",
    "    plt.title('CDF AnalysisTest')\n",
    "    CDF_Plot(nnsumRate,IWFsumRate, 'DNNTest', 'IWFTest')\n",
    "    plt.subplot(312)\n",
    "    plt.title('CDF Analysis_Train')\n",
    "    CDF_Plot(nnSRTrain,IWFSRTrain, 'DNNTrain', 'IWFTrain')\n",
    "    plt.subplot(313)\n",
    "    plt.title('CDF Analysis_val')\n",
    "    CDF_Plot(nnSRVal,IWFSRVal, 'DNNVal', 'IWFVal')\n",
    "    \n",
    "    plt.figure(2)\n",
    "    plt.subplot(211)\n",
    "    plt.title('Hist AnalysisTest')\n",
    "    histPlot(nnsumRate,IWFsumRate, ['DNNTest', 'IWFTest'])\n",
    "    plt.subplot(212)\n",
    "    plt.title('Hist Analysis_Train')\n",
    "    histPlot(nnSRTrain,IWFSRTrain, ['DNNTrain', 'IWFTrain'])\n",
    "    \n",
    "    performance(IWFsumRate, nnsumRate, samples)\n",
    "    performance(IWFSRTrain, nnSRTrain, samples)\n",
    "    return 0\n",
    "    "
   ]
  },
  {
   "cell_type": "code",
   "execution_count": 20,
   "metadata": {},
   "outputs": [
    {
     "data": {
      "image/png": "[encoded data removed]",
      "text/plain": [
       "<Figure size 432x288 with 2 Axes>"
      ]
     },
     "metadata": {},
     "output_type": "display_data"
    },
    {
     "data": {
      "image/png": "[encoded data removed]",
      "text/plain": [
       "<Figure size 432x288 with 1 Axes>"
      ]
     },
     "metadata": {},
     "output_type": "display_data"
    },
    {
     "data": {
      "image/png": "[encoded data removed]",
      "text/plain": [
       "<Figure size 432x288 with 1 Axes>"
      ]
     },
     "metadata": {},
     "output_type": "display_data"
    },
    {
     "name": "stdout",
     "output_type": "stream",
     "text": [
      "Sum-rate: IWF: 0.360, DNN: 0.162\n",
      "Ratio: DNN: 45.076%\n",
      "\n",
      "Sum-rate: IWF: 0.379, DNN: 0.153\n",
      "Ratio: DNN: 40.196%\n",
      "\n"
     ]
    },
    {
     "data": {
      "text/plain": [
       "0"
      ]
     },
     "execution_count": 20,
     "metadata": {},
     "output_type": "execute_result"
    }
   ],
   "source": [
    "# M=4 N=4,K=10 and SumPower=50(low)\n",
    "# NN_y_train_pre_proba=T6_NN.predict_proba(T6_X_train)\n",
    "trainPred=MNK10Model.predict(x_train)\n",
    "\n",
    "# NN_y_test_pre_proba=T6_NN.predict_proba(T6_X_test)\n",
    "valPred=MNK10Model.predict(x_val)\n",
    "D=12\n",
    "# x=DABtoComplex(X,12)\n",
    "# xtest=DABtoComplex(Xtest,12)\n",
    "# ytest=DABtoComplex(Ytest,12)\n",
    "# ypred=DABtoComplex(ypred,12)\n",
    "\n",
    "# train & val\n",
    "xtrain=DABtoComplex(x_train,12)\n",
    "ytrain=DABtoComplex(y_train,12)\n",
    "trainPred=DABtoComplex(trainPred,12)\n",
    "xval=DABtoComplex(x_val,12)\n",
    "yval=DABtoComplex(y_val,12)\n",
    "valPred=DABtoComplex(valPred,12)\n",
    "\n",
    "# test\n",
    "# nnsumRate=obj_sum_rate(xtest, ypred,2,2,3, 10000)\n",
    "# IWFsumRate=obj_sum_rate(xtest, ytest,2,2,3, 10000)\n",
    "#trian\n",
    "nnSRTrain=obj_sum_rate(xtrain, trainPred,2,2,3, 35000)\n",
    "IWFSRTrain=obj_sum_rate(xtrain, ytrain,2,2,3, 35000)\n",
    "# validation\n",
    "IWFSRVal=obj_sum_rate(xval, yval,2,2,3, 15000)\n",
    "nnSRVal=obj_sum_rate(xval, valPred,2,2,3, 15000)\n",
    "\n",
    "# print(len(nnsumRate))\n",
    "# print(len(IWFsumRate))\n",
    "plt.figure(1)\n",
    "plt.subplot(311)\n",
    "plt.title('CDF AnalysisTest')\n",
    "CDF_Plot(nnSRVal,IWFSRVal, 'DNNTest', 'IWFTest')\n",
    "plt.subplot(312)\n",
    "plt.title('CDF Analysis_Train')\n",
    "CDF_Plot(nnSRTrain,IWFSRTrain, 'DNNTrain', 'IWFTrain')\n",
    "\n",
    "plt.figure(2)\n",
    "plt.subplot(211)\n",
    "plt.title('Hist AnalysisTest')\n",
    "histPlot(nnSRVal,IWFSRVal, ['DNNTest', 'IWFTest'])\n",
    "plt.subplot(212)\n",
    "plt.title('Hist Analysis_Train')\n",
    "histPlot(nnSRTrain,IWFSRTrain, ['DNNTrain', 'IWFTrain'])\n",
    "\n",
    "performance(IWFSRVal, nnSRVal, 15000)\n",
    "performance(IWFSRTrain, nnSRTrain, 35000)"
   ]
  },
  {
   "cell_type": "code",
   "execution_count": 21,
   "metadata": {},
   "outputs": [
    {
     "data": {
      "image/png": "[encoded data removed]",
      "text/plain": [
       "<Figure size 432x288 with 2 Axes>"
      ]
     },
     "metadata": {},
     "output_type": "display_data"
    },
    {
     "data": {
      "image/png": "[encoded data removed]",
      "text/plain": [
       "<Figure size 432x288 with 1 Axes>"
      ]
     },
     "metadata": {},
     "output_type": "display_data"
    },
    {
     "data": {
      "image/png": "[encoded data removed]",
      "text/plain": [
       "<Figure size 432x288 with 1 Axes>"
      ]
     },
     "metadata": {},
     "output_type": "display_data"
    },
    {
     "name": "stdout",
     "output_type": "stream",
     "text": [
      "Sum-rate: IWF: 0.360, DNN: 0.162\n",
      "Ratio: DNN: 45.076%\n",
      "\n",
      "Sum-rate: IWF: 0.379, DNN: 0.153\n",
      "Ratio: DNN: 40.196%\n",
      "\n"
     ]
    },
    {
     "data": {
      "text/plain": [
       "0"
      ]
     },
     "execution_count": 21,
     "metadata": {},
     "output_type": "execute_result"
    }
   ],
   "source": [
    "# M=10,N=10,K=10 and SumPower=10(low)\n",
    "# NN_y_train_pre_proba=T6_NN.predict_proba(T6_X_train)\n",
    "trainPred=MNK10Model.predict(x_train)\n",
    "\n",
    "# NN_y_test_pre_proba=T6_NN.predict_proba(T6_X_test)\n",
    "valPred=MNK10Model.predict(x_val)\n",
    "D=12\n",
    "# x=DABtoComplex(X,12)\n",
    "# xtest=DABtoComplex(Xtest,12)\n",
    "# ytest=DABtoComplex(Ytest,12)\n",
    "# ypred=DABtoComplex(ypred,12)\n",
    "\n",
    "# train & val\n",
    "xtrain=DABtoComplex(x_train,12)\n",
    "ytrain=DABtoComplex(y_train,12)\n",
    "trainPred=DABtoComplex(trainPred,12)\n",
    "xval=DABtoComplex(x_val,12)\n",
    "yval=DABtoComplex(y_val,12)\n",
    "valPred=DABtoComplex(valPred,12)\n",
    "\n",
    "# test\n",
    "# nnsumRate=obj_sum_rate(xtest, ypred,2,2,3, 10000)\n",
    "# IWFsumRate=obj_sum_rate(xtest, ytest,2,2,3, 10000)\n",
    "#trian\n",
    "nnSRTrain=obj_sum_rate(xtrain, trainPred,2,2,3, 35000)\n",
    "IWFSRTrain=obj_sum_rate(xtrain, ytrain,2,2,3, 35000)\n",
    "# validation\n",
    "IWFSRVal=obj_sum_rate(xval, yval,2,2,3, 15000)\n",
    "nnSRVal=obj_sum_rate(xval, valPred,2,2,3, 15000)\n",
    "\n",
    "# print(len(nnsumRate))\n",
    "# print(len(IWFsumRate))\n",
    "plt.figure(1)\n",
    "plt.subplot(311)\n",
    "plt.title('CDF AnalysisTest')\n",
    "CDF_Plot(nnSRVal,IWFSRVal, 'DNNTest', 'IWFTest')\n",
    "plt.subplot(312)\n",
    "plt.title('CDF Analysis_Train')\n",
    "CDF_Plot(nnSRTrain,IWFSRTrain, 'DNNTrain', 'IWFTrain')\n",
    "\n",
    "plt.figure(2)\n",
    "plt.subplot(211)\n",
    "plt.title('Hist AnalysisTest')\n",
    "histPlot(nnSRVal,IWFSRVal, ['DNNTest', 'IWFTest'])\n",
    "plt.subplot(212)\n",
    "plt.title('Hist Analysis_Train')\n",
    "histPlot(nnSRTrain,IWFSRTrain, ['DNNTrain', 'IWFTrain'])\n",
    "\n",
    "performance(IWFSRVal, nnSRVal, 15000)\n",
    "performance(IWFSRTrain, nnSRTrain, 35000)"
   ]
  },
  {
   "cell_type": "code",
   "execution_count": null,
   "metadata": {},
   "outputs": [],
   "source": []
  }
 ],
 "metadata": {
  "kernelspec": {
   "display_name": "Python 3",
   "language": "python",
   "name": "python3"
  },
  "language_info": {
   "codemirror_mode": {
    "name": "ipython",
    "version": 3
   },
   "file_extension": ".py",
   "mimetype": "text/x-python",
   "name": "python",
   "nbconvert_exporter": "python",
   "pygments_lexer": "ipython3",
   "version": "3.6.6"
  }
 },
 "nbformat": 4,
 "nbformat_minor": 2
}
