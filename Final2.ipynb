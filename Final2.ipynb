{
 "cells": [
  {
   "cell_type": "code",
   "execution_count": 1,
   "metadata": {},
   "outputs": [
    {
     "name": "stdout",
     "output_type": "stream",
     "text": [
      "/Users/user/Desktop/IWF-DNN/data2DComplex\n"
     ]
    },
    {
     "name": "stderr",
     "output_type": "stream",
     "text": [
      "Using TensorFlow backend.\n",
      "/Users/user/anaconda2/envs/haha/lib/python3.6/site-packages/sklearn/cross_validation.py:41: DeprecationWarning: This module was deprecated in version 0.18 in favor of the model_selection module into which all the refactored classes and functions are moved. Also note that the interface of the new CV iterators are different from that of this module. This module will be removed in 0.20.\n",
      "  \"This module will be removed in 0.20.\", DeprecationWarning)\n"
     ]
    }
   ],
   "source": [
    "%cd /Users/user/Desktop/IWF-DNN/data2DComplex # need cd(command)  to the directory of training dataset\n",
    "%pwd\n",
    "import os\n",
    "import tensorflow as tf\n",
    "import numpy as np\n",
    "import pandas as pd\n",
    "import matplotlib.pyplot as plt\n",
    "from __future__ import print_function\n",
    "import scipy.io as sio\n",
    "import time\n",
    "import keras\n",
    "from sklearn.cross_validation import train_test_split\n",
    "%matplotlib inline\n",
    "from keras.models import Sequential\n",
    "from keras.layers import Dense\n",
    "from keras.wrappers.scikit_learn import KerasRegressor\n",
    "from sklearn.model_selection import cross_val_score\n",
    "from sklearn.model_selection import KFold\n",
    "from sklearn.preprocessing import StandardScaler\n",
    "from sklearn.pipeline import Pipeline"
   ]
  },
  {
   "cell_type": "markdown",
   "metadata": {},
   "source": [
    "# Import Dataset"
   ]
  },
  {
   "cell_type": "code",
   "execution_count": 2,
   "metadata": {},
   "outputs": [],
   "source": [
    "DateLocation='MIMO100000_3.mat'\n",
    "Data = sio.loadmat(DateLocation)#load data\n",
    "Xdata=Data['X']\n",
    "Ydata=Data['Y']\n",
    "Xdata = np.transpose(Xdata) #transpose x(complex number in matlab format)-->10000*12\n",
    "Ydata = np.transpose(Ydata) # shape 10000*12\n",
    "X = np.column_stack((np.real(Xdata), np.imag(Xdata))) # change complex number to real part and imaginary part\n",
    "Y = np.column_stack((np.real(Ydata), np.imag(Ydata)))\n",
    "x_train, x_val ,y_train, y_val= train_test_split(X, Y, test_size=0.1) # divide data X,Y into training and validation \n",
    "DateLocation2='MIMO5000_3.mat' # import test dataset\n",
    "DataTest10000 = sio.loadmat(DateLocation2)#load data\n",
    "Xtest=DataTest10000['X']\n",
    "Xtest = np.transpose(Xtest)\n",
    "Ytest=DataTest10000['Y']\n",
    "Ytest = np.transpose(Ytest)\n",
    "Xtest = np.column_stack((np.real(Xtest), np.imag(Xtest)))\n",
    "Ytest = np.column_stack((np.real(Ytest), np.imag(Ytest)))"
   ]
  },
  {
   "cell_type": "code",
   "execution_count": 3,
   "metadata": {},
   "outputs": [],
   "source": [
    "dictData={}# set up a dictionary to store the training errors and validation errors "
   ]
  },
  {
   "cell_type": "code",
   "execution_count": 4,
   "metadata": {},
   "outputs": [],
   "source": [
    "# A funciton to plot training errors and validation errors for each epoch\n",
    "# compare these errors when use different model parameters\n",
    "def plot_whole(dict_data):\n",
    "    fig_1 = plt.figure(figsize=(16,5))# setup a figure \n",
    "    ax_1 = fig_1.add_subplot(1,2,1)# two subplot \n",
    "    ax_2 = fig_1.add_subplot(1,2,2)\n",
    "    k =int(0)\n",
    "    for data in dict_data.values():# read data from dictionary which store the train and validation errors\n",
    "        ax_1.plot(np.arange(0,len(data['loss'])),data['loss'], label=list(dict_data.keys())[k])\n",
    "        ax_2.plot(np.arange(0,len(data['val_loss'])),data['val_loss'], label=list(dict_data.keys())[k])\n",
    "        k += 1\n",
    "    ax_1.legend(loc=0)\n",
    "    \n",
    "    ax_2.legend(loc=0)\n",
    "    ax_1.set_xlabel('Epoch number')\n",
    "    ax_1.set_ylabel('error(train)')\n",
    "    ax_2.set_xlabel('Epoch number')\n",
    "    ax_2.set_ylabel('error(valid)')\n",
    "    fig_1.savefig('err.pdf')\n",
    "    return fig_1, ax_1, ax_2"
   ]
  },
  {
   "cell_type": "markdown",
   "metadata": {},
   "source": [
    "###  Calculate sum rate"
   ]
  },
  {
   "cell_type": "code",
   "execution_count": 5,
   "metadata": {},
   "outputs": [],
   "source": [
    "import time\n",
    "def obj_sum_rate(xtest, y_pred,M,N,K, samples):\n",
    "    # H ： sampels*12\n",
    "    sum_rate=[]\n",
    "    for i in range(samples):# calculate the number of samples sum rate\n",
    "        rate_nn=0 # initialize the sum rate of each sample\n",
    "        H=np.reshape(xtest[i,:],[K,M,N])# reshape the 1*12 to 3*2*2\n",
    "                                    # K--user number; M--the number of transmit antenna;N--the number of receive antenna\n",
    "        pnn=np.reshape(y_pred[i,:],[K,M,N])      # pnn is the channel matrix 1*12 -> reshape to 3*2*2 \n",
    "        for j in range(K):\n",
    "            if j==0:\n",
    "                rate_nn = rate_nn+np.real(np.log2( \\\n",
    "                                                  np.linalg.det(np.eye(N)+np.dot(np.dot(H[j,:,:].conj(),np.transpose(pnn[j,:,:])), np.transpose(H[j,:,:])))))\n",
    "            # j means user0,user1,user2\n",
    "            # for user0, $log(det(I+Ht* \\alpha *H))$\n",
    "            else:\n",
    "                pnn[j,:,:]=np.transpose(pnn[j,:,:])+pnn[j-1,:,:]\n",
    "                rate_nn = rate_nn+np.real(np.log2(np.linalg.det(np.eye(N)+np.dot(np.dot(H[j,:,:].conj(), pnn[j,:,:]), np.transpose(H[j,:,:]))) \\\n",
    "                                                  /np.linalg.det((np.eye(N)+np.dot(np.dot(H[j,:,:].conj(),pnn[j-1,:,:]),np.transpose(H[j,:,:]))))))\n",
    "             # the formula of sum-rate    \n",
    "        sum_rate.append(rate_nn)\n",
    "    return sum_rate"
   ]
  },
  {
   "cell_type": "markdown",
   "metadata": {},
   "source": [
    "### Calculate power of each sample-- whether satisfy the restrictions of original algorithm"
   ]
  },
  {
   "cell_type": "code",
   "execution_count": 6,
   "metadata": {},
   "outputs": [],
   "source": [
    "def power(xtest, y_pred,M,N,K, samples):\n",
    "    # H ： sampels*12\n",
    "    powerall=[]\n",
    "    for i in range(samples):# check each sample\n",
    "        power=0\n",
    "        H=np.reshape(xtest[i,:],[K,M,N])# reshape channel matrix H from 1*12 to 3*2*2\n",
    "        pnn=np.reshape(y_pred[i,:],[K,M,N])  # reshape \\alpha  matrix from 1*12 to 3*2*2\n",
    "        for j in range(K):\n",
    "            power=power+np.trace(np.transpose(pnn[j,:,:]))# calculate power: sum(trace of \\alpha  matrix)\n",
    "        powerall.append(np.real(power))\n",
    "    return powerall"
   ]
  },
  {
   "cell_type": "markdown",
   "metadata": {},
   "source": [
    "### transfer real part and imaginary part to a complex number(shape :(1,24)--->(1,12))"
   ]
  },
  {
   "cell_type": "code",
   "execution_count": 7,
   "metadata": {},
   "outputs": [],
   "source": [
    "def DABtoComplex(XX, dim):\n",
    "    size=XX.shape[1]\n",
    "    X=np.empty( (XX.shape[0], dim), dtype= np.complex128 )\n",
    "    X.real[:,:]=XX[:,0:dim]\n",
    "    X.imag[:,:]=XX[:,dim:2*dim]\n",
    "    return X"
   ]
  },
  {
   "cell_type": "markdown",
   "metadata": {},
   "source": [
    "### plot histgram of two sum-rate distribution (DNN and IWF)"
   ]
  },
  {
   "cell_type": "code",
   "execution_count": 8,
   "metadata": {},
   "outputs": [],
   "source": [
    "def histPlot(sumRate1,sumRate2, label=['DNN', 'IWF']):\n",
    "#     plt.figure('%d'%K)\n",
    "    plt.style.use('seaborn-deep')\n",
    "    data = np.vstack([sumRate1, sumRate2]).T\n",
    "    bins = np.linspace(0, max(sumRate2),50)\n",
    "    plt.hist(data, bins, alpha=0.7, label=label)\n",
    "#     plt.legend(loc='upper right')\n",
    "    plt.xlim([0, 15])\n",
    "    plt.xlabel('sum-rate')\n",
    "    plt.ylabel('number of samples')\n",
    "    #     plt.savefig('Histogram_%d.eps'%K, format='eps', dpi=1000)\n",
    "    plt.legend()\n",
    "    plt.show()\n",
    "    return 0"
   ]
  },
  {
   "cell_type": "markdown",
   "metadata": {},
   "source": [
    "### Plot cumulative distribution function of the sum rate of DNN and IWF"
   ]
  },
  {
   "cell_type": "code",
   "execution_count": 9,
   "metadata": {},
   "outputs": [],
   "source": [
    "def CDF_Plot(sumRate1, sumRate2, label1= 'DNN', label2= 'IWF'):\n",
    "    a = np.array(sumRate1) # your array of numbers\n",
    "    num_bins1 = np.linspace(0, max(sumRate1), 50)\n",
    "    counts1, bin_edges1 = np.histogram(a, bins='auto', normed=True)\n",
    "    cdf1 = np.cumsum(counts1*np.diff(bin_edges1))\n",
    "\n",
    "    b = np.array(sumRate2) # your array of numbers\n",
    "    num_bins2 = np.linspace(0, max(sumRate2), 50)\n",
    "    counts2, bin_edges2 = np.histogram(b, bins='auto', normed=True)\n",
    "    cdf2 = np.cumsum(counts2*np.diff(bin_edges2))\n",
    "    \n",
    "    plt.xlabel('sum-rate')\n",
    "    plt.plot(bin_edges1[1:], cdf1, color='black', label=label1)\n",
    "    plt.plot(bin_edges2[1:],cdf2,color='red', label=label2)\n",
    "    plt.legend()\n",
    "    return 0\n"
   ]
  },
  {
   "cell_type": "markdown",
   "metadata": {},
   "source": [
    "### Calculate average sum rate of DNN and IWF "
   ]
  },
  {
   "cell_type": "code",
   "execution_count": 10,
   "metadata": {},
   "outputs": [],
   "source": [
    "def performance(sumRate1,sumRate2, num):\n",
    "# sumRate1, IWF; sumRate2, NN\n",
    "    print('Sum-rate: IWF: %0.3f, DNN: %0.3f'%(sum(sumRate1)/num, sum(sumRate2)/num))\n",
    "    print('Ratio: DNN: %0.3f%%\\n' % (sum(sumRate2) / sum(sumRate1)* 100))\n",
    "    return 0"
   ]
  },
  {
   "cell_type": "markdown",
   "metadata": {},
   "source": [
    "### Performance comparison"
   ]
  },
  {
   "cell_type": "code",
   "execution_count": 11,
   "metadata": {},
   "outputs": [],
   "source": [
    "def testPerformance(model, Xtest,x_train,x_val,y_train,y_val,Ytest,dim, M, N, K,samples):\n",
    "    ypred=model.predict(Xtest)\n",
    "    trainPred=model.predict(x_train)\n",
    "    valPred=model.predict(x_val)\n",
    "    # transfer 24 dimensions data to 12 dimension\n",
    "    x=DABtoComplex(X,dim)\n",
    "    xtest=DABtoComplex(Xtest,dim)\n",
    "    ytest=DABtoComplex(Ytest,dim)\n",
    "    ypred=DABtoComplex(ypred,dim)\n",
    "\n",
    "    # train & val\n",
    "    xtrain=DABtoComplex(x_train,dim)\n",
    "    ytrain=DABtoComplex(y_train,dim)\n",
    "    trainPred=DABtoComplex(trainPred,dim)\n",
    "    xval=DABtoComplex(x_val,dim)\n",
    "    yval=DABtoComplex(y_val,dim)\n",
    "    valPred=DABtoComplex(valPred,dim)\n",
    "    # draw the CDF curve of two algorithm\n",
    "    # test\n",
    "    nnsumRate=obj_sum_rate(xtest, ypred, M, N, K, samples)\n",
    "    IWFsumRate=obj_sum_rate(xtest, ytest, M, N, K, samples)\n",
    "    #trian\n",
    "    nnSRTrain=obj_sum_rate(xtrain, trainPred, M, N, K, samples)\n",
    "    IWFSRTrain=obj_sum_rate(xtrain, ytrain, M, N, K, samples)\n",
    "    # validation\n",
    "    IWFSRVal=obj_sum_rate(xval, yval, M, N, K, samples)\n",
    "    nnSRVal=obj_sum_rate(xval, valPred, M, N, K, samples)\n",
    "\n",
    "    plt.figure(1)\n",
    "    plt.subplot(311)\n",
    "    plt.title('CDF AnalysisTest')\n",
    "    CDF_Plot(nnsumRate,IWFsumRate, 'DNNTest', 'IWFTest')\n",
    "    plt.subplot(312)\n",
    "    plt.title('CDF Analysis_Train')\n",
    "    CDF_Plot(nnSRTrain,IWFSRTrain, 'DNNTrain', 'IWFTrain')\n",
    "    plt.subplot(313)\n",
    "    plt.title('CDF Analysis_val')\n",
    "    CDF_Plot(nnSRVal,IWFSRVal, 'DNNVal', 'IWFVal')\n",
    "    # draw histgram for two algorithm\n",
    "    plt.figure(2)\n",
    "    plt.subplot(211)\n",
    "    plt.title('Hist AnalysisTest')\n",
    "    histPlot(nnsumRate,IWFsumRate, ['DNNTest', 'IWFTest'])\n",
    "    plt.subplot(212)\n",
    "    plt.title('Hist Analysis_Train')\n",
    "    histPlot(nnSRTrain,IWFSRTrain, ['DNNTrain', 'IWFTrain'])\n",
    "    # calculate the average sum rate of two algorithm\n",
    "    performance(IWFsumRate, nnsumRate, samples)\n",
    "    performance(IWFSRTrain, nnSRTrain, samples)\n",
    "    return 0"
   ]
  },
  {
   "cell_type": "markdown",
   "metadata": {},
   "source": [
    "# Train the model"
   ]
  },
  {
   "cell_type": "markdown",
   "metadata": {},
   "source": [
    "parameter:\n",
    "5 hidden layers (each hidden size:480,360,240,120,60)    \n",
    "input size : 24    \n",
    "output size: 24   \n",
    "Activate funciton: ReLu funtion f(x)=max(0,x)    \n",
    "Cost function: MSE $\\frac{1}{N}\\sum(f(x)-t)^2$       \n",
    "Optimizer: Adam optimizer (learning rate = 0.001)       \n",
    "batch size: 56   \n",
    "epoch: 200   "
   ]
  },
  {
   "cell_type": "code",
   "execution_count": 12,
   "metadata": {},
   "outputs": [
    {
     "name": "stdout",
     "output_type": "stream",
     "text": [
      "_________________________________________________________________\n",
      "Layer (type)                 Output Shape              Param #   \n",
      "=================================================================\n",
      "dense_1 (Dense)              (None, 480)               12000     \n",
      "_________________________________________________________________\n",
      "dense_2 (Dense)              (None, 360)               173160    \n",
      "_________________________________________________________________\n",
      "dense_3 (Dense)              (None, 240)               86640     \n",
      "_________________________________________________________________\n",
      "dense_4 (Dense)              (None, 120)               28920     \n",
      "_________________________________________________________________\n",
      "dense_5 (Dense)              (None, 60)                7260      \n",
      "_________________________________________________________________\n",
      "dense_6 (Dense)              (None, 24)                1464      \n",
      "=================================================================\n",
      "Total params: 309,444\n",
      "Trainable params: 309,444\n",
      "Non-trainable params: 0\n",
      "_________________________________________________________________\n",
      "Train on 90000 samples, validate on 10000 samples\n",
      "Epoch 1/200\n",
      "90000/90000 [==============================] - 20s 222us/step - loss: 0.6337 - val_loss: 0.4002\n",
      "Epoch 2/200\n",
      "90000/90000 [==============================] - 20s 221us/step - loss: 0.3511 - val_loss: 0.3349\n",
      "Epoch 3/200\n",
      "90000/90000 [==============================] - 19s 216us/step - loss: 0.2751 - val_loss: 0.2869\n",
      "Epoch 4/200\n",
      "90000/90000 [==============================] - 19s 211us/step - loss: 0.2323 - val_loss: 0.2553\n",
      "Epoch 5/200\n",
      "90000/90000 [==============================] - 20s 218us/step - loss: 0.2014 - val_loss: 0.2396\n",
      "Epoch 6/200\n",
      "90000/90000 [==============================] - 19s 210us/step - loss: 0.1811 - val_loss: 0.2257\n",
      "Epoch 7/200\n",
      "90000/90000 [==============================] - 17s 194us/step - loss: 0.1670 - val_loss: 0.2239\n",
      "Epoch 8/200\n",
      "90000/90000 [==============================] - 19s 210us/step - loss: 0.1531 - val_loss: 0.2180\n",
      "Epoch 9/200\n",
      "90000/90000 [==============================] - 18s 195us/step - loss: 0.1441 - val_loss: 0.2149\n",
      "Epoch 10/200\n",
      "90000/90000 [==============================] - 20s 217us/step - loss: 0.1329 - val_loss: 0.2084\n",
      "Epoch 11/200\n",
      "90000/90000 [==============================] - 23s 251us/step - loss: 0.1242 - val_loss: 0.2051\n",
      "Epoch 12/200\n",
      "90000/90000 [==============================] - 21s 236us/step - loss: 0.1177 - val_loss: 0.2098\n",
      "Epoch 13/200\n",
      "90000/90000 [==============================] - 17s 189us/step - loss: 0.1113 - val_loss: 0.1985\n",
      "Epoch 14/200\n",
      "90000/90000 [==============================] - 17s 187us/step - loss: 0.1064 - val_loss: 0.2061\n",
      "Epoch 15/200\n",
      "90000/90000 [==============================] - 18s 196us/step - loss: 0.1013 - val_loss: 0.1952\n",
      "Epoch 16/200\n",
      "90000/90000 [==============================] - 18s 195us/step - loss: 0.0959 - val_loss: 0.1913\n",
      "Epoch 17/200\n",
      "90000/90000 [==============================] - 19s 216us/step - loss: 0.0919 - val_loss: 0.1992\n",
      "Epoch 18/200\n",
      "90000/90000 [==============================] - 17s 188us/step - loss: 0.0884 - val_loss: 0.1923\n",
      "Epoch 19/200\n",
      "90000/90000 [==============================] - 17s 185us/step - loss: 0.0850 - val_loss: 0.1894\n",
      "Epoch 20/200\n",
      "90000/90000 [==============================] - 17s 184us/step - loss: 0.0831 - val_loss: 0.1816\n",
      "Epoch 21/200\n",
      "90000/90000 [==============================] - 19s 216us/step - loss: 0.0778 - val_loss: 0.1900\n",
      "Epoch 22/200\n",
      "90000/90000 [==============================] - 15s 165us/step - loss: 0.0764 - val_loss: 0.2020\n",
      "Epoch 23/200\n",
      "90000/90000 [==============================] - 24s 269us/step - loss: 0.0741 - val_loss: 0.1873\n",
      "Epoch 24/200\n",
      "90000/90000 [==============================] - 15s 162us/step - loss: 0.0716 - val_loss: 0.1881\n",
      "Epoch 25/200\n",
      "90000/90000 [==============================] - 14s 153us/step - loss: 0.0705 - val_loss: 0.1952\n",
      "Epoch 26/200\n",
      "90000/90000 [==============================] - 14s 151us/step - loss: 0.0667 - val_loss: 0.1849\n",
      "Epoch 27/200\n",
      "90000/90000 [==============================] - 14s 152us/step - loss: 0.0671 - val_loss: 0.1919\n",
      "Epoch 28/200\n",
      "90000/90000 [==============================] - 14s 151us/step - loss: 0.0644 - val_loss: 0.1889\n",
      "Epoch 29/200\n",
      "90000/90000 [==============================] - 14s 150us/step - loss: 0.0619 - val_loss: 0.1976\n",
      "Epoch 30/200\n",
      "90000/90000 [==============================] - 17s 194us/step - loss: 0.0609 - val_loss: 0.1842\n",
      "Epoch 31/200\n",
      "90000/90000 [==============================] - 19s 208us/step - loss: 0.0612 - val_loss: 0.1895\n",
      "Epoch 32/200\n",
      "90000/90000 [==============================] - 13s 145us/step - loss: 0.0582 - val_loss: 0.1852\n",
      "Epoch 33/200\n",
      "90000/90000 [==============================] - 17s 189us/step - loss: 0.0579 - val_loss: 0.1858\n",
      "Epoch 34/200\n",
      "90000/90000 [==============================] - 15s 172us/step - loss: 0.0572 - val_loss: 0.1859\n",
      "Epoch 35/200\n",
      "90000/90000 [==============================] - 18s 196us/step - loss: 0.0561 - val_loss: 0.1801\n",
      "Epoch 36/200\n",
      "90000/90000 [==============================] - 17s 189us/step - loss: 0.0522 - val_loss: 0.1832\n",
      "Epoch 37/200\n",
      "90000/90000 [==============================] - 13s 143us/step - loss: 0.0557 - val_loss: 0.1937\n",
      "Epoch 38/200\n",
      "90000/90000 [==============================] - 15s 164us/step - loss: 0.0531 - val_loss: 0.1845\n",
      "Epoch 39/200\n",
      "90000/90000 [==============================] - 20s 222us/step - loss: 0.0517 - val_loss: 0.1840\n",
      "Epoch 40/200\n",
      "90000/90000 [==============================] - 15s 167us/step - loss: 0.0500 - val_loss: 0.1919\n",
      "Epoch 41/200\n",
      "90000/90000 [==============================] - 13s 143us/step - loss: 0.0515 - val_loss: 0.1809\n",
      "Epoch 42/200\n",
      "90000/90000 [==============================] - 13s 144us/step - loss: 0.0478 - val_loss: 0.1900\n",
      "Epoch 43/200\n",
      "90000/90000 [==============================] - 15s 163us/step - loss: 0.0501 - val_loss: 0.1853\n",
      "Epoch 44/200\n",
      "90000/90000 [==============================] - 24s 263us/step - loss: 0.0500 - val_loss: 0.1796\n",
      "Epoch 45/200\n",
      "90000/90000 [==============================] - 16s 183us/step - loss: 0.0464 - val_loss: 0.1762\n",
      "Epoch 46/200\n",
      "90000/90000 [==============================] - 13s 143us/step - loss: 0.0463 - val_loss: 0.1844\n",
      "Epoch 47/200\n",
      "90000/90000 [==============================] - 18s 200us/step - loss: 0.0464 - val_loss: 0.1794\n",
      "Epoch 48/200\n",
      "90000/90000 [==============================] - 17s 192us/step - loss: 0.0471 - val_loss: 0.1782\n",
      "Epoch 49/200\n",
      "90000/90000 [==============================] - 15s 170us/step - loss: 0.0463 - val_loss: 0.1798\n",
      "Epoch 50/200\n",
      "90000/90000 [==============================] - 15s 169us/step - loss: 0.0436 - val_loss: 0.1797\n",
      "Epoch 51/200\n",
      "90000/90000 [==============================] - 17s 191us/step - loss: 0.0441 - val_loss: 0.1840\n",
      "Epoch 52/200\n",
      "90000/90000 [==============================] - 13s 143us/step - loss: 0.0455 - val_loss: 0.1878\n",
      "Epoch 53/200\n",
      "90000/90000 [==============================] - 13s 143us/step - loss: 0.0440 - val_loss: 0.1843\n",
      "Epoch 54/200\n",
      "90000/90000 [==============================] - 13s 144us/step - loss: 0.0414 - val_loss: 0.1796\n",
      "Epoch 55/200\n",
      "90000/90000 [==============================] - 13s 142us/step - loss: 0.0438 - val_loss: 0.1900\n",
      "Epoch 56/200\n",
      "90000/90000 [==============================] - 13s 142us/step - loss: 0.0426 - val_loss: 0.1838\n",
      "Epoch 57/200\n",
      "90000/90000 [==============================] - 13s 143us/step - loss: 0.0402 - val_loss: 0.1900\n",
      "Epoch 58/200\n",
      "90000/90000 [==============================] - 13s 142us/step - loss: 0.0421 - val_loss: 0.1785\n",
      "Epoch 59/200\n",
      "90000/90000 [==============================] - 13s 143us/step - loss: 0.0415 - val_loss: 0.1811\n",
      "Epoch 60/200\n",
      "90000/90000 [==============================] - 13s 145us/step - loss: 0.0411 - val_loss: 0.1896\n",
      "Epoch 61/200\n",
      "90000/90000 [==============================] - 13s 143us/step - loss: 0.0407 - val_loss: 0.1898\n",
      "Epoch 62/200\n",
      "90000/90000 [==============================] - 13s 142us/step - loss: 0.0401 - val_loss: 0.1839\n",
      "Epoch 63/200\n",
      "90000/90000 [==============================] - 13s 143us/step - loss: 0.0398 - val_loss: 0.1829\n",
      "Epoch 64/200\n",
      "90000/90000 [==============================] - 13s 144us/step - loss: 0.0401 - val_loss: 0.1845\n",
      "Epoch 65/200\n"
     ]
    },
    {
     "name": "stdout",
     "output_type": "stream",
     "text": [
      "90000/90000 [==============================] - 13s 143us/step - loss: 0.0385 - val_loss: 0.1833\n",
      "Epoch 66/200\n",
      "90000/90000 [==============================] - 13s 142us/step - loss: 0.0389 - val_loss: 0.1763\n",
      "Epoch 67/200\n",
      "90000/90000 [==============================] - 13s 143us/step - loss: 0.0389 - val_loss: 0.1831\n",
      "Epoch 68/200\n",
      "90000/90000 [==============================] - 13s 144us/step - loss: 0.0367 - val_loss: 0.1799\n",
      "Epoch 69/200\n",
      "90000/90000 [==============================] - 13s 142us/step - loss: 0.0392 - val_loss: 0.1849\n",
      "Epoch 70/200\n",
      "90000/90000 [==============================] - 13s 142us/step - loss: 0.0388 - val_loss: 0.1690\n",
      "Epoch 71/200\n",
      "90000/90000 [==============================] - 13s 145us/step - loss: 0.0356 - val_loss: 0.1799\n",
      "Epoch 72/200\n",
      "90000/90000 [==============================] - 13s 145us/step - loss: 0.0373 - val_loss: 0.1761\n",
      "Epoch 73/200\n",
      "90000/90000 [==============================] - 13s 143us/step - loss: 0.0362 - val_loss: 0.1842\n",
      "Epoch 74/200\n",
      "90000/90000 [==============================] - 13s 143us/step - loss: 0.0361 - val_loss: 0.1769\n",
      "Epoch 75/200\n",
      "90000/90000 [==============================] - 13s 143us/step - loss: 0.0376 - val_loss: 0.1821\n",
      "Epoch 76/200\n",
      "90000/90000 [==============================] - 13s 143us/step - loss: 0.0348 - val_loss: 0.1717\n",
      "Epoch 77/200\n",
      "90000/90000 [==============================] - 13s 141us/step - loss: 0.0349 - val_loss: 0.1809\n",
      "Epoch 78/200\n",
      "90000/90000 [==============================] - 13s 143us/step - loss: 0.0358 - val_loss: 0.1799\n",
      "Epoch 79/200\n",
      "90000/90000 [==============================] - 13s 143us/step - loss: 0.0362 - val_loss: 0.1758\n",
      "Epoch 80/200\n",
      "90000/90000 [==============================] - 13s 143us/step - loss: 0.0342 - val_loss: 0.1704\n",
      "Epoch 81/200\n",
      "90000/90000 [==============================] - 13s 143us/step - loss: 0.0358 - val_loss: 0.1815\n",
      "Epoch 82/200\n",
      "90000/90000 [==============================] - 13s 142us/step - loss: 0.0352 - val_loss: 0.1791\n",
      "Epoch 83/200\n",
      "90000/90000 [==============================] - 13s 144us/step - loss: 0.0322 - val_loss: 0.1784\n",
      "Epoch 84/200\n",
      "90000/90000 [==============================] - 13s 143us/step - loss: 0.0342 - val_loss: 0.1732\n",
      "Epoch 85/200\n",
      "90000/90000 [==============================] - 13s 142us/step - loss: 0.0333 - val_loss: 0.1785\n",
      "Epoch 86/200\n",
      "90000/90000 [==============================] - 13s 143us/step - loss: 0.0355 - val_loss: 0.1726\n",
      "Epoch 87/200\n",
      "90000/90000 [==============================] - 13s 143us/step - loss: 0.0316 - val_loss: 0.1715\n",
      "Epoch 88/200\n",
      "90000/90000 [==============================] - 13s 143us/step - loss: 0.0330 - val_loss: 0.1745\n",
      "Epoch 89/200\n",
      "90000/90000 [==============================] - 13s 142us/step - loss: 0.0335 - val_loss: 0.1735\n",
      "Epoch 90/200\n",
      "90000/90000 [==============================] - 13s 143us/step - loss: 0.0329 - val_loss: 0.1726\n",
      "Epoch 91/200\n",
      "90000/90000 [==============================] - 17s 189us/step - loss: 0.0299 - val_loss: 0.1731\n",
      "Epoch 92/200\n",
      "90000/90000 [==============================] - 21s 230us/step - loss: 0.0340 - val_loss: 0.1724\n",
      "Epoch 93/200\n",
      "90000/90000 [==============================] - 18s 201us/step - loss: 0.0320 - val_loss: 0.1849\n",
      "Epoch 94/200\n",
      "90000/90000 [==============================] - 18s 202us/step - loss: 0.0320 - val_loss: 0.1750\n",
      "Epoch 95/200\n",
      "90000/90000 [==============================] - 18s 202us/step - loss: 0.0325 - val_loss: 0.1794\n",
      "Epoch 96/200\n",
      "90000/90000 [==============================] - 18s 203us/step - loss: 0.0311 - val_loss: 0.1819\n",
      "Epoch 97/200\n",
      "90000/90000 [==============================] - 18s 204us/step - loss: 0.0324 - val_loss: 0.1710\n",
      "Epoch 98/200\n",
      "90000/90000 [==============================] - 18s 204us/step - loss: 0.0313 - val_loss: 0.1783\n",
      "Epoch 99/200\n",
      "90000/90000 [==============================] - 18s 204us/step - loss: 0.0309 - val_loss: 0.1725\n",
      "Epoch 100/200\n",
      "90000/90000 [==============================] - 19s 206us/step - loss: 0.0310 - val_loss: 0.1733\n",
      "Epoch 101/200\n",
      "90000/90000 [==============================] - 19s 208us/step - loss: 0.0291 - val_loss: 0.1737\n",
      "Epoch 102/200\n",
      "90000/90000 [==============================] - 19s 206us/step - loss: 0.0302 - val_loss: 0.1736\n",
      "Epoch 103/200\n",
      "90000/90000 [==============================] - 19s 206us/step - loss: 0.0318 - val_loss: 0.1689\n",
      "Epoch 104/200\n",
      "90000/90000 [==============================] - 19s 207us/step - loss: 0.0292 - val_loss: 0.1722\n",
      "Epoch 105/200\n",
      "90000/90000 [==============================] - 19s 208us/step - loss: 0.0306 - val_loss: 0.1722\n",
      "Epoch 106/200\n",
      "90000/90000 [==============================] - 19s 209us/step - loss: 0.0294 - val_loss: 0.1718\n",
      "Epoch 107/200\n",
      "90000/90000 [==============================] - 19s 207us/step - loss: 0.0294 - val_loss: 0.1642\n",
      "Epoch 108/200\n",
      "90000/90000 [==============================] - 19s 209us/step - loss: 0.0301 - val_loss: 0.1786\n",
      "Epoch 109/200\n",
      "90000/90000 [==============================] - 19s 209us/step - loss: 0.0272 - val_loss: 0.1703\n",
      "Epoch 110/200\n",
      "90000/90000 [==============================] - 19s 210us/step - loss: 0.0316 - val_loss: 0.1725\n",
      "Epoch 111/200\n",
      "90000/90000 [==============================] - 19s 212us/step - loss: 0.0279 - val_loss: 0.1677\n",
      "Epoch 112/200\n",
      "90000/90000 [==============================] - 19s 213us/step - loss: 0.0288 - val_loss: 0.1722\n",
      "Epoch 113/200\n",
      "90000/90000 [==============================] - 19s 212us/step - loss: 0.0282 - val_loss: 0.1791\n",
      "Epoch 114/200\n",
      "90000/90000 [==============================] - 19s 210us/step - loss: 0.0301 - val_loss: 0.1740\n",
      "Epoch 115/200\n",
      "90000/90000 [==============================] - 19s 212us/step - loss: 0.0275 - val_loss: 0.1761\n",
      "Epoch 116/200\n",
      "90000/90000 [==============================] - 19s 214us/step - loss: 0.0280 - val_loss: 0.1710\n",
      "Epoch 117/200\n",
      "90000/90000 [==============================] - 19s 213us/step - loss: 0.0268 - val_loss: 0.1739\n",
      "Epoch 118/200\n",
      "90000/90000 [==============================] - 19s 214us/step - loss: 0.0301 - val_loss: 0.1823\n",
      "Epoch 119/200\n",
      "90000/90000 [==============================] - 19s 216us/step - loss: 0.0286 - val_loss: 0.1727\n",
      "Epoch 120/200\n",
      "90000/90000 [==============================] - 19s 215us/step - loss: 0.0284 - val_loss: 0.1710\n",
      "Epoch 121/200\n",
      "90000/90000 [==============================] - 19s 213us/step - loss: 0.0274 - val_loss: 0.1700\n",
      "Epoch 122/200\n",
      "90000/90000 [==============================] - 19s 214us/step - loss: 0.0269 - val_loss: 0.1679\n",
      "Epoch 123/200\n",
      "90000/90000 [==============================] - 19s 212us/step - loss: 0.0270 - val_loss: 0.1723\n",
      "Epoch 124/200\n",
      "90000/90000 [==============================] - 19s 214us/step - loss: 0.0282 - val_loss: 0.1751\n",
      "Epoch 125/200\n",
      "90000/90000 [==============================] - 19s 214us/step - loss: 0.0281 - val_loss: 0.1700\n",
      "Epoch 126/200\n",
      "90000/90000 [==============================] - 19s 214us/step - loss: 0.0263 - val_loss: 0.1729\n",
      "Epoch 127/200\n",
      "90000/90000 [==============================] - 19s 211us/step - loss: 0.0285 - val_loss: 0.1728\n",
      "Epoch 128/200\n",
      "90000/90000 [==============================] - 19s 214us/step - loss: 0.0262 - val_loss: 0.1721\n",
      "Epoch 129/200\n",
      "90000/90000 [==============================] - 19s 212us/step - loss: 0.0256 - val_loss: 0.1731\n",
      "Epoch 130/200\n",
      "90000/90000 [==============================] - 19s 216us/step - loss: 0.0292 - val_loss: 0.1723\n",
      "Epoch 131/200\n",
      "90000/90000 [==============================] - 20s 217us/step - loss: 0.0251 - val_loss: 0.1637\n",
      "Epoch 132/200\n",
      "90000/90000 [==============================] - 19s 216us/step - loss: 0.0263 - val_loss: 0.1644\n",
      "Epoch 133/200\n",
      "90000/90000 [==============================] - 15s 170us/step - loss: 0.0266 - val_loss: 0.1726\n",
      "Epoch 134/200\n",
      "90000/90000 [==============================] - 14s 159us/step - loss: 0.0264 - val_loss: 0.1769\n",
      "Epoch 135/200\n",
      "90000/90000 [==============================] - 13s 143us/step - loss: 0.0272 - val_loss: 0.1654\n",
      "Epoch 136/200\n",
      "90000/90000 [==============================] - 13s 144us/step - loss: 0.0255 - val_loss: 0.1727\n",
      "Epoch 137/200\n",
      "90000/90000 [==============================] - 13s 142us/step - loss: 0.0259 - val_loss: 0.1689\n",
      "Epoch 138/200\n",
      "90000/90000 [==============================] - 13s 142us/step - loss: 0.0255 - val_loss: 0.1805\n",
      "Epoch 139/200\n",
      "90000/90000 [==============================] - 13s 143us/step - loss: 0.0261 - val_loss: 0.1630\n"
     ]
    },
    {
     "name": "stdout",
     "output_type": "stream",
     "text": [
      "Epoch 140/200\n",
      "90000/90000 [==============================] - 13s 143us/step - loss: 0.0259 - val_loss: 0.1719\n",
      "Epoch 141/200\n",
      "90000/90000 [==============================] - 13s 142us/step - loss: 0.0258 - val_loss: 0.1664\n",
      "Epoch 142/200\n",
      "90000/90000 [==============================] - 13s 141us/step - loss: 0.0246 - val_loss: 0.1784\n",
      "Epoch 143/200\n",
      "90000/90000 [==============================] - 13s 143us/step - loss: 0.0262 - val_loss: 0.1650\n",
      "Epoch 144/200\n",
      "90000/90000 [==============================] - 13s 143us/step - loss: 0.0254 - val_loss: 0.1710\n",
      "Epoch 145/200\n",
      "90000/90000 [==============================] - 13s 142us/step - loss: 0.0237 - val_loss: 0.1704\n",
      "Epoch 146/200\n",
      "90000/90000 [==============================] - 13s 142us/step - loss: 0.0270 - val_loss: 0.1640\n",
      "Epoch 147/200\n",
      "90000/90000 [==============================] - 13s 144us/step - loss: 0.0255 - val_loss: 0.1641\n",
      "Epoch 148/200\n",
      "90000/90000 [==============================] - 13s 143us/step - loss: 0.0229 - val_loss: 0.1720\n",
      "Epoch 149/200\n",
      "90000/90000 [==============================] - 13s 141us/step - loss: 0.0256 - val_loss: 0.1739\n",
      "Epoch 150/200\n",
      "90000/90000 [==============================] - 13s 143us/step - loss: 0.0272 - val_loss: 0.1706\n",
      "Epoch 151/200\n",
      "90000/90000 [==============================] - 13s 142us/step - loss: 0.0229 - val_loss: 0.1724\n",
      "Epoch 152/200\n",
      "90000/90000 [==============================] - 13s 142us/step - loss: 0.0246 - val_loss: 0.1767\n",
      "Epoch 153/200\n",
      "90000/90000 [==============================] - 13s 143us/step - loss: 0.0247 - val_loss: 0.1711\n",
      "Epoch 154/200\n",
      "90000/90000 [==============================] - 13s 143us/step - loss: 0.0253 - val_loss: 0.1669\n",
      "Epoch 155/200\n",
      "90000/90000 [==============================] - 13s 141us/step - loss: 0.0247 - val_loss: 0.1690\n",
      "Epoch 156/200\n",
      "90000/90000 [==============================] - 13s 142us/step - loss: 0.0235 - val_loss: 0.1712\n",
      "Epoch 157/200\n",
      "90000/90000 [==============================] - 13s 142us/step - loss: 0.0259 - val_loss: 0.1753\n",
      "Epoch 158/200\n",
      "90000/90000 [==============================] - 13s 143us/step - loss: 0.0221 - val_loss: 0.1624\n",
      "Epoch 159/200\n",
      "90000/90000 [==============================] - 13s 143us/step - loss: 0.0258 - val_loss: 0.1779\n",
      "Epoch 160/200\n",
      "90000/90000 [==============================] - 13s 142us/step - loss: 0.0236 - val_loss: 0.1668\n",
      "Epoch 161/200\n",
      "90000/90000 [==============================] - 13s 142us/step - loss: 0.0225 - val_loss: 0.1896\n",
      "Epoch 162/200\n",
      "90000/90000 [==============================] - 13s 142us/step - loss: 0.0257 - val_loss: 0.1698\n",
      "Epoch 163/200\n",
      "90000/90000 [==============================] - 13s 143us/step - loss: 0.0218 - val_loss: 0.1654\n",
      "Epoch 164/200\n",
      "90000/90000 [==============================] - 13s 142us/step - loss: 0.0265 - val_loss: 0.1696\n",
      "Epoch 165/200\n",
      "90000/90000 [==============================] - 13s 142us/step - loss: 0.0223 - val_loss: 0.1650\n",
      "Epoch 166/200\n",
      "90000/90000 [==============================] - 13s 144us/step - loss: 0.0227 - val_loss: 0.1675\n",
      "Epoch 167/200\n",
      "90000/90000 [==============================] - 13s 143us/step - loss: 0.0237 - val_loss: 0.1742\n",
      "Epoch 168/200\n",
      "90000/90000 [==============================] - 13s 143us/step - loss: 0.0231 - val_loss: 0.1711\n",
      "Epoch 169/200\n",
      "90000/90000 [==============================] - 13s 143us/step - loss: 0.0244 - val_loss: 0.1660\n",
      "Epoch 170/200\n",
      "90000/90000 [==============================] - 13s 143us/step - loss: 0.0222 - val_loss: 0.1659\n",
      "Epoch 171/200\n",
      "90000/90000 [==============================] - 13s 143us/step - loss: 0.0231 - val_loss: 0.1783\n",
      "Epoch 172/200\n",
      "90000/90000 [==============================] - 13s 141us/step - loss: 0.0244 - val_loss: 0.1617\n",
      "Epoch 173/200\n",
      "90000/90000 [==============================] - 13s 142us/step - loss: 0.0223 - val_loss: 0.1681\n",
      "Epoch 174/200\n",
      "90000/90000 [==============================] - 13s 143us/step - loss: 0.0241 - val_loss: 0.1814\n",
      "Epoch 175/200\n",
      "90000/90000 [==============================] - 13s 143us/step - loss: 0.0237 - val_loss: 0.1723\n",
      "Epoch 176/200\n",
      "90000/90000 [==============================] - 13s 144us/step - loss: 0.0219 - val_loss: 0.1712\n",
      "Epoch 177/200\n",
      "90000/90000 [==============================] - 13s 143us/step - loss: 0.0240 - val_loss: 0.1743\n",
      "Epoch 178/200\n",
      "90000/90000 [==============================] - 13s 144us/step - loss: 0.0222 - val_loss: 0.1689\n",
      "Epoch 179/200\n",
      "90000/90000 [==============================] - 13s 142us/step - loss: 0.0212 - val_loss: 0.1711\n",
      "Epoch 180/200\n",
      "90000/90000 [==============================] - 13s 142us/step - loss: 0.0228 - val_loss: 0.1700\n",
      "Epoch 181/200\n",
      "90000/90000 [==============================] - 13s 143us/step - loss: 0.0229 - val_loss: 0.1716\n",
      "Epoch 182/200\n",
      "90000/90000 [==============================] - 13s 143us/step - loss: 0.0220 - val_loss: 0.1658\n",
      "Epoch 183/200\n",
      "90000/90000 [==============================] - 13s 142us/step - loss: 0.0228 - val_loss: 0.1774\n",
      "Epoch 184/200\n",
      "90000/90000 [==============================] - 13s 142us/step - loss: 0.0214 - val_loss: 0.1663\n",
      "Epoch 185/200\n",
      "90000/90000 [==============================] - 13s 143us/step - loss: 0.0230 - val_loss: 0.1772\n",
      "Epoch 186/200\n",
      "90000/90000 [==============================] - 13s 143us/step - loss: 0.0224 - val_loss: 0.1696\n",
      "Epoch 187/200\n",
      "90000/90000 [==============================] - 13s 142us/step - loss: 0.0202 - val_loss: 0.1699\n",
      "Epoch 188/200\n",
      "90000/90000 [==============================] - 13s 142us/step - loss: 0.0239 - val_loss: 0.1755\n",
      "Epoch 189/200\n",
      "90000/90000 [==============================] - 13s 143us/step - loss: 0.0212 - val_loss: 0.1653\n",
      "Epoch 190/200\n",
      "90000/90000 [==============================] - 13s 143us/step - loss: 0.0219 - val_loss: 0.1694\n",
      "Epoch 191/200\n",
      "90000/90000 [==============================] - 13s 142us/step - loss: 0.0224 - val_loss: 0.1719\n",
      "Epoch 192/200\n",
      "90000/90000 [==============================] - 13s 142us/step - loss: 0.0206 - val_loss: 0.1652\n",
      "Epoch 193/200\n",
      "90000/90000 [==============================] - 13s 144us/step - loss: 0.0223 - val_loss: 0.1680\n",
      "Epoch 194/200\n",
      "90000/90000 [==============================] - 15s 167us/step - loss: 0.0206 - val_loss: 0.1638\n",
      "Epoch 195/200\n",
      "90000/90000 [==============================] - 20s 225us/step - loss: 0.0214 - val_loss: 0.1807\n",
      "Epoch 196/200\n",
      "90000/90000 [==============================] - 16s 178us/step - loss: 0.0223 - val_loss: 0.1666\n",
      "Epoch 197/200\n",
      "90000/90000 [==============================] - 16s 178us/step - loss: 0.0202 - val_loss: 0.1652\n",
      "Epoch 198/200\n",
      "90000/90000 [==============================] - 19s 213us/step - loss: 0.0218 - val_loss: 0.1676\n",
      "Epoch 199/200\n",
      "90000/90000 [==============================] - 17s 188us/step - loss: 0.0215 - val_loss: 0.1695\n",
      "Epoch 200/200\n",
      "90000/90000 [==============================] - 17s 184us/step - loss: 0.0217 - val_loss: 0.1668\n"
     ]
    }
   ],
   "source": [
    "from keras.layers import Input, Dense\n",
    "from keras.callbacks import TensorBoard\n",
    "from keras.models import Model\n",
    "import keras\n",
    "from keras.models import Sequential\n",
    "from keras.optimizers import SGD, Adam, RMSprop\n",
    "from keras.utils import np_utils\n",
    "from sklearn.cross_validation import train_test_split\n",
    "model5layers1 = Sequential() #set up a model \n",
    "# activation=keras.layers.ReLU()\n",
    "model5layers1.add(Dense(480, input_dim=24, activation='relu'))# add full connection layer( input size =24 ) \n",
    "                                                                # add activate function ReLU\n",
    "model5layers1.add(Dense(360, activation='relu')) #add second full connection layer\n",
    "model5layers1.add(Dense(240, activation='relu'))\n",
    "model5layers1.add(Dense(120, activation='relu'))\n",
    "model5layers1.add(Dense(60, activation='relu'))\n",
    "model5layers1.add(Dense(24, activation='linear')) # add the output layer and the finnal activate function is linear function\n",
    "model5layers1.summary() # list the structure of model \n",
    "adam=keras.optimizers.Adam(lr=0.001, beta_1=0.9, beta_2=0.999) # set optimizer--Adam\n",
    "model5layers1.compile(loss='mse', optimizer=adam) # compile the model with loss function-->MSE and optimizer --> Adam\n",
    "hist=model5layers1.fit(x_train, y_train,\n",
    "                epochs=200,\n",
    "                batch_size=56,  #fit the dataset, x_train and y_train, into  the above model \n",
    "                shuffle=True, # train weight and bias of the above model \n",
    "                validation_data=(x_val, y_val),callbacks=[TensorBoard(log_dir='/tmp/autoenco')])\n",
    "# model.fit(x_train, y_train, epochs=100, verbose=0)\n",
    "dictData['lr=0.001']=hist.history # store the training error and validation error "
   ]
  },
  {
   "cell_type": "markdown",
   "metadata": {},
   "source": [
    "### Plot the training error and validation error in the training process"
   ]
  },
  {
   "cell_type": "code",
   "execution_count": 13,
   "metadata": {},
   "outputs": [
    {
     "data": {
      "text/plain": [
       "(<Figure size 1152x360 with 2 Axes>,\n",
       " <matplotlib.axes._subplots.AxesSubplot at 0x1a2b982550>,\n",
       " <matplotlib.axes._subplots.AxesSubplot at 0x1a35c40898>)"
      ]
     },
     "execution_count": 13,
     "metadata": {},
     "output_type": "execute_result"
    },
    {
     "data": {
      "image/png": "[encoded data removed]",
      "text/plain": [
       "<Figure size 1152x360 with 2 Axes>"
      ]
     },
     "metadata": {},
     "output_type": "display_data"
    }
   ],
   "source": [
    "plot_whole(dictData)"
   ]
  },
  {
   "cell_type": "markdown",
   "metadata": {},
   "source": [
    "## save the above DNN model"
   ]
  },
  {
   "cell_type": "code",
   "execution_count": 14,
   "metadata": {},
   "outputs": [
    {
     "name": "stdout",
     "output_type": "stream",
     "text": [
      "Saved model to disk\n",
      "Loaded model from disk\n"
     ]
    }
   ],
   "source": [
    "from keras.models import model_from_json\n",
    "model5layers_json = model5layers1.to_json()\n",
    "with open(\"model5layers1r001.json\", \"w\") as json_file:\n",
    "    json_file.write(model5layers_json)\n",
    "# serialize weights to HDF5\n",
    "model5layers1.save_weights(\"model5layers1r001.h5\")\n",
    "print(\"Saved model to disk\")\n",
    "# later...\n",
    "# load json and create model\n",
    "json_file = open('model5layers1r001.json', 'r')\n",
    "loaded_model5layers1_json = json_file.read()\n",
    "json_file.close()\n",
    "\n",
    "loaded_model5layers1 = model_from_json(loaded_model5layers1_json)\n",
    "# load weights into new model\n",
    "loaded_model5layers1.load_weights(\"model5layers1r001.h5\")\n",
    "print(\"Loaded model from disk\")\n",
    "\n",
    "# evaluate loaded model on test data\n",
    "loaded_model5layers1.compile(loss='mse', optimizer=adam)"
   ]
  },
  {
   "cell_type": "markdown",
   "metadata": {},
   "source": [
    "## save the errors data in the training process"
   ]
  },
  {
   "cell_type": "code",
   "execution_count": 15,
   "metadata": {},
   "outputs": [
    {
     "data": {
      "text/plain": [
       "(<Figure size 1152x360 with 2 Axes>,\n",
       " <matplotlib.axes._subplots.AxesSubplot at 0x1a2c260128>,\n",
       " <matplotlib.axes._subplots.AxesSubplot at 0x1a2c3a93c8>)"
      ]
     },
     "execution_count": 15,
     "metadata": {},
     "output_type": "execute_result"
    },
    {
     "data": {
      "image/png": "[encoded data removed]",
      "text/plain": [
       "<Figure size 1152x360 with 2 Axes>"
      ]
     },
     "metadata": {},
     "output_type": "display_data"
    }
   ],
   "source": [
    "np.savez( \"errors.npz\", data=dictData )\n",
    "d = np.load( \"errors.npz\" )\n",
    "for sturctuers in sorted( d.items() ):\n",
    "    val = sturctuers[1][()]\n",
    "plot_whole(val)"
   ]
  },
  {
   "cell_type": "code",
   "execution_count": 16,
   "metadata": {},
   "outputs": [
    {
     "data": {
      "image/png": "[encoded data removed]",
      "text/plain": [
       "<Figure size 432x288 with 3 Axes>"
      ]
     },
     "metadata": {},
     "output_type": "display_data"
    },
    {
     "data": {
      "image/png": "[encoded data removed]",
      "text/plain": [
       "<Figure size 432x288 with 1 Axes>"
      ]
     },
     "metadata": {},
     "output_type": "display_data"
    },
    {
     "data": {
      "image/png": "[encoded data removed]",
      "text/plain": [
       "<Figure size 432x288 with 1 Axes>"
      ]
     },
     "metadata": {},
     "output_type": "display_data"
    },
    {
     "name": "stdout",
     "output_type": "stream",
     "text": [
      "Sum-rate: IWF: 7.326, DNN: 7.301\n",
      "Ratio: DNN: 99.662%\n",
      "\n",
      "Sum-rate: IWF: 7.363, DNN: 7.372\n",
      "Ratio: DNN: 100.119%\n",
      "\n"
     ]
    },
    {
     "data": {
      "text/plain": [
       "0"
      ]
     },
     "execution_count": 16,
     "metadata": {},
     "output_type": "execute_result"
    }
   ],
   "source": [
    "testPerformance(model5layers1, Xtest,x_train,x_val,y_train,y_val,Ytest,12, 2, 2, 3,5000)"
   ]
  },
  {
   "cell_type": "code",
   "execution_count": null,
   "metadata": {},
   "outputs": [],
   "source": []
  }
 ],
 "metadata": {
  "kernelspec": {
   "display_name": "Python 3",
   "language": "python",
   "name": "python3"
  },
  "language_info": {
   "codemirror_mode": {
    "name": "ipython",
    "version": 3
   },
   "file_extension": ".py",
   "mimetype": "text/x-python",
   "name": "python",
   "nbconvert_exporter": "python",
   "pygments_lexer": "ipython3",
   "version": "3.6.6"
  }
 },
 "nbformat": 4,
 "nbformat_minor": 2
}
