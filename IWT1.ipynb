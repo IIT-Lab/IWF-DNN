{
 "cells": [
  {
   "cell_type": "markdown",
   "metadata": {},
   "source": [
    "# A+Bj--> A,B "
   ]
  },
  {
   "cell_type": "code",
   "execution_count": 1,
   "metadata": {},
   "outputs": [
    {
     "name": "stdout",
     "output_type": "stream",
     "text": [
      "/Users/user/Desktop/IWF-DNN/data2DComplex\n"
     ]
    },
    {
     "name": "stderr",
     "output_type": "stream",
     "text": [
      "/Users/user/anaconda2/envs/haha/lib/python3.6/site-packages/sklearn/cross_validation.py:41: DeprecationWarning: This module was deprecated in version 0.18 in favor of the model_selection module into which all the refactored classes and functions are moved. Also note that the interface of the new CV iterators are different from that of this module. This module will be removed in 0.20.\n",
      "  \"This module will be removed in 0.20.\", DeprecationWarning)\n"
     ]
    }
   ],
   "source": [
    "%cd /Users/user/Desktop/IWF-DNN/data2DComplex\n",
    "%pwd\n",
    "import os\n",
    "import tensorflow as tf\n",
    "import numpy as np\n",
    "import pandas as pd\n",
    "import matplotlib.pyplot as plt\n",
    "from __future__ import print_function\n",
    "import scipy.io as sio\n",
    "import time\n",
    "from sklearn.cross_validation import train_test_split\n",
    "%matplotlib inline"
   ]
  },
  {
   "cell_type": "code",
   "execution_count": 296,
   "metadata": {},
   "outputs": [],
   "source": [
    "DateLocation='MIMOComplex50000_3.mat'\n",
    "Data = sio.loadmat(DateLocation)#load data\n",
    "Xdata=Data['XX']\n",
    "Ydata=Data['YY']\n",
    "# trainData = np.reshape(XXData,[12 ,50000 ])#reshape to 2d array\n",
    "Xdata = np.transpose(Xdata)\n",
    "Ydata = np.transpose(Ydata)\n",
    "x_train, x_val ,y_train, y_val= train_test_split(Xdata, Ydata, test_size=0.3)"
   ]
  },
  {
   "cell_type": "markdown",
   "metadata": {},
   "source": [
    "# with Dropout "
   ]
  },
  {
   "cell_type": "code",
   "execution_count": 59,
   "metadata": {},
   "outputs": [],
   "source": [
    "# Functions for deep neural network weights initialization\n",
    "def ini_weights(n_input, n_hidden_1, n_hidden_2, n_hidden_3, n_output):\n",
    "    weights = {\n",
    "        'h1': tf.Variable(tf.truncated_normal([n_input, n_hidden_1]) / np.sqrt(n_input)),\n",
    "        'h2': tf.Variable(tf.truncated_normal([n_hidden_1, n_hidden_2]) / np.sqrt(n_hidden_1)),\n",
    "        'h3': tf.Variable(tf.truncated_normal([n_hidden_2, n_hidden_3]) / np.sqrt(n_hidden_2)),\n",
    "        'out': tf.Variable(tf.truncated_normal([n_hidden_3, n_output])) / n_hidden_3,\n",
    "    }\n",
    "    biases = {\n",
    "        'b1': tf.Variable(tf.ones([n_hidden_1]) * 0.1),\n",
    "        'b2': tf.Variable(tf.ones([n_hidden_2]) * 0.1),\n",
    "        'b3': tf.Variable(tf.ones([n_hidden_3]) * 0.1),\n",
    "        'out': tf.Variable(tf.ones([n_output]) * 0.1),\n",
    "    }\n",
    "    return weights, biases\n",
    "\n",
    "# Functions for deep neural network structure construction\n",
    "def multilayer_perceptron(x, weights, biases,input_keep_prob,hidden_keep_prob):\n",
    "    x = tf.nn.dropout(x, input_keep_prob)                         # dropout layer\n",
    "    \n",
    "    layer_1 = tf.add(tf.matmul(x, weights['h1']), biases['b1'])   # x = wx+b\n",
    "    layer_1 = tf.nn.relu(layer_1)                                 # x = max(0, x)\n",
    "    layer_1 = tf.nn.dropout(layer_1, hidden_keep_prob)            # dropout layer\n",
    "\n",
    "    layer_2 = tf.add(tf.matmul(layer_1, weights['h2']), biases['b2'])\n",
    "    layer_2 = tf.nn.relu(layer_2)\n",
    "    layer_2 = tf.nn.dropout(layer_2, hidden_keep_prob)\n",
    "\n",
    "    layer_3 = tf.add(tf.matmul(layer_2, weights['h3']), biases['b3'])\n",
    "    layer_3 = tf.nn.relu(layer_3)\n",
    "    layer_3 = tf.nn.dropout(layer_3, hidden_keep_prob)\n",
    "\n",
    "    out_layer = tf.matmul(layer_3, weights['out']) + biases['out']\n",
    "#     out_layer = tf.nn.relu6(out_layer) / 6\n",
    "    return out_layer\n"
   ]
  },
  {
   "cell_type": "code",
   "execution_count": null,
   "metadata": {},
   "outputs": [],
   "source": []
  },
  {
   "cell_type": "markdown",
   "metadata": {},
   "source": [
    "# without Dropout"
   ]
  },
  {
   "cell_type": "code",
   "execution_count": null,
   "metadata": {},
   "outputs": [],
   "source": [
    "np.real(x)\n",
    "np.imag(x)"
   ]
  },
  {
   "cell_type": "code",
   "execution_count": 317,
   "metadata": {},
   "outputs": [],
   "source": [
    "# Functions for deep neural network weights initialization\n",
    "def ini_weights(n_input, n_hidden_1, n_hidden_2, n_hidden_3, n_output):\n",
    "    weights = {\n",
    "        'h1': tf.Variable(tf.truncated_normal([n_input, n_hidden_1]) / np.sqrt(n_input)),\n",
    "        'h2': tf.Variable(tf.truncated_normal([n_hidden_1, n_hidden_2]) / np.sqrt(n_hidden_1)),\n",
    "        'h3': tf.Variable(tf.truncated_normal([n_hidden_2, n_hidden_3]) / np.sqrt(n_hidden_2)),\n",
    "        'out': tf.Variable(tf.truncated_normal([n_hidden_3, n_output])) / n_hidden_3,\n",
    "    }\n",
    "    biases = {\n",
    "        'b1': tf.Variable(tf.ones([n_hidden_1]) * 0.1),\n",
    "        'b2': tf.Variable(tf.ones([n_hidden_2]) * 0.1),\n",
    "        'b3': tf.Variable(tf.ones([n_hidden_3]) * 0.1),\n",
    "        'out': tf.Variable(tf.ones([n_output]) * 0.1),\n",
    "    }\n",
    "    return weights, biases\n",
    "\n",
    "# Functions for deep neural network structure construction\n",
    "def multilayer_perceptron(x, weights, biases,input_keep_prob,hidden_keep_prob):\n",
    "    x = tf.nn.dropout(x, input_keep_prob)                         # dropout layer\n",
    "    \n",
    "    layer_1 = tf.add(tf.matmul(x, weights['h1']), biases['b1'])   # x = wx+b\n",
    "    layer_1 = tf.nn.relu(layer_1)                                 # x = max(0, x)\n",
    "#     layer_1 = tf.nn.dropout(layer_1, hidden_keep_prob)            # dropout layer\n",
    "\n",
    "    layer_2 = tf.add(tf.matmul(layer_1, weights['h2']), biases['b2'])\n",
    "    layer_2 = tf.nn.relu(layer_2)\n",
    "#     layer_2 = tf.nn.dropout(layer_2, hidden_keep_prob)\n",
    "\n",
    "    layer_3 = tf.add(tf.matmul(layer_2, weights['h3']), biases['b3'])\n",
    "    layer_3 = tf.nn.relu(layer_3)\n",
    "#     layer_3 = tf.nn.dropout(layer_3, hidden_keep_prob)\n",
    "\n",
    "    out_layer = tf.matmul(layer_3, weights['out']) + biases['out']\n",
    "#     out_layer = tf.nn.relu6(out_layer) / 6\n",
    "    return out_layer\n"
   ]
  },
  {
   "cell_type": "code",
   "execution_count": 6,
   "metadata": {},
   "outputs": [
    {
     "data": {
      "text/plain": [
       "(35000, 24)"
      ]
     },
     "execution_count": 6,
     "metadata": {},
     "output_type": "execute_result"
    }
   ],
   "source": [
    "x_train.shape"
   ]
  },
  {
   "cell_type": "code",
   "execution_count": 7,
   "metadata": {},
   "outputs": [
    {
     "data": {
      "text/plain": [
       "(15000, 24)"
      ]
     },
     "execution_count": 7,
     "metadata": {},
     "output_type": "execute_result"
    }
   ],
   "source": [
    "x_val.shape"
   ]
  },
  {
   "cell_type": "code",
   "execution_count": 327,
   "metadata": {},
   "outputs": [],
   "source": [
    "def train(X_train, X_val, Y_train, Y_val ,location, training_epochs=300, batch_size=1000, LR= 0.001, n_hidden_1 = 200,n_hidden_2 = 80,n_hidden_3 = 80, traintestsplit = 0.01, LRdecay=0):\n",
    "    num_total = X_train.shape[0] +X_val.shape[0]                       # number of total samples\n",
    "    num_val =X_val.shape[0]# number of validation samples\n",
    "    num_train = X_train.shape[0] # number of training samples\n",
    "    n_input = X_train.shape[1]                          # input size\n",
    "    n_output = Y_train.shape[1]                         # output size\n",
    "#     X_train = np.transpose(X[:, 0:num_train])     # training data\n",
    "#     Y_train = np.transpose(Y[:, 0:num_train])     # training label\n",
    "#     X_val = np.transpose(X[:, num_train:num_total]) # validation data\n",
    "#     Y_val = np.transpose(Y[:, num_train:num_total]) # validation label\n",
    "\n",
    "    x = tf.placeholder(\"float\", [None, n_input])\n",
    "    y = tf.placeholder(\"float\", [None, n_output])\n",
    "    is_train = tf.placeholder(\"bool\")\n",
    "    learning_rate = tf.placeholder(tf.float32, shape=[])\n",
    "    total_batch = int(num_total / batch_size)\n",
    "    print('train: %d ' % num_train, 'validation: %d ' % num_val)\n",
    "\n",
    "    input_keep_prob = tf.placeholder(tf.float32)\n",
    "    hidden_keep_prob = tf.placeholder(tf.float32)\n",
    "    weights, biases = ini_weights(n_input, n_hidden_1, n_hidden_2, n_hidden_3, n_output)\n",
    "    pred = multilayer_perceptron(x, weights, biases, input_keep_prob, hidden_keep_prob)\n",
    "    cost = tf.reduce_mean(tf.square(pred - y))    # cost function: MSE\n",
    "    optimizer=tf.train.AdamOptimizer(learning_rate).minimize(cost)\n",
    "#     optimizer = tf.train.RMSPropOptimizer(learning_rate, 0.9).minimize(cost) # training algorithms: RMSprop\n",
    "    init = tf.global_variables_initializer()\n",
    "    saver = tf.train.Saver()\n",
    "    MSETime=np.zeros((training_epochs,3))\n",
    "    with tf.Session() as sess:\n",
    "        sess.run(init)\n",
    "        start_time = time.time()\n",
    "        for epoch in range(training_epochs):\n",
    "            for i in range(total_batch):\n",
    "                idx = np.random.randint(num_train,size=batch_size)\n",
    "                if LRdecay==1:\n",
    "                    _, c = sess.run([optimizer, cost], feed_dict={x: X_train[idx, :], y: Y_train[idx, :],\n",
    "                                                                  input_keep_prob: 1, hidden_keep_prob: 1,\n",
    "                                                                  learning_rate: LR/(epoch+1), is_train: True})\n",
    "                elif LRdecay==0:\n",
    "                    _, c = sess.run([optimizer, cost], feed_dict={x: X_train[idx, :], y: Y_train[idx, :],\n",
    "                                                                      input_keep_prob: 1, hidden_keep_prob: 1,\n",
    "                                                                      learning_rate: LR, is_train: True})\n",
    "            MSETime[epoch, 0]= c # train cost \n",
    "            MSETime[epoch, 1]= sess.run(cost, feed_dict={x: X_val, y: Y_val, input_keep_prob: 1, hidden_keep_prob: 1, is_train: False})\n",
    "            MSETime[epoch, 2]= time.time() - start_time\n",
    "            if epoch%(int(training_epochs/10))==0:\n",
    "                print('epoch:%d, '%epoch, 'train:%0.2f%%, '%(c*100), 'validation:%0.2f%%.'%(MSETime[epoch, 1]*100))\n",
    "\n",
    "        print(\"training time: %0.2f s\" % (time.time() - start_time))\n",
    "        sio.savemat('MSETimeLastLayer_%d_%d_%d' % (n_output, batch_size, LR*10000) , {'train': MSETime[:,0], 'validation': MSETime[:,1], 'time': MSETime[:,2]})\n",
    "        saver.save(sess, location)\n",
    "    return 0"
   ]
  },
  {
   "cell_type": "code",
   "execution_count": 167,
   "metadata": {
    "scrolled": true
   },
   "outputs": [
    {
     "data": {
      "text/plain": [
       "(1000, 12)"
      ]
     },
     "execution_count": 167,
     "metadata": {},
     "output_type": "execute_result"
    }
   ],
   "source": [
    "xtest.shape"
   ]
  },
  {
   "cell_type": "markdown",
   "metadata": {},
   "source": [
    "# Different Learning Rate"
   ]
  },
  {
   "cell_type": "code",
   "execution_count": 328,
   "metadata": {},
   "outputs": [
    {
     "name": "stdout",
     "output_type": "stream",
     "text": [
      "train: 35000  validation: 15000 \n",
      "epoch:0,  train:131.11%,  validation:130.47%.\n",
      "epoch:20,  train:41.26%,  validation:42.78%.\n",
      "epoch:40,  train:28.77%,  validation:35.20%.\n",
      "epoch:60,  train:21.87%,  validation:31.75%.\n",
      "epoch:80,  train:20.32%,  validation:30.23%.\n",
      "epoch:100,  train:20.89%,  validation:29.39%.\n",
      "epoch:120,  train:18.06%,  validation:28.93%.\n",
      "epoch:140,  train:18.52%,  validation:28.30%.\n",
      "epoch:160,  train:14.23%,  validation:28.00%.\n",
      "epoch:180,  train:13.55%,  validation:27.95%.\n",
      "training time: 179.13 s\n"
     ]
    },
    {
     "ename": "FileNotFoundError",
     "evalue": "[Errno 2] No such file or directory: 'MSETimeLastLayer_24_200_2.mat'",
     "output_type": "error",
     "traceback": [
      "\u001b[0;31m---------------------------------------------------------------------------\u001b[0m",
      "\u001b[0;31mFileNotFoundError\u001b[0m                         Traceback (most recent call last)",
      "\u001b[0;32m~/anaconda2/envs/haha/lib/python3.6/site-packages/scipy/io/matlab/mio.py\u001b[0m in \u001b[0;36m_open_file\u001b[0;34m(file_like, appendmat)\u001b[0m\n\u001b[1;32m     32\u001b[0m     \u001b[0;32mtry\u001b[0m\u001b[0;34m:\u001b[0m\u001b[0;34m\u001b[0m\u001b[0m\n\u001b[0;32m---> 33\u001b[0;31m         \u001b[0;32mreturn\u001b[0m \u001b[0mopen\u001b[0m\u001b[0;34m(\u001b[0m\u001b[0mfile_like\u001b[0m\u001b[0;34m,\u001b[0m \u001b[0;34m'rb'\u001b[0m\u001b[0;34m)\u001b[0m\u001b[0;34m,\u001b[0m \u001b[0;32mTrue\u001b[0m\u001b[0;34m\u001b[0m\u001b[0m\n\u001b[0m\u001b[1;32m     34\u001b[0m     \u001b[0;32mexcept\u001b[0m \u001b[0mIOError\u001b[0m\u001b[0;34m:\u001b[0m\u001b[0;34m\u001b[0m\u001b[0m\n",
      "\u001b[0;31mFileNotFoundError\u001b[0m: [Errno 2] No such file or directory: 'MSETimeLastLayer_24_200_2'",
      "\nDuring handling of the above exception, another exception occurred:\n",
      "\u001b[0;31mFileNotFoundError\u001b[0m                         Traceback (most recent call last)",
      "\u001b[0;32m<ipython-input-328-fe22c0d592bb>\u001b[0m in \u001b[0;36m<module>\u001b[0;34m()\u001b[0m\n\u001b[1;32m      2\u001b[0m \u001b[0mmodel_location\u001b[0m \u001b[0;34m=\u001b[0m \u001b[0;34m\"./DNN4/model_demo.ckpt\"\u001b[0m\u001b[0;34m\u001b[0m\u001b[0m\n\u001b[1;32m      3\u001b[0m \u001b[0mtrain\u001b[0m\u001b[0;34m(\u001b[0m\u001b[0mx_train\u001b[0m\u001b[0;34m,\u001b[0m\u001b[0mx_val\u001b[0m\u001b[0;34m,\u001b[0m \u001b[0my_train\u001b[0m\u001b[0;34m,\u001b[0m\u001b[0my_val\u001b[0m\u001b[0;34m,\u001b[0m \u001b[0mmodel_location\u001b[0m\u001b[0;34m,\u001b[0m \u001b[0mtraining_epochs\u001b[0m\u001b[0;34m=\u001b[0m\u001b[0;36m200\u001b[0m\u001b[0;34m,\u001b[0m\u001b[0mLR\u001b[0m\u001b[0;34m=\u001b[0m\u001b[0;36m0.001\u001b[0m\u001b[0;34m,\u001b[0m \u001b[0mbatch_size\u001b[0m\u001b[0;34m=\u001b[0m\u001b[0;36m200\u001b[0m\u001b[0;34m)\u001b[0m\u001b[0;34m\u001b[0m\u001b[0m\n\u001b[0;32m----> 4\u001b[0;31m \u001b[0mtrain\u001b[0m \u001b[0;34m=\u001b[0m \u001b[0msio\u001b[0m\u001b[0;34m.\u001b[0m\u001b[0mloadmat\u001b[0m\u001b[0;34m(\u001b[0m\u001b[0;34m'MSETimeLastLayer_%d_%d_%d'\u001b[0m\u001b[0;34m%\u001b[0m\u001b[0;34m(\u001b[0m\u001b[0;36m24\u001b[0m\u001b[0;34m,\u001b[0m \u001b[0;36m200\u001b[0m\u001b[0;34m,\u001b[0m \u001b[0;36m2\u001b[0m\u001b[0;34m)\u001b[0m\u001b[0;34m)\u001b[0m\u001b[0;34m[\u001b[0m\u001b[0;34m'train'\u001b[0m\u001b[0;34m]\u001b[0m\u001b[0;34m\u001b[0m\u001b[0m\n\u001b[0m\u001b[1;32m      5\u001b[0m \u001b[0mtime\u001b[0m \u001b[0;34m=\u001b[0m \u001b[0msio\u001b[0m\u001b[0;34m.\u001b[0m\u001b[0mloadmat\u001b[0m\u001b[0;34m(\u001b[0m\u001b[0;34m'MSETimeLastLayer_%d_%d_%d'\u001b[0m\u001b[0;34m%\u001b[0m\u001b[0;34m(\u001b[0m\u001b[0;36m24\u001b[0m\u001b[0;34m,\u001b[0m \u001b[0;36m200\u001b[0m\u001b[0;34m,\u001b[0m \u001b[0;36m2\u001b[0m\u001b[0;34m)\u001b[0m\u001b[0;34m)\u001b[0m\u001b[0;34m[\u001b[0m\u001b[0;34m'time'\u001b[0m\u001b[0;34m]\u001b[0m\u001b[0;34m\u001b[0m\u001b[0m\n\u001b[1;32m      6\u001b[0m \u001b[0mval\u001b[0m \u001b[0;34m=\u001b[0m \u001b[0msio\u001b[0m\u001b[0;34m.\u001b[0m\u001b[0mloadmat\u001b[0m\u001b[0;34m(\u001b[0m\u001b[0;34m'MSETimeLastLayer_%d_%d_%d'\u001b[0m\u001b[0;34m%\u001b[0m\u001b[0;34m(\u001b[0m\u001b[0;36m24\u001b[0m\u001b[0;34m,\u001b[0m \u001b[0;36m200\u001b[0m\u001b[0;34m,\u001b[0m \u001b[0;36m2\u001b[0m\u001b[0;34m)\u001b[0m\u001b[0;34m)\u001b[0m\u001b[0;34m[\u001b[0m\u001b[0;34m'validation'\u001b[0m\u001b[0;34m]\u001b[0m\u001b[0;34m\u001b[0m\u001b[0m\n",
      "\u001b[0;32m~/anaconda2/envs/haha/lib/python3.6/site-packages/scipy/io/matlab/mio.py\u001b[0m in \u001b[0;36mloadmat\u001b[0;34m(file_name, mdict, appendmat, **kwargs)\u001b[0m\n\u001b[1;32m    139\u001b[0m     \"\"\"\n\u001b[1;32m    140\u001b[0m     \u001b[0mvariable_names\u001b[0m \u001b[0;34m=\u001b[0m \u001b[0mkwargs\u001b[0m\u001b[0;34m.\u001b[0m\u001b[0mpop\u001b[0m\u001b[0;34m(\u001b[0m\u001b[0;34m'variable_names'\u001b[0m\u001b[0;34m,\u001b[0m \u001b[0;32mNone\u001b[0m\u001b[0;34m)\u001b[0m\u001b[0;34m\u001b[0m\u001b[0m\n\u001b[0;32m--> 141\u001b[0;31m     \u001b[0mMR\u001b[0m\u001b[0;34m,\u001b[0m \u001b[0mfile_opened\u001b[0m \u001b[0;34m=\u001b[0m \u001b[0mmat_reader_factory\u001b[0m\u001b[0;34m(\u001b[0m\u001b[0mfile_name\u001b[0m\u001b[0;34m,\u001b[0m \u001b[0mappendmat\u001b[0m\u001b[0;34m,\u001b[0m \u001b[0;34m**\u001b[0m\u001b[0mkwargs\u001b[0m\u001b[0;34m)\u001b[0m\u001b[0;34m\u001b[0m\u001b[0m\n\u001b[0m\u001b[1;32m    142\u001b[0m     \u001b[0mmatfile_dict\u001b[0m \u001b[0;34m=\u001b[0m \u001b[0mMR\u001b[0m\u001b[0;34m.\u001b[0m\u001b[0mget_variables\u001b[0m\u001b[0;34m(\u001b[0m\u001b[0mvariable_names\u001b[0m\u001b[0;34m)\u001b[0m\u001b[0;34m\u001b[0m\u001b[0m\n\u001b[1;32m    143\u001b[0m     \u001b[0;32mif\u001b[0m \u001b[0mmdict\u001b[0m \u001b[0;32mis\u001b[0m \u001b[0;32mnot\u001b[0m \u001b[0;32mNone\u001b[0m\u001b[0;34m:\u001b[0m\u001b[0;34m\u001b[0m\u001b[0m\n",
      "\u001b[0;32m~/anaconda2/envs/haha/lib/python3.6/site-packages/scipy/io/matlab/mio.py\u001b[0m in \u001b[0;36mmat_reader_factory\u001b[0;34m(file_name, appendmat, **kwargs)\u001b[0m\n\u001b[1;32m     62\u001b[0m \u001b[0;34m\u001b[0m\u001b[0m\n\u001b[1;32m     63\u001b[0m     \"\"\"\n\u001b[0;32m---> 64\u001b[0;31m     \u001b[0mbyte_stream\u001b[0m\u001b[0;34m,\u001b[0m \u001b[0mfile_opened\u001b[0m \u001b[0;34m=\u001b[0m \u001b[0m_open_file\u001b[0m\u001b[0;34m(\u001b[0m\u001b[0mfile_name\u001b[0m\u001b[0;34m,\u001b[0m \u001b[0mappendmat\u001b[0m\u001b[0;34m)\u001b[0m\u001b[0;34m\u001b[0m\u001b[0m\n\u001b[0m\u001b[1;32m     65\u001b[0m     \u001b[0mmjv\u001b[0m\u001b[0;34m,\u001b[0m \u001b[0mmnv\u001b[0m \u001b[0;34m=\u001b[0m \u001b[0mget_matfile_version\u001b[0m\u001b[0;34m(\u001b[0m\u001b[0mbyte_stream\u001b[0m\u001b[0;34m)\u001b[0m\u001b[0;34m\u001b[0m\u001b[0m\n\u001b[1;32m     66\u001b[0m     \u001b[0;32mif\u001b[0m \u001b[0mmjv\u001b[0m \u001b[0;34m==\u001b[0m \u001b[0;36m0\u001b[0m\u001b[0;34m:\u001b[0m\u001b[0;34m\u001b[0m\u001b[0m\n",
      "\u001b[0;32m~/anaconda2/envs/haha/lib/python3.6/site-packages/scipy/io/matlab/mio.py\u001b[0m in \u001b[0;36m_open_file\u001b[0;34m(file_like, appendmat)\u001b[0m\n\u001b[1;32m     37\u001b[0m             \u001b[0;32mif\u001b[0m \u001b[0mappendmat\u001b[0m \u001b[0;32mand\u001b[0m \u001b[0;32mnot\u001b[0m \u001b[0mfile_like\u001b[0m\u001b[0;34m.\u001b[0m\u001b[0mendswith\u001b[0m\u001b[0;34m(\u001b[0m\u001b[0;34m'.mat'\u001b[0m\u001b[0;34m)\u001b[0m\u001b[0;34m:\u001b[0m\u001b[0;34m\u001b[0m\u001b[0m\n\u001b[1;32m     38\u001b[0m                 \u001b[0mfile_like\u001b[0m \u001b[0;34m+=\u001b[0m \u001b[0;34m'.mat'\u001b[0m\u001b[0;34m\u001b[0m\u001b[0m\n\u001b[0;32m---> 39\u001b[0;31m             \u001b[0;32mreturn\u001b[0m \u001b[0mopen\u001b[0m\u001b[0;34m(\u001b[0m\u001b[0mfile_like\u001b[0m\u001b[0;34m,\u001b[0m \u001b[0;34m'rb'\u001b[0m\u001b[0;34m)\u001b[0m\u001b[0;34m,\u001b[0m \u001b[0;32mTrue\u001b[0m\u001b[0;34m\u001b[0m\u001b[0m\n\u001b[0m\u001b[1;32m     40\u001b[0m         \u001b[0;32melse\u001b[0m\u001b[0;34m:\u001b[0m\u001b[0;34m\u001b[0m\u001b[0m\n\u001b[1;32m     41\u001b[0m             \u001b[0;32mraise\u001b[0m \u001b[0mIOError\u001b[0m\u001b[0;34m(\u001b[0m\u001b[0;34m'Reader needs file name or open file-like object'\u001b[0m\u001b[0;34m)\u001b[0m\u001b[0;34m\u001b[0m\u001b[0m\n",
      "\u001b[0;31mFileNotFoundError\u001b[0m: [Errno 2] No such file or directory: 'MSETimeLastLayer_24_200_2.mat'"
     ]
    }
   ],
   "source": [
    "# 3 layers (output layer without relu) , no dropout layers ADMA optimizer LR: 0.001\n",
    "model_location = \"./DNN/model_demo.ckpt\"\n",
    "train(x_train,x_val, y_train,y_val, model_location, training_epochs=200,LR=0.001, batch_size=200)\n",
    "train = sio.loadmat('MSETimeLastLayer_%d_%d_%d'%(24, 200, 2))['train']\n",
    "time = sio.loadmat('MSETimeLastLayer_%d_%d_%d'%(24, 200, 2))['time']\n",
    "val = sio.loadmat('MSETimeLastLayer_%d_%d_%d'%(24, 200, 2))['validation']\n",
    "plt.figure(0)\n",
    "plt.plot(time.T, val.T,label='validation')\n",
    "plt.plot(time.T, train.T,label='train')\n",
    "plt.legend(loc='upper right')\n",
    "plt.xlabel('time (seconds)')\n",
    "plt.ylabel('Mean Square Error')\n",
    "plt.savefig('MSE_train.eps', format='eps', dpi=1000)\n",
    "plt.show()"
   ]
  },
  {
   "cell_type": "code",
   "execution_count": 332,
   "metadata": {},
   "outputs": [
    {
     "data": {
      "image/png": "[encoded data removed]",
      "text/plain": [
       "<Figure size 432x288 with 1 Axes>"
      ]
     },
     "metadata": {},
     "output_type": "display_data"
    }
   ],
   "source": [
    "train = sio.loadmat('MSETimeLastLayer_%d_%d_%d'%(24, 200, 10))['train']\n",
    "time = sio.loadmat('MSETimeLastLayer_%d_%d_%d'%(24, 200, 10))['time']\n",
    "val = sio.loadmat('MSETimeLastLayer_%d_%d_%d'%(24, 200, 10))['validation']\n",
    "plt.figure(0)\n",
    "plt.plot(time.T, val.T,label='validation')\n",
    "plt.plot(time.T, train.T,label='train')\n",
    "plt.legend(loc='upper right')\n",
    "plt.xlabel('time (seconds)')\n",
    "plt.ylabel('Mean Square Error')\n",
    "plt.savefig('MSE_train.eps', format='eps', dpi=1000)\n",
    "plt.show()"
   ]
  },
  {
   "cell_type": "code",
   "execution_count": 61,
   "metadata": {},
   "outputs": [
    {
     "name": "stdout",
     "output_type": "stream",
     "text": [
      "train: 35000  validation: 15000 \n",
      "epoch:0,  train:131.64%,  validation:130.97%.\n",
      "epoch:20,  train:40.77%,  validation:44.70%.\n",
      "epoch:40,  train:25.73%,  validation:34.78%.\n",
      "epoch:60,  train:23.88%,  validation:31.59%.\n",
      "epoch:80,  train:20.42%,  validation:30.05%.\n",
      "epoch:100,  train:18.16%,  validation:29.41%.\n",
      "epoch:120,  train:14.68%,  validation:29.20%.\n",
      "epoch:140,  train:13.81%,  validation:29.17%.\n",
      "epoch:160,  train:14.30%,  validation:28.92%.\n",
      "epoch:180,  train:12.36%,  validation:28.91%.\n",
      "training time: 268.29 s\n"
     ]
    },
    {
     "data": {
      "image/png": "[encoded data removed]",
      "text/plain": [
       "<Figure size 432x288 with 1 Axes>"
      ]
     },
     "metadata": {},
     "output_type": "display_data"
    }
   ],
   "source": [
    "# 3 layers (output layer without relu) + dropout layers RMS optimizer LR: 0.001\n",
    "model_location = \"./DNN3/model_demo.ckpt\"\n",
    "train(x_train,x_val, y_train,y_val, model_location, training_epochs=200,LR=0.001, batch_size=200)\n",
    "train = sio.loadmat('MSETimeLastLayer_%d_%d_%d'%(24, 200, 1))['train']\n",
    "time = sio.loadmat('MSETimeLastLayer_%d_%d_%d'%(24, 200, 1))['time']\n",
    "val = sio.loadmat('MSETimeLastLayer_%d_%d_%d'%(24, 200, 1))['validation']\n",
    "plt.figure(0)\n",
    "plt.plot(time.T, val.T,label='validation')\n",
    "plt.plot(time.T, train.T,label='train')\n",
    "plt.legend(loc='upper right')\n",
    "plt.xlabel('time (seconds)')\n",
    "plt.ylabel('Mean Square Error')\n",
    "plt.savefig('MSE_train.eps', format='eps', dpi=1000)\n",
    "plt.show()"
   ]
  },
  {
   "cell_type": "code",
   "execution_count": 56,
   "metadata": {},
   "outputs": [
    {
     "name": "stdout",
     "output_type": "stream",
     "text": [
      "train: 35000  validation: 15000 \n",
      "epoch:0,  train:178.51%,  validation:180.80%.\n",
      "epoch:20,  train:96.87%,  validation:100.78%.\n",
      "epoch:40,  train:74.55%,  validation:74.01%.\n",
      "epoch:60,  train:59.32%,  validation:63.61%.\n",
      "epoch:80,  train:55.93%,  validation:57.25%.\n",
      "epoch:100,  train:51.24%,  validation:53.40%.\n",
      "epoch:120,  train:46.25%,  validation:50.67%.\n",
      "epoch:140,  train:46.72%,  validation:48.32%.\n",
      "epoch:160,  train:42.33%,  validation:46.45%.\n",
      "epoch:180,  train:40.90%,  validation:44.74%.\n",
      "training time: 284.80 s\n"
     ]
    },
    {
     "data": {
      "image/png": "[encoded data removed]",
      "text/plain": [
       "<Figure size 432x288 with 1 Axes>"
      ]
     },
     "metadata": {},
     "output_type": "display_data"
    }
   ],
   "source": [
    "# 3 layers (output layer without relu) + dropout layers RMS optimizer LR: 0.0001\n",
    "model_location = \"./DNN2/model_demo.ckpt\"\n",
    "train(x_train,x_val, y_train,y_val, model_location, training_epochs=200,LR=0.0001, batch_size=200)\n",
    "train = sio.loadmat('MSETimeLastLayer_%d_%d_%d'%(24, 200, 1))['train']\n",
    "time = sio.loadmat('MSETimeLastLayer_%d_%d_%d'%(24, 200, 1))['time']\n",
    "val = sio.loadmat('MSETimeLastLayer_%d_%d_%d'%(24, 200, 1))['validation']\n",
    "plt.figure(0)\n",
    "plt.plot(time.T, val.T,label='validation')\n",
    "plt.plot(time.T, train.T,label='train')\n",
    "plt.legend(loc='upper right')\n",
    "plt.xlabel('time (seconds)')\n",
    "plt.ylabel('Mean Square Error')\n",
    "plt.savefig('MSE_train.eps', format='eps', dpi=1000)\n",
    "plt.show()"
   ]
  },
  {
   "cell_type": "code",
   "execution_count": 40,
   "metadata": {},
   "outputs": [
    {
     "data": {
      "image/png": "[encoded data removed]",
      "text/plain": [
       "<Figure size 432x288 with 1 Axes>"
      ]
     },
     "metadata": {},
     "output_type": "display_data"
    }
   ],
   "source": [
    "train = sio.loadmat('MSETime_%d_%d_%d'%(24, 200, 1))['train']\n",
    "time = sio.loadmat('MSETime_%d_%d_%d'%(24, 200, 1))['time']\n",
    "val = sio.loadmat('MSETime_%d_%d_%d'%(24, 200, 1))['validation']\n",
    "plt.figure(0)\n",
    "plt.plot(time.T, val.T,label='validation')\n",
    "plt.plot(time.T, train.T,label='train')\n",
    "plt.legend(loc='upper right')\n",
    "plt.xlabel('time (seconds)')\n",
    "plt.ylabel('Mean Square Error')\n",
    "plt.savefig('MSE_train.eps', format='eps', dpi=1000)\n",
    "plt.show()"
   ]
  },
  {
   "cell_type": "code",
   "execution_count": 20,
   "metadata": {},
   "outputs": [],
   "source": [
    "PredictLocation='Prediction_2.mat'\n",
    "Predict = sio.loadmat(PredictLocation)#load data\n",
    "Predict=Predict['pred']"
   ]
  },
  {
   "cell_type": "code",
   "execution_count": null,
   "metadata": {},
   "outputs": [],
   "source": [
    "with tf.Session() as sess:\n",
    "    saver.restore(sess, model_location)\n",
    "    start_time = time.time()\n",
    "    y_pred = sess.run(pred, feed_dict={x: X, input_keep_prob: 1, hidden_keep_prob: 1, is_train: False})\n",
    "    testtime = time.time() - start_time\n",
    "    "
   ]
  },
  {
   "cell_type": "code",
   "execution_count": 136,
   "metadata": {},
   "outputs": [],
   "source": [
    "H=tf.reshape(xtest[1,:],[2,2,3])\n"
   ]
  },
  {
   "cell_type": "markdown",
   "metadata": {},
   "source": [
    "# Test performance"
   ]
  },
  {
   "cell_type": "code",
   "execution_count": 283,
   "metadata": {},
   "outputs": [],
   "source": [
    "DateLocation='MIMOComplex10000_3test.mat'\n",
    "DataTest1000 = sio.loadmat(DateLocation)#load data\n",
    "Xtest=DataTest1000['XX']\n",
    "# trainData = np.reshape(XXData,[12 ,50000 ])#reshape to 2d array\n",
    "Xtest = np.transpose(Xtest)\n",
    "Ytest=DataTest1000['YY']\n",
    "# trainData = np.reshape(XXData,[12 ,50000 ])#reshape to 2d array\n",
    "Ytest = np.transpose(Ytest)"
   ]
  },
  {
   "cell_type": "code",
   "execution_count": 284,
   "metadata": {},
   "outputs": [
    {
     "name": "stdout",
     "output_type": "stream",
     "text": [
      "INFO:tensorflow:Restoring parameters from ./DNN3/model_demo.ckpt\n"
     ]
    }
   ],
   "source": [
    "\n",
    "# Functions for deep neural network testing\n",
    "def test(X, model_location, save_name, n_input, n_output, n_hidden_1 = 200, n_hidden_2 = 80, n_hidden_3 = 80, binary=0):\n",
    "    tf.reset_default_graph()\n",
    "    x = tf.placeholder(\"float\", [None, n_input])\n",
    "    is_train = tf.placeholder(\"bool\")\n",
    "    input_keep_prob = tf.placeholder(tf.float32)\n",
    "    hidden_keep_prob = tf.placeholder(tf.float32)\n",
    "    weights, biases = ini_weights(n_input, n_hidden_1, n_hidden_2, n_hidden_3, n_output)\n",
    "    pred = multilayer_perceptron(x, weights, biases, input_keep_prob, hidden_keep_prob)\n",
    "    saver = tf.train.Saver()\n",
    "    with tf.Session() as sess:\n",
    "        saver.restore(sess, model_location)\n",
    "        start_time = time.time()\n",
    "        y_pred = sess.run(pred, feed_dict={x: X, input_keep_prob: 1, hidden_keep_prob: 1, is_train: False})\n",
    "        testtime = time.time() - start_time\n",
    "        # print(\"testing time: %0.2f s\" % testtime)\n",
    "        if binary==1:\n",
    "            y_pred[y_pred >= 0.5] = 1\n",
    "            y_pred[y_pred < 0.5] = 0\n",
    "        sio.savemat(save_name, {'pred': y_pred})\n",
    "    return y_pred\n",
    "\n",
    "# 3 layers (output layer without relu) + dropout layers RMS optimizer LR: 0.001\n"
   ]
  },
  {
   "cell_type": "code",
   "execution_count": 285,
   "metadata": {},
   "outputs": [],
   "source": [
    "def DtoComplex(XX, dim):\n",
    "    size=XX.shape[1]\n",
    "    X=np.empty( (XX.shape[0], dim), dtype= np.complex128 )\n",
    "    for loop in range(dim):\n",
    "        X[:,loop]=XX[:,loop*2]\n",
    "        X[:,loop]=X[:,loop]+1j*XX[:, loop*2+1]\n",
    "#     X[1,1]=XX[1,0]+1j*XX[1,1]\n",
    "#     print(XX[2,:])\n",
    "#     print(X[1,:])\n",
    "    return X"
   ]
  },
  {
   "cell_type": "code",
   "execution_count": 294,
   "metadata": {},
   "outputs": [],
   "source": [
    "def obj_sum_rate(xtest, y_pred,M,N,K, samples):\n",
    "    # H ： sampels*12\n",
    "    sum_rate=[]\n",
    "    for i in range(samples):\n",
    "        rate_nn=0\n",
    "        H=np.reshape(xtest[i,:],[M,N,K])\n",
    "        pnn=np.reshape(y_pred[i,:],[M,N,K])      \n",
    "        for j in range(K):\n",
    "            if j==i:\n",
    "                rate_nn = rate_nn+np.real(np.log2(np.linalg.det(np.eye(M)+H[:,:,j] * pnn[:,:,j] * np.transpose(H[:,:,j]))))\n",
    "            else:\n",
    "                pnn[:,:,j]=pnn[:,:,j]+pnn[:,:,j-1]\n",
    "                rate_nn = rate_nn+np.real(np.log2(np.linalg.det(np.eye(M)+H[:,:,j] * pnn[:,:,j] * np.transpose(H[:,:,j]))/np.linalg.det((np.eye(M)+H[:,:,j] * pnn[:,:,j-1] * np.transpose(H[:,:,j])))))\n",
    "        sum_rate.append(rate_nn)\n",
    "    return sum_rate\n"
   ]
  },
  {
   "cell_type": "code",
   "execution_count": 297,
   "metadata": {},
   "outputs": [
    {
     "name": "stdout",
     "output_type": "stream",
     "text": [
      "INFO:tensorflow:Restoring parameters from ./DNN3/model_demo.ckpt\n",
      "INFO:tensorflow:Restoring parameters from ./DNN3/model_demo.ckpt\n",
      "INFO:tensorflow:Restoring parameters from ./DNN3/model_demo.ckpt\n",
      "10000\n",
      "10000\n"
     ]
    }
   ],
   "source": [
    "model_location = \"./DNN3/model_demo.ckpt\"\n",
    "ypred=test(Xtest, model_location, \"Prediction_Dnn3_10000\", 24,24, binary=0)\n",
    "trainPred=test(x_train, model_location, \"Prediction_Dnn3_50000Tr\", 24,24, binary=0)\n",
    "valPred=test(x_val, model_location, \"Prediction_Dnn3_50000Val\", 24,24, binary=0)\n",
    "D=12\n",
    "xtest=DtoComplex(Xtest,12)\n",
    "ytest=DtoComplex(Ytest,12)\n",
    "ypred=DtoComplex(ypred,12)\n",
    "\n",
    "# train & val\n",
    "xtrain=DtoComplex(x_train,12)\n",
    "ytrain=DtoComplex(y_train,12)\n",
    "trainPred=DtoComplex(trainPred,12)\n",
    "xval=DtoComplex(x_val,12)\n",
    "yval=DtoComplex(y_val,12)\n",
    "valPred=DtoComplex(valPred,12)\n",
    "\n",
    "# test\n",
    "nnsumRate=obj_sum_rate(xtest, ypred,2,2,3, 10000)\n",
    "IWFsumRate=obj_sum_rate(xtest, ytest,2,2,3, 10000)\n",
    "#trian\n",
    "nnSRTrain=obj_sum_rate(xtrain, trainPred,2,2,3, 35000)\n",
    "IWFSRTrain=obj_sum_rate(xtrain, ytrain,2,2,3, 35000)\n",
    "# validation\n",
    "nnSRVal=obj_sum_rate(xval, yval,2,2,3, 15000)\n",
    "IWFSRVal=obj_sum_rate(xval, valPred,2,2,3, 15000)\n",
    "\n",
    "print(len(nnsumRate))\n",
    "print(len(IWFsumRate))"
   ]
  },
  {
   "cell_type": "code",
   "execution_count": 308,
   "metadata": {
    "scrolled": true
   },
   "outputs": [
    {
     "data": {
      "text/plain": [
       "0"
      ]
     },
     "execution_count": 308,
     "metadata": {},
     "output_type": "execute_result"
    },
    {
     "data": {
      "image/png": "[encoded data removed]",
      "text/plain": [
       "<Figure size 432x288 with 3 Axes>"
      ]
     },
     "metadata": {},
     "output_type": "display_data"
    }
   ],
   "source": [
    "def CDF_Plot(sumRate1, sumRate2, label1= 'DNN', label2= 'IWF'):\n",
    "    a = np.array(sumRate1) # your array of numbers\n",
    "    num_bins1 = np.linspace(0, max(sumRate1), 50)\n",
    "    counts1, bin_edges1 = np.histogram(a, bins='auto', normed=True)\n",
    "    cdf1 = np.cumsum(counts1*np.diff(bin_edges1))\n",
    "\n",
    "    b = np.array(sumRate2) # your array of numbers\n",
    "    num_bins2 = np.linspace(0, max(sumRate2), 50)\n",
    "    counts2, bin_edges2 = np.histogram(b, bins='auto', normed=True)\n",
    "    cdf2 = np.cumsum(counts2*np.diff(bin_edges2))\n",
    "\n",
    "#     plt.figure(1)\n",
    "#     plt.subplot(221)\n",
    "#     plt.title('CDF Analysis')\n",
    "    # plt.xlim([0, 6])\n",
    "    plt.xlabel('sum-rate')\n",
    "    plt.plot(bin_edges1[1:], cdf1, color='black', label=label1)\n",
    "    plt.plot(bin_edges2[1:],cdf2,color='red', label=label2)\n",
    "    plt.legend()\n",
    "    return 0\n",
    "plt.figure(1)\n",
    "plt.subplot(311)\n",
    "plt.title('CDF AnalysisTest')\n",
    "CDF_Plot(nnsumRate,IWFsumRate, 'DNNTest', 'IWFTest')\n",
    "plt.subplot(312)\n",
    "plt.title('CDF Analysis_Train')\n",
    "CDF_Plot(nnSRTrain,IWFSRTrain, 'DNNTrain', 'IWFTrain')\n",
    "\n",
    "plt.subplot(313)\n",
    "plt.title('CDF Analysis_val')\n",
    "CDF_Plot(nnSRVal,IWFSRVal, 'DNNVal', 'IWFVal')\n"
   ]
  },
  {
   "cell_type": "code",
   "execution_count": 2,
   "metadata": {},
   "outputs": [
    {
     "ename": "NameError",
     "evalue": "name 'nnsumRate' is not defined",
     "output_type": "error",
     "traceback": [
      "\u001b[0;31m---------------------------------------------------------------------------\u001b[0m",
      "\u001b[0;31mNameError\u001b[0m                                 Traceback (most recent call last)",
      "\u001b[0;32m<ipython-input-2-80ad7790d439>\u001b[0m in \u001b[0;36m<module>\u001b[0;34m()\u001b[0m\n\u001b[1;32m     15\u001b[0m \u001b[0mplt\u001b[0m\u001b[0;34m.\u001b[0m\u001b[0msubplot\u001b[0m\u001b[0;34m(\u001b[0m\u001b[0;36m211\u001b[0m\u001b[0;34m)\u001b[0m\u001b[0;34m\u001b[0m\u001b[0m\n\u001b[1;32m     16\u001b[0m \u001b[0mplt\u001b[0m\u001b[0;34m.\u001b[0m\u001b[0mtitle\u001b[0m\u001b[0;34m(\u001b[0m\u001b[0;34m'Hist AnalysisTest'\u001b[0m\u001b[0;34m)\u001b[0m\u001b[0;34m\u001b[0m\u001b[0m\n\u001b[0;32m---> 17\u001b[0;31m \u001b[0mhistPlot\u001b[0m\u001b[0;34m(\u001b[0m\u001b[0mnnsumRate\u001b[0m\u001b[0;34m,\u001b[0m\u001b[0mIWFsumRate\u001b[0m\u001b[0;34m,\u001b[0m \u001b[0;34m[\u001b[0m\u001b[0;34m'DNNTest'\u001b[0m\u001b[0;34m,\u001b[0m \u001b[0;34m'IWFTest'\u001b[0m\u001b[0;34m]\u001b[0m\u001b[0;34m)\u001b[0m\u001b[0;34m\u001b[0m\u001b[0m\n\u001b[0m\u001b[1;32m     18\u001b[0m \u001b[0mplt\u001b[0m\u001b[0;34m.\u001b[0m\u001b[0msubplot\u001b[0m\u001b[0;34m(\u001b[0m\u001b[0;36m212\u001b[0m\u001b[0;34m)\u001b[0m\u001b[0;34m\u001b[0m\u001b[0m\n\u001b[1;32m     19\u001b[0m \u001b[0mplt\u001b[0m\u001b[0;34m.\u001b[0m\u001b[0mtitle\u001b[0m\u001b[0;34m(\u001b[0m\u001b[0;34m'Hist Analysis_Train'\u001b[0m\u001b[0;34m)\u001b[0m\u001b[0;34m\u001b[0m\u001b[0m\n",
      "\u001b[0;31mNameError\u001b[0m: name 'nnsumRate' is not defined"
     ]
    },
    {
     "data": {
      "image/png": "[encoded data removed]",
      "text/plain": [
       "<Figure size 432x288 with 1 Axes>"
      ]
     },
     "metadata": {},
     "output_type": "display_data"
    }
   ],
   "source": [
    "def histPlot(sumRate1,sumRate2, label=['DNN', 'IWF']):\n",
    "#     plt.figure('%d'%K)\n",
    "    plt.style.use('seaborn-deep')\n",
    "    data = np.vstack([sumRate1, sumRate2]).T\n",
    "    bins = np.linspace(0, max(sumRate2),50)\n",
    "    plt.hist(data, bins, alpha=0.7, label=label)\n",
    "#     plt.legend(loc='upper right')\n",
    "    plt.xlim([0, 5])\n",
    "    plt.xlabel('sum-rate')\n",
    "    plt.ylabel('number of samples')\n",
    "    #     plt.savefig('Histogram_%d.eps'%K, format='eps', dpi=1000)\n",
    "    plt.show()\n",
    "    return 0\n",
    "plt.figure(2)\n",
    "plt.subplot(211)\n",
    "plt.title('Hist AnalysisTest')\n",
    "histPlot(nnsumRate,IWFsumRate, ['DNNTest', 'IWFTest'])\n",
    "plt.subplot(212)\n",
    "plt.title('Hist Analysis_Train')\n",
    "histPlot(nnSRTrain,IWFSRTrain, ['DNNTrain', 'IWFTrain'])\n"
   ]
  },
  {
   "cell_type": "code",
   "execution_count": 314,
   "metadata": {},
   "outputs": [
    {
     "name": "stdout",
     "output_type": "stream",
     "text": [
      "Sum-rate: IWF: 2.525, DNN: 0.324\n",
      "Ratio: DNN: 12.818%\n",
      "\n",
      "Sum-rate: IWF: 2.524, DNN: 0.326\n",
      "Ratio: DNN: 12.923%\n",
      "\n"
     ]
    },
    {
     "data": {
      "text/plain": [
       "0"
      ]
     },
     "execution_count": 314,
     "metadata": {},
     "output_type": "execute_result"
    }
   ],
   "source": [
    "def performance(sumRate1,sumRate2, num):\n",
    "# sumRate1, IWF; sumRate2, NN\n",
    "    print('Sum-rate: IWF: %0.3f, DNN: %0.3f'%(sum(sumRate1)/num, sum(sumRate2)/num))\n",
    "    print('Ratio: DNN: %0.3f%%\\n' % (sum(sumRate2) / sum(sumRate1)* 100))\n",
    "    return 0\n",
    "performance(IWFsumRate, nnsumRate, 10000)\n",
    "performance(IWFSRTrain, nnSRTrain, 35000)"
   ]
  },
  {
   "cell_type": "code",
   "execution_count": null,
   "metadata": {},
   "outputs": [],
   "source": []
  },
  {
   "cell_type": "code",
   "execution_count": 132,
   "metadata": {},
   "outputs": [],
   "source": [
    "def testPerformance(X, model_location, save_name, n_input, n_output, n_hidden_1 = 200, n_hidden_2 = 80, n_hidden_3 = 80, binary=0):\n",
    "    tf.reset_default_graph()\n",
    "    x = tf.placeholder(\"float\", [None, n_input])\n",
    "    is_train = tf.placeholder(\"bool\")\n",
    "    input_keep_prob = tf.placeholder(tf.float32)\n",
    "    hidden_keep_prob = tf.placeholder(tf.float32)\n",
    "    weights, biases = ini_weights(n_input, n_hidden_1, n_hidden_2, n_hidden_3, n_output)\n",
    "    pred = multilayer_perceptron(x, weights, biases, input_keep_prob, hidden_keep_prob)\n",
    "    saver = tf.train.Saver()\n",
    "    with tf.Session() as sess:\n",
    "        saver.restore(sess, model_location)\n",
    "        start_time = time.time()\n",
    "        y_pred = sess.run(pred, feed_dict={x: X, input_keep_prob: 1, hidden_keep_prob: 1, is_train: False})\n",
    "        testtime = time.time() - start_time\n",
    "        # print(\"testing time: %0.2f s\" % testtime)\n",
    "        if binary==1:\n",
    "            y_pred[y_pred >= 0.5] = 1\n",
    "            y_pred[y_pred < 0.5] = 0\n",
    "        sio.savemat(save_name, {'pred': y_pred})\n",
    "    return testtime\n",
    "\n",
    "\n",
    "\n",
    "def obj_sum_rate(x_test, y_prey,M,N,K, samples):\n",
    "    # H ： sampels*24\n",
    "    sum_rate=[]\n",
    "    for i in range(samples):\n",
    "        rate_nn=0\n",
    "        H=tf.reshape(x_test[i,:],[M,N,K])\n",
    "        pnn=tf.reshape(y_prey[i,:],[M,N,K])      \n",
    "        for j in range(K):\n",
    "            if j==i:\n",
    "                rate_nn = rate_nn+tf.real(np.log2(np.linalg.det(np.eye(M)+H[:,:,j] * pnn[:,:,j] * np.transpose(H[:,:,j]))))\n",
    "            else:\n",
    "                p_nn[:,:,index]=p_nn[:,:,index]+p_nn[:,:,index-1]\n",
    "                rate_nn = rate_nn+tf.real(np.log2(np.linalg.det(np.eye(M)+H[:,:,j] * pnn[:,:,j] * np.transpose(H[:,:,j]))))/np.linalg.det((np.eye(M)+H[:,:,j] * pnn[:,:,j-1] * np.transpose(H[:,:,j])))\n",
    "        sum_rate.append(rate_nn)\n",
    "    return sum_rate\n",
    "\n",
    "\n",
    "def WMMSE_sum_rate(p_int, H, Pmax, var_noise):\n",
    "    K = np.size(p_int)\n",
    "    vnew = 0\n",
    "    b = np.sqrt(p_int)\n",
    "    f = np.zeros(K)\n",
    "    w = np.zeros(K)\n",
    "    for i in range(K):\n",
    "        # print(np.square(H[i, :]),np.square(b))\n",
    "        f[i] = H[i, i] * b[i] / (sum(np.square(H[i, :]) * np.square(b)) + var_noise)\n",
    "        w[i] = 1 / (1 - f[i] * b[i] * H[i, i])\n",
    "        vnew = vnew + math.log2(w[i])\n",
    "\n",
    "    VV = np.zeros(100)\n",
    "    for iter in range(100):\n",
    "        vold = vnew\n",
    "        for i in range(K):\n",
    "            btmp = w[i] * f[i] * H[i, i] / sum(w * np.square(f) * np.square(H[:, i]))\n",
    "            b[i] = min(btmp, np.sqrt(Pmax)) + max(btmp, 0) - btmp\n",
    "\n",
    "        vnew = 0\n",
    "        for i in range(K):\n",
    "            f[i] = H[i, i] * b[i] / (sum(np.square(H[i, :]) * np.square(b)) + var_noise)\n",
    "            w[i] = 1 / (1 - f[i] * b[i] * H[i, i])\n",
    "            vnew = vnew + math.log2(w[i])\n",
    "\n",
    "        VV[iter] = vnew\n",
    "        if vnew - vold <= 1e-3:\n",
    "            break\n",
    "\n",
    "    p_opt = np.square(b)\n",
    "    return p_opt\n",
    "\n",
    "# Functions for performance evaluation\n",
    "def perf_eval(H, Py_p, NN_p, K, var_noise=1):\n",
    "    num_sample = H.shape[2]\n",
    "    pyrate = np.zeros(num_sample)\n",
    "    nnrate = np.zeros(num_sample)\n",
    "    mprate = np.zeros(num_sample)\n",
    "    rdrate = np.zeros(num_sample)\n",
    "    for i in range(num_sample):\n",
    "        pyrate[i] = obj_IA_sum_rate(H[:, :, i], Py_p[:, i], var_noise, K)\n",
    "        nnrate[i] = obj_IA_sum_rate(H[:, :, i], NN_p[i, :], var_noise, K)\n",
    "        mprate[i] = obj_IA_sum_rate(H[:, :, i], np.ones(K), var_noise, K)\n",
    "        rdrate[i] = obj_IA_sum_rate(H[:, :, i], np.random.rand(K,1), var_noise, K)\n",
    "    print('Sum-rate: WMMSE: %0.3f, DNN: %0.3f, Max Power: %0.3f, Random Power: %0.3f'%(sum(pyrate)/num_sample, sum(nnrate)/num_sample, sum(mprate)/num_sample, sum(rdrate)/num_sample))\n",
    "    print('Ratio: DNN: %0.3f%%, Max Power: %0.3f%%, Random Power: %0.3f%%\\n' % (sum(nnrate) / sum(pyrate)* 100, sum(mprate) / sum(pyrate) * 100, sum(rdrate) / sum(pyrate) * 100))\n",
    "\n",
    "    plt.figure('%d'%K)\n",
    "    plt.style.use('seaborn-deep')\n",
    "    data = np.vstack([pyrate, nnrate]).T\n",
    "    bins = np.linspace(0, max(pyrate), 50)\n",
    "    plt.hist(data, bins, alpha=0.7, label=['WMMSE', 'DNN'])\n",
    "    plt.legend(loc='upper right')\n",
    "    plt.xlim([0, 8])\n",
    "    plt.xlabel('sum-rate')\n",
    "    plt.ylabel('number of samples')\n",
    "    plt.savefig('Histogram_%d.eps'%K, format='eps', dpi=1000)\n",
    "    plt.show()\n",
    "    return 0\n"
   ]
  }
 ],
 "metadata": {
  "kernelspec": {
   "display_name": "Python 3",
   "language": "python",
   "name": "python3"
  },
  "language_info": {
   "codemirror_mode": {
    "name": "ipython",
    "version": 3
   },
   "file_extension": ".py",
   "mimetype": "text/x-python",
   "name": "python",
   "nbconvert_exporter": "python",
   "pygments_lexer": "ipython3",
   "version": "3.6.6"
  }
 },
 "nbformat": 4,
 "nbformat_minor": 2
}
