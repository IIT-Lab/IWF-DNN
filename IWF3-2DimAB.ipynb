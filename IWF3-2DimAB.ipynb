{
 "cells": [
  {
   "cell_type": "markdown",
   "metadata": {},
   "source": [
    "# For M=2,N=2,K=3   24 dimension"
   ]
  },
  {
   "cell_type": "code",
   "execution_count": 1,
   "metadata": {},
   "outputs": [
    {
     "name": "stdout",
     "output_type": "stream",
     "text": [
      "/Users/user/Desktop/IWF-DNN/data2DComplex\n"
     ]
    },
    {
     "name": "stderr",
     "output_type": "stream",
     "text": [
      "/Users/user/anaconda2/envs/haha/lib/python3.6/site-packages/sklearn/cross_validation.py:41: DeprecationWarning: This module was deprecated in version 0.18 in favor of the model_selection module into which all the refactored classes and functions are moved. Also note that the interface of the new CV iterators are different from that of this module. This module will be removed in 0.20.\n",
      "  \"This module will be removed in 0.20.\", DeprecationWarning)\n"
     ]
    }
   ],
   "source": [
    "%cd /Users/user/Desktop/IWF-DNN/data2DComplex\n",
    "%pwd\n",
    "import os\n",
    "import tensorflow as tf\n",
    "import numpy as np\n",
    "import pandas as pd\n",
    "import matplotlib.pyplot as plt\n",
    "from __future__ import print_function\n",
    "import scipy.io as sio\n",
    "import time\n",
    "from sklearn.cross_validation import train_test_split\n",
    "%matplotlib inline"
   ]
  },
  {
   "cell_type": "markdown",
   "metadata": {},
   "source": [
    "## Training data"
   ]
  },
  {
   "cell_type": "code",
   "execution_count": 2,
   "metadata": {},
   "outputs": [],
   "source": [
    "DateLocation='MIMO50000_3.mat'\n",
    "Data = sio.loadmat(DateLocation)#load data\n",
    "Xdata=Data['X']\n",
    "Ydata=Data['Y']\n",
    "Xdata = np.transpose(Xdata)\n",
    "Ydata = np.transpose(Ydata)\n",
    "X = np.column_stack((np.real(Xdata), np.imag(Xdata)))\n",
    "Y = np.column_stack((np.real(Ydata), np.imag(Ydata)))\n",
    "x_train, x_val ,y_train, y_val= train_test_split(X, Y, test_size=0.3)"
   ]
  },
  {
   "cell_type": "code",
   "execution_count": 3,
   "metadata": {},
   "outputs": [],
   "source": [
    "DateLocation='MIMO5000_3.mat'\n",
    "DataTest10000 = sio.loadmat(DateLocation)#load data\n",
    "Xtest=DataTest10000['X']\n",
    "Xtest = np.transpose(Xtest)\n",
    "Ytest=DataTest10000['Y']\n",
    "Ytest = np.transpose(Ytest)\n",
    "Xtest = np.column_stack((np.real(Xtest), np.imag(Xtest)))\n",
    "Ytest = np.column_stack((np.real(Ytest), np.imag(Ytest)))"
   ]
  },
  {
   "cell_type": "markdown",
   "metadata": {},
   "source": [
    "# Preprocessing Standard"
   ]
  },
  {
   "cell_type": "code",
   "execution_count": 4,
   "metadata": {},
   "outputs": [],
   "source": [
    "from sklearn.preprocessing import StandardScaler  \n",
    "scaler = StandardScaler()  \n",
    "# Don't cheat - fit only on training data\n",
    "scaler.fit(x_train)  \n",
    "x_train_standard = scaler.transform(x_train)  \n",
    "x_val_standard = scaler.transform(x_val)  \n",
    "Xtest_standard = scaler.transform(Xtest)  "
   ]
  },
  {
   "cell_type": "markdown",
   "metadata": {},
   "source": [
    "# Preprocess autoencoder"
   ]
  },
  {
   "cell_type": "code",
   "execution_count": 5,
   "metadata": {},
   "outputs": [
    {
     "name": "stderr",
     "output_type": "stream",
     "text": [
      "Using TensorFlow backend.\n"
     ]
    },
    {
     "name": "stdout",
     "output_type": "stream",
     "text": [
      "Train on 35000 samples, validate on 15000 samples\n",
      "Epoch 1/30\n",
      "35000/35000 [==============================] - 2s 59us/step - loss: 0.1303 - val_loss: -0.0202\n",
      "Epoch 2/30\n",
      "35000/35000 [==============================] - 2s 56us/step - loss: -0.1322 - val_loss: -0.2389\n",
      "Epoch 3/30\n",
      "35000/35000 [==============================] - 2s 56us/step - loss: -0.3325 - val_loss: -0.4126\n",
      "Epoch 4/30\n",
      "35000/35000 [==============================] - 2s 68us/step - loss: -0.4845 - val_loss: -0.5537\n",
      "Epoch 5/30\n",
      "35000/35000 [==============================] - 2s 63us/step - loss: -0.6240 - val_loss: -0.6883\n",
      "Epoch 6/30\n",
      "35000/35000 [==============================] - 2s 68us/step - loss: -0.7414 - val_loss: -0.7950\n",
      "Epoch 7/30\n",
      "35000/35000 [==============================] - 2s 69us/step - loss: -0.8464 - val_loss: -0.8982\n",
      "Epoch 8/30\n",
      "35000/35000 [==============================] - 2s 64us/step - loss: -0.9546 - val_loss: -0.9977\n",
      "Epoch 9/30\n",
      "35000/35000 [==============================] - 2s 61us/step - loss: -1.0422 - val_loss: -1.0871\n",
      "Epoch 10/30\n",
      "35000/35000 [==============================] - 2s 54us/step - loss: -1.1286 - val_loss: -1.1691\n",
      "Epoch 11/30\n",
      "35000/35000 [==============================] - 2s 54us/step - loss: -1.2065 - val_loss: -1.2508\n",
      "Epoch 12/30\n",
      "35000/35000 [==============================] - 2s 54us/step - loss: -1.2828 - val_loss: -1.3269\n",
      "Epoch 13/30\n",
      "35000/35000 [==============================] - 2s 58us/step - loss: -1.3614 - val_loss: -1.3999\n",
      "Epoch 14/30\n",
      "35000/35000 [==============================] - 2s 63us/step - loss: -1.4286 - val_loss: -1.4646\n",
      "Epoch 15/30\n",
      "35000/35000 [==============================] - 2s 59us/step - loss: -1.4942 - val_loss: -1.5296\n",
      "Epoch 16/30\n",
      "35000/35000 [==============================] - 2s 67us/step - loss: -1.5566 - val_loss: -1.5825\n",
      "Epoch 17/30\n",
      "35000/35000 [==============================] - 2s 70us/step - loss: -1.6072 - val_loss: -1.6367\n",
      "Epoch 18/30\n",
      "35000/35000 [==============================] - 2s 61us/step - loss: -1.6562 - val_loss: -1.6849\n",
      "Epoch 19/30\n",
      "35000/35000 [==============================] - 2s 68us/step - loss: -1.7048 - val_loss: -1.7290\n",
      "Epoch 20/30\n",
      "35000/35000 [==============================] - 2s 69us/step - loss: -1.7486 - val_loss: -1.7716\n",
      "Epoch 21/30\n",
      "35000/35000 [==============================] - 2s 66us/step - loss: -1.7867 - val_loss: -1.8085\n",
      "Epoch 22/30\n",
      "35000/35000 [==============================] - 2s 61us/step - loss: -1.8238 - val_loss: -1.8426\n",
      "Epoch 23/30\n",
      "35000/35000 [==============================] - 2s 59us/step - loss: -1.8615 - val_loss: -1.8775\n",
      "Epoch 24/30\n",
      "35000/35000 [==============================] - 2s 57us/step - loss: -1.8973 - val_loss: -1.9127\n",
      "Epoch 25/30\n",
      "35000/35000 [==============================] - 2s 70us/step - loss: -1.9296 - val_loss: -1.9394\n",
      "Epoch 26/30\n",
      "35000/35000 [==============================] - 3s 81us/step - loss: -1.9542 - val_loss: -1.9601\n",
      "Epoch 27/30\n",
      "35000/35000 [==============================] - 3s 72us/step - loss: -1.9786 - val_loss: -1.9820\n",
      "Epoch 28/30\n",
      "35000/35000 [==============================] - 3s 82us/step - loss: -2.0002 - val_loss: -2.0027\n",
      "Epoch 29/30\n",
      "35000/35000 [==============================] - 3s 76us/step - loss: -2.0216 - val_loss: -2.0217\n",
      "Epoch 30/30\n",
      "35000/35000 [==============================] - 2s 65us/step - loss: -2.0396 - val_loss: -2.0412\n"
     ]
    },
    {
     "data": {
      "text/plain": [
       "<keras.callbacks.History at 0x1a25e3dbe0>"
      ]
     },
     "execution_count": 5,
     "metadata": {},
     "output_type": "execute_result"
    }
   ],
   "source": [
    "from keras.layers import Input, Dense\n",
    "from keras.models import Model\n",
    "\n",
    "# this is the size of our encoded representations\n",
    "encoding_dim = 10  # 32 floats -> compression of factor 24.5, assuming the input is 784 floats\n",
    "input_dim=24\n",
    "# this is our input placeholder\n",
    "input_img = Input(shape=(input_dim,))\n",
    "# \"encoded\" is the encoded representation of the input\n",
    "encoded = Dense(encoding_dim, activation='relu')(input_img)\n",
    "# \"decoded\" is the lossy reconstruction of the input\n",
    "decoded = Dense(input_dim, activation='relu')(encoded)\n",
    "\n",
    "# #this model maps an input to its reconstruction\n",
    "autoencoder = Model(input_img, decoded)\n",
    "\n",
    "# #a separate encoder model\n",
    "encoder = Model(input_img, encoded)\n",
    "##a separate decoder model\n",
    "encoded_input = Input(shape=(encoding_dim,))\n",
    "# retrieve the last layer of the autoencoder model\n",
    "decoder_layer = autoencoder.layers[-1]\n",
    "# create the decoder model\n",
    "decoder = Model(encoded_input, decoder_layer(encoded_input))\n",
    "autoencoder.compile(optimizer='adadelta', loss='binary_crossentropy')\n",
    "autoencoder.fit(x_train, x_train,\n",
    "                epochs=30,\n",
    "                batch_size=50,\n",
    "                shuffle=True,\n",
    "                validation_data=(x_val, x_val))"
   ]
  },
  {
   "cell_type": "markdown",
   "metadata": {},
   "source": [
    "# sparsity add regularizer"
   ]
  },
  {
   "cell_type": "code",
   "execution_count": 44,
   "metadata": {},
   "outputs": [],
   "source": [
    "# tensorboard --logdir=/tmp/autoencoder\n",
    "\n",
    "from keras.layers import Input, Dense\n",
    "from keras import regularizers\n",
    "from keras.models import Model\n",
    "from keras.callbacks import TensorBoard\n",
    "\n",
    "\n",
    "# this is the size of our encoded representations\n",
    "encoding_dim = 10  # 32 floats -> compression of factor 24.5, assuming the input is 784 floats\n",
    "input_dim=24\n",
    "# this is our input placeholder\n",
    "input_img = Input(shape=(input_dim,))\n",
    "# \"encoded\" is the encoded representation of the input\n",
    "encoded = Dense(encoding_dim, activation='relu',activity_regularizer=regularizers.l1(10e-5))(input_img)\n",
    "# \"decoded\" is the lossy reconstruction of the input\n",
    "decoded = Dense(input_dim, activation='relu')(encoded)\n",
    "\n",
    "# #this model maps an input to its reconstruction\n",
    "autoencoder = Model(input_img, decoded)\n",
    "\n",
    "# #a separate encoder model\n",
    "encoder = Model(input_img, encoded)\n",
    "##a separate decoder model\n",
    "encoded_input = Input(shape=(encoding_dim,))\n",
    "# retrieve the last layer of the autoencoder model\n",
    "decoder_layer = autoencoder.layers[-1]\n",
    "# create the decoder model\n",
    "decoder = Model(encoded_input, decoder_layer(encoded_input))\n",
    "autoencoder.compile(optimizer='adadelta', loss='binary_crossentropy')\n",
    "# autoencoder.fit(x_train, x_train,\n",
    "#                 epochs=30,\n",
    "#                 batch_size=50,\n",
    "#                 shuffle=True,\n",
    "#                 validation_data=(x_val, x_val))"
   ]
  },
  {
   "cell_type": "code",
   "execution_count": 45,
   "metadata": {},
   "outputs": [
    {
     "name": "stdout",
     "output_type": "stream",
     "text": [
      "Train on 35000 samples, validate on 15000 samples\n",
      "Epoch 1/20\n",
      "35000/35000 [==============================] - 1s 30us/step - loss: 0.6027 - val_loss: 0.4943\n",
      "Epoch 2/20\n",
      "35000/35000 [==============================] - 1s 27us/step - loss: 0.4463 - val_loss: 0.3793\n",
      "Epoch 3/20\n",
      "35000/35000 [==============================] - 1s 27us/step - loss: 0.3221 - val_loss: 0.2565\n",
      "Epoch 4/20\n",
      "35000/35000 [==============================] - 1s 25us/step - loss: 0.2099 - val_loss: 0.1543\n",
      "Epoch 5/20\n",
      "35000/35000 [==============================] - 1s 27us/step - loss: 0.1099 - val_loss: 0.0596\n",
      "Epoch 6/20\n",
      "35000/35000 [==============================] - 1s 29us/step - loss: 0.0196 - val_loss: -0.0279\n",
      "Epoch 7/20\n",
      "35000/35000 [==============================] - 1s 26us/step - loss: -0.0687 - val_loss: -0.1244\n",
      "Epoch 8/20\n",
      "35000/35000 [==============================] - 1s 27us/step - loss: -0.1718 - val_loss: -0.2191\n",
      "Epoch 9/20\n",
      "35000/35000 [==============================] - 1s 26us/step - loss: -0.2479 - val_loss: -0.2818\n",
      "Epoch 10/20\n",
      "35000/35000 [==============================] - 1s 27us/step - loss: -0.3158 - val_loss: -0.3499\n",
      "Epoch 11/20\n",
      "35000/35000 [==============================] - 1s 29us/step - loss: -0.3772 - val_loss: -0.4110\n",
      "Epoch 12/20\n",
      "35000/35000 [==============================] - 1s 28us/step - loss: -0.4485 - val_loss: -0.4762\n",
      "Epoch 13/20\n",
      "35000/35000 [==============================] - 1s 28us/step - loss: -0.5109 - val_loss: -0.5451\n",
      "Epoch 14/20\n",
      "35000/35000 [==============================] - 1s 29us/step - loss: -0.5762 - val_loss: -0.5973\n",
      "Epoch 15/20\n",
      "35000/35000 [==============================] - 1s 30us/step - loss: -0.6345 - val_loss: -0.6531\n",
      "Epoch 16/20\n",
      "35000/35000 [==============================] - 1s 31us/step - loss: -0.6924 - val_loss: -0.7087\n",
      "Epoch 17/20\n",
      "35000/35000 [==============================] - 1s 29us/step - loss: -0.7394 - val_loss: -0.7479\n",
      "Epoch 18/20\n",
      "35000/35000 [==============================] - 1s 38us/step - loss: -0.7827 - val_loss: -0.7966\n",
      "Epoch 19/20\n",
      "35000/35000 [==============================] - 1s 30us/step - loss: -0.8303 - val_loss: -0.8465\n",
      "Epoch 20/20\n",
      "35000/35000 [==============================] - 1s 32us/step - loss: -0.8785 - val_loss: -0.8882\n"
     ]
    }
   ],
   "source": [
    "hist = autoencoder.fit(x_train, x_train,\n",
    "                epochs=20,\n",
    "                batch_size=128,\n",
    "                shuffle=True,\n",
    "                validation_data=(x_val, x_val),\n",
    "                callbacks=[TensorBoard(log_dir='/tmp/autoencoder')])"
   ]
  },
  {
   "cell_type": "code",
   "execution_count": 53,
   "metadata": {},
   "outputs": [
    {
     "data": {
      "text/plain": [
       "{'val_loss': [0.4942568023840586,\n",
       "  0.3792643934726715,\n",
       "  0.256501881980896,\n",
       "  0.15427785414059958,\n",
       "  0.05961232646306356,\n",
       "  -0.02789026977221171,\n",
       "  -0.12439179708162944,\n",
       "  -0.2190685319662094,\n",
       "  -0.28183508360385895,\n",
       "  -0.34988927804629005,\n",
       "  -0.41097816581726077,\n",
       "  -0.4762449827671051,\n",
       "  -0.5451038191954295,\n",
       "  -0.5973237241109213,\n",
       "  -0.6531087720076243,\n",
       "  -0.7087386338392894,\n",
       "  -0.7478979450543721,\n",
       "  -0.7965647176901499,\n",
       "  -0.8464896390914917,\n",
       "  -0.8881882734298706],\n",
       " 'loss': [0.602698714705876,\n",
       "  0.44626489074230197,\n",
       "  0.3220555942126683,\n",
       "  0.2099007640157427,\n",
       "  0.10990955590861184,\n",
       "  0.01955617721421378,\n",
       "  -0.06873306191308158,\n",
       "  -0.17180214038746697,\n",
       "  -0.24787395424842834,\n",
       "  -0.31578097946111644,\n",
       "  -0.37719745328085763,\n",
       "  -0.448466634954725,\n",
       "  -0.5108672050476074,\n",
       "  -0.5762294723544802,\n",
       "  -0.6345136348315648,\n",
       "  -0.6924351553780692,\n",
       "  -0.7393561772755214,\n",
       "  -0.7826857903208051,\n",
       "  -0.8302678568158831,\n",
       "  -0.878534673336574]}"
      ]
     },
     "execution_count": 53,
     "metadata": {},
     "output_type": "execute_result"
    }
   ],
   "source": [
    "hist.history"
   ]
  },
  {
   "cell_type": "code",
   "execution_count": 62,
   "metadata": {},
   "outputs": [],
   "source": [
    "dictData={}\n",
    "dictData['test1']=hist.history"
   ]
  },
  {
   "cell_type": "code",
   "execution_count": 70,
   "metadata": {},
   "outputs": [
    {
     "data": {
      "text/plain": [
       "20"
      ]
     },
     "execution_count": 70,
     "metadata": {},
     "output_type": "execute_result"
    }
   ],
   "source": [
    "len(dictData['test1']['loss'])"
   ]
  },
  {
   "cell_type": "markdown",
   "metadata": {},
   "source": [
    "# compare complex number AABB and ABAB"
   ]
  },
  {
   "cell_type": "code",
   "execution_count": 3,
   "metadata": {},
   "outputs": [],
   "source": [
    "def plot_whole(dict_data):\n",
    "    fig_1 = plt.figure(figsize=(12,4))\n",
    "    ax_1 = fig_1.add_subplot(1,2,1)\n",
    "    ax_2 = fig_1.add_subplot(1,2,2)\n",
    "    k =int(0)\n",
    "    for data in dict_data.values():\n",
    "        ax_1.plot(np.arange(0,len(data['loss'])),data['loss'], label=list(dict_data.keys())[k])\n",
    "        ax_2.plot(np.arange(0,len(data['val_loss'])),data['val_loss'], label=list(dict_data.keys())[k])\n",
    "        k += 1\n",
    "    ax_1.legend(loc=0)\n",
    "    \n",
    "    ax_2.legend(loc=0)\n",
    "    ax_1.set_xlabel('Epoch number')\n",
    "    ax_1.set_ylabel('error(train)')\n",
    "    ax_2.set_xlabel('Epoch number')\n",
    "    ax_2.set_ylabel('error(valid)')\n",
    "    fig_1.savefig('err.pdf')\n",
    "    return fig_1, ax_1, ax_2\n",
    "\n",
    "dictData={}"
   ]
  },
  {
   "cell_type": "code",
   "execution_count": 9,
   "metadata": {},
   "outputs": [
    {
     "name": "stdout",
     "output_type": "stream",
     "text": [
      "_________________________________________________________________\n",
      "Layer (type)                 Output Shape              Param #   \n",
      "=================================================================\n",
      "dense_10 (Dense)             (None, 100)               2500      \n",
      "_________________________________________________________________\n",
      "dense_11 (Dense)             (None, 50)                5050      \n",
      "_________________________________________________________________\n",
      "dense_12 (Dense)             (None, 24)                1224      \n",
      "=================================================================\n",
      "Total params: 8,774\n",
      "Trainable params: 8,774\n",
      "Non-trainable params: 0\n",
      "_________________________________________________________________\n",
      "Train on 35000 samples, validate on 15000 samples\n",
      "Epoch 1/100\n",
      "35000/35000 [==============================] - 2s 63us/step - loss: 1.2130 - val_loss: 0.9017\n",
      "Epoch 2/100\n",
      "35000/35000 [==============================] - 2s 70us/step - loss: 0.7862 - val_loss: 0.7262\n",
      "Epoch 3/100\n",
      "35000/35000 [==============================] - 2s 64us/step - loss: 0.6838 - val_loss: 0.6734\n",
      "Epoch 4/100\n",
      "35000/35000 [==============================] - 2s 66us/step - loss: 0.6466 - val_loss: 0.6553\n",
      "Epoch 5/100\n",
      "35000/35000 [==============================] - 2s 61us/step - loss: 0.6244 - val_loss: 0.6324\n",
      "Epoch 6/100\n",
      "35000/35000 [==============================] - 2s 64us/step - loss: 0.6060 - val_loss: 0.6175\n",
      "Epoch 7/100\n",
      "35000/35000 [==============================] - 2s 60us/step - loss: 0.5886 - val_loss: 0.6032\n",
      "Epoch 8/100\n",
      "35000/35000 [==============================] - 2s 65us/step - loss: 0.5722 - val_loss: 0.5847\n",
      "Epoch 9/100\n",
      "35000/35000 [==============================] - 2s 65us/step - loss: 0.5551 - val_loss: 0.5699\n",
      "Epoch 10/100\n",
      "35000/35000 [==============================] - 3s 74us/step - loss: 0.5400 - val_loss: 0.5533\n",
      "Epoch 11/100\n",
      "35000/35000 [==============================] - 2s 61us/step - loss: 0.5252 - val_loss: 0.5420\n",
      "Epoch 12/100\n",
      "35000/35000 [==============================] - 2s 60us/step - loss: 0.5125 - val_loss: 0.5357\n",
      "Epoch 13/100\n",
      "35000/35000 [==============================] - 2s 61us/step - loss: 0.5029 - val_loss: 0.5274\n",
      "Epoch 14/100\n",
      "35000/35000 [==============================] - 2s 62us/step - loss: 0.4941 - val_loss: 0.5187\n",
      "Epoch 15/100\n",
      "35000/35000 [==============================] - 2s 59us/step - loss: 0.4869 - val_loss: 0.5126\n",
      "Epoch 16/100\n",
      "35000/35000 [==============================] - 2s 64us/step - loss: 0.4814 - val_loss: 0.5053\n",
      "Epoch 17/100\n",
      "35000/35000 [==============================] - 2s 67us/step - loss: 0.4759 - val_loss: 0.5049\n",
      "Epoch 18/100\n",
      "35000/35000 [==============================] - 2s 67us/step - loss: 0.4716 - val_loss: 0.4987\n",
      "Epoch 19/100\n",
      "35000/35000 [==============================] - 2s 64us/step - loss: 0.4677 - val_loss: 0.4936\n",
      "Epoch 20/100\n",
      "35000/35000 [==============================] - 2s 62us/step - loss: 0.4643 - val_loss: 0.4943\n",
      "Epoch 21/100\n",
      "35000/35000 [==============================] - 3s 72us/step - loss: 0.4612 - val_loss: 0.4876\n",
      "Epoch 22/100\n",
      "35000/35000 [==============================] - 2s 61us/step - loss: 0.4579 - val_loss: 0.4860\n",
      "Epoch 23/100\n",
      "35000/35000 [==============================] - 2s 56us/step - loss: 0.4549 - val_loss: 0.4864\n",
      "Epoch 24/100\n",
      "35000/35000 [==============================] - 2s 58us/step - loss: 0.4529 - val_loss: 0.4843\n",
      "Epoch 25/100\n",
      "35000/35000 [==============================] - 2s 56us/step - loss: 0.4499 - val_loss: 0.4786\n",
      "Epoch 26/100\n",
      "35000/35000 [==============================] - 2s 56us/step - loss: 0.4470 - val_loss: 0.4774\n",
      "Epoch 27/100\n",
      "35000/35000 [==============================] - 2s 56us/step - loss: 0.4448 - val_loss: 0.4764\n",
      "Epoch 28/100\n",
      "35000/35000 [==============================] - 2s 56us/step - loss: 0.4424 - val_loss: 0.4743\n",
      "Epoch 29/100\n",
      "35000/35000 [==============================] - 2s 68us/step - loss: 0.4400 - val_loss: 0.4739\n",
      "Epoch 30/100\n",
      "35000/35000 [==============================] - 2s 66us/step - loss: 0.4388 - val_loss: 0.4694\n",
      "Epoch 31/100\n",
      "35000/35000 [==============================] - 2s 68us/step - loss: 0.4358 - val_loss: 0.4698\n",
      "Epoch 32/100\n",
      "35000/35000 [==============================] - 2s 59us/step - loss: 0.4340 - val_loss: 0.4699\n",
      "Epoch 33/100\n",
      "35000/35000 [==============================] - 2s 68us/step - loss: 0.4323 - val_loss: 0.4642\n",
      "Epoch 34/100\n",
      "35000/35000 [==============================] - 2s 63us/step - loss: 0.4305 - val_loss: 0.4645\n",
      "Epoch 35/100\n",
      "35000/35000 [==============================] - 2s 64us/step - loss: 0.4283 - val_loss: 0.4602\n",
      "Epoch 36/100\n",
      "35000/35000 [==============================] - 2s 63us/step - loss: 0.4265 - val_loss: 0.4587\n",
      "Epoch 37/100\n",
      "35000/35000 [==============================] - 2s 58us/step - loss: 0.4251 - val_loss: 0.4574\n",
      "Epoch 38/100\n",
      "35000/35000 [==============================] - 2s 50us/step - loss: 0.4230 - val_loss: 0.4551\n",
      "Epoch 39/100\n",
      "35000/35000 [==============================] - 2s 55us/step - loss: 0.4218 - val_loss: 0.4555\n",
      "Epoch 40/100\n",
      "35000/35000 [==============================] - 2s 54us/step - loss: 0.4208 - val_loss: 0.4554\n",
      "Epoch 41/100\n",
      "35000/35000 [==============================] - 2s 49us/step - loss: 0.4194 - val_loss: 0.4566\n",
      "Epoch 42/100\n",
      "35000/35000 [==============================] - 2s 61us/step - loss: 0.4176 - val_loss: 0.4526\n",
      "Epoch 43/100\n",
      "35000/35000 [==============================] - 2s 51us/step - loss: 0.4167 - val_loss: 0.4538\n",
      "Epoch 44/100\n",
      "35000/35000 [==============================] - 2s 57us/step - loss: 0.4160 - val_loss: 0.4513\n",
      "Epoch 45/100\n",
      "35000/35000 [==============================] - 2s 61us/step - loss: 0.4147 - val_loss: 0.4503\n",
      "Epoch 46/100\n",
      "35000/35000 [==============================] - 2s 54us/step - loss: 0.4140 - val_loss: 0.4496\n",
      "Epoch 47/100\n",
      "35000/35000 [==============================] - 2s 56us/step - loss: 0.4130 - val_loss: 0.4486\n",
      "Epoch 48/100\n",
      "35000/35000 [==============================] - 2s 58us/step - loss: 0.4119 - val_loss: 0.4443\n",
      "Epoch 49/100\n",
      "35000/35000 [==============================] - 2s 62us/step - loss: 0.4107 - val_loss: 0.4446\n",
      "Epoch 50/100\n",
      "35000/35000 [==============================] - 2s 58us/step - loss: 0.4100 - val_loss: 0.4458\n",
      "Epoch 51/100\n",
      "35000/35000 [==============================] - 2s 62us/step - loss: 0.4089 - val_loss: 0.4450\n",
      "Epoch 52/100\n",
      "35000/35000 [==============================] - 2s 64us/step - loss: 0.4087 - val_loss: 0.4475\n",
      "Epoch 53/100\n",
      "35000/35000 [==============================] - 2s 55us/step - loss: 0.4074 - val_loss: 0.4461\n",
      "Epoch 54/100\n",
      "35000/35000 [==============================] - 2s 55us/step - loss: 0.4064 - val_loss: 0.4435\n",
      "Epoch 55/100\n",
      "35000/35000 [==============================] - 2s 53us/step - loss: 0.4061 - val_loss: 0.4444\n",
      "Epoch 56/100\n",
      "35000/35000 [==============================] - 2s 62us/step - loss: 0.4050 - val_loss: 0.4418\n",
      "Epoch 57/100\n",
      "35000/35000 [==============================] - 2s 60us/step - loss: 0.4044 - val_loss: 0.4436\n",
      "Epoch 58/100\n",
      "35000/35000 [==============================] - 2s 60us/step - loss: 0.4046 - val_loss: 0.4427\n",
      "Epoch 59/100\n",
      "35000/35000 [==============================] - 2s 59us/step - loss: 0.4029 - val_loss: 0.4393\n",
      "Epoch 60/100\n",
      "35000/35000 [==============================] - 2s 64us/step - loss: 0.4028 - val_loss: 0.4383\n",
      "Epoch 61/100\n",
      "35000/35000 [==============================] - 2s 59us/step - loss: 0.4021 - val_loss: 0.4423\n",
      "Epoch 62/100\n",
      "35000/35000 [==============================] - 2s 57us/step - loss: 0.4013 - val_loss: 0.4409\n",
      "Epoch 63/100\n",
      "35000/35000 [==============================] - 2s 60us/step - loss: 0.4010 - val_loss: 0.4412\n",
      "Epoch 64/100\n",
      "35000/35000 [==============================] - 2s 63us/step - loss: 0.4006 - val_loss: 0.4371\n",
      "Epoch 65/100\n",
      "35000/35000 [==============================] - 2s 63us/step - loss: 0.4000 - val_loss: 0.4380\n",
      "Epoch 66/100\n",
      "35000/35000 [==============================] - 3s 73us/step - loss: 0.3993 - val_loss: 0.4413\n",
      "Epoch 67/100\n",
      "35000/35000 [==============================] - 2s 67us/step - loss: 0.3994 - val_loss: 0.4402\n",
      "Epoch 68/100\n",
      "35000/35000 [==============================] - 2s 70us/step - loss: 0.3980 - val_loss: 0.4374\n",
      "Epoch 69/100\n",
      "35000/35000 [==============================] - 3s 73us/step - loss: 0.3977 - val_loss: 0.4363\n",
      "Epoch 70/100\n",
      "35000/35000 [==============================] - 2s 69us/step - loss: 0.3974 - val_loss: 0.4378\n",
      "Epoch 71/100\n",
      "35000/35000 [==============================] - 3s 75us/step - loss: 0.3969 - val_loss: 0.4379\n",
      "Epoch 72/100\n",
      "35000/35000 [==============================] - 2s 54us/step - loss: 0.3967 - val_loss: 0.4350\n",
      "Epoch 73/100\n",
      "35000/35000 [==============================] - 2s 61us/step - loss: 0.3958 - val_loss: 0.4340\n",
      "Epoch 74/100\n",
      "35000/35000 [==============================] - 2s 64us/step - loss: 0.3957 - val_loss: 0.4335\n",
      "Epoch 75/100\n",
      "35000/35000 [==============================] - 2s 67us/step - loss: 0.3946 - val_loss: 0.4340\n",
      "Epoch 76/100\n",
      "35000/35000 [==============================] - 2s 59us/step - loss: 0.3944 - val_loss: 0.4358\n",
      "Epoch 77/100\n",
      "35000/35000 [==============================] - 2s 61us/step - loss: 0.3943 - val_loss: 0.4329\n",
      "Epoch 78/100\n",
      "35000/35000 [==============================] - 2s 51us/step - loss: 0.3937 - val_loss: 0.4353\n",
      "Epoch 79/100\n",
      "35000/35000 [==============================] - 2s 58us/step - loss: 0.3932 - val_loss: 0.4334\n",
      "Epoch 80/100\n",
      "35000/35000 [==============================] - 2s 59us/step - loss: 0.3926 - val_loss: 0.4334\n",
      "Epoch 81/100\n",
      "35000/35000 [==============================] - 2s 52us/step - loss: 0.3930 - val_loss: 0.4375\n",
      "Epoch 82/100\n",
      "35000/35000 [==============================] - 2s 62us/step - loss: 0.3918 - val_loss: 0.4320\n",
      "Epoch 83/100\n",
      "35000/35000 [==============================] - 2s 54us/step - loss: 0.3915 - val_loss: 0.4329\n",
      "Epoch 84/100\n",
      "35000/35000 [==============================] - 2s 50us/step - loss: 0.3913 - val_loss: 0.4347\n",
      "Epoch 85/100\n",
      "35000/35000 [==============================] - 2s 51us/step - loss: 0.3916 - val_loss: 0.4304\n",
      "Epoch 86/100\n",
      "35000/35000 [==============================] - 2s 49us/step - loss: 0.3906 - val_loss: 0.4309\n",
      "Epoch 87/100\n",
      "35000/35000 [==============================] - 2s 50us/step - loss: 0.3903 - val_loss: 0.4309\n",
      "Epoch 88/100\n",
      "35000/35000 [==============================] - 2s 49us/step - loss: 0.3895 - val_loss: 0.4317\n",
      "Epoch 89/100\n",
      "35000/35000 [==============================] - 2s 61us/step - loss: 0.3895 - val_loss: 0.4338\n",
      "Epoch 90/100\n",
      "35000/35000 [==============================] - 2s 62us/step - loss: 0.3888 - val_loss: 0.4324\n",
      "Epoch 91/100\n",
      "35000/35000 [==============================] - 2s 55us/step - loss: 0.3887 - val_loss: 0.4327\n",
      "Epoch 92/100\n",
      "35000/35000 [==============================] - 2s 69us/step - loss: 0.3884 - val_loss: 0.4334\n",
      "Epoch 93/100\n",
      "35000/35000 [==============================] - 2s 61us/step - loss: 0.3885 - val_loss: 0.4301\n",
      "Epoch 94/100\n",
      "35000/35000 [==============================] - 2s 53us/step - loss: 0.3882 - val_loss: 0.4290\n",
      "Epoch 95/100\n",
      "35000/35000 [==============================] - 2s 57us/step - loss: 0.3875 - val_loss: 0.4293\n",
      "Epoch 96/100\n",
      "35000/35000 [==============================] - 2s 58us/step - loss: 0.3874 - val_loss: 0.4282\n",
      "Epoch 97/100\n",
      "35000/35000 [==============================] - 2s 61us/step - loss: 0.3872 - val_loss: 0.4281\n",
      "Epoch 98/100\n",
      "35000/35000 [==============================] - 3s 75us/step - loss: 0.3871 - val_loss: 0.4286\n",
      "Epoch 99/100\n",
      "35000/35000 [==============================] - 2s 64us/step - loss: 0.3871 - val_loss: 0.4332\n",
      "Epoch 100/100\n",
      "35000/35000 [==============================] - 2s 69us/step - loss: 0.3865 - val_loss: 0.4302\n"
     ]
    }
   ],
   "source": [
    "# example of training a final regression model\n",
    "\n",
    "from keras.layers import Input, Dense\n",
    "from keras.callbacks import TensorBoard\n",
    "from keras.models import Model\n",
    "import keras\n",
    "from keras.models import Sequential\n",
    "from keras.optimizers import SGD, Adam, RMSprop\n",
    "from keras.utils import np_utils\n",
    "from sklearn.cross_validation import train_test_split\n",
    "model = Sequential()\n",
    "model.add(Dense(100, input_dim=24, activation='relu'))\n",
    "model.add(Dense(50, activation='relu'))\n",
    "model.add(Dense(24, activation='linear'))\n",
    "model.summary()\n",
    "model.compile(loss='mse', optimizer='adam')\n",
    "# history = LossHistory()\n",
    "hist=model.fit(x_train, y_train,\n",
    "                epochs=100,\n",
    "                batch_size=50,\n",
    "                shuffle=True,\n",
    "                validation_data=(x_val, y_val),callbacks=[TensorBoard(log_dir='/tmp/autoencoder')])\n",
    "# model.fit(x_train, y_train, epochs=100, verbose=0)\n",
    "\n",
    "dictData['DNN-100-50-AABB']=hist.history"
   ]
  },
  {
   "cell_type": "code",
   "execution_count": 26,
   "metadata": {},
   "outputs": [
    {
     "name": "stdout",
     "output_type": "stream",
     "text": [
      "_________________________________________________________________\n",
      "Layer (type)                 Output Shape              Param #   \n",
      "=================================================================\n",
      "dense_16 (Dense)             (None, 100)               2500      \n",
      "_________________________________________________________________\n",
      "dense_17 (Dense)             (None, 50)                5050      \n",
      "_________________________________________________________________\n",
      "dense_18 (Dense)             (None, 24)                1224      \n",
      "=================================================================\n",
      "Total params: 8,774\n",
      "Trainable params: 8,774\n",
      "Non-trainable params: 0\n",
      "_________________________________________________________________\n",
      "Train on 35000 samples, validate on 15000 samples\n",
      "Epoch 1/100\n",
      "35000/35000 [==============================] - 3s 86us/step - loss: 1.1776 - val_loss: 0.8755\n",
      "Epoch 2/100\n",
      "35000/35000 [==============================] - 3s 75us/step - loss: 0.7828 - val_loss: 0.7177\n",
      "Epoch 3/100\n",
      "35000/35000 [==============================] - 3s 73us/step - loss: 0.6816 - val_loss: 0.6560\n",
      "Epoch 4/100\n",
      "35000/35000 [==============================] - 3s 73us/step - loss: 0.6390 - val_loss: 0.6278\n",
      "Epoch 5/100\n",
      "35000/35000 [==============================] - 3s 77us/step - loss: 0.6132 - val_loss: 0.6103\n",
      "Epoch 6/100\n",
      "35000/35000 [==============================] - 2s 67us/step - loss: 0.5919 - val_loss: 0.5893\n",
      "Epoch 7/100\n",
      "35000/35000 [==============================] - 2s 68us/step - loss: 0.5713 - val_loss: 0.5690\n",
      "Epoch 8/100\n",
      "35000/35000 [==============================] - 2s 67us/step - loss: 0.5523 - val_loss: 0.5563\n",
      "Epoch 9/100\n",
      "35000/35000 [==============================] - 2s 65us/step - loss: 0.5344 - val_loss: 0.5366\n",
      "Epoch 10/100\n",
      "35000/35000 [==============================] - 2s 66us/step - loss: 0.5194 - val_loss: 0.5284\n",
      "Epoch 11/100\n",
      "35000/35000 [==============================] - 3s 77us/step - loss: 0.5074 - val_loss: 0.5159\n",
      "Epoch 12/100\n",
      "35000/35000 [==============================] - 3s 72us/step - loss: 0.4979 - val_loss: 0.5099\n",
      "Epoch 13/100\n",
      "35000/35000 [==============================] - 2s 64us/step - loss: 0.4905 - val_loss: 0.5031\n",
      "Epoch 14/100\n",
      "35000/35000 [==============================] - 2s 61us/step - loss: 0.4836 - val_loss: 0.4974\n",
      "Epoch 15/100\n",
      "35000/35000 [==============================] - 2s 60us/step - loss: 0.4790 - val_loss: 0.4964\n",
      "Epoch 16/100\n",
      "35000/35000 [==============================] - 2s 60us/step - loss: 0.4748 - val_loss: 0.4907\n",
      "Epoch 17/100\n",
      "35000/35000 [==============================] - 2s 61us/step - loss: 0.4714 - val_loss: 0.4908\n",
      "Epoch 18/100\n",
      "35000/35000 [==============================] - 2s 60us/step - loss: 0.4677 - val_loss: 0.4882\n",
      "Epoch 19/100\n",
      "35000/35000 [==============================] - 2s 60us/step - loss: 0.4647 - val_loss: 0.4855\n",
      "Epoch 20/100\n",
      "35000/35000 [==============================] - 2s 60us/step - loss: 0.4622 - val_loss: 0.4829\n",
      "Epoch 21/100\n",
      "35000/35000 [==============================] - 2s 59us/step - loss: 0.4598 - val_loss: 0.4811\n",
      "Epoch 22/100\n",
      "35000/35000 [==============================] - 2s 60us/step - loss: 0.4575 - val_loss: 0.4841\n",
      "Epoch 23/100\n",
      "35000/35000 [==============================] - 2s 59us/step - loss: 0.4556 - val_loss: 0.4761\n",
      "Epoch 24/100\n",
      "35000/35000 [==============================] - 2s 59us/step - loss: 0.4533 - val_loss: 0.4766\n",
      "Epoch 25/100\n",
      "35000/35000 [==============================] - 2s 59us/step - loss: 0.4514 - val_loss: 0.4726\n",
      "Epoch 26/100\n",
      "35000/35000 [==============================] - 2s 60us/step - loss: 0.4498 - val_loss: 0.4745\n",
      "Epoch 27/100\n",
      "35000/35000 [==============================] - 2s 60us/step - loss: 0.4469 - val_loss: 0.4755\n",
      "Epoch 28/100\n",
      "35000/35000 [==============================] - 2s 58us/step - loss: 0.4463 - val_loss: 0.4710\n",
      "Epoch 29/100\n",
      "35000/35000 [==============================] - 2s 58us/step - loss: 0.4437 - val_loss: 0.4706\n",
      "Epoch 30/100\n",
      "35000/35000 [==============================] - 2s 59us/step - loss: 0.4424 - val_loss: 0.4704\n",
      "Epoch 31/100\n",
      "35000/35000 [==============================] - 2s 59us/step - loss: 0.4406 - val_loss: 0.4692\n",
      "Epoch 32/100\n",
      "35000/35000 [==============================] - 2s 58us/step - loss: 0.4383 - val_loss: 0.4682\n",
      "Epoch 33/100\n",
      "35000/35000 [==============================] - 2s 58us/step - loss: 0.4366 - val_loss: 0.4640\n",
      "Epoch 34/100\n",
      "35000/35000 [==============================] - 2s 58us/step - loss: 0.4346 - val_loss: 0.4626\n",
      "Epoch 35/100\n",
      "35000/35000 [==============================] - 2s 58us/step - loss: 0.4324 - val_loss: 0.4597\n",
      "Epoch 36/100\n",
      "35000/35000 [==============================] - 2s 60us/step - loss: 0.4307 - val_loss: 0.4593\n",
      "Epoch 37/100\n",
      "35000/35000 [==============================] - 2s 59us/step - loss: 0.4280 - val_loss: 0.4600\n",
      "Epoch 38/100\n",
      "35000/35000 [==============================] - 2s 57us/step - loss: 0.4261 - val_loss: 0.4553\n",
      "Epoch 39/100\n",
      "35000/35000 [==============================] - 2s 58us/step - loss: 0.4237 - val_loss: 0.4547\n",
      "Epoch 40/100\n",
      "35000/35000 [==============================] - 2s 58us/step - loss: 0.4216 - val_loss: 0.4537\n",
      "Epoch 41/100\n",
      "35000/35000 [==============================] - 2s 57us/step - loss: 0.4196 - val_loss: 0.4538\n",
      "Epoch 42/100\n",
      "35000/35000 [==============================] - 2s 59us/step - loss: 0.4174 - val_loss: 0.4461\n",
      "Epoch 43/100\n",
      "35000/35000 [==============================] - 2s 59us/step - loss: 0.4157 - val_loss: 0.4472\n",
      "Epoch 44/100\n",
      "35000/35000 [==============================] - 2s 58us/step - loss: 0.4140 - val_loss: 0.4436\n",
      "Epoch 45/100\n",
      "35000/35000 [==============================] - 2s 57us/step - loss: 0.4123 - val_loss: 0.4435\n",
      "Epoch 46/100\n",
      "35000/35000 [==============================] - 2s 58us/step - loss: 0.4108 - val_loss: 0.4426\n",
      "Epoch 47/100\n",
      "35000/35000 [==============================] - 2s 58us/step - loss: 0.4097 - val_loss: 0.4418\n",
      "Epoch 48/100\n",
      "35000/35000 [==============================] - 2s 57us/step - loss: 0.4081 - val_loss: 0.4394\n",
      "Epoch 49/100\n",
      "35000/35000 [==============================] - 2s 57us/step - loss: 0.4074 - val_loss: 0.4418\n",
      "Epoch 50/100\n",
      "35000/35000 [==============================] - 2s 58us/step - loss: 0.4062 - val_loss: 0.4387\n",
      "Epoch 51/100\n",
      "35000/35000 [==============================] - 2s 57us/step - loss: 0.4054 - val_loss: 0.4364\n",
      "Epoch 52/100\n",
      "35000/35000 [==============================] - 2s 58us/step - loss: 0.4046 - val_loss: 0.4387\n",
      "Epoch 53/100\n",
      "35000/35000 [==============================] - 2s 55us/step - loss: 0.4038 - val_loss: 0.4408\n",
      "Epoch 54/100\n",
      "35000/35000 [==============================] - 2s 57us/step - loss: 0.4028 - val_loss: 0.4366\n",
      "Epoch 55/100\n",
      "35000/35000 [==============================] - 2s 57us/step - loss: 0.4020 - val_loss: 0.4351\n",
      "Epoch 56/100\n",
      "35000/35000 [==============================] - 2s 57us/step - loss: 0.4012 - val_loss: 0.4332\n",
      "Epoch 57/100\n",
      "35000/35000 [==============================] - 2s 57us/step - loss: 0.4010 - val_loss: 0.4346\n",
      "Epoch 58/100\n",
      "35000/35000 [==============================] - 2s 56us/step - loss: 0.4000 - val_loss: 0.4342\n",
      "Epoch 59/100\n",
      "35000/35000 [==============================] - 2s 57us/step - loss: 0.4005 - val_loss: 0.4345\n",
      "Epoch 60/100\n",
      "35000/35000 [==============================] - 2s 57us/step - loss: 0.3997 - val_loss: 0.4344\n",
      "Epoch 61/100\n",
      "35000/35000 [==============================] - 2s 57us/step - loss: 0.3986 - val_loss: 0.4333\n",
      "Epoch 62/100\n",
      "35000/35000 [==============================] - 2s 57us/step - loss: 0.3989 - val_loss: 0.4326\n",
      "Epoch 63/100\n",
      "35000/35000 [==============================] - 2s 57us/step - loss: 0.3976 - val_loss: 0.4314\n",
      "Epoch 64/100\n",
      "35000/35000 [==============================] - 2s 57us/step - loss: 0.3978 - val_loss: 0.4335\n",
      "Epoch 65/100\n",
      "35000/35000 [==============================] - 2s 57us/step - loss: 0.3974 - val_loss: 0.4346\n",
      "Epoch 66/100\n",
      "35000/35000 [==============================] - 2s 58us/step - loss: 0.3970 - val_loss: 0.4307\n",
      "Epoch 67/100\n",
      "35000/35000 [==============================] - 2s 59us/step - loss: 0.3965 - val_loss: 0.4315\n",
      "Epoch 68/100\n",
      "35000/35000 [==============================] - 2s 57us/step - loss: 0.3960 - val_loss: 0.4310\n",
      "Epoch 69/100\n",
      "35000/35000 [==============================] - 2s 57us/step - loss: 0.3960 - val_loss: 0.4317\n",
      "Epoch 70/100\n",
      "35000/35000 [==============================] - 2s 57us/step - loss: 0.3958 - val_loss: 0.4315\n",
      "Epoch 71/100\n",
      "35000/35000 [==============================] - 2s 57us/step - loss: 0.3953 - val_loss: 0.4294\n",
      "Epoch 72/100\n",
      "35000/35000 [==============================] - 2s 58us/step - loss: 0.3943 - val_loss: 0.4320\n",
      "Epoch 73/100\n",
      "35000/35000 [==============================] - 2s 58us/step - loss: 0.3937 - val_loss: 0.4325\n",
      "Epoch 74/100\n",
      "35000/35000 [==============================] - 2s 57us/step - loss: 0.3942 - val_loss: 0.4281\n",
      "Epoch 75/100\n",
      "35000/35000 [==============================] - 2s 57us/step - loss: 0.3930 - val_loss: 0.4279\n",
      "Epoch 76/100\n",
      "35000/35000 [==============================] - 2s 58us/step - loss: 0.3935 - val_loss: 0.4296\n",
      "Epoch 77/100\n",
      "35000/35000 [==============================] - 2s 57us/step - loss: 0.3929 - val_loss: 0.4288\n",
      "Epoch 78/100\n",
      "35000/35000 [==============================] - 2s 58us/step - loss: 0.3920 - val_loss: 0.4286\n",
      "Epoch 79/100\n",
      "35000/35000 [==============================] - 2s 57us/step - loss: 0.3920 - val_loss: 0.4291\n",
      "Epoch 80/100\n",
      "35000/35000 [==============================] - 2s 57us/step - loss: 0.3915 - val_loss: 0.4278\n",
      "Epoch 81/100\n",
      "35000/35000 [==============================] - 2s 57us/step - loss: 0.3910 - val_loss: 0.4299\n",
      "Epoch 82/100\n",
      "35000/35000 [==============================] - 2s 58us/step - loss: 0.3910 - val_loss: 0.4245\n",
      "Epoch 83/100\n",
      "35000/35000 [==============================] - 2s 58us/step - loss: 0.3901 - val_loss: 0.4293\n",
      "Epoch 84/100\n",
      "35000/35000 [==============================] - 2s 57us/step - loss: 0.3903 - val_loss: 0.4279\n",
      "Epoch 85/100\n",
      "35000/35000 [==============================] - 2s 57us/step - loss: 0.3892 - val_loss: 0.4253\n",
      "Epoch 86/100\n",
      "35000/35000 [==============================] - 2s 57us/step - loss: 0.3892 - val_loss: 0.4247\n",
      "Epoch 87/100\n",
      "35000/35000 [==============================] - 2s 58us/step - loss: 0.3889 - val_loss: 0.4260\n",
      "Epoch 88/100\n",
      "35000/35000 [==============================] - 2s 56us/step - loss: 0.3885 - val_loss: 0.4244\n",
      "Epoch 89/100\n",
      "35000/35000 [==============================] - 2s 57us/step - loss: 0.3879 - val_loss: 0.4240\n",
      "Epoch 90/100\n",
      "35000/35000 [==============================] - 2s 61us/step - loss: 0.3871 - val_loss: 0.4247\n",
      "Epoch 91/100\n",
      "35000/35000 [==============================] - 2s 58us/step - loss: 0.3872 - val_loss: 0.4215\n",
      "Epoch 92/100\n",
      "35000/35000 [==============================] - 2s 59us/step - loss: 0.3867 - val_loss: 0.4251\n",
      "Epoch 93/100\n",
      "35000/35000 [==============================] - 2s 58us/step - loss: 0.3866 - val_loss: 0.4215\n",
      "Epoch 94/100\n",
      "35000/35000 [==============================] - 2s 58us/step - loss: 0.3859 - val_loss: 0.4233\n",
      "Epoch 95/100\n",
      "35000/35000 [==============================] - 2s 58us/step - loss: 0.3861 - val_loss: 0.4243\n",
      "Epoch 96/100\n",
      "35000/35000 [==============================] - 2s 58us/step - loss: 0.3858 - val_loss: 0.4279\n",
      "Epoch 97/100\n",
      "35000/35000 [==============================] - 2s 58us/step - loss: 0.3851 - val_loss: 0.4235\n",
      "Epoch 98/100\n",
      "35000/35000 [==============================] - 2s 57us/step - loss: 0.3849 - val_loss: 0.4232\n",
      "Epoch 99/100\n",
      "35000/35000 [==============================] - 2s 57us/step - loss: 0.3849 - val_loss: 0.4234\n",
      "Epoch 100/100\n",
      "35000/35000 [==============================] - 2s 57us/step - loss: 0.3846 - val_loss: 0.4236\n"
     ]
    }
   ],
   "source": [
    "# example of training a final regression model\n",
    "DateLocation2='MIMOComplex50000_3.mat'\n",
    "Data2 = sio.loadmat(DateLocation2)#load data\n",
    "Xdata2=Data2['XX']\n",
    "Ydata2=Data2['YY']\n",
    "# trainData = np.reshape(XXData,[12 ,50000 ])#reshape to 2d array\n",
    "Xdata2 = np.transpose(Xdata2)\n",
    "Ydata2 = np.transpose(Ydata2)\n",
    "x_train2, x_val2 ,y_train2, y_val2= train_test_split(Xdata2, Ydata2, test_size=0.3)\n",
    "from keras.layers import Input, Dense\n",
    "from keras.callbacks import TensorBoard\n",
    "from keras.models import Model\n",
    "import keras\n",
    "from keras.models import Sequential\n",
    "from keras.optimizers import SGD, Adam, RMSprop\n",
    "from keras.utils import np_utils\n",
    "from sklearn.cross_validation import train_test_split\n",
    "modelABAB = Sequential()\n",
    "modelABAB.add(Dense(100, input_dim=24, activation='relu'))\n",
    "modelABAB.add(Dense(50, activation='relu'))\n",
    "modelABAB.add(Dense(24, activation='linear'))\n",
    "modelABAB.summary()\n",
    "modelABAB.compile(loss='mse', optimizer='adam')\n",
    "# history = LossHistory()\n",
    "hist2=modelABAB.fit(x_train2, y_train2,\n",
    "                epochs=100,\n",
    "                batch_size=50,\n",
    "                shuffle=True,\n",
    "                validation_data=(x_val2, y_val2),callbacks=[TensorBoard(log_dir='/tmp/autoencoder')])\n",
    "# model.fit(x_train, y_train, epochs=100, verbose=0)\n",
    "\n",
    "dictData['DNN-100-50-ABAB']=hist2.history"
   ]
  },
  {
   "cell_type": "code",
   "execution_count": 27,
   "metadata": {},
   "outputs": [
    {
     "data": {
      "text/plain": [
       "(<Figure size 864x288 with 2 Axes>,\n",
       " <matplotlib.axes._subplots.AxesSubplot at 0x1a35520278>,\n",
       " <matplotlib.axes._subplots.AxesSubplot at 0x1a33248d30>)"
      ]
     },
     "execution_count": 27,
     "metadata": {},
     "output_type": "execute_result"
    },
    {
     "data": {
      "image/png": "[encoded data removed]",
      "text/plain": [
       "<Figure size 864x288 with 2 Axes>"
      ]
     },
     "metadata": {},
     "output_type": "display_data"
    }
   ],
   "source": [
    "plot_whole(dictData)"
   ]
  },
  {
   "cell_type": "code",
   "execution_count": 8,
   "metadata": {},
   "outputs": [
    {
     "data": {
      "text/plain": [
       "(<Figure size 864x288 with 2 Axes>,\n",
       " <matplotlib.axes._subplots.AxesSubplot at 0x1a2de51080>,\n",
       " <matplotlib.axes._subplots.AxesSubplot at 0x1a30d843c8>)"
      ]
     },
     "execution_count": 8,
     "metadata": {},
     "output_type": "execute_result"
    },
    {
     "data": {
      "image/png": "[encoded data removed]",
      "text/plain": [
       "<Figure size 864x288 with 2 Axes>"
      ]
     },
     "metadata": {},
     "output_type": "display_data"
    }
   ],
   "source": [
    "plot_whole(dictData)"
   ]
  },
  {
   "cell_type": "markdown",
   "metadata": {},
   "source": [
    "# test performance"
   ]
  },
  {
   "cell_type": "code",
   "execution_count": 7,
   "metadata": {},
   "outputs": [],
   "source": [
    "import time\n",
    "def test(X, model_location, save_name, n_input, n_output, n_hidden_1 = 200, n_hidden_2 = 80, n_hidden_3 = 80, n_hidden_4 = 40,binary=0):\n",
    "    tf.reset_default_graph()\n",
    "    x = tf.placeholder(\"float\", [None, n_input])\n",
    "    is_train = tf.placeholder(\"bool\")\n",
    "    input_keep_prob = tf.placeholder(tf.float32)\n",
    "    hidden_keep_prob = tf.placeholder(tf.float32)\n",
    "    weights, biases = ini_weights4(n_input, n_hidden_1, n_hidden_2, n_hidden_3, n_hidden_4, n_output)\n",
    "    pred = multilayer_perceptron4(x, weights, biases, input_keep_prob, hidden_keep_prob)\n",
    "    saver = tf.train.Saver()\n",
    "    with tf.Session() as sess:\n",
    "        saver.restore(sess, model_location)\n",
    "        start_time = time.time()\n",
    "        y_pred = sess.run(pred, feed_dict={x: X, input_keep_prob: 1, hidden_keep_prob: 1, is_train: False})\n",
    "        testtime = time.time() - start_time\n",
    "        # print(\"testing time: %0.2f s\" % testtime)\n",
    "        if binary==1:\n",
    "            y_pred[y_pred >= 0.5] = 1\n",
    "            y_pred[y_pred < 0.5] = 0\n",
    "        sio.savemat(save_name, {'pred': y_pred})\n",
    "    return y_pred\n",
    "def DtoComplex(XX, dim):\n",
    "    size=XX.shape[1]\n",
    "    X=np.empty( (XX.shape[0], dim), dtype= np.complex128 )\n",
    "    for loop in range(dim):\n",
    "        X[:,loop]=XX[:,loop*2]\n",
    "        X[:,loop]=X[:,loop]+1j*XX[:, loop*2+1]\n",
    "    return X\n",
    "def DABtoComplex(XX, dim):\n",
    "    size=XX.shape[1]\n",
    "    X=np.empty( (XX.shape[0], dim), dtype= np.complex128 )\n",
    "    X.real[:,:]=XX[:,0:dim]\n",
    "    X.imag[:,:]=XX[:,dim:2*dim]\n",
    "    return X\n",
    "def obj_sum_rate(xtest, y_pred,M,N,K, samples):\n",
    "    # H ： sampels*12\n",
    "    sum_rate=[]\n",
    "    for i in range(samples):\n",
    "        rate_nn=0\n",
    "        H=np.reshape(xtest[i,:],[K,M,N])\n",
    "        pnn=np.reshape(y_pred[i,:],[K,M,N])      \n",
    "        for j in range(K):\n",
    "            if j==0:\n",
    "                rate_nn = rate_nn+np.real(np.log2( \\\n",
    "                                                  np.linalg.det(np.eye(M)+np.dot(np.dot(np.transpose(H[j,:,:]),np.transpose(pnn[j,:,:])), H[j,:,:].conj()))))\n",
    "            else:\n",
    "                pnn[j,:,:]=np.transpose(pnn[j,:,:])+pnn[j-1,:,:]\n",
    "                rate_nn = rate_nn+np.real(np.log2(np.linalg.det(np.eye(M)+np.dot(np.dot(np.transpose(H[j,:,:]), pnn[j,:,:]), H[j,:,:].conj())) \\\n",
    "                                                  /np.linalg.det((np.eye(M)+np.dot(np.dot(np.transpose(H[j,:,:]),pnn[j-1,:,:]),H[j,:,:].conj())))))\n",
    "                \n",
    "        sum_rate.append(rate_nn)\n",
    "    return sum_rate\n",
    "\n",
    "\n",
    "def CDF_Plot(sumRate1, sumRate2, label1= 'DNN', label2= 'IWF'):\n",
    "    a = np.array(sumRate1) # your array of numbers\n",
    "    num_bins1 = np.linspace(0, max(sumRate1), 50)\n",
    "    counts1, bin_edges1 = np.histogram(a, bins='auto', normed=True)\n",
    "    cdf1 = np.cumsum(counts1*np.diff(bin_edges1))\n",
    "\n",
    "    b = np.array(sumRate2) # your array of numbers\n",
    "    num_bins2 = np.linspace(0, max(sumRate2), 50)\n",
    "    counts2, bin_edges2 = np.histogram(b, bins='auto', normed=True)\n",
    "    cdf2 = np.cumsum(counts2*np.diff(bin_edges2))\n",
    "    \n",
    "    plt.xlabel('sum-rate')\n",
    "    plt.plot(bin_edges1[1:], cdf1, color='black', label=label1)\n",
    "    plt.plot(bin_edges2[1:],cdf2,color='red', label=label2)\n",
    "    plt.legend()\n",
    "    return 0\n",
    "\n",
    "def histPlot(sumRate1,sumRate2, label=['DNN', 'IWF']):\n",
    "#     plt.figure('%d'%K)\n",
    "    plt.style.use('seaborn-deep')\n",
    "    data = np.vstack([sumRate1, sumRate2]).T\n",
    "    bins = np.linspace(0, max(sumRate2),50)\n",
    "    plt.hist(data, bins, alpha=0.7, label=label)\n",
    "#     plt.legend(loc='upper right')\n",
    "    plt.xlim([0, 10])\n",
    "    plt.xlabel('sum-rate')\n",
    "    plt.ylabel('number of samples')\n",
    "    #     plt.savefig('Histogram_%d.eps'%K, format='eps', dpi=1000)\n",
    "    plt.show()\n",
    "    return 0\n",
    "def performance(sumRate1,sumRate2, num):\n",
    "# sumRate1, IWF; sumRate2, NN\n",
    "    print('Sum-rate: IWF: %0.3f, DNN: %0.3f'%(sum(sumRate1)/num, sum(sumRate2)/num))\n",
    "    print('Ratio: DNN: %0.3f%%\\n' % (sum(sumRate2) / sum(sumRate1)* 100))\n",
    "    return 0\n",
    "\n",
    "def testPerformance(model_location, save_name, n_input, n_output,dim, M, N, K,samples):\n",
    "    ypred=test(Xtest, model_location, save_name+'%s'%('test'), n_input,n_output, binary=0)\n",
    "    trainPred=test(x_train, model_location, save_name+\"%s\"%('train'), n_input,n_output, binary=0)\n",
    "    valPred=test(x_val, model_location, save_name+\"%s\"%('val'), n_input,n_output, binary=0)\n",
    "    x=DABtoComplex(X,dim)\n",
    "    xtest=DABtoComplex(Xtest,dim)\n",
    "    ytest=DABtoComplex(Ytest,dim)\n",
    "    ypred=DABtoComplex(ypred,dim)\n",
    "\n",
    "    # train & val\n",
    "    xtrain=DABtoComplex(x_train,dim)\n",
    "    ytrain=DABtoComplex(y_train,dim)\n",
    "    trainPred=DABtoComplex(trainPred,dim)\n",
    "    xval=DABtoComplex(x_val,dim)\n",
    "    yval=DABtoComplex(y_val,dim)\n",
    "    valPred=DABtoComplex(valPred,dim)\n",
    "\n",
    "    # test\n",
    "    nnsumRate=obj_sum_rate(xtest, ypred, M, N, K, samples)\n",
    "    IWFsumRate=obj_sum_rate(xtest, ytest, M, N, K, samples)\n",
    "    #trian\n",
    "    nnSRTrain=obj_sum_rate(xtrain, trainPred, M, N, K, samples)\n",
    "    IWFSRTrain=obj_sum_rate(xtrain, ytrain, M, N, K, samples)\n",
    "    # validation\n",
    "    IWFSRVal=obj_sum_rate(xval, yval, M, N, K, samples)\n",
    "    nnSRVal=obj_sum_rate(xval, valPred, M, N, K, samples)\n",
    "\n",
    "    plt.figure(1)\n",
    "    plt.subplot(311)\n",
    "    plt.title('CDF AnalysisTest')\n",
    "    CDF_Plot(nnsumRate,IWFsumRate, 'DNNTest', 'IWFTest')\n",
    "    plt.subplot(312)\n",
    "    plt.title('CDF Analysis_Train')\n",
    "    CDF_Plot(nnSRTrain,IWFSRTrain, 'DNNTrain', 'IWFTrain')\n",
    "    plt.subplot(313)\n",
    "    plt.title('CDF Analysis_val')\n",
    "    CDF_Plot(nnSRVal,IWFSRVal, 'DNNVal', 'IWFVal')\n",
    "    \n",
    "    plt.figure(2)\n",
    "    plt.subplot(211)\n",
    "    plt.title('Hist AnalysisTest')\n",
    "    histPlot(nnsumRate,IWFsumRate, ['DNNTest', 'IWFTest'])\n",
    "    plt.subplot(212)\n",
    "    plt.title('Hist Analysis_Train')\n",
    "    histPlot(nnSRTrain,IWFSRTrain, ['DNNTrain', 'IWFTrain'])\n",
    "    \n",
    "    performance(IWFsumRate, nnsumRate, samples)\n",
    "    performance(IWFSRTrain, nnSRTrain, samples)\n",
    "    return 0\n",
    "    "
   ]
  },
  {
   "cell_type": "code",
   "execution_count": 34,
   "metadata": {},
   "outputs": [
    {
     "data": {
      "image/png": "[encoded data removed]",
      "text/plain": [
       "<Figure size 576x432 with 2 Axes>"
      ]
     },
     "metadata": {},
     "output_type": "display_data"
    },
    {
     "data": {
      "image/png": "[encoded data removed]",
      "text/plain": [
       "<Figure size 576x432 with 1 Axes>"
      ]
     },
     "metadata": {},
     "output_type": "display_data"
    },
    {
     "data": {
      "image/png": "[encoded data removed]",
      "text/plain": [
       "<Figure size 432x288 with 1 Axes>"
      ]
     },
     "metadata": {},
     "output_type": "display_data"
    },
    {
     "name": "stdout",
     "output_type": "stream",
     "text": [
      "\n",
      " Train:\n",
      "Sum-rate: IWF: 5.784, DNN: 5.771\n",
      "Ratio: DNN: 99.774%\n",
      "\n",
      "Val:\n",
      "Sum-rate: IWF: 5.797, DNN: 5.775\n",
      "Ratio: DNN: 99.606%\n",
      "\n"
     ]
    },
    {
     "data": {
      "text/plain": [
       "0"
      ]
     },
     "execution_count": 34,
     "metadata": {},
     "output_type": "execute_result"
    }
   ],
   "source": [
    "trainPred=model.predict(x_train)\n",
    "\n",
    "# encoder_x_val=encoder.predict(x_val_standard)\n",
    "valPred=model.predict(x_val)\n",
    "\n",
    "# encoder_x_test=encoder.predict(Xtest_standard)\n",
    "# ypred=model.predict(Xtest)\n",
    "D=12\n",
    "\n",
    "# test\n",
    "# xtest=DABtoComplex(Xtest,D)\n",
    "# ytest=DABtoComplex(Ytest,D)\n",
    "# ypred=DABtoComplex(ypred,D)\n",
    "\n",
    "# train & val\n",
    "xtrain=DABtoComplex(x_train,D)\n",
    "ytrain=DABtoComplex(y_train,D)\n",
    "trainPred=DABtoComplex(trainPred,D)\n",
    "xval=DABtoComplex(x_val,D)\n",
    "yval=DABtoComplex(y_val,D)\n",
    "valPred=DABtoComplex(valPred,D)\n",
    "M=2\n",
    "N=2\n",
    "K=3\n",
    "# test\n",
    "# nnsumRate=obj_sum_rate(xtest, ypred,M,N,K, 5000)\n",
    "# IWFsumRate=obj_sum_rate(xtest, ytest,M,N,K, 5000)\n",
    "#trian\n",
    "nnSRTrain=obj_sum_rate(xtrain, trainPred,M,N,K, 35000)\n",
    "IWFSRTrain=obj_sum_rate(xtrain, ytrain,M,N,K, 35000)\n",
    "# validation\n",
    "IWFSRVal=obj_sum_rate(xval, yval,M,N,K, 15000)\n",
    "nnSRVal=obj_sum_rate(xval, valPred,M,N,K, 15000)\n",
    "\n",
    "\n",
    "f1=plt.figure(figsize=(8,6))\n",
    "# plt.subplot(311)\n",
    "# plt.title('CDF AnalysisTest')\n",
    "# CDF_Plot(nnsumRate,IWFsumRate, 'DNNTest', 'IWFTest')\n",
    "\n",
    "ax1=f1.add_subplot(211)\n",
    "ax1.set_title('CDF Analysis_Train')\n",
    "CDF_Plot(nnSRTrain,IWFSRTrain, 'DNNTrain', 'IWFTrain')\n",
    "ax2=f1.add_subplot(212)\n",
    "ax2.set_title('CDF Analysis_Val')\n",
    "CDF_Plot(nnSRVal,IWFSRVal, 'DNNTrain', 'IWFTrain')\n",
    "\n",
    "f2=plt.figure(figsize=(8,6))\n",
    "# plt.figure(figsize=(8,6))\n",
    "# plt.subplot(311)\n",
    "# plt.title('Hist AnalysisTest')\n",
    "# histPlot(nnsumRate,IWFsumRate, ['DNNTest', 'IWFTest'])\n",
    "ax3=f2.add_subplot(211)\n",
    "ax3.set_title('Hist Analysis_Train')\n",
    "histPlot(nnSRTrain,IWFSRTrain, ['DNNTrain', 'IWFTrain'])\n",
    "ax4=f2.add_subplot(212)\n",
    "ax4.set_title('Hist Analysis_val')\n",
    "histPlot(nnSRVal,IWFSRVal, ['DNNTrain', 'IWFTrain'])\n",
    "# plt.show()\n",
    "# print('test:')\n",
    "# performance(IWFsumRate, nnsumRate, 5000)\n",
    "\n",
    "print('\\n Train:')\n",
    "performance(IWFSRTrain, nnSRTrain, 35000)\n",
    "print('Val:')\n",
    "performance(IWFSRVal, nnSRVal, 15000)"
   ]
  },
  {
   "cell_type": "code",
   "execution_count": 30,
   "metadata": {},
   "outputs": [
    {
     "data": {
      "image/png": "[encoded data removed]",
      "text/plain": [
       "<Figure size 576x432 with 2 Axes>"
      ]
     },
     "metadata": {},
     "output_type": "display_data"
    },
    {
     "data": {
      "image/png": "[encoded data removed]",
      "text/plain": [
       "<Figure size 432x288 with 1 Axes>"
      ]
     },
     "metadata": {},
     "output_type": "display_data"
    },
    {
     "data": {
      "image/png": "[encoded data removed]",
      "text/plain": [
       "<Figure size 432x288 with 1 Axes>"
      ]
     },
     "metadata": {},
     "output_type": "display_data"
    },
    {
     "name": "stdout",
     "output_type": "stream",
     "text": [
      "Train:\n",
      "Sum-rate: IWF: 5.784, DNN: 5.729\n",
      "Ratio: DNN: 99.046%\n",
      "\n",
      "Val:\n",
      "Sum-rate: IWF: 5.797, DNN: 5.729\n",
      "Ratio: DNN: 98.832%\n",
      "\n"
     ]
    },
    {
     "data": {
      "text/plain": [
       "0"
      ]
     },
     "execution_count": 30,
     "metadata": {},
     "output_type": "execute_result"
    }
   ],
   "source": [
    "trainPred=modelABAB.predict(x_train2)\n",
    "\n",
    "# encoder_x_val=encoder.predict(x_val_standard)\n",
    "valPred=modelABAB.predict(x_val2)\n",
    "\n",
    "# encoder_x_test=encoder.predict(Xtest_standard)\n",
    "# ypred=model.predict(Xtest)\n",
    "D=12\n",
    "\n",
    "# test\n",
    "# xtest=DABtoComplex(Xtest,D)\n",
    "# ytest=DABtoComplex(Ytest,D)\n",
    "# ypred=DABtoComplex(ypred,D)\n",
    "\n",
    "# train & val\n",
    "xtrain=DtoComplex(x_train2,D)\n",
    "ytrain=DtoComplex(y_train2,D)\n",
    "trainPred=DtoComplex(trainPred,D)\n",
    "xval=DtoComplex(x_val2,D)\n",
    "yval=DtoComplex(y_val2,D)\n",
    "valPred=DtoComplex(valPred,D)\n",
    "M=2\n",
    "N=2\n",
    "K=3\n",
    "# test\n",
    "# nnsumRate=obj_sum_rate(xtest, ypred,M,N,K, 5000)\n",
    "# IWFsumRate=obj_sum_rate(xtest, ytest,M,N,K, 5000)\n",
    "#trian\n",
    "nnSRTrain=obj_sum_rate(xtrain, trainPred,M,N,K, 35000)\n",
    "IWFSRTrain=obj_sum_rate(xtrain, ytrain,M,N,K, 35000)\n",
    "# validation\n",
    "IWFSRVal=obj_sum_rate(xval, yval,M,N,K, 15000)\n",
    "nnSRVal=obj_sum_rate(xval, valPred,M,N,K, 15000)\n",
    "\n",
    "# plt.figure(1)\n",
    "plt.figure(1,figsize=(8,6))\n",
    "# plt.subplot(311)\n",
    "# plt.title('CDF AnalysisTest')\n",
    "# CDF_Plot(nnsumRate,IWFsumRate, 'DNNTest', 'IWFTest')\n",
    "plt.subplot(211)\n",
    "plt.title('CDF Analysis_Train')\n",
    "CDF_Plot(nnSRTrain,IWFSRTrain, 'DNNTrain', 'IWFTrain')\n",
    "plt.subplot(212)\n",
    "plt.title('CDF Analysis_Val')\n",
    "CDF_Plot(nnSRVal,IWFSRVal, 'DNNTrain', 'IWFTrain')\n",
    "\n",
    "plt.figure(2)\n",
    "# plt.figure(figsize=(8,6))\n",
    "# plt.subplot(311)\n",
    "# plt.title('Hist AnalysisTest')\n",
    "# histPlot(nnsumRate,IWFsumRate, ['DNNTest', 'IWFTest'])\n",
    "plt.subplot(211)\n",
    "plt.title('Hist Analysis_Train')\n",
    "histPlot(nnSRTrain,IWFSRTrain, ['DNNTrain', 'IWFTrain'])\n",
    "plt.subplot(212)\n",
    "plt.title('Hist Analysis_val')\n",
    "histPlot(nnSRVal,IWFSRVal, ['DNNTrain', 'IWFTrain'])\n",
    "# plt.show()\n",
    "# print('test:')\n",
    "# performance(IWFsumRate, nnsumRate, 5000)\n",
    "print('Train:')\n",
    "performance(IWFSRTrain, nnSRTrain, 35000)\n",
    "print('Val:')\n",
    "performance(IWFSRVal, nnSRVal, 15000)"
   ]
  },
  {
   "cell_type": "code",
   "execution_count": 41,
   "metadata": {},
   "outputs": [
    {
     "data": {
      "text/plain": [
       "array([[[ 1,  2,  3],\n",
       "        [ 4,  5,  6]],\n",
       "\n",
       "       [[ 7,  8,  9],\n",
       "        [10, 11, 12]]])"
      ]
     },
     "execution_count": 41,
     "metadata": {},
     "output_type": "execute_result"
    }
   ],
   "source": [
    "mat = np.array([1,2,3,4,5,6,7,8,9,10,11,12]).T\n",
    "mat.reshape(2,2,3)"
   ]
  },
  {
   "cell_type": "markdown",
   "metadata": {},
   "source": [
    "check code for reshape and transpose"
   ]
  },
  {
   "cell_type": "code",
   "execution_count": 12,
   "metadata": {},
   "outputs": [
    {
     "name": "stdout",
     "output_type": "stream",
     "text": [
      "[[[ 0.3457001 +0.22994444j  0.51398541+0.96894739j]\n",
      "  [ 0.73163844-0.53381493j -0.21456514-1.21022487j]]\n",
      "\n",
      " [[ 0.20779851-0.07229633j -0.55669301-0.17072884j]\n",
      "  [ 0.62819058+0.22571325j -0.81110105+0.22122444j]]\n",
      "\n",
      " [[-0.75580555-0.61156245j -0.57240202-0.02124948j]\n",
      "  [-2.0819233 -0.11658707j  1.01708846+0.44385608j]]]\n"
     ]
    }
   ],
   "source": [
    "K=3\n",
    "M=2\n",
    "N=2\n",
    "H=np.reshape(np.transpose(xtest[1,:]),[K,M,N])\n",
    "print(H)\n",
    "# pnn=np.reshape(y_pred[i,:],[K,M,N],order=\"F\")      "
   ]
  },
  {
   "cell_type": "code",
   "execution_count": 9,
   "metadata": {},
   "outputs": [
    {
     "data": {
      "text/plain": [
       "array([ 0.3457001 +0.22994444j,  0.73163844-0.53381493j,\n",
       "        0.51398541+0.96894739j, -0.21456514-1.21022487j,\n",
       "        0.20779851-0.07229633j, -0.55669301-0.17072884j,\n",
       "        0.62819058+0.22571325j, -0.81110105+0.22122444j,\n",
       "       -0.75580555-0.61156245j, -0.57240202-0.02124948j,\n",
       "       -2.0819233 -0.11658707j,  1.01708846+0.44385608j])"
      ]
     },
     "execution_count": 9,
     "metadata": {},
     "output_type": "execute_result"
    }
   ],
   "source": [
    "xtest=DABtoComplex(Xtest,12)\n",
    "xtest[1,:]"
   ]
  },
  {
   "cell_type": "code",
   "execution_count": 13,
   "metadata": {},
   "outputs": [
    {
     "name": "stdout",
     "output_type": "stream",
     "text": [
      "2.32593003630361\n"
     ]
    }
   ],
   "source": [
    "print(np.linalg.norm(H[0,:,:],ord=1) )   "
   ]
  },
  {
   "cell_type": "code",
   "execution_count": 15,
   "metadata": {},
   "outputs": [
    {
     "name": "stdout",
     "output_type": "stream",
     "text": [
      "16.78276707526493\n"
     ]
    }
   ],
   "source": [
    "mean=0\n",
    "for i in range(K):\n",
    "    \n",
    "    H[i,:,:] = np.transpose(H[i,:,:])\n",
    "    mean=mean+np.mean(np.linalg.norm(H[i,:,:],ord=1)**2)\n",
    "print(mean)"
   ]
  },
  {
   "cell_type": "code",
   "execution_count": 35,
   "metadata": {},
   "outputs": [
    {
     "name": "stdout",
     "output_type": "stream",
     "text": [
      "[[[ 0.3457001 +0.22994444j  0.73163844-0.53381493j]\n",
      "  [ 0.51398541+0.96894739j -0.21456514-1.21022487j]]\n",
      "\n",
      " [[ 0.20779851-0.07229633j -0.55669301-0.17072884j]\n",
      "  [ 0.62819058+0.22571325j -0.81110105+0.22122444j]]\n",
      "\n",
      " [[-0.75580555-0.61156245j -0.57240202-0.02124948j]\n",
      "  [-2.0819233 -0.11658707j  1.01708846+0.44385608j]]]\n"
     ]
    }
   ],
   "source": [
    "H[0,:,:] = np.reshape(H[0,:,:],[2,2])\n",
    "print(H)"
   ]
  },
  {
   "cell_type": "code",
   "execution_count": 30,
   "metadata": {},
   "outputs": [
    {
     "data": {
      "text/plain": [
       "array([[[ 0.3457001 +0.22994444j,  0.62819058+0.22571325j],\n",
       "        [-0.21456514-1.21022487j, -0.57240202-0.02124948j]],\n",
       "\n",
       "       [[ 0.73163844-0.53381493j, -0.81110105+0.22122444j],\n",
       "        [ 0.20779851-0.07229633j, -2.0819233 -0.11658707j]],\n",
       "\n",
       "       [[ 0.51398541+0.96894739j, -0.75580555-0.61156245j],\n",
       "        [-0.55669301-0.17072884j,  1.01708846+0.44385608j]]])"
      ]
     },
     "execution_count": 30,
     "metadata": {},
     "output_type": "execute_result"
    }
   ],
   "source": [
    "H"
   ]
  },
  {
   "cell_type": "code",
   "execution_count": 78,
   "metadata": {},
   "outputs": [
    {
     "data": {
      "text/plain": [
       "array([ 5.03639206-0.00217419j, -0.39654902-1.30403528j,\n",
       "       -0.32278047+1.26792348j,  4.59057737+0.0372017j ,\n",
       "        0.06919308+0.0348714j ,  0.28737925+0.24074153j,\n",
       "        0.25605182-0.23459942j,  0.18934757+0.03064339j,\n",
       "        4.86648825+0.02810832j, -1.00111249+1.02259399j,\n",
       "       -1.03977448-1.03052437j,  0.82674343+0.03133142j])"
      ]
     },
     "execution_count": 78,
     "metadata": {},
     "output_type": "execute_result"
    }
   ],
   "source": [
    "ypred[1,:]"
   ]
  },
  {
   "cell_type": "code",
   "execution_count": 84,
   "metadata": {},
   "outputs": [
    {
     "data": {
      "text/plain": [
       "array([ 0.3410883 +1.11022302e-16j,  1.01631837+6.69374289e-01j,\n",
       "        1.01631837-6.69374289e-01j,  4.34188149+9.15933995e-16j,\n",
       "        0.        +0.00000000e+00j,  0.        +0.00000000e+00j,\n",
       "        0.        +0.00000000e+00j,  0.        +0.00000000e+00j,\n",
       "        4.83346841+1.33226763e-15j, -1.27633706-8.41572591e-01j,\n",
       "       -1.27633706+8.41572591e-01j,  0.4835618 -3.60822483e-16j])"
      ]
     },
     "execution_count": 84,
     "metadata": {},
     "output_type": "execute_result"
    }
   ],
   "source": [
    "ytest[1,:]"
   ]
  },
  {
   "cell_type": "code",
   "execution_count": 91,
   "metadata": {},
   "outputs": [
    {
     "name": "stdout",
     "output_type": "stream",
     "text": [
      "[ 3.41088300e-01  1.01631837e+00  1.01631837e+00  4.34188149e+00\n",
      "  0.00000000e+00  0.00000000e+00  0.00000000e+00  0.00000000e+00\n",
      "  4.83346841e+00 -1.27633706e+00 -1.27633706e+00  4.83561804e-01\n",
      "  1.11022302e-16  6.69374289e-01 -6.69374289e-01  9.15933995e-16\n",
      "  0.00000000e+00  0.00000000e+00  0.00000000e+00  0.00000000e+00\n",
      "  1.33226763e-15 -8.41572591e-01  8.41572591e-01 -3.60822483e-16]\n",
      "[ 0.3410883 +1.11022302e-16j  1.01631837+6.69374289e-01j\n",
      "  1.01631837-6.69374289e-01j  4.34188149+9.15933995e-16j\n",
      "  0.        +0.00000000e+00j  0.        +0.00000000e+00j\n",
      "  0.        +0.00000000e+00j  0.        +0.00000000e+00j\n",
      "  4.83346841+1.33226763e-15j -1.27633706-8.41572591e-01j\n",
      " -1.27633706+8.41572591e-01j  0.4835618 -3.60822483e-16j]\n"
     ]
    }
   ],
   "source": [
    "Ytest[1,:]\n",
    "print(Ytest[1,:])\n",
    "ytest=DABtoComplex(Ytest,D)\n",
    "print(ytest[1,:])"
   ]
  },
  {
   "cell_type": "code",
   "execution_count": 13,
   "metadata": {},
   "outputs": [
    {
     "name": "stdout",
     "output_type": "stream",
     "text": [
      "[ 0.3457001 +0.22994444j  0.73163844-0.53381493j  0.51398541+0.96894739j\n",
      " -0.21456514-1.21022487j  0.20779851-0.07229633j -0.55669301-0.17072884j\n",
      "  0.62819058+0.22571325j -0.81110105+0.22122444j -0.75580555-0.61156245j\n",
      " -0.57240202-0.02124948j -2.0819233 -0.11658707j  1.01708846+0.44385608j]\n"
     ]
    }
   ],
   "source": [
    "xtest=DABtoComplex(Xtest,12)\n",
    "# H=np.reshape(xtest[1,:],[K,M,N])\n",
    "H=np.reshape(xtest[1,:],[K,M,N])\n",
    "print(xtest[1,:])"
   ]
  },
  {
   "cell_type": "code",
   "execution_count": 25,
   "metadata": {},
   "outputs": [
    {
     "name": "stdout",
     "output_type": "stream",
     "text": [
      "[[[ 0.3457001 +0.22994444j  0.73163844-0.53381493j]\n",
      "  [ 0.51398541+0.96894739j -0.21456514-1.21022487j]]\n",
      "\n",
      " [[ 0.20779851-0.07229633j -0.55669301-0.17072884j]\n",
      "  [ 0.62819058+0.22571325j -0.81110105+0.22122444j]]\n",
      "\n",
      " [[-0.75580555-0.61156245j -0.57240202-0.02124948j]\n",
      "  [-2.0819233 -0.11658707j  1.01708846+0.44385608j]]]\n",
      "[[[ 0.3410883 +1.11022302e-16j  1.01631837+6.69374289e-01j]\n",
      "  [ 1.01631837-6.69374289e-01j  4.34188149+9.15933995e-16j]]\n",
      "\n",
      " [[ 0.        +0.00000000e+00j  0.        +0.00000000e+00j]\n",
      "  [ 0.        +0.00000000e+00j  0.        +0.00000000e+00j]]\n",
      "\n",
      " [[ 4.83346841+1.33226763e-15j -1.27633706-8.41572591e-01j]\n",
      "  [-1.27633706+8.41572591e-01j  0.4835618 -3.60822483e-16j]]]\n",
      "===============\n",
      "[[ 0.3457001 +0.22994444j  0.73163844-0.53381493j]\n",
      " [ 0.51398541+0.96894739j -0.21456514-1.21022487j]]\n",
      "[[ 0.3457001 -0.22994444j  0.51398541-0.96894739j]\n",
      " [ 0.73163844+0.53381493j -0.21456514+1.21022487j]]\n",
      "========222222222======\n",
      "[[-0.0083014 +1.40723901j  2.73692398+4.20934873j]\n",
      " [ 0.84158023-1.55567618j -0.54536079-6.28691883j]]\n",
      "[[ 5.80609344+1.77635684e-15j -6.43878579+3.43427272e+00j]\n",
      " [-6.43878579-3.43427272e+00j  9.17177654+1.83186799e-15j]]\n",
      "========1212121========\n",
      "[[ 0.3457001 +0.22994444j  0.51398541+0.96894739j]\n",
      " [ 0.73163844-0.53381493j -0.21456514-1.21022487j]]\n",
      "[[0.3410883 +1.11022302e-16j 1.01631837-6.69374289e-01j]\n",
      " [1.01631837+6.69374289e-01j 4.34188149+9.15933995e-16j]]\n",
      "[[ 0.3457001 +0.22994444j  0.73163844-0.53381493j]\n",
      " [ 0.51398541+0.96894739j -0.21456514-1.21022487j]]\n",
      "========3======\n",
      "3.998003189066052\n",
      "[[[ 0.3410883 +1.11022302e-16j  1.01631837+6.69374289e-01j]\n",
      "  [ 1.01631837-6.69374289e-01j  4.34188149+9.15933995e-16j]]\n",
      "\n",
      " [[ 0.3410883 +1.11022302e-16j  1.01631837+6.69374289e-01j]\n",
      "  [ 1.01631837-6.69374289e-01j  4.34188149+9.15933995e-16j]]\n",
      "\n",
      " [[ 4.83346841+1.33226763e-15j -1.27633706-8.41572591e-01j]\n",
      "  [-1.27633706+8.41572591e-01j  0.4835618 -3.60822483e-16j]]]\n",
      "3.998003189066052\n",
      "[[[ 0.3410883 +1.11022302e-16j  1.01631837+6.69374289e-01j]\n",
      "  [ 1.01631837-6.69374289e-01j  4.34188149+9.15933995e-16j]]\n",
      "\n",
      " [[ 0.3410883 +1.11022302e-16j  1.01631837+6.69374289e-01j]\n",
      "  [ 1.01631837-6.69374289e-01j  4.34188149+9.15933995e-16j]]\n",
      "\n",
      " [[ 5.17455671+1.44328993e-15j -0.26001868+1.51094688e+00j]\n",
      "  [-0.26001868-1.51094688e+00j  4.82544329+5.55111512e-16j]]]\n",
      "6.207899024341389\n"
     ]
    }
   ],
   "source": [
    "rate_nn=0\n",
    "K=3\n",
    "M=2\n",
    "N=2\n",
    "xtest=DABtoComplex(Xtest,12)\n",
    "H=np.reshape(xtest[1,:],[K,M,N])\n",
    "print(H)\n",
    "ytest=DABtoComplex(Ytest,12)\n",
    "pnn=np.reshape(ytest[1,:],[K,M,N]) \n",
    "print(pnn)\n",
    "print('===============')\n",
    "# rate_n=0\n",
    "for j in range(K):\n",
    "    if j==0:\n",
    "        print(H[0,:,:])\n",
    "        print(H[0,:,:].conj().T)\n",
    "        print('========222222222======')\n",
    "        rate_nn = rate_nn+np.real(np.log2(np.linalg.det(np.eye(M)+np.dot(np.dot(np.transpose(H[j,:,:]),np.transpose(pnn[j,:,:])), H[j,:,:].conj()))))\n",
    "        \n",
    "        l1=np.dot(np.transpose(H[0,:,:]) ,np.transpose(pnn[0,:,:]))\n",
    "        \n",
    "        print(l1)\n",
    "        print(np.dot(l1,  H[j,:,:].conj()))\n",
    "        print('========1212121========')\n",
    "        print(np.transpose(H[j,:,:]) )\n",
    "        print(np.transpose(pnn[j,:,:]))\n",
    "        print( H[j,:,:])\n",
    "        print('========3======')\n",
    "        print(rate_nn)\n",
    "    else:\n",
    "        pnn[j,:,:]=np.transpose(pnn[j,:,:])+pnn[j-1,:,:]\n",
    "        print(pnn)\n",
    "        rate_nn = rate_nn+np.real(np.log2(np.linalg.det(np.eye(M)+np.dot(np.dot(np.transpose(H[j,:,:]), pnn[j,:,:]), H[j,:,:].conj()))/np.linalg.det((np.eye(M)+np.dot(np.dot(np.transpose(H[j,:,:]),pnn[j-1,:,:]),H[j,:,:].conj())))))\n",
    "        print(rate_nn)"
   ]
  },
  {
   "cell_type": "code",
   "execution_count": 11,
   "metadata": {},
   "outputs": [
    {
     "name": "stdout",
     "output_type": "stream",
     "text": [
      "two_multi_res: [[22 28]\n",
      " [49 64]] \n",
      " [[1 2 3]\n",
      " [4 5 6]] \n",
      " [[1 2]\n",
      " [3 4]\n",
      " [5 6]]\n"
     ]
    }
   ],
   "source": [
    "# 2-D array: 2 x 3\n",
    "two_dim_matrix_one = np.array([[1, 2, 3], [4, 5, 6]])\n",
    "# 2-D array: 3 x 2\n",
    "two_dim_matrix_two = np.array([[1, 2], [3, 4], [5, 6]])\n",
    "\n",
    "two_multi_res = np.dot(two_dim_matrix_one, two_dim_matrix_two)\n",
    "print('two_multi_res: %s' %(two_multi_res),'\\n',two_dim_matrix_one,'\\n',two_dim_matrix_two)\n"
   ]
  },
  {
   "cell_type": "code",
   "execution_count": 7,
   "metadata": {},
   "outputs": [
    {
     "name": "stderr",
     "output_type": "stream",
     "text": [
      "/Users/user/anaconda2/envs/haha/lib/python3.6/site-packages/sklearn/neural_network/multilayer_perceptron.py:564: ConvergenceWarning: Stochastic Optimizer: Maximum iterations (100) reached and the optimization hasn't converged yet.\n",
      "  % self.max_iter, ConvergenceWarning)\n"
     ]
    },
    {
     "data": {
      "text/plain": [
       "MLPRegressor(activation='relu', alpha=1e-05, batch_size='auto', beta_1=0.9,\n",
       "       beta_2=0.999, early_stopping=False, epsilon=1e-08,\n",
       "       hidden_layer_sizes=(200, 80, 80), learning_rate='constant',\n",
       "       learning_rate_init=0.001, max_iter=100, momentum=0.9,\n",
       "       nesterovs_momentum=True, power_t=0.5, random_state=1, shuffle=True,\n",
       "       solver='sgd', tol=0.0001, validation_fraction=0.1, verbose=False,\n",
       "       warm_start=False)"
      ]
     },
     "execution_count": 7,
     "metadata": {},
     "output_type": "execute_result"
    }
   ],
   "source": [
    "from sklearn.cross_validation import train_test_split\n",
    "from sklearn.externals import joblib\n",
    "from sklearn.neural_network import MLPClassifier,MLPRegressor\n",
    "MNK2_2_3Modeltest=MLPRegressor(activation='relu', learning_rate_init=0.001 ,solver='sgd',max_iter=100\n",
    "                    ,alpha=1e-5,hidden_layer_sizes=(200,80,80), random_state=1)\n",
    "MNK2_2_3Modeltest.fit(x_train, y_train)"
   ]
  },
  {
   "cell_type": "code",
   "execution_count": 39,
   "metadata": {},
   "outputs": [
    {
     "data": {
      "image/png": "[encoded data removed]",
      "text/plain": [
       "<Figure size 432x288 with 3 Axes>"
      ]
     },
     "metadata": {},
     "output_type": "display_data"
    },
    {
     "data": {
      "image/png": "[encoded data removed]",
      "text/plain": [
       "<Figure size 432x288 with 1 Axes>"
      ]
     },
     "metadata": {},
     "output_type": "display_data"
    },
    {
     "data": {
      "image/png": "[encoded data removed]",
      "text/plain": [
       "<Figure size 432x288 with 1 Axes>"
      ]
     },
     "metadata": {},
     "output_type": "display_data"
    },
    {
     "data": {
      "image/png": "[encoded data removed]",
      "text/plain": [
       "<Figure size 432x288 with 1 Axes>"
      ]
     },
     "metadata": {},
     "output_type": "display_data"
    },
    {
     "name": "stdout",
     "output_type": "stream",
     "text": [
      "test:\n",
      "Sum-rate: IWF: 3.077, DNN: 3.080\n",
      "Ratio: DNN: 100.086%\n",
      "\n",
      "Train:\n",
      "Sum-rate: IWF: 3.051, DNN: 3.043\n",
      "Ratio: DNN: 99.768%\n",
      "\n",
      "Val:\n",
      "Sum-rate: IWF: 3.032, DNN: 3.023\n",
      "Ratio: DNN: 99.706%\n",
      "\n"
     ]
    },
    {
     "data": {
      "text/plain": [
       "0"
      ]
     },
     "execution_count": 39,
     "metadata": {},
     "output_type": "execute_result"
    }
   ],
   "source": [
    "trainPred=MNK2_2_3Modeltest.predict(x_train)\n",
    "\n",
    "# encoder_x_val=encoder.predict(x_val_standard)\n",
    "valPred=MNK2_2_3Modeltest.predict(x_val)\n",
    "\n",
    "# encoder_x_test=encoder.predict(Xtest_standard)\n",
    "ypred=MNK2_2_3Modeltest.predict(Xtest)\n",
    "D=12\n",
    "\n",
    "# test\n",
    "xtest=DABtoComplex(Xtest,D)\n",
    "ytest=DABtoComplex(Ytest,D)\n",
    "ypred=DABtoComplex(ypred,D)\n",
    "\n",
    "# train & val\n",
    "xtrain=DABtoComplex(x_train,D)\n",
    "ytrain=DABtoComplex(y_train,D)\n",
    "trainPred=DABtoComplex(trainPred,D)\n",
    "xval=DABtoComplex(x_val,D)\n",
    "yval=DABtoComplex(y_val,D)\n",
    "valPred=DABtoComplex(valPred,D)\n",
    "M=2\n",
    "N=2\n",
    "K=3\n",
    "# test\n",
    "nnsumRate=obj_sum_rate(xtest, ypred,M,N,K, 5000)\n",
    "IWFsumRate=obj_sum_rate(xtest, ytest,M,N,K, 5000)\n",
    "#trian\n",
    "nnSRTrain=obj_sum_rate(xtrain, trainPred,M,N,K, 35000)\n",
    "IWFSRTrain=obj_sum_rate(xtrain, ytrain,M,N,K, 35000)\n",
    "# validation\n",
    "IWFSRVal=obj_sum_rate(xval, yval,M,N,K, 15000)\n",
    "nnSRVal=obj_sum_rate(xval, valPred,M,N,K, 15000)\n",
    "\n",
    "plt.figure(1)\n",
    "plt.subplot(311)\n",
    "plt.title('CDF AnalysisTest')\n",
    "CDF_Plot(nnsumRate,IWFsumRate, 'DNNTest', 'IWFTest')\n",
    "plt.subplot(312)\n",
    "plt.title('CDF Analysis_Train')\n",
    "CDF_Plot(nnSRTrain,IWFSRTrain, 'DNNTrain', 'IWFTrain')\n",
    "plt.subplot(313)\n",
    "plt.title('CDF Analysis_Val')\n",
    "CDF_Plot(nnSRVal,IWFSRVal, 'DNNTrain', 'IWFTrain')\n",
    "\n",
    "plt.figure(2)\n",
    "plt.subplot(311)\n",
    "plt.title('Hist AnalysisTest')\n",
    "histPlot(nnsumRate,IWFsumRate, ['DNNTest', 'IWFTest'])\n",
    "plt.subplot(312)\n",
    "plt.title('Hist Analysis_Train')\n",
    "histPlot(nnSRTrain,IWFSRTrain, ['DNNTrain', 'IWFTrain'])\n",
    "plt.subplot(313)\n",
    "plt.title('Hist Analysis_val')\n",
    "histPlot(nnSRVal,IWFSRVal, ['DNNTrain', 'IWFTrain'])\n",
    "print('test:')\n",
    "performance(IWFsumRate, nnsumRate, 5000)\n",
    "print('Train:')\n",
    "performance(IWFSRTrain, nnSRTrain, 35000)\n",
    "print('Val:')\n",
    "performance(IWFSRVal, nnSRVal, 15000)"
   ]
  },
  {
   "cell_type": "code",
   "execution_count": null,
   "metadata": {},
   "outputs": [],
   "source": []
  },
  {
   "cell_type": "code",
   "execution_count": null,
   "metadata": {},
   "outputs": [],
   "source": []
  },
  {
   "cell_type": "code",
   "execution_count": 14,
   "metadata": {},
   "outputs": [
    {
     "data": {
      "text/plain": [
       "MLPRegressor(activation='relu', alpha=1e-05, batch_size='auto', beta_1=0.9,\n",
       "       beta_2=0.999, early_stopping=False, epsilon=1e-08,\n",
       "       hidden_layer_sizes=(200, 80, 80), learning_rate='constant',\n",
       "       learning_rate_init=0.001, max_iter=100, momentum=0.9,\n",
       "       nesterovs_momentum=True, power_t=0.5, random_state=1, shuffle=True,\n",
       "       solver='sgd', tol=0.0001, validation_fraction=0.1, verbose=False,\n",
       "       warm_start=False)"
      ]
     },
     "execution_count": 14,
     "metadata": {},
     "output_type": "execute_result"
    }
   ],
   "source": [
    "# encoded_val = encoder.predict(x_val)\n",
    "# decoded_val = decoder.predict(encoded_val)\n",
    "encoded_train = encoder.predict(x_train_standard)\n",
    "from sklearn.cross_validation import train_test_split\n",
    "from sklearn.externals import joblib\n",
    "from sklearn.neural_network import MLPClassifier,MLPRegressor\n",
    "MNK2_2_3Model=MLPRegressor(activation='relu', learning_rate_init=0.001 ,solver='sgd',max_iter=100\n",
    "                    ,alpha=1e-5,hidden_layer_sizes=(200,80,80), random_state=1)\n",
    "MNK2_2_3Model.fit(encoded_train, y_train)\n",
    "# joblib.dump(clf, \"MNK2_2_3Model.m\"), clf = joblib.load(\"train_model.m\")"
   ]
  },
  {
   "cell_type": "code",
   "execution_count": 8,
   "metadata": {},
   "outputs": [
    {
     "data": {
      "text/plain": [
       "['MNK2_2_3Model.m']"
      ]
     },
     "execution_count": 8,
     "metadata": {},
     "output_type": "execute_result"
    }
   ],
   "source": [
    "joblib.dump(MNK2_2_3Model, \"MNK2_2_3Model.m\")"
   ]
  },
  {
   "cell_type": "markdown",
   "metadata": {},
   "source": [
    "Important : calculate sum_rate use not standard data "
   ]
  },
  {
   "cell_type": "code",
   "execution_count": 15,
   "metadata": {},
   "outputs": [
    {
     "data": {
      "image/png": "[encoded data removed]",
      "text/plain": [
       "<Figure size 432x288 with 3 Axes>"
      ]
     },
     "metadata": {},
     "output_type": "display_data"
    },
    {
     "data": {
      "image/png": "[encoded data removed]",
      "text/plain": [
       "<Figure size 432x288 with 1 Axes>"
      ]
     },
     "metadata": {},
     "output_type": "display_data"
    },
    {
     "data": {
      "image/png": "[encoded data removed]",
      "text/plain": [
       "<Figure size 432x288 with 1 Axes>"
      ]
     },
     "metadata": {},
     "output_type": "display_data"
    },
    {
     "data": {
      "image/png": "[encoded data removed]",
      "text/plain": [
       "<Figure size 432x288 with 1 Axes>"
      ]
     },
     "metadata": {},
     "output_type": "display_data"
    },
    {
     "name": "stdout",
     "output_type": "stream",
     "text": [
      "test:\n",
      "Sum-rate: IWF: 3.080, DNN: 2.839\n",
      "Ratio: DNN: 92.155%\n",
      "\n",
      "Train:\n",
      "Sum-rate: IWF: 3.053, DNN: 2.837\n",
      "Ratio: DNN: 92.925%\n",
      "\n",
      "Val:\n",
      "Sum-rate: IWF: 3.046, DNN: 2.834\n",
      "Ratio: DNN: 93.036%\n",
      "\n"
     ]
    },
    {
     "data": {
      "text/plain": [
       "0"
      ]
     },
     "execution_count": 15,
     "metadata": {},
     "output_type": "execute_result"
    }
   ],
   "source": [
    "trainPred=MNK2_2_3Model.predict(encoded_train)\n",
    "\n",
    "encoder_x_val=encoder.predict(x_val_standard)\n",
    "valPred=MNK2_2_3Model.predict(encoder_x_val)\n",
    "\n",
    "encoder_x_test=encoder.predict(Xtest_standard)\n",
    "ypred=MNK2_2_3Model.predict(encoder_x_test)\n",
    "D=12\n",
    "\n",
    "# test\n",
    "xtest=DABtoComplex(Xtest,D)\n",
    "ytest=DABtoComplex(Ytest,D)\n",
    "ypred=DABtoComplex(ypred,D)\n",
    "\n",
    "# train & val\n",
    "xtrain=DABtoComplex(x_train,D)\n",
    "ytrain=DABtoComplex(y_train,D)\n",
    "trainPred=DABtoComplex(trainPred,D)\n",
    "xval=DABtoComplex(x_val,D)\n",
    "yval=DABtoComplex(y_val,D)\n",
    "valPred=DABtoComplex(valPred,D)\n",
    "M=2\n",
    "N=2\n",
    "K=3\n",
    "# test\n",
    "nnsumRate=obj_sum_rate(xtest, ypred,M,N,K, 5000)\n",
    "IWFsumRate=obj_sum_rate(xtest, ytest,M,N,K, 5000)\n",
    "#trian\n",
    "nnSRTrain=obj_sum_rate(xtrain, trainPred,M,N,K, 35000)\n",
    "IWFSRTrain=obj_sum_rate(xtrain, ytrain,M,N,K, 35000)\n",
    "# validation\n",
    "IWFSRVal=obj_sum_rate(xval, yval,M,N,K, 15000)\n",
    "nnSRVal=obj_sum_rate(xval, valPred,M,N,K, 15000)\n",
    "\n",
    "plt.figure(1)\n",
    "plt.subplot(311)\n",
    "plt.title('CDF AnalysisTest')\n",
    "CDF_Plot(nnsumRate,IWFsumRate, 'DNNTest', 'IWFTest')\n",
    "plt.subplot(312)\n",
    "plt.title('CDF Analysis_Train')\n",
    "CDF_Plot(nnSRTrain,IWFSRTrain, 'DNNTrain', 'IWFTrain')\n",
    "plt.subplot(313)\n",
    "plt.title('CDF Analysis_Val')\n",
    "CDF_Plot(nnSRVal,IWFSRVal, 'DNNTrain', 'IWFTrain')\n",
    "\n",
    "plt.figure(2)\n",
    "plt.subplot(311)\n",
    "plt.title('Hist AnalysisTest')\n",
    "histPlot(nnsumRate,IWFsumRate, ['DNNTest', 'IWFTest'])\n",
    "plt.subplot(312)\n",
    "plt.title('Hist Analysis_Train')\n",
    "histPlot(nnSRTrain,IWFSRTrain, ['DNNTrain', 'IWFTrain'])\n",
    "plt.subplot(313)\n",
    "plt.title('Hist Analysis_val')\n",
    "histPlot(nnSRVal,IWFSRVal, ['DNNTrain', 'IWFTrain'])\n",
    "print('test:')\n",
    "performance(IWFsumRate, nnsumRate, 5000)\n",
    "print('Train:')\n",
    "performance(IWFSRTrain, nnSRTrain, 35000)\n",
    "print('Val:')\n",
    "performance(IWFSRVal, nnSRVal, 15000)"
   ]
  },
  {
   "cell_type": "code",
   "execution_count": null,
   "metadata": {},
   "outputs": [],
   "source": []
  },
  {
   "cell_type": "markdown",
   "metadata": {},
   "source": [
    "# without autoencoder"
   ]
  },
  {
   "cell_type": "code",
   "execution_count": null,
   "metadata": {},
   "outputs": [],
   "source": []
  },
  {
   "cell_type": "code",
   "execution_count": 10,
   "metadata": {
    "scrolled": false
   },
   "outputs": [
    {
     "name": "stderr",
     "output_type": "stream",
     "text": [
      "/Users/user/anaconda2/envs/haha/lib/python3.6/site-packages/sklearn/neural_network/multilayer_perceptron.py:564: ConvergenceWarning: Stochastic Optimizer: Maximum iterations (100) reached and the optimization hasn't converged yet.\n",
      "  % self.max_iter, ConvergenceWarning)\n"
     ]
    },
    {
     "data": {
      "text/plain": [
       "MLPRegressor(activation='relu', alpha=1e-05, batch_size='auto', beta_1=0.9,\n",
       "       beta_2=0.999, early_stopping=False, epsilon=1e-08,\n",
       "       hidden_layer_sizes=(200, 80, 80), learning_rate='constant',\n",
       "       learning_rate_init=0.001, max_iter=100, momentum=0.9,\n",
       "       nesterovs_momentum=True, power_t=0.5, random_state=1, shuffle=True,\n",
       "       solver='sgd', tol=0.0001, validation_fraction=0.1, verbose=False,\n",
       "       warm_start=False)"
      ]
     },
     "execution_count": 10,
     "metadata": {},
     "output_type": "execute_result"
    }
   ],
   "source": [
    "from sklearn.cross_validation import train_test_split\n",
    "from sklearn.neural_network import MLPClassifier,MLPRegressor\n",
    "T6_NN=MLPRegressor(activation='relu', learning_rate_init=0.001 ,solver='sgd',max_iter=100\n",
    "                    ,alpha=1e-5,hidden_layer_sizes=(200,80,80), random_state=1)\n",
    "T6_NN.fit(x_train_standard, y_train)"
   ]
  },
  {
   "cell_type": "code",
   "execution_count": 12,
   "metadata": {},
   "outputs": [],
   "source": [
    "import time\n",
    "def obj_sum_rate(xtest, y_pred,M,N,K, samples):\n",
    "    # H ： sampels*12\n",
    "    sum_rate=[]\n",
    "    for i in range(samples):\n",
    "        rate_nn=0\n",
    "        H=np.reshape(xtest[i,:],[K,M,N])\n",
    "        pnn=np.reshape(y_pred[i,:],[K,M,N])      \n",
    "        for j in range(K):\n",
    "            if j==i:\n",
    "                rate_nn = rate_nn+np.real(np.log2(np.linalg.det(np.eye(M)+H[j,:,:] * pnn[j,:,:] * np.transpose(H[j,:,:]))))\n",
    "            else:\n",
    "                pnn[j,:,:]=pnn[j,:,:]+pnn[j-1,:,:]\n",
    "                rate_nn = rate_nn+np.real(np.log2(np.linalg.det(np.eye(M)+H[j,:,:] * pnn[j,:,:] * np.transpose(H[j,:,:]))/np.linalg.det((np.eye(M)+H[j,:,:] * pnn[j-1,:,:] * np.transpose(H[j,:,:])))))\n",
    "        sum_rate.append(rate_nn)\n",
    "    return sum_rate\n"
   ]
  },
  {
   "cell_type": "code",
   "execution_count": 13,
   "metadata": {},
   "outputs": [
    {
     "name": "stdout",
     "output_type": "stream",
     "text": [
      "5000\n",
      "5000\n"
     ]
    },
    {
     "data": {
      "image/png": "[encoded data removed]",
      "text/plain": [
       "<Figure size 432x288 with 2 Axes>"
      ]
     },
     "metadata": {},
     "output_type": "display_data"
    },
    {
     "data": {
      "image/png": "[encoded data removed]",
      "text/plain": [
       "<Figure size 432x288 with 1 Axes>"
      ]
     },
     "metadata": {},
     "output_type": "display_data"
    },
    {
     "data": {
      "image/png": "[encoded data removed]",
      "text/plain": [
       "<Figure size 432x288 with 1 Axes>"
      ]
     },
     "metadata": {},
     "output_type": "display_data"
    },
    {
     "name": "stdout",
     "output_type": "stream",
     "text": [
      "Test:\n",
      "Sum-rate: IWF: 3.080, DNN: 3.102\n",
      "Ratio: DNN: 100.695%\n",
      "\n",
      "Train\n",
      "Sum-rate: IWF: 3.053, DNN: 3.041\n",
      "Ratio: DNN: 99.597%\n",
      "\n"
     ]
    },
    {
     "data": {
      "text/plain": [
       "0"
      ]
     },
     "execution_count": 13,
     "metadata": {},
     "output_type": "execute_result"
    }
   ],
   "source": [
    "# NN_y_train_pre_proba=T6_NN.predict_proba(T6_X_train)\n",
    "trainPred=T6_NN.predict(x_train)\n",
    "\n",
    "# NN_y_test_pre_proba=T6_NN.predict_proba(T6_X_test)\n",
    "ypred=T6_NN.predict(Xtest)\n",
    "D=12\n",
    "# x=DABtoComplex(X,12)\n",
    "xtest=DABtoComplex(Xtest,12)\n",
    "ytest=DABtoComplex(Ytest,12)\n",
    "ypred=DABtoComplex(ypred,12)\n",
    "\n",
    "# train & val\n",
    "xtrain=DABtoComplex(x_train,12)\n",
    "ytrain=DABtoComplex(y_train,12)\n",
    "trainPred=DABtoComplex(trainPred,12)\n",
    "# xval=DABtoComplex(x_val,12)\n",
    "# yval=DABtoComplex(y_val,12)\n",
    "# valPred=DABtoComplex(valPred,12)\n",
    "\n",
    "# test\n",
    "nnsumRate=obj_sum_rate(xtest, ypred,2,2,3, 5000)\n",
    "IWFsumRate=obj_sum_rate(xtest, ytest,2,2,3, 5000)\n",
    "#trian\n",
    "nnSRTrain=obj_sum_rate(xtrain, trainPred,2,2,3, 35000)\n",
    "IWFSRTrain=obj_sum_rate(xtrain, ytrain,2,2,3, 35000)\n",
    "# validation\n",
    "# IWFSRVal=obj_sum_rate(xval, yval,2,2,3, 15000)\n",
    "# nnSRVal=obj_sum_rate(xval, valPred,2,2,3, 15000)\n",
    "\n",
    "print(len(nnsumRate))\n",
    "print(len(IWFsumRate))\n",
    "plt.figure(1)\n",
    "plt.subplot(311)\n",
    "plt.title('CDF AnalysisTest')\n",
    "CDF_Plot(nnsumRate,IWFsumRate, 'DNNTest', 'IWFTest')\n",
    "plt.subplot(312)\n",
    "plt.title('CDF Analysis_Train')\n",
    "CDF_Plot(nnSRTrain,IWFSRTrain, 'DNNTrain', 'IWFTrain')\n",
    "\n",
    "plt.figure(2)\n",
    "plt.subplot(211)\n",
    "plt.title('Hist AnalysisTest')\n",
    "histPlot(nnsumRate,IWFsumRate, ['DNNTest', 'IWFTest'])\n",
    "plt.subplot(212)\n",
    "plt.title('Hist Analysis_Train')\n",
    "histPlot(nnSRTrain,IWFSRTrain, ['DNNTrain', 'IWFTrain'])\n",
    "print('Test:')\n",
    "performance(IWFsumRate, nnsumRate, 5000)\n",
    "print('Train')\n",
    "performance(IWFSRTrain, nnSRTrain, 35000)"
   ]
  },
  {
   "cell_type": "code",
   "execution_count": 176,
   "metadata": {},
   "outputs": [
    {
     "data": {
      "text/plain": [
       "array([-0.08199763, -0.13753893, -0.13632327, -0.23762443, -0.12991279,\n",
       "       -1.18839649,  0.21623548, -0.41368963, -0.85611216,  1.73029291,\n",
       "        1.06054161, -0.61322595, -0.86117737, -0.01017407,  0.77966571,\n",
       "       -0.17977249, -0.01087996, -1.2218905 ,  0.34821747,  0.17680233,\n",
       "       -0.51402672,  0.10411906, -0.14797079,  0.05718126])"
      ]
     },
     "execution_count": 176,
     "metadata": {},
     "output_type": "execute_result"
    }
   ],
   "source": [
    "x_train[1,:]"
   ]
  },
  {
   "cell_type": "code",
   "execution_count": 175,
   "metadata": {},
   "outputs": [
    {
     "data": {
      "text/plain": [
       "array([[[-0.08199763, -0.13753893, -0.13632327, -0.23762443],\n",
       "        [-0.12991279, -1.18839649,  0.21623548, -0.41368963]],\n",
       "\n",
       "       [[-0.85611216,  1.73029291,  1.06054161, -0.61322595],\n",
       "        [-0.86117737, -0.01017407,  0.77966571, -0.17977249]],\n",
       "\n",
       "       [[-0.01087996, -1.2218905 ,  0.34821747,  0.17680233],\n",
       "        [-0.51402672,  0.10411906, -0.14797079,  0.05718126]]])"
      ]
     },
     "execution_count": 175,
     "metadata": {},
     "output_type": "execute_result"
    }
   ],
   "source": [
    "np.reshape(x_train[1,:],[3,2,4])"
   ]
  },
  {
   "cell_type": "code",
   "execution_count": 177,
   "metadata": {},
   "outputs": [
    {
     "data": {
      "text/plain": [
       "array([[-0.85611216,  1.73029291,  1.06054161, -0.61322595],\n",
       "       [-0.86117737, -0.01017407,  0.77966571, -0.17977249]])"
      ]
     },
     "execution_count": 177,
     "metadata": {},
     "output_type": "execute_result"
    }
   ],
   "source": [
    "np.reshape(x_train[1,:],[3,2,4])[1,:,:]"
   ]
  },
  {
   "cell_type": "code",
   "execution_count": 23,
   "metadata": {},
   "outputs": [
    {
     "name": "stderr",
     "output_type": "stream",
     "text": [
      "/Users/user/anaconda2/envs/haha/lib/python3.6/site-packages/sklearn/neural_network/multilayer_perceptron.py:564: ConvergenceWarning: Stochastic Optimizer: Maximum iterations (100) reached and the optimization hasn't converged yet.\n",
      "  % self.max_iter, ConvergenceWarning)\n"
     ]
    },
    {
     "data": {
      "text/plain": [
       "MLPRegressor(activation='relu', alpha=1e-05, batch_size='auto', beta_1=0.9,\n",
       "       beta_2=0.999, early_stopping=False, epsilon=1e-08,\n",
       "       hidden_layer_sizes=(200, 80, 80), learning_rate='constant',\n",
       "       learning_rate_init=0.001, max_iter=100, momentum=0.9,\n",
       "       nesterovs_momentum=True, power_t=0.5, random_state=1, shuffle=True,\n",
       "       solver='sgd', tol=0.0001, validation_fraction=0.1, verbose=False,\n",
       "       warm_start=False)"
      ]
     },
     "execution_count": 23,
     "metadata": {},
     "output_type": "execute_result"
    }
   ],
   "source": [
    "mean = x_train.mean(axis=0)\n",
    "x_train -= mean\n",
    "std = x_train.std(axis=0)\n",
    "x_train /= std\n",
    "\n",
    "x_val -= mean\n",
    "x_val /= std\n",
    "\n",
    "\n",
    "from sklearn.cross_validation import train_test_split\n",
    "from sklearn.neural_network import MLPClassifier,MLPRegressor\n",
    "NN=MLPRegressor(activation='relu', learning_rate_init=0.001 ,solver='sgd',max_iter=100\n",
    "                    ,alpha=1e-5,hidden_layer_sizes=(200,80,80), random_state=1)\n",
    "NN.fit(x_train, y_train)\n"
   ]
  },
  {
   "cell_type": "code",
   "execution_count": 24,
   "metadata": {},
   "outputs": [
    {
     "data": {
      "image/png": "[encoded data removed]",
      "text/plain": [
       "<Figure size 432x288 with 3 Axes>"
      ]
     },
     "metadata": {},
     "output_type": "display_data"
    },
    {
     "data": {
      "image/png": "[encoded data removed]",
      "text/plain": [
       "<Figure size 432x288 with 1 Axes>"
      ]
     },
     "metadata": {},
     "output_type": "display_data"
    },
    {
     "data": {
      "image/png": "[encoded data removed]",
      "text/plain": [
       "<Figure size 432x288 with 1 Axes>"
      ]
     },
     "metadata": {},
     "output_type": "display_data"
    },
    {
     "data": {
      "image/png": "[encoded data removed]",
      "text/plain": [
       "<Figure size 432x288 with 1 Axes>"
      ]
     },
     "metadata": {},
     "output_type": "display_data"
    },
    {
     "name": "stdout",
     "output_type": "stream",
     "text": [
      "test:\n",
      "Sum-rate: IWF: 3.693, DNN: 3.400\n",
      "Ratio: DNN: 92.068%\n",
      "\n",
      "Train:\n",
      "Sum-rate: IWF: 3.633, DNN: 3.359\n",
      "Ratio: DNN: 92.465%\n",
      "\n",
      "Val:\n",
      "Sum-rate: IWF: 3.648, DNN: 3.344\n",
      "Ratio: DNN: 91.662%\n",
      "\n"
     ]
    },
    {
     "data": {
      "text/plain": [
       "0"
      ]
     },
     "execution_count": 24,
     "metadata": {},
     "output_type": "execute_result"
    }
   ],
   "source": [
    "trainPred=NN.predict(x_train)\n",
    "\n",
    "# NN_y_test_pre_proba=T6_NN.predict_proba(T6_X_test)\n",
    "valPred=NN.predict(x_val)\n",
    "ypred=NN.predict(Xtest)\n",
    "D=12\n",
    "\n",
    "# test\n",
    "xtest=DABtoComplex(Xtest,D)\n",
    "ytest=DABtoComplex(Ytest,D)\n",
    "ypred=DABtoComplex(ypred,D)\n",
    "\n",
    "# train & val\n",
    "xtrain=DABtoComplex(x_train,D)\n",
    "ytrain=DABtoComplex(y_train,D)\n",
    "trainPred=DABtoComplex(trainPred,D)\n",
    "xval=DABtoComplex(x_val,D)\n",
    "yval=DABtoComplex(y_val,D)\n",
    "valPred=DABtoComplex(valPred,D)\n",
    "M=2\n",
    "N=2\n",
    "K=3\n",
    "# test\n",
    "nnsumRate=obj_sum_rate(xtest, ypred,M,N,K, 5000)\n",
    "IWFsumRate=obj_sum_rate(xtest, ytest,M,N,K, 5000)\n",
    "#trian\n",
    "nnSRTrain=obj_sum_rate(xtrain, trainPred,M,N,K, 35000)\n",
    "IWFSRTrain=obj_sum_rate(xtrain, ytrain,M,N,K, 35000)\n",
    "# validation\n",
    "IWFSRVal=obj_sum_rate(xval, yval,M,N,K, 15000)\n",
    "nnSRVal=obj_sum_rate(xval, valPred,M,N,K, 15000)\n",
    "\n",
    "plt.figure(1)\n",
    "plt.subplot(311)\n",
    "plt.title('CDF AnalysisTest')\n",
    "CDF_Plot(nnsumRate,IWFsumRate, 'DNNTest', 'IWFTest')\n",
    "plt.subplot(312)\n",
    "plt.title('CDF Analysis_Train')\n",
    "CDF_Plot(nnSRTrain,IWFSRTrain, 'DNNTrain', 'IWFTrain')\n",
    "plt.subplot(313)\n",
    "plt.title('CDF Analysis_Val')\n",
    "CDF_Plot(nnSRVal,IWFSRVal, 'DNNTrain', 'IWFTrain')\n",
    "\n",
    "plt.figure(2)\n",
    "plt.subplot(311)\n",
    "plt.title('Hist AnalysisTest')\n",
    "histPlot(nnsumRate,IWFsumRate, ['DNNTest', 'IWFTest'])\n",
    "plt.subplot(312)\n",
    "plt.title('Hist Analysis_Train')\n",
    "histPlot(nnSRTrain,IWFSRTrain, ['DNNTrain', 'IWFTrain'])\n",
    "plt.subplot(313)\n",
    "plt.title('Hist Analysis_val')\n",
    "histPlot(nnSRVal,IWFSRVal, ['DNNTrain', 'IWFTrain'])\n",
    "print('test:')\n",
    "performance(IWFsumRate, nnsumRate, 5000)\n",
    "print('Train:')\n",
    "performance(IWFSRTrain, nnSRTrain, 35000)\n",
    "print('Val:')\n",
    "performance(IWFSRVal, nnSRVal, 15000)"
   ]
  },
  {
   "cell_type": "code",
   "execution_count": 25,
   "metadata": {},
   "outputs": [
    {
     "name": "stdout",
     "output_type": "stream",
     "text": [
      "10000\n",
      "10000\n"
     ]
    },
    {
     "data": {
      "image/png": "[encoded data removed]",
      "text/plain": [
       "<Figure size 432x288 with 3 Axes>"
      ]
     },
     "metadata": {},
     "output_type": "display_data"
    },
    {
     "data": {
      "image/png": "[encoded data removed]",
      "text/plain": [
       "<Figure size 432x288 with 1 Axes>"
      ]
     },
     "metadata": {},
     "output_type": "display_data"
    },
    {
     "data": {
      "image/png": "[encoded data removed]",
      "text/plain": [
       "<Figure size 432x288 with 1 Axes>"
      ]
     },
     "metadata": {},
     "output_type": "display_data"
    },
    {
     "data": {
      "image/png": "[encoded data removed]",
      "text/plain": [
       "<Figure size 432x288 with 1 Axes>"
      ]
     },
     "metadata": {},
     "output_type": "display_data"
    },
    {
     "name": "stdout",
     "output_type": "stream",
     "text": [
      "test:\n",
      "Sum-rate: IWF: 3.036, DNN: 3.027\n",
      "Ratio: DNN: 99.704%\n",
      "\n",
      "Train:\n",
      "Sum-rate: IWF: 3.638, DNN: 3.389\n",
      "Ratio: DNN: 93.140%\n",
      "\n",
      "Val:\n",
      "Sum-rate: IWF: 3.629, DNN: 3.330\n",
      "Ratio: DNN: 91.751%\n",
      "\n"
     ]
    },
    {
     "data": {
      "text/plain": [
       "0"
      ]
     },
     "execution_count": 25,
     "metadata": {},
     "output_type": "execute_result"
    }
   ],
   "source": [
    "# NN_y_train_pre_proba=T6_NN.predict_proba(T6_X_train)\n",
    "DateLocation='MIMO10000_3test.mat'\n",
    "DataTest10000 = sio.loadmat(DateLocation)#load data\n",
    "Xtest=DataTest10000['X']\n",
    "Xtest = np.transpose(Xtest)\n",
    "Ytest=DataTest10000['Y']\n",
    "Ytest = np.transpose(Ytest)\n",
    "Xtest = np.column_stack((np.real(Xtest), np.imag(Xtest)))\n",
    "Ytest = np.column_stack((np.real(Ytest), np.imag(Ytest)))\n",
    "\n",
    "Xtest -= mean\n",
    "Xtest /= std\n",
    "\n",
    "trainPred=NN.predict(x_train)\n",
    "\n",
    "# NN_y_test_pre_proba=T6_NN.predict_proba(T6_X_test)\n",
    "valPred=NN.predict(x_val)\n",
    "ypred=NN.predict(Xtest)\n",
    "D=12\n",
    "x=DABtoComplex(X,12)\n",
    "xtest=DABtoComplex(Xtest,12)\n",
    "ytest=DABtoComplex(Ytest,12)\n",
    "ypred=DABtoComplex(ypred,12)\n",
    "\n",
    "# train & val\n",
    "xtrain=DABtoComplex(x_train,12)\n",
    "ytrain=DABtoComplex(y_train,12)\n",
    "trainPred=DABtoComplex(trainPred,12)\n",
    "xval=DABtoComplex(x_val,12)\n",
    "yval=DABtoComplex(y_val,12)\n",
    "valPred=DABtoComplex(valPred,12)\n",
    "\n",
    "# test\n",
    "nnsumRate=obj_sum_rate(xtest, ypred,2,2,3, 10000)\n",
    "IWFsumRate=obj_sum_rate(xtest, ytest,2,2,3, 10000)\n",
    "#trian\n",
    "nnSRTrain=obj_sum_rate(xtrain, trainPred,2,2,3, 10000)\n",
    "IWFSRTrain=obj_sum_rate(xtrain, ytrain,2,2,3, 10000)\n",
    "# validation\n",
    "IWFSRVal=obj_sum_rate(xval, yval,2,2,3, 10000)\n",
    "nnSRVal=obj_sum_rate(xval, valPred,2,2,3, 10000)\n",
    "\n",
    "print(len(nnsumRate))\n",
    "print(len(IWFsumRate))\n",
    "plt.figure(1)\n",
    "plt.subplot(311)\n",
    "plt.title('CDF AnalysisTest')\n",
    "CDF_Plot(nnsumRate,IWFsumRate, 'DNNTest', 'IWFTest')\n",
    "plt.subplot(312)\n",
    "plt.title('CDF Analysis_Train')\n",
    "CDF_Plot(nnSRTrain,IWFSRTrain, 'DNNTrain', 'IWFTrain')\n",
    "plt.subplot(313)\n",
    "plt.title('CDF Analysis_Val')\n",
    "CDF_Plot(nnSRVal,IWFSRVal, 'DNNTrain', 'IWFTrain')\n",
    "\n",
    "plt.figure(2)\n",
    "plt.subplot(311)\n",
    "plt.title('Hist AnalysisTest')\n",
    "histPlot(nnsumRate,IWFsumRate, ['DNNTest', 'IWFTest'])\n",
    "plt.subplot(312)\n",
    "plt.title('Hist Analysis_Train')\n",
    "histPlot(nnSRTrain,IWFSRTrain, ['DNNTrain', 'IWFTrain'])\n",
    "plt.subplot(313)\n",
    "plt.title('Hist Analysis_val')\n",
    "histPlot(nnSRVal,IWFSRVal, ['DNNTrain', 'IWFTrain'])\n",
    "print('test:')\n",
    "performance(IWFsumRate, nnsumRate, 10000)\n",
    "print('Train:')\n",
    "performance(IWFSRTrain, nnSRTrain, 10000)\n",
    "print('Val:')\n",
    "performance(IWFSRVal, nnSRVal, 10000)"
   ]
  },
  {
   "cell_type": "code",
   "execution_count": 111,
   "metadata": {},
   "outputs": [
    {
     "data": {
      "text/plain": [
       "array([[ 1.42175215e+00-0.3584642j ,  1.06539132e+00+0.35622283j,\n",
       "         2.09572018e+00+0.00163528j,  3.09086705e+00+0.19556217j,\n",
       "         2.05553376e-01+0.0444532j ,  6.97960820e-01+0.26431803j,\n",
       "         4.90821792e+00-0.28048227j,  1.16491789e+00-0.01325627j,\n",
       "         5.58591221e+00-0.02987156j, -6.55108826e-01-0.74305652j,\n",
       "        -1.75869249e+00+0.68134813j, -6.31885531e-01+0.65291631j],\n",
       "       [ 2.60392776e-01+0.18614841j,  3.81974744e-01-0.03832029j,\n",
       "         5.88773488e-02+0.18761063j,  1.81613957e+00+1.18317869j,\n",
       "         5.86069120e+00+1.20531087j,  1.90235580e+00+1.183425j  ,\n",
       "         2.54515107e+00-1.15543095j,  3.48181817e+00-1.14216493j,\n",
       "         6.02916641e-01+0.00495986j,  2.17272318e+00-1.02539405j,\n",
       "         1.04346695e-03-0.04866601j,  4.30208619e+00-0.02111415j]])"
      ]
     },
     "execution_count": 111,
     "metadata": {},
     "output_type": "execute_result"
    }
   ],
   "source": [
    "ypred[1:3,:]"
   ]
  },
  {
   "cell_type": "code",
   "execution_count": 83,
   "metadata": {},
   "outputs": [],
   "source": [
    "# Functions for deep neural network weights initialization\n",
    "def ini_weights(n_input, n_hidden_1, n_hidden_2, n_hidden_3, n_output):\n",
    "    weights = {\n",
    "        'h1': tf.Variable(tf.truncated_normal([n_input, n_hidden_1]) / np.sqrt(n_input)),\n",
    "        'h2': tf.Variable(tf.truncated_normal([n_hidden_1, n_hidden_2]) / np.sqrt(n_hidden_1)),\n",
    "        'h3': tf.Variable(tf.truncated_normal([n_hidden_2, n_hidden_3]) / np.sqrt(n_hidden_2)),\n",
    "        'out': tf.Variable(tf.truncated_normal([n_hidden_3, n_output])) / n_hidden_3,\n",
    "    }\n",
    "    biases = {\n",
    "        'b1': tf.Variable(tf.ones([n_hidden_1]) * 0.1),\n",
    "        'b2': tf.Variable(tf.ones([n_hidden_2]) * 0.1),\n",
    "        'b3': tf.Variable(tf.ones([n_hidden_3]) * 0.1),\n",
    "        'out': tf.Variable(tf.ones([n_output]) * 0.1),\n",
    "    }\n",
    "    return weights, biases\n",
    "\n",
    "# Functions for deep neural network structure construction\n",
    "def multilayer_perceptron(x, weights, biases,input_keep_prob,hidden_keep_prob):\n",
    "    x = tf.nn.dropout(x, input_keep_prob)                         # dropout layer\n",
    "    \n",
    "    layer_1 = tf.add(tf.matmul(x, weights['h1']), biases['b1'])   # x = wx+b\n",
    "    layer_1 = tf.nn.relu(layer_1)                                 # x = max(0, x)\n",
    "#     layer_1 = tf.nn.dropout(layer_1, hidden_keep_prob)            # dropout layer\n",
    "\n",
    "    layer_2 = tf.add(tf.matmul(layer_1, weights['h2']), biases['b2'])\n",
    "    layer_2 = tf.nn.relu(layer_2)\n",
    "#     layer_2 = tf.nn.dropout(layer_2, hidden_keep_prob)\n",
    "\n",
    "    layer_3 = tf.add(tf.matmul(layer_2, weights['h3']), biases['b3'])\n",
    "    layer_3 = tf.nn.relu(layer_3)\n",
    "#     layer_3 = tf.nn.dropout(layer_3, hidden_keep_prob)\n",
    "\n",
    "    out_layer = tf.add(tf.matmul(layer_3, weights['out']) , biases['out'])\n",
    "#     out_layer = tf.nn.relu6(out_layer) / 6\n",
    "    return out_layer\n",
    "\n"
   ]
  },
  {
   "cell_type": "code",
   "execution_count": 93,
   "metadata": {},
   "outputs": [],
   "source": [
    "def train(X_train, X_val, Y_train, Y_val ,location, training_epochs=300, batch_size=1000, LR= 0.001, n_hidden_1 = 200,n_hidden_2 = 80,n_hidden_3 = 80, traintestsplit = 0.01, LRdecay=0):\n",
    "    num_total = X_train.shape[0] +X_val.shape[0]                       # number of total samples\n",
    "    num_val =X_val.shape[0]# number of validation samples\n",
    "    num_train = X_train.shape[0] # number of training samples\n",
    "    n_input = X_train.shape[1]                          # input size\n",
    "    n_output = Y_train.shape[1]                         # output size\n",
    "#     X_train = np.transpose(X[:, 0:num_train])     # training data\n",
    "#     Y_train = np.transpose(Y[:, 0:num_train])     # training label\n",
    "#     X_val = np.transpose(X[:, num_train:num_total]) # validation data\n",
    "#     Y_val = np.transpose(Y[:, num_train:num_total]) # validation label\n",
    "\n",
    "    x = tf.placeholder(\"float\", [None, n_input])\n",
    "    y = tf.placeholder(\"float\", [None, n_output])\n",
    "    is_train = tf.placeholder(\"bool\")\n",
    "    learning_rate = tf.placeholder(tf.float32, shape=[])\n",
    "    total_batch = int(num_total / batch_size)\n",
    "    print('train: %d ' % num_train, 'validation: %d ' % num_val)\n",
    "\n",
    "    input_keep_prob = tf.placeholder(tf.float32)\n",
    "    hidden_keep_prob = tf.placeholder(tf.float32)\n",
    "    weights, biases = ini_weights(n_input, n_hidden_1, n_hidden_2, n_hidden_3, n_output)\n",
    "    pred = multilayer_perceptron(x, weights, biases, input_keep_prob, hidden_keep_prob)\n",
    "    cost = tf.reduce_mean(tf.square(pred - y))    # cost function: MSE\n",
    "    optimizer=tf.train.AdamOptimizer(learning_rate).minimize(cost)\n",
    "#     optimizer = tf.train.RMSPropOptimizer(learning_rate, 0.9).minimize(cost) # training algorithms: RMSprop\n",
    "    init = tf.global_variables_initializer()\n",
    "    saver = tf.train.Saver()\n",
    "    MSETime=np.zeros((training_epochs,3))\n",
    "    with tf.Session() as sess:\n",
    "        sess.run(init)\n",
    "        start_time = time.time()\n",
    "        for epoch in range(training_epochs):\n",
    "            for i in range(total_batch):\n",
    "                idx = np.random.randint(num_train,size=batch_size)\n",
    "                if LRdecay==1:\n",
    "                    _, c = sess.run([optimizer, cost], feed_dict={x: X_train[idx, :], y: Y_train[idx, :],\n",
    "                                                                  input_keep_prob: 1, hidden_keep_prob: 1,\n",
    "                                                                  learning_rate: LR/(epoch+1), is_train: True})\n",
    "                elif LRdecay==0:\n",
    "                    _, c = sess.run([optimizer, cost], feed_dict={x: X_train[idx, :], y: Y_train[idx, :],\n",
    "                                                                      input_keep_prob: 1, hidden_keep_prob: 1,\n",
    "                                                                      learning_rate: LR, is_train: True})\n",
    "            MSETime[epoch, 0]= c # train cost \n",
    "            MSETime[epoch, 1]= sess.run(cost, feed_dict={x: X_val, y: Y_val, input_keep_prob: 1, hidden_keep_prob: 1, is_train: False})\n",
    "            MSETime[epoch, 2]= time.time() - start_time\n",
    "            if epoch%(int(training_epochs/10))==0:\n",
    "                print('epoch:%d, '%epoch, 'train:%0.2f%%, '%(c*100), 'validation:%0.2f%%.'%(MSETime[epoch, 1]*100))\n",
    "\n",
    "        print(\"training time: %0.2f s\" % (time.time() - start_time))\n",
    "        sio.savemat('MSETimeLastLayer_%d_%d_%d' % (n_output, batch_size, LR*10000) , {'train': MSETime[:,0], 'validation': MSETime[:,1], 'time': MSETime[:,2]})\n",
    "        saver.save(sess, location)\n",
    "    return 0"
   ]
  },
  {
   "cell_type": "markdown",
   "metadata": {},
   "source": [
    "# 4 layers"
   ]
  },
  {
   "cell_type": "code",
   "execution_count": 155,
   "metadata": {},
   "outputs": [],
   "source": [
    "# Functions for deep neural network weights initialization\n",
    "def ini_weights4(n_input, n_hidden_1, n_hidden_2, n_hidden_3,n_hidden_4, n_output):\n",
    "    weights = {\n",
    "        'h1': tf.Variable(tf.truncated_normal([n_input, n_hidden_1]) / np.sqrt(n_input)),\n",
    "        'h2': tf.Variable(tf.truncated_normal([n_hidden_1, n_hidden_2]) / np.sqrt(n_hidden_1)),\n",
    "        'h3': tf.Variable(tf.truncated_normal([n_hidden_2, n_hidden_3]) / np.sqrt(n_hidden_2)),\n",
    "        'h4': tf.Variable(tf.truncated_normal([n_hidden_3, n_hidden_4]) / np.sqrt(n_hidden_3)),\n",
    "        'out': tf.Variable(tf.truncated_normal([n_hidden_4, n_output]) / n_hidden_4),\n",
    "    }\n",
    "    biases = {\n",
    "        'b1': tf.Variable(tf.ones([n_hidden_1]) * 0.1),\n",
    "        'b2': tf.Variable(tf.ones([n_hidden_2]) * 0.1),\n",
    "        'b3': tf.Variable(tf.ones([n_hidden_3]) * 0.1),\n",
    "        'b4': tf.Variable(tf.ones([n_hidden_4]) * 0.1),\n",
    "        'out': tf.Variable(tf.ones([n_output]) * 0.1),\n",
    "    }\n",
    "    return weights, biases\n",
    "\n",
    "# Functions for deep neural network structure construction\n",
    "def multilayer_perceptron4(x, weights, biases,input_keep_prob,hidden_keep_prob):\n",
    "    x = tf.nn.dropout(x, input_keep_prob)                         # dropout layer\n",
    "    \n",
    "    layer_1 = tf.add(tf.matmul(x, weights['h1']), biases['b1'])   # x = wx+b\n",
    "    layer_1 = tf.nn.relu(layer_1)                                 # x = max(0, x)\n",
    "#     layer_1 = tf.nn.dropout(layer_1, hidden_keep_prob)            # dropout layer\n",
    "\n",
    "    layer_2 = tf.add(tf.matmul(layer_1, weights['h2']), biases['b2'])\n",
    "    layer_2 = tf.nn.relu(layer_2)\n",
    "#     layer_2 = tf.nn.dropout(layer_2, hidden_keep_prob)\n",
    "\n",
    "    layer_3 = tf.add(tf.matmul(layer_2, weights['h3']), biases['b3'])\n",
    "    layer_3 = tf.nn.relu(layer_3)\n",
    "#     layer_3 = tf.nn.dropout(layer_3, hidden_keep_prob)\n",
    "    layer_4 = tf.add(tf.matmul(layer_3, weights['h4']), biases['b4'])\n",
    "    layer_4 = tf.nn.relu(layer_4)\n",
    "    \n",
    "    out_layer = tf.add(tf.matmul(layer_4, weights['out']) , biases['out'])\n",
    "#     out_layer = tf.nn.relu6(out_layer) / 6\n",
    "    return out_layer\n",
    "\n"
   ]
  },
  {
   "cell_type": "code",
   "execution_count": 156,
   "metadata": {},
   "outputs": [],
   "source": [
    "def train4(X_train, X_val, Y_train, Y_val ,location, training_epochs=300, batch_size=1000, LR= 0.001, n_hidden_1 = 200,n_hidden_2 = 80,n_hidden_3 = 80, n_hidden_4 = 40, LRdecay=0):\n",
    "    num_total = X_train.shape[0] +X_val.shape[0]                       # number of total samples\n",
    "    num_val =X_val.shape[0]# number of validation samples\n",
    "    num_train = X_train.shape[0] # number of training samples\n",
    "    n_input = X_train.shape[1]                          # input size\n",
    "    n_output = Y_train.shape[1]                         # output size\n",
    "#     X_train = np.transpose(X[:, 0:num_train])     # training data\n",
    "#     Y_train = np.transpose(Y[:, 0:num_train])     # training label\n",
    "#     X_val = np.transpose(X[:, num_train:num_total]) # validation data\n",
    "#     Y_val = np.transpose(Y[:, num_train:num_total]) # validation label\n",
    "\n",
    "    x = tf.placeholder(\"float\", [None, n_input])\n",
    "    y = tf.placeholder(\"float\", [None, n_output])\n",
    "    is_train = tf.placeholder(\"bool\")\n",
    "    learning_rate = tf.placeholder(tf.float32, shape=[])\n",
    "    total_batch = int(num_total / batch_size)\n",
    "    print('train: %d ' % num_train, 'validation: %d ' % num_val)\n",
    "\n",
    "    input_keep_prob = tf.placeholder(tf.float32)\n",
    "    hidden_keep_prob = tf.placeholder(tf.float32)\n",
    "    weights, biases = ini_weights4(n_input, n_hidden_1, n_hidden_2, n_hidden_3,n_hidden_4, n_output)\n",
    "    pred = multilayer_perceptron4(x, weights, biases, input_keep_prob, hidden_keep_prob)\n",
    "    cost = tf.reduce_mean(tf.square(pred - y))    # cost function: MSE\n",
    "    optimizer = tf.train.GradientDescentOptimizer(0.5).minimize(cost)\n",
    "#     optimizer=tf.train.AdamOptimizer(learning_rate).minimize(cost)\n",
    "#     optimizer = tf.train.RMSPropOptimizer(learning_rate, 0.9).minimize(cost) # training algorithms: RMSprop\n",
    "    init = tf.global_variables_initializer()\n",
    "    saver = tf.train.Saver()\n",
    "    MSETime=np.zeros((training_epochs,3))\n",
    "    with tf.Session() as sess:\n",
    "        sess.run(init)\n",
    "        start_time = time.time()\n",
    "        for epoch in range(training_epochs):\n",
    "            for i in range(total_batch):\n",
    "                idx = np.random.randint(num_train,size=batch_size)\n",
    "                if LRdecay==1:\n",
    "                    _, c = sess.run([optimizer, cost], feed_dict={x: X_train[idx, :], y: Y_train[idx, :],\n",
    "                                                                  input_keep_prob: 1, hidden_keep_prob: 1,\n",
    "                                                                  learning_rate: LR/(epoch+1), is_train: True})\n",
    "                elif LRdecay==0:\n",
    "                    _, c = sess.run([optimizer, cost], feed_dict={x: X_train[idx, :], y: Y_train[idx, :],\n",
    "                                                                      input_keep_prob: 1, hidden_keep_prob: 1,\n",
    "                                                                      learning_rate: LR, is_train: True})\n",
    "            MSETime[epoch, 0]= c # train cost \n",
    "            MSETime[epoch, 1]= sess.run(cost, feed_dict={x: X_val, y: Y_val, input_keep_prob: 1, hidden_keep_prob: 1, is_train: False})\n",
    "            MSETime[epoch, 2]= time.time() - start_time\n",
    "            if epoch%(int(training_epochs/10))==0:\n",
    "                print('epoch:%d, '%epoch, 'train:%0.2f%%, '%(c*100), 'validation:%0.2f%%.'%(MSETime[epoch, 1]*100))\n",
    "\n",
    "        print(\"training time: %0.2f s\" % (time.time() - start_time))\n",
    "        sio.savemat('./DNN_AB4layers/MSETime4Layer_%d_%d_%d' % (n_output, batch_size, LR*10000) , {'train': MSETime[:,0], 'validation': MSETime[:,1], 'time': MSETime[:,2]})\n",
    "        saver.save(sess, location)\n",
    "    return 0"
   ]
  },
  {
   "cell_type": "code",
   "execution_count": 157,
   "metadata": {},
   "outputs": [
    {
     "name": "stdout",
     "output_type": "stream",
     "text": [
      "train: 35000  validation: 15000 \n",
      "epoch:0,  train:71.33%,  validation:77.81%.\n",
      "epoch:10,  train:31.04%,  validation:41.05%.\n",
      "epoch:20,  train:24.02%,  validation:37.65%.\n",
      "epoch:30,  train:16.74%,  validation:35.22%.\n",
      "epoch:40,  train:16.59%,  validation:34.68%.\n",
      "epoch:50,  train:12.09%,  validation:34.77%.\n",
      "epoch:60,  train:22.70%,  validation:35.89%.\n",
      "epoch:70,  train:13.74%,  validation:33.40%.\n",
      "epoch:80,  train:14.50%,  validation:36.59%.\n",
      "epoch:90,  train:14.80%,  validation:34.97%.\n",
      "training time: 279.50 s\n"
     ]
    },
    {
     "data": {
      "image/png": "[encoded data removed]",
      "text/plain": [
       "<Figure size 432x288 with 1 Axes>"
      ]
     },
     "metadata": {},
     "output_type": "display_data"
    }
   ],
   "source": [
    "# Normalize the data\n",
    "mean = x_train.mean(axis=0)\n",
    "x_train -= mean\n",
    "std = x_train.std(axis=0)\n",
    "x_train /= std\n",
    "\n",
    "x_val -= mean\n",
    "x_val /= std\n",
    "# Data (Real; Imag) 4 layers (output layer without relu) , no dropout layers ADMA optimizer LR: 0.001 100epoch\n",
    "model_location = \"./DNN_AB4layers/model_demo.ckpt\" \n",
    "train4(x_train,x_val, y_train,y_val, model_location, training_epochs=100,LR=0.001,n_hidden_1 = 200,n_hidden_2 = 80,n_hidden_3 = 80, batch_size=50)\n",
    "train = sio.loadmat('./DNN_AB4layers/MSETime4Layer_%d_%d_%d'%(24, 50, 10))['train']\n",
    "time = sio.loadmat('./DNN_AB4layers/MSETime4Layer_%d_%d_%d'%(24, 50, 10))['time']\n",
    "val = sio.loadmat('./DNN_AB4layers/MSETime4Layer_%d_%d_%d'%(24, 50, 10))['validation']\n",
    "plt.figure(0)\n",
    "plt.plot(time.T, val.T,label='validation')\n",
    "plt.plot(time.T, train.T,label='train')\n",
    "plt.legend(loc='upper right')\n",
    "plt.xlabel('time (seconds)')\n",
    "plt.ylabel('Mean Square Error')\n",
    "plt.savefig('MSE_train.eps', format='eps', dpi=1000)\n",
    "plt.show()"
   ]
  },
  {
   "cell_type": "code",
   "execution_count": 150,
   "metadata": {},
   "outputs": [
    {
     "name": "stdout",
     "output_type": "stream",
     "text": [
      "train: 35000  validation: 15000 \n",
      "epoch:0,  train:73.19%,  validation:82.79%.\n",
      "epoch:10,  train:32.06%,  validation:36.88%.\n",
      "epoch:20,  train:14.13%,  validation:33.36%.\n",
      "epoch:30,  train:18.05%,  validation:33.37%.\n",
      "epoch:40,  train:15.33%,  validation:33.54%.\n",
      "epoch:50,  train:11.68%,  validation:33.50%.\n",
      "epoch:60,  train:12.84%,  validation:32.26%.\n",
      "epoch:70,  train:11.53%,  validation:32.45%.\n",
      "epoch:80,  train:9.13%,  validation:31.51%.\n",
      "epoch:90,  train:9.33%,  validation:32.16%.\n",
      "training time: 228.75 s\n"
     ]
    },
    {
     "data": {
      "image/png": "[encoded data removed]",
      "text/plain": [
       "<Figure size 432x288 with 1 Axes>"
      ]
     },
     "metadata": {},
     "output_type": "display_data"
    }
   ],
   "source": [
    "# Data (Real; Imag) 4 layers (output layer without relu) , no dropout layers ADMA optimizer LR: 0.001 100epoch\n",
    "model_location = \"./DNN_AB4layers/model_demo.ckpt\" \n",
    "train4(x_train,x_val, y_train,y_val, model_location, training_epochs=100,LR=0.001,n_hidden_1 = 200,n_hidden_2 = 80,n_hidden_3 = 80, batch_size=50)\n",
    "train = sio.loadmat('./DNN_AB4layers/MSETime4Layer_%d_%d_%d'%(24, 50, 10))['train']\n",
    "time = sio.loadmat('./DNN_AB4layers/MSETime4Layer_%d_%d_%d'%(24, 50, 10))['time']\n",
    "val = sio.loadmat('./DNN_AB4layers/MSETime4Layer_%d_%d_%d'%(24, 50, 10))['validation']\n",
    "plt.figure(0)\n",
    "plt.plot(time.T, val.T,label='validation')\n",
    "plt.plot(time.T, train.T,label='train')\n",
    "plt.legend(loc='upper right')\n",
    "plt.xlabel('time (seconds)')\n",
    "plt.ylabel('Mean Square Error')\n",
    "plt.savefig('MSE_train.eps', format='eps', dpi=1000)\n",
    "plt.show()"
   ]
  },
  {
   "cell_type": "code",
   "execution_count": 29,
   "metadata": {},
   "outputs": [
    {
     "name": "stdout",
     "output_type": "stream",
     "text": [
      "train: 35000  validation: 15000 \n",
      "epoch:0,  train:128.31%,  validation:128.96%.\n",
      "epoch:50,  train:26.74%,  validation:33.80%.\n",
      "epoch:100,  train:18.82%,  validation:30.93%.\n",
      "epoch:150,  train:15.26%,  validation:30.07%.\n",
      "epoch:200,  train:16.50%,  validation:29.51%.\n",
      "epoch:250,  train:13.63%,  validation:29.20%.\n",
      "epoch:300,  train:11.31%,  validation:29.34%.\n",
      "epoch:350,  train:11.92%,  validation:29.37%.\n",
      "epoch:400,  train:9.22%,  validation:29.19%.\n",
      "epoch:450,  train:10.59%,  validation:29.51%.\n",
      "training time: 485.63 s\n"
     ]
    },
    {
     "ename": "FileNotFoundError",
     "evalue": "[Errno 2] No such file or directory: './DNN_AB/MSETimeLastLayer_24_200_2.mat'",
     "output_type": "error",
     "traceback": [
      "\u001b[0;31m---------------------------------------------------------------------------\u001b[0m",
      "\u001b[0;31mFileNotFoundError\u001b[0m                         Traceback (most recent call last)",
      "\u001b[0;32m~/anaconda2/envs/haha/lib/python3.6/site-packages/scipy/io/matlab/mio.py\u001b[0m in \u001b[0;36m_open_file\u001b[0;34m(file_like, appendmat)\u001b[0m\n\u001b[1;32m     32\u001b[0m     \u001b[0;32mtry\u001b[0m\u001b[0;34m:\u001b[0m\u001b[0;34m\u001b[0m\u001b[0m\n\u001b[0;32m---> 33\u001b[0;31m         \u001b[0;32mreturn\u001b[0m \u001b[0mopen\u001b[0m\u001b[0;34m(\u001b[0m\u001b[0mfile_like\u001b[0m\u001b[0;34m,\u001b[0m \u001b[0;34m'rb'\u001b[0m\u001b[0;34m)\u001b[0m\u001b[0;34m,\u001b[0m \u001b[0;32mTrue\u001b[0m\u001b[0;34m\u001b[0m\u001b[0m\n\u001b[0m\u001b[1;32m     34\u001b[0m     \u001b[0;32mexcept\u001b[0m \u001b[0mIOError\u001b[0m\u001b[0;34m:\u001b[0m\u001b[0;34m\u001b[0m\u001b[0m\n",
      "\u001b[0;31mFileNotFoundError\u001b[0m: [Errno 2] No such file or directory: './DNN_AB/MSETimeLastLayer_24_200_2'",
      "\nDuring handling of the above exception, another exception occurred:\n",
      "\u001b[0;31mFileNotFoundError\u001b[0m                         Traceback (most recent call last)",
      "\u001b[0;32m<ipython-input-29-8d5befa94af7>\u001b[0m in \u001b[0;36m<module>\u001b[0;34m()\u001b[0m\n\u001b[1;32m      2\u001b[0m \u001b[0mmodel_location\u001b[0m \u001b[0;34m=\u001b[0m \u001b[0;34m\"./DNN_AB/model_demo.ckpt\"\u001b[0m\u001b[0;34m\u001b[0m\u001b[0m\n\u001b[1;32m      3\u001b[0m \u001b[0mtrain\u001b[0m\u001b[0;34m(\u001b[0m\u001b[0mx_train\u001b[0m\u001b[0;34m,\u001b[0m\u001b[0mx_val\u001b[0m\u001b[0;34m,\u001b[0m \u001b[0my_train\u001b[0m\u001b[0;34m,\u001b[0m\u001b[0my_val\u001b[0m\u001b[0;34m,\u001b[0m \u001b[0mmodel_location\u001b[0m\u001b[0;34m,\u001b[0m \u001b[0mtraining_epochs\u001b[0m\u001b[0;34m=\u001b[0m\u001b[0;36m500\u001b[0m\u001b[0;34m,\u001b[0m\u001b[0mLR\u001b[0m\u001b[0;34m=\u001b[0m\u001b[0;36m0.001\u001b[0m\u001b[0;34m,\u001b[0m \u001b[0mbatch_size\u001b[0m\u001b[0;34m=\u001b[0m\u001b[0;36m200\u001b[0m\u001b[0;34m)\u001b[0m\u001b[0;34m\u001b[0m\u001b[0m\n\u001b[0;32m----> 4\u001b[0;31m \u001b[0mtrain\u001b[0m \u001b[0;34m=\u001b[0m \u001b[0msio\u001b[0m\u001b[0;34m.\u001b[0m\u001b[0mloadmat\u001b[0m\u001b[0;34m(\u001b[0m\u001b[0;34m'./DNN_AB/MSETimeLastLayer_%d_%d_%d'\u001b[0m\u001b[0;34m%\u001b[0m\u001b[0;34m(\u001b[0m\u001b[0;36m24\u001b[0m\u001b[0;34m,\u001b[0m \u001b[0;36m200\u001b[0m\u001b[0;34m,\u001b[0m \u001b[0;36m2\u001b[0m\u001b[0;34m)\u001b[0m\u001b[0;34m)\u001b[0m\u001b[0;34m[\u001b[0m\u001b[0;34m'train'\u001b[0m\u001b[0;34m]\u001b[0m\u001b[0;34m\u001b[0m\u001b[0m\n\u001b[0m\u001b[1;32m      5\u001b[0m \u001b[0mtime\u001b[0m \u001b[0;34m=\u001b[0m \u001b[0msio\u001b[0m\u001b[0;34m.\u001b[0m\u001b[0mloadmat\u001b[0m\u001b[0;34m(\u001b[0m\u001b[0;34m'./DNN_AB/MSETimeLastLayer_%d_%d_%d'\u001b[0m\u001b[0;34m%\u001b[0m\u001b[0;34m(\u001b[0m\u001b[0;36m24\u001b[0m\u001b[0;34m,\u001b[0m \u001b[0;36m200\u001b[0m\u001b[0;34m,\u001b[0m \u001b[0;36m2\u001b[0m\u001b[0;34m)\u001b[0m\u001b[0;34m)\u001b[0m\u001b[0;34m[\u001b[0m\u001b[0;34m'time'\u001b[0m\u001b[0;34m]\u001b[0m\u001b[0;34m\u001b[0m\u001b[0m\n\u001b[1;32m      6\u001b[0m \u001b[0mval\u001b[0m \u001b[0;34m=\u001b[0m \u001b[0msio\u001b[0m\u001b[0;34m.\u001b[0m\u001b[0mloadmat\u001b[0m\u001b[0;34m(\u001b[0m\u001b[0;34m'./DNN_AB/MSETimeLastLayer_%d_%d_%d'\u001b[0m\u001b[0;34m%\u001b[0m\u001b[0;34m(\u001b[0m\u001b[0;36m24\u001b[0m\u001b[0;34m,\u001b[0m \u001b[0;36m200\u001b[0m\u001b[0;34m,\u001b[0m \u001b[0;36m2\u001b[0m\u001b[0;34m)\u001b[0m\u001b[0;34m)\u001b[0m\u001b[0;34m[\u001b[0m\u001b[0;34m'validation'\u001b[0m\u001b[0;34m]\u001b[0m\u001b[0;34m\u001b[0m\u001b[0m\n",
      "\u001b[0;32m~/anaconda2/envs/haha/lib/python3.6/site-packages/scipy/io/matlab/mio.py\u001b[0m in \u001b[0;36mloadmat\u001b[0;34m(file_name, mdict, appendmat, **kwargs)\u001b[0m\n\u001b[1;32m    139\u001b[0m     \"\"\"\n\u001b[1;32m    140\u001b[0m     \u001b[0mvariable_names\u001b[0m \u001b[0;34m=\u001b[0m \u001b[0mkwargs\u001b[0m\u001b[0;34m.\u001b[0m\u001b[0mpop\u001b[0m\u001b[0;34m(\u001b[0m\u001b[0;34m'variable_names'\u001b[0m\u001b[0;34m,\u001b[0m \u001b[0;32mNone\u001b[0m\u001b[0;34m)\u001b[0m\u001b[0;34m\u001b[0m\u001b[0m\n\u001b[0;32m--> 141\u001b[0;31m     \u001b[0mMR\u001b[0m\u001b[0;34m,\u001b[0m \u001b[0mfile_opened\u001b[0m \u001b[0;34m=\u001b[0m \u001b[0mmat_reader_factory\u001b[0m\u001b[0;34m(\u001b[0m\u001b[0mfile_name\u001b[0m\u001b[0;34m,\u001b[0m \u001b[0mappendmat\u001b[0m\u001b[0;34m,\u001b[0m \u001b[0;34m**\u001b[0m\u001b[0mkwargs\u001b[0m\u001b[0;34m)\u001b[0m\u001b[0;34m\u001b[0m\u001b[0m\n\u001b[0m\u001b[1;32m    142\u001b[0m     \u001b[0mmatfile_dict\u001b[0m \u001b[0;34m=\u001b[0m \u001b[0mMR\u001b[0m\u001b[0;34m.\u001b[0m\u001b[0mget_variables\u001b[0m\u001b[0;34m(\u001b[0m\u001b[0mvariable_names\u001b[0m\u001b[0;34m)\u001b[0m\u001b[0;34m\u001b[0m\u001b[0m\n\u001b[1;32m    143\u001b[0m     \u001b[0;32mif\u001b[0m \u001b[0mmdict\u001b[0m \u001b[0;32mis\u001b[0m \u001b[0;32mnot\u001b[0m \u001b[0;32mNone\u001b[0m\u001b[0;34m:\u001b[0m\u001b[0;34m\u001b[0m\u001b[0m\n",
      "\u001b[0;32m~/anaconda2/envs/haha/lib/python3.6/site-packages/scipy/io/matlab/mio.py\u001b[0m in \u001b[0;36mmat_reader_factory\u001b[0;34m(file_name, appendmat, **kwargs)\u001b[0m\n\u001b[1;32m     62\u001b[0m \u001b[0;34m\u001b[0m\u001b[0m\n\u001b[1;32m     63\u001b[0m     \"\"\"\n\u001b[0;32m---> 64\u001b[0;31m     \u001b[0mbyte_stream\u001b[0m\u001b[0;34m,\u001b[0m \u001b[0mfile_opened\u001b[0m \u001b[0;34m=\u001b[0m \u001b[0m_open_file\u001b[0m\u001b[0;34m(\u001b[0m\u001b[0mfile_name\u001b[0m\u001b[0;34m,\u001b[0m \u001b[0mappendmat\u001b[0m\u001b[0;34m)\u001b[0m\u001b[0;34m\u001b[0m\u001b[0m\n\u001b[0m\u001b[1;32m     65\u001b[0m     \u001b[0mmjv\u001b[0m\u001b[0;34m,\u001b[0m \u001b[0mmnv\u001b[0m \u001b[0;34m=\u001b[0m \u001b[0mget_matfile_version\u001b[0m\u001b[0;34m(\u001b[0m\u001b[0mbyte_stream\u001b[0m\u001b[0;34m)\u001b[0m\u001b[0;34m\u001b[0m\u001b[0m\n\u001b[1;32m     66\u001b[0m     \u001b[0;32mif\u001b[0m \u001b[0mmjv\u001b[0m \u001b[0;34m==\u001b[0m \u001b[0;36m0\u001b[0m\u001b[0;34m:\u001b[0m\u001b[0;34m\u001b[0m\u001b[0m\n",
      "\u001b[0;32m~/anaconda2/envs/haha/lib/python3.6/site-packages/scipy/io/matlab/mio.py\u001b[0m in \u001b[0;36m_open_file\u001b[0;34m(file_like, appendmat)\u001b[0m\n\u001b[1;32m     37\u001b[0m             \u001b[0;32mif\u001b[0m \u001b[0mappendmat\u001b[0m \u001b[0;32mand\u001b[0m \u001b[0;32mnot\u001b[0m \u001b[0mfile_like\u001b[0m\u001b[0;34m.\u001b[0m\u001b[0mendswith\u001b[0m\u001b[0;34m(\u001b[0m\u001b[0;34m'.mat'\u001b[0m\u001b[0;34m)\u001b[0m\u001b[0;34m:\u001b[0m\u001b[0;34m\u001b[0m\u001b[0m\n\u001b[1;32m     38\u001b[0m                 \u001b[0mfile_like\u001b[0m \u001b[0;34m+=\u001b[0m \u001b[0;34m'.mat'\u001b[0m\u001b[0;34m\u001b[0m\u001b[0m\n\u001b[0;32m---> 39\u001b[0;31m             \u001b[0;32mreturn\u001b[0m \u001b[0mopen\u001b[0m\u001b[0;34m(\u001b[0m\u001b[0mfile_like\u001b[0m\u001b[0;34m,\u001b[0m \u001b[0;34m'rb'\u001b[0m\u001b[0;34m)\u001b[0m\u001b[0;34m,\u001b[0m \u001b[0;32mTrue\u001b[0m\u001b[0;34m\u001b[0m\u001b[0m\n\u001b[0m\u001b[1;32m     40\u001b[0m         \u001b[0;32melse\u001b[0m\u001b[0;34m:\u001b[0m\u001b[0;34m\u001b[0m\u001b[0m\n\u001b[1;32m     41\u001b[0m             \u001b[0;32mraise\u001b[0m \u001b[0mIOError\u001b[0m\u001b[0;34m(\u001b[0m\u001b[0;34m'Reader needs file name or open file-like object'\u001b[0m\u001b[0;34m)\u001b[0m\u001b[0;34m\u001b[0m\u001b[0m\n",
      "\u001b[0;31mFileNotFoundError\u001b[0m: [Errno 2] No such file or directory: './DNN_AB/MSETimeLastLayer_24_200_2.mat'"
     ]
    }
   ],
   "source": [
    "# Data (Real; Imag) 3 layers (output layer without relu) , no dropout layers ADMA optimizer LR: 0.001 500epoch\n",
    "model_location = \"./DNN_AB/model_demo.ckpt\" \n",
    "train(x_train,x_val, y_train,y_val, model_location, training_epochs=500,LR=0.001, batch_size=200)\n",
    "train = sio.loadmat('./DNN_AB/MSETimeLastLayer_%d_%d_%d'%(24, 200, 2))['train']\n",
    "time = sio.loadmat('./DNN_AB/MSETimeLastLayer_%d_%d_%d'%(24, 200, 2))['time']\n",
    "val = sio.loadmat('./DNN_AB/MSETimeLastLayer_%d_%d_%d'%(24, 200, 2))['validation']\n",
    "plt.figure(0)\n",
    "plt.plot(time.T, val.T,label='validation')\n",
    "plt.plot(time.T, train.T,label='train')\n",
    "plt.legend(loc='upper right')\n",
    "plt.xlabel('time (seconds)')\n",
    "plt.ylabel('Mean Square Error')\n",
    "plt.savefig('MSE_train.eps', format='eps', dpi=1000)\n",
    "plt.show()"
   ]
  },
  {
   "cell_type": "code",
   "execution_count": 31,
   "metadata": {},
   "outputs": [
    {
     "data": {
      "image/png": "[encoded data removed]",
      "text/plain": [
       "<Figure size 432x288 with 1 Axes>"
      ]
     },
     "metadata": {},
     "output_type": "display_data"
    }
   ],
   "source": [
    "# Data (Real; Imag) 3 layers (output layer without relu) , no dropout layers ADMA optimizer LR: 0.001 500epoch\n",
    "model_location = \"./DNN_AB/model_demo.ckpt\" \n",
    "train(x_train,x_val, y_train,y_val, model_location, training_epochs=500,LR=0.001, batch_size=200)\n",
    "train = sio.loadmat('MSETimeLastLayer_%d_%d_%d'%(24, 200, 10))['train']\n",
    "time = sio.loadmat('MSETimeLastLayer_%d_%d_%d'%(24, 200, 10))['time']\n",
    "val = sio.loadmat('MSETimeLastLayer_%d_%d_%d'%(24, 200, 10))['validation']\n",
    "plt.figure(0)\n",
    "plt.plot(time.T, val.T,label='validation')\n",
    "plt.plot(time.T, train.T,label='train')\n",
    "plt.legend(loc='upper right')\n",
    "plt.xlabel('time (seconds)')\n",
    "plt.ylabel('Mean Square Error')\n",
    "plt.savefig('MSE_train.eps', format='eps', dpi=1000)\n",
    "plt.show()"
   ]
  },
  {
   "cell_type": "markdown",
   "metadata": {},
   "source": [
    "# Test Performance"
   ]
  },
  {
   "cell_type": "code",
   "execution_count": 47,
   "metadata": {},
   "outputs": [],
   "source": [
    "DateLocation='MIMO10000_3test.mat'\n",
    "DataTest10000 = sio.loadmat(DateLocation)#load data\n",
    "Xtest=DataTest10000['X']\n",
    "Xtest = np.transpose(Xtest)\n",
    "Ytest=DataTest10000['Y']\n",
    "Ytest = np.transpose(Ytest)\n",
    "Xtest = np.column_stack((np.real(Xtest), np.imag(Xtest)))\n",
    "Ytest = np.column_stack((np.real(Ytest), np.imag(Ytest)))"
   ]
  },
  {
   "cell_type": "code",
   "execution_count": 33,
   "metadata": {},
   "outputs": [
    {
     "data": {
      "text/plain": [
       "array([ 0.3457001 ,  0.73163844,  0.51398541, -0.21456514,  0.20779851,\n",
       "       -0.55669301,  0.62819058, -0.81110105, -0.75580555, -0.57240202,\n",
       "       -2.0819233 ,  1.01708846,  0.22994444, -0.53381493,  0.96894739,\n",
       "       -1.21022487, -0.07229633, -0.17072884,  0.22571325,  0.22122444,\n",
       "       -0.61156245, -0.02124948, -0.11658707,  0.44385608])"
      ]
     },
     "execution_count": 33,
     "metadata": {},
     "output_type": "execute_result"
    }
   ],
   "source": [
    "X[1,:]"
   ]
  },
  {
   "cell_type": "code",
   "execution_count": 13,
   "metadata": {},
   "outputs": [],
   "source": [
    "\n",
    "# Functions for deep neural network testing\n",
    "def test(X, model_location, save_name, n_input, n_output, n_hidden_1 = 200, n_hidden_2 = 80, n_hidden_3 = 80, binary=0):\n",
    "    tf.reset_default_graph()\n",
    "    x = tf.placeholder(\"float\", [None, n_input])\n",
    "    is_train = tf.placeholder(\"bool\")\n",
    "    input_keep_prob = tf.placeholder(tf.float32)\n",
    "    hidden_keep_prob = tf.placeholder(tf.float32)\n",
    "    weights, biases = ini_weights(n_input, n_hidden_1, n_hidden_2, n_hidden_3, n_output)\n",
    "    pred = multilayer_perceptron(x, weights, biases, input_keep_prob, hidden_keep_prob)\n",
    "    saver = tf.train.Saver()\n",
    "    with tf.Session() as sess:\n",
    "        saver.restore(sess, model_location)\n",
    "        start_time = time.time()\n",
    "        y_pred = sess.run(pred, feed_dict={x: X, input_keep_prob: 1, hidden_keep_prob: 1, is_train: False})\n",
    "        testtime = time.time() - start_time\n",
    "        # print(\"testing time: %0.2f s\" % testtime)\n",
    "        if binary==1:\n",
    "            y_pred[y_pred >= 0.5] = 1\n",
    "            y_pred[y_pred < 0.5] = 0\n",
    "        sio.savemat(save_name, {'pred': y_pred})\n",
    "    return y_pred\n",
    "\n"
   ]
  },
  {
   "cell_type": "code",
   "execution_count": 12,
   "metadata": {},
   "outputs": [],
   "source": [
    "def DABtoComplex(XX, dim):\n",
    "    size=XX.shape[1]\n",
    "    X=np.empty( (XX.shape[0], dim), dtype= np.complex128 )\n",
    "    X.real[:,:]=XX[:,0:dim]\n",
    "    X.imag[:,:]=XX[:,dim:2*dim]\n",
    "    return X"
   ]
  },
  {
   "cell_type": "code",
   "execution_count": 42,
   "metadata": {},
   "outputs": [],
   "source": [
    "x=DABtoComplex(X,12)"
   ]
  },
  {
   "cell_type": "code",
   "execution_count": 44,
   "metadata": {},
   "outputs": [
    {
     "data": {
      "text/plain": [
       "array([ 0.3457001 +0.22994444j,  0.73163844-0.53381493j,\n",
       "        0.51398541+0.96894739j, -0.21456514-1.21022487j,\n",
       "        0.20779851-0.07229633j, -0.55669301-0.17072884j,\n",
       "        0.62819058+0.22571325j, -0.81110105+0.22122444j,\n",
       "       -0.75580555-0.61156245j, -0.57240202-0.02124948j,\n",
       "       -2.0819233 -0.11658707j,  1.01708846+0.44385608j])"
      ]
     },
     "execution_count": 44,
     "metadata": {},
     "output_type": "execute_result"
    }
   ],
   "source": [
    "x[1,:]"
   ]
  },
  {
   "cell_type": "code",
   "execution_count": 43,
   "metadata": {},
   "outputs": [
    {
     "data": {
      "text/plain": [
       "array([ 0.3457001 ,  0.73163844,  0.51398541, -0.21456514,  0.20779851,\n",
       "       -0.55669301,  0.62819058, -0.81110105, -0.75580555, -0.57240202,\n",
       "       -2.0819233 ,  1.01708846,  0.22994444, -0.53381493,  0.96894739,\n",
       "       -1.21022487, -0.07229633, -0.17072884,  0.22571325,  0.22122444,\n",
       "       -0.61156245, -0.02124948, -0.11658707,  0.44385608])"
      ]
     },
     "execution_count": 43,
     "metadata": {},
     "output_type": "execute_result"
    }
   ],
   "source": [
    "X[1,:]"
   ]
  },
  {
   "cell_type": "code",
   "execution_count": 11,
   "metadata": {},
   "outputs": [],
   "source": [
    "import time\n",
    "def obj_sum_rate(xtest, y_pred,M,N,K, samples):\n",
    "    # H ： sampels*12\n",
    "    sum_rate=[]\n",
    "    for i in range(samples):\n",
    "        rate_nn=0\n",
    "        H=np.reshape(xtest[i,:],[K,M,N])\n",
    "        pnn=np.reshape(y_pred[i,:],[K,M,N])      \n",
    "        for j in range(K):\n",
    "            if j==i:\n",
    "                rate_nn = rate_nn+np.real(np.log2(np.linalg.det(np.eye(M)+H[j,:,:] * pnn[j,:,:] * np.transpose(H[j,:,:]))))\n",
    "            else:\n",
    "                pnn[j,:,:]=pnn[j,:,:]+pnn[j-1,:,:]\n",
    "                rate_nn = rate_nn+np.real(np.log2(np.linalg.det(np.eye(M)+H[j,:,:] * pnn[j,:,:] * np.transpose(H[j,:,:]))/np.linalg.det((np.eye(M)+H[j,:,:] * pnn[j-1,:,:] * np.transpose(H[j,:,:])))))\n",
    "        sum_rate.append(rate_nn)\n",
    "    return sum_rate\n",
    "\n"
   ]
  },
  {
   "cell_type": "code",
   "execution_count": 9,
   "metadata": {},
   "outputs": [],
   "source": [
    "import time\n",
    "model_location = \"./DNN_AB/model_demo.ckpt\"\n",
    "save_name=\"./DNN_AB/Prediction_Dnn3_10000\"\n",
    "\n",
    "def CDF_Plot(sumRate1, sumRate2, label1= 'DNN', label2= 'IWF'):\n",
    "    a = np.array(sumRate1) # your array of numbers\n",
    "    num_bins1 = np.linspace(0, max(sumRate1), 50)\n",
    "    counts1, bin_edges1 = np.histogram(a, bins='auto', normed=True)\n",
    "    cdf1 = np.cumsum(counts1*np.diff(bin_edges1))\n",
    "\n",
    "    b = np.array(sumRate2) # your array of numbers\n",
    "    num_bins2 = np.linspace(0, max(sumRate2), 50)\n",
    "    counts2, bin_edges2 = np.histogram(b, bins='auto', normed=True)\n",
    "    cdf2 = np.cumsum(counts2*np.diff(bin_edges2))\n",
    "\n",
    "#     plt.figure(1)\n",
    "#     plt.subplot(221)\n",
    "#     plt.title('CDF Analysis')\n",
    "    # plt.xlim([0, 6])\n",
    "    plt.xlabel('sum-rate')\n",
    "    plt.plot(bin_edges1[1:], cdf1, color='black', label=label1)\n",
    "    plt.plot(bin_edges2[1:],cdf2,color='red', label=label2)\n",
    "    plt.legend()\n",
    "    return 0\n",
    "\n",
    "def histPlot(sumRate1,sumRate2, label=['DNN', 'IWF']):\n",
    "#     plt.figure('%d'%K)\n",
    "    plt.style.use('seaborn-deep')\n",
    "    data = np.vstack([sumRate1, sumRate2]).T\n",
    "    bins = np.linspace(0, max(sumRate2),50)\n",
    "    plt.hist(data, bins, alpha=0.7, label=label)\n",
    "#     plt.legend(loc='upper right')\n",
    "#     plt.xlim([0, 5])\n",
    "    plt.xlabel('sum-rate')\n",
    "    plt.ylabel('number of samples')\n",
    "    #     plt.savefig('Histogram_%d.eps'%K, format='eps', dpi=1000)\n",
    "    plt.show()\n",
    "    return 0\n",
    "def performance(sumRate1,sumRate2, num):\n",
    "# sumRate1, IWF; sumRate2, NN\n",
    "    print('Sum-rate: IWF: %0.3f, DNN: %0.3f'%(sum(sumRate1)/num, sum(sumRate2)/num))\n",
    "    print('Ratio: DNN: %0.3f%%\\n' % (sum(sumRate2) / sum(sumRate1)* 100))\n",
    "    return 0\n",
    "\n",
    "def testPerformance(model_location, save_name, n_input, n_output,dim, M, N, K,samples):\n",
    "    ypred=test(Xtest, model_location, save_name+'%s'%('test'), n_input,n_output, binary=0)\n",
    "    trainPred=test(x_train, model_location, save_name+\"%s\"%('train'), n_input,n_output, binary=0)\n",
    "    valPred=test(x_val, model_location, save_name+\"%s\"%('val'), n_input,n_output, binary=0)\n",
    "    x=DABtoComplex(X,dim)\n",
    "    xtest=DABtoComplex(Xtest,dim)\n",
    "    ytest=DABtoComplex(Ytest,dim)\n",
    "    ypred=DABtoComplex(ypred,dim)\n",
    "\n",
    "    # train & val\n",
    "    xtrain=DABtoComplex(x_train,dim)\n",
    "    ytrain=DABtoComplex(y_train,dim)\n",
    "    trainPred=DABtoComplex(trainPred,dim)\n",
    "    xval=DABtoComplex(x_val,dim)\n",
    "    yval=DABtoComplex(y_val,dim)\n",
    "    valPred=DABtoComplex(valPred,dim)\n",
    "\n",
    "    # test\n",
    "    nnsumRate=obj_sum_rate(xtest, ypred, M, N, K, samples)\n",
    "    IWFsumRate=obj_sum_rate(xtest, ytest, M, N, K, samples)\n",
    "    #trian\n",
    "    nnSRTrain=obj_sum_rate(xtrain, trainPred, M, N, K, samples)\n",
    "    IWFSRTrain=obj_sum_rate(xtrain, ytrain, M, N, K, samples)\n",
    "    # validation\n",
    "    IWFSRVal=obj_sum_rate(xval, yval, M, N, K, samples)\n",
    "    nnSRVal=obj_sum_rate(xval, valPred, M, N, K, samples)\n",
    "\n",
    "    plt.figure(1)\n",
    "    plt.subplot(311)\n",
    "    plt.title('CDF AnalysisTest')\n",
    "    CDF_Plot(nnsumRate,IWFsumRate, 'DNNTest', 'IWFTest')\n",
    "    plt.subplot(312)\n",
    "    plt.title('CDF Analysis_Train')\n",
    "    CDF_Plot(nnSRTrain,IWFSRTrain, 'DNNTrain', 'IWFTrain')\n",
    "    plt.subplot(313)\n",
    "    plt.title('CDF Analysis_val')\n",
    "    CDF_Plot(nnSRVal,IWFSRVal, 'DNNVal', 'IWFVal')\n",
    "    \n",
    "    plt.figure(2)\n",
    "    plt.subplot(211)\n",
    "    plt.title('Hist AnalysisTest')\n",
    "    histPlot(nnsumRate,IWFsumRate, ['DNNTest', 'IWFTest'])\n",
    "    plt.subplot(212)\n",
    "    plt.title('Hist Analysis_Train')\n",
    "    histPlot(nnSRTrain,IWFSRTrain, ['DNNTrain', 'IWFTrain'])\n",
    "    \n",
    "    performance(IWFsumRate, nnsumRate, samples)\n",
    "    performance(IWFSRTrain, nnSRTrain, samples)\n",
    "    return 0\n",
    "    "
   ]
  },
  {
   "cell_type": "code",
   "execution_count": 161,
   "metadata": {},
   "outputs": [
    {
     "name": "stdout",
     "output_type": "stream",
     "text": [
      "INFO:tensorflow:Restoring parameters from ./DNN_AB4layers/model_demo.ckpt\n",
      "INFO:tensorflow:Restoring parameters from ./DNN_AB4layers/model_demo.ckpt\n",
      "INFO:tensorflow:Restoring parameters from ./DNN_AB4layers/model_demo.ckpt\n"
     ]
    },
    {
     "data": {
      "image/png": "[encoded data removed]",
      "text/plain": [
       "<Figure size 432x288 with 3 Axes>"
      ]
     },
     "metadata": {},
     "output_type": "display_data"
    },
    {
     "data": {
      "image/png": "[encoded data removed]",
      "text/plain": [
       "<Figure size 432x288 with 1 Axes>"
      ]
     },
     "metadata": {},
     "output_type": "display_data"
    },
    {
     "data": {
      "image/png": "[encoded data removed]",
      "text/plain": [
       "<Figure size 432x288 with 1 Axes>"
      ]
     },
     "metadata": {},
     "output_type": "display_data"
    },
    {
     "name": "stdout",
     "output_type": "stream",
     "text": [
      "Sum-rate: IWF: 2.525, DNN: 0.296\n",
      "Ratio: DNN: 11.705%\n",
      "\n",
      "Sum-rate: IWF: 3.012, DNN: 1.081\n",
      "Ratio: DNN: 35.902%\n",
      "\n"
     ]
    },
    {
     "data": {
      "text/plain": [
       "0"
      ]
     },
     "execution_count": 161,
     "metadata": {},
     "output_type": "execute_result"
    }
   ],
   "source": [
    "model_location = \"./DNN_AB4layers/model_demo.ckpt\" \n",
    "save_name=\"./DNN_AB4layers/Prediction_Dnn3_10000\"\n",
    "testPerformance(model_location, save_name, 24, 24,12, 2, 2, 3,10000)"
   ]
  },
  {
   "cell_type": "code",
   "execution_count": 119,
   "metadata": {},
   "outputs": [],
   "source": [
    "ytestpre = sio.loadmat(\"./DNN_AB4layers/Prediction_Dnn3_10000test\")['pred']"
   ]
  },
  {
   "cell_type": "code",
   "execution_count": 128,
   "metadata": {},
   "outputs": [
    {
     "data": {
      "text/plain": [
       "<tf.Tensor 'Square_3:0' shape=(24,) dtype=float32>"
      ]
     },
     "execution_count": 128,
     "metadata": {},
     "output_type": "execute_result"
    }
   ],
   "source": [
    "tf.square(ytestpre[1,:])"
   ]
  },
  {
   "cell_type": "code",
   "execution_count": 88,
   "metadata": {
    "scrolled": true
   },
   "outputs": [
    {
     "name": "stdout",
     "output_type": "stream",
     "text": [
      "INFO:tensorflow:Restoring parameters from ./DNN_AB2/model_demo.ckpt\n",
      "INFO:tensorflow:Restoring parameters from ./DNN_AB2/model_demo.ckpt\n",
      "INFO:tensorflow:Restoring parameters from ./DNN_AB2/model_demo.ckpt\n"
     ]
    },
    {
     "data": {
      "image/png": "[encoded data removed]",
      "text/plain": [
       "<Figure size 432x288 with 3 Axes>"
      ]
     },
     "metadata": {},
     "output_type": "display_data"
    },
    {
     "data": {
      "image/png": "[encoded data removed]",
      "text/plain": [
       "<Figure size 432x288 with 1 Axes>"
      ]
     },
     "metadata": {},
     "output_type": "display_data"
    },
    {
     "data": {
      "image/png": "[encoded data removed]",
      "text/plain": [
       "<Figure size 432x288 with 1 Axes>"
      ]
     },
     "metadata": {},
     "output_type": "display_data"
    },
    {
     "name": "stdout",
     "output_type": "stream",
     "text": [
      "Sum-rate: IWF: 2.525, DNN: 0.257\n",
      "Ratio: DNN: 10.177%\n",
      "\n",
      "Sum-rate: IWF: 2.522, DNN: 0.246\n",
      "Ratio: DNN: 9.742%\n",
      "\n"
     ]
    },
    {
     "data": {
      "text/plain": [
       "0"
      ]
     },
     "execution_count": 88,
     "metadata": {},
     "output_type": "execute_result"
    }
   ],
   "source": [
    "model_location = \"./DNN_AB2/model_demo.ckpt\"\n",
    "save_name=\"./DNN_AB2/Prediction_Dnn3_10000\"\n",
    "testPerformance(model_location, save_name, 24, 24,12, 2, 2, 3,10000)"
   ]
  },
  {
   "cell_type": "code",
   "execution_count": 53,
   "metadata": {},
   "outputs": [
    {
     "name": "stdout",
     "output_type": "stream",
     "text": [
      "INFO:tensorflow:Restoring parameters from ./DNN_AB/model_demo.ckpt\n",
      "INFO:tensorflow:Restoring parameters from ./DNN_AB/model_demo.ckpt\n",
      "INFO:tensorflow:Restoring parameters from ./DNN_AB/model_demo.ckpt\n",
      "10000\n",
      "10000\n"
     ]
    }
   ],
   "source": [
    "model_location = \"./DNN_AB/model_demo.ckpt\"\n",
    "ypred=test(Xtest, model_location, \"./DNN_AB/Prediction_Dnn3_10000\", 24,24, binary=0)\n",
    "trainPred=test(x_train, model_location, \"./DNN_AB/Prediction_Dnn3_50000Tr\", 24,24, binary=0)\n",
    "valPred=test(x_val, model_location, \"./DNN_AB/Prediction_Dnn3_50000Val\", 24,24, binary=0)\n",
    "D=12\n",
    "x=DABtoComplex(X,12)\n",
    "xtest=DABtoComplex(Xtest,12)\n",
    "ytest=DABtoComplex(Ytest,12)\n",
    "ypred=DABtoComplex(ypred,12)\n",
    "\n",
    "# train & val\n",
    "xtrain=DABtoComplex(x_train,12)\n",
    "ytrain=DABtoComplex(y_train,12)\n",
    "trainPred=DABtoComplex(trainPred,12)\n",
    "xval=DABtoComplex(x_val,12)\n",
    "yval=DABtoComplex(y_val,12)\n",
    "valPred=DABtoComplex(valPred,12)\n",
    "\n",
    "# test\n",
    "nnsumRate=obj_sum_rate(xtest, ypred,2,2,3, 10000)\n",
    "IWFsumRate=obj_sum_rate(xtest, ytest,2,2,3, 10000)\n",
    "#trian\n",
    "nnSRTrain=obj_sum_rate(xtrain, trainPred,2,2,3, 35000)\n",
    "IWFSRTrain=obj_sum_rate(xtrain, ytrain,2,2,3, 35000)\n",
    "# validation\n",
    "IWFSRVal=obj_sum_rate(xval, yval,2,2,3, 15000)\n",
    "nnSRVal=obj_sum_rate(xval, valPred,2,2,3, 15000)\n",
    "\n",
    "print(len(nnsumRate))\n",
    "print(len(IWFsumRate))"
   ]
  },
  {
   "cell_type": "code",
   "execution_count": 54,
   "metadata": {},
   "outputs": [
    {
     "data": {
      "text/plain": [
       "0"
      ]
     },
     "execution_count": 54,
     "metadata": {},
     "output_type": "execute_result"
    },
    {
     "data": {
      "image/png": "[encoded data removed]",
      "text/plain": [
       "<Figure size 432x288 with 3 Axes>"
      ]
     },
     "metadata": {},
     "output_type": "display_data"
    }
   ],
   "source": [
    "def CDF_Plot(sumRate1, sumRate2, label1= 'DNN', label2= 'IWF'):\n",
    "    a = np.array(sumRate1) # your array of numbers\n",
    "    num_bins1 = np.linspace(0, max(sumRate1), 50)\n",
    "    counts1, bin_edges1 = np.histogram(a, bins='auto', normed=True)\n",
    "    cdf1 = np.cumsum(counts1*np.diff(bin_edges1))\n",
    "\n",
    "    b = np.array(sumRate2) # your array of numbers\n",
    "    num_bins2 = np.linspace(0, max(sumRate2), 50)\n",
    "    counts2, bin_edges2 = np.histogram(b, bins='auto', normed=True)\n",
    "    cdf2 = np.cumsum(counts2*np.diff(bin_edges2))\n",
    "\n",
    "#     plt.figure(1)\n",
    "#     plt.subplot(221)\n",
    "#     plt.title('CDF Analysis')\n",
    "    # plt.xlim([0, 6])\n",
    "    plt.xlabel('sum-rate')\n",
    "    plt.plot(bin_edges1[1:], cdf1, color='black', label=label1)\n",
    "    plt.plot(bin_edges2[1:],cdf2,color='red', label=label2)\n",
    "    plt.legend()\n",
    "    return 0\n",
    "plt.figure(1)\n",
    "plt.subplot(311)\n",
    "plt.title('CDF AnalysisTest')\n",
    "CDF_Plot(nnsumRate,IWFsumRate, 'DNNTest', 'IWFTest')\n",
    "plt.subplot(312)\n",
    "plt.title('CDF Analysis_Train')\n",
    "CDF_Plot(nnSRTrain,IWFSRTrain, 'DNNTrain', 'IWFTrain')\n",
    "\n",
    "# plt.subplot(313)\n",
    "# plt.title('CDF Analysis_val')\n",
    "# CDF_Plot(nnSRVal,IWFSRVal, 'DNNVal', 'IWFVal')\n",
    "\n"
   ]
  },
  {
   "cell_type": "code",
   "execution_count": 55,
   "metadata": {},
   "outputs": [
    {
     "data": {
      "image/png": "[encoded data removed]",
      "text/plain": [
       "<Figure size 432x288 with 1 Axes>"
      ]
     },
     "metadata": {},
     "output_type": "display_data"
    },
    {
     "data": {
      "image/png": "[encoded data removed]",
      "text/plain": [
       "<Figure size 432x288 with 1 Axes>"
      ]
     },
     "metadata": {},
     "output_type": "display_data"
    },
    {
     "data": {
      "text/plain": [
       "0"
      ]
     },
     "execution_count": 55,
     "metadata": {},
     "output_type": "execute_result"
    }
   ],
   "source": [
    "def histPlot(sumRate1,sumRate2, label=['DNN', 'IWF']):\n",
    "#     plt.figure('%d'%K)\n",
    "    plt.style.use('seaborn-deep')\n",
    "    data = np.vstack([sumRate1, sumRate2]).T\n",
    "    bins = np.linspace(0, max(sumRate2),50)\n",
    "    plt.hist(data, bins, alpha=0.7, label=label)\n",
    "#     plt.legend(loc='upper right')\n",
    "    plt.xlim([0, 5])\n",
    "    plt.xlabel('sum-rate')\n",
    "    plt.ylabel('number of samples')\n",
    "    #     plt.savefig('Histogram_%d.eps'%K, format='eps', dpi=1000)\n",
    "    plt.show()\n",
    "    return 0\n",
    "plt.figure(2)\n",
    "plt.subplot(211)\n",
    "plt.title('Hist AnalysisTest')\n",
    "histPlot(nnsumRate,IWFsumRate, ['DNNTest', 'IWFTest'])\n",
    "plt.subplot(212)\n",
    "plt.title('Hist Analysis_Train')\n",
    "histPlot(nnSRTrain,IWFSRTrain, ['DNNTrain', 'IWFTrain'])\n",
    "\n"
   ]
  },
  {
   "cell_type": "code",
   "execution_count": 56,
   "metadata": {},
   "outputs": [
    {
     "name": "stdout",
     "output_type": "stream",
     "text": [
      "Sum-rate: IWF: 2.525, DNN: 0.350\n",
      "Ratio: DNN: 13.880%\n",
      "\n",
      "Sum-rate: IWF: 2.517, DNN: 0.350\n",
      "Ratio: DNN: 13.922%\n",
      "\n"
     ]
    },
    {
     "data": {
      "text/plain": [
       "0"
      ]
     },
     "execution_count": 56,
     "metadata": {},
     "output_type": "execute_result"
    }
   ],
   "source": [
    "def performance(sumRate1,sumRate2, num):\n",
    "# sumRate1, IWF; sumRate2, NN\n",
    "    print('Sum-rate: IWF: %0.3f, DNN: %0.3f'%(sum(sumRate1)/num, sum(sumRate2)/num))\n",
    "    print('Ratio: DNN: %0.3f%%\\n' % (sum(sumRate2) / sum(sumRate1)* 100))\n",
    "    return 0\n",
    "performance(IWFsumRate, nnsumRate, 10000)\n",
    "performance(IWFSRTrain, nnSRTrain, 35000)"
   ]
  },
  {
   "cell_type": "code",
   "execution_count": null,
   "metadata": {},
   "outputs": [],
   "source": []
  }
 ],
 "metadata": {
  "kernelspec": {
   "display_name": "Python 3",
   "language": "python",
   "name": "python3"
  },
  "language_info": {
   "codemirror_mode": {
    "name": "ipython",
    "version": 3
   },
   "file_extension": ".py",
   "mimetype": "text/x-python",
   "name": "python",
   "nbconvert_exporter": "python",
   "pygments_lexer": "ipython3",
   "version": "3.6.6"
  }
 },
 "nbformat": 4,
 "nbformat_minor": 2
}
